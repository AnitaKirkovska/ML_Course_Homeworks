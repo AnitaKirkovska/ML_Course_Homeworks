{
  "nbformat": 4,
  "nbformat_minor": 0,
  "metadata": {
    "colab": {
      "name": "Problem2.ipynb",
      "version": "0.3.2",
      "provenance": [],
      "include_colab_link": true
    },
    "kernelspec": {
      "name": "python3",
      "display_name": "Python 3"
    }
  },
  "cells": [
    {
      "cell_type": "markdown",
      "metadata": {
        "id": "view-in-github",
        "colab_type": "text"
      },
      "source": [
        "<a href=\"https://colab.research.google.com/github/AnitaKirkovska/MachineLearning_HW1/blob/master/Problem2.ipynb\" target=\"_parent\"><img src=\"https://colab.research.google.com/assets/colab-badge.svg\" alt=\"Open In Colab\"/></a>"
      ]
    },
    {
      "metadata": {
        "id": "aG5nDvtnkrT_",
        "colab_type": "code",
        "colab": {}
      },
      "cell_type": "code",
      "source": [
        "import numpy as np\n",
        "import matplotlib.pyplot as plt\n",
        "%matplotlib inline\n",
        "import scipy.special\n",
        "from tqdm import tqdm_notebook as tqdm"
      ],
      "execution_count": 0,
      "outputs": []
    },
    {
      "metadata": {
        "id": "54nRHdD2z94g",
        "colab_type": "text"
      },
      "cell_type": "markdown",
      "source": [
        "The Network model\n"
      ]
    },
    {
      "metadata": {
        "id": "CP0T9m1GlK0x",
        "colab_type": "code",
        "colab": {}
      },
      "cell_type": "code",
      "source": [
        "class neuralArch:\n",
        "  \n",
        "  def __init__ (self, inputnodes, outputnodes, learningrate):\n",
        "    self.inodes = inputnodes\n",
        "    self.onodes = outputnodes\n",
        "    \n",
        "    #link weight natrices. wio -> input and hidden, who -> hidden and output\n",
        "    self.wio = np.random.normal(0.0, pow(self.inodes, -0.5), (self.onodes, self.inodes))\n",
        "    #learning rate\n",
        "    self.lr = learningrate\n",
        "    \n",
        "    #activation function -> sigmoid\n",
        "    self.activation_function = lambda x: scipy.special.expit(x)\n",
        "    \n",
        "    pass\n",
        "  \n",
        "  def train(self, inputs_list, targets_list):\n",
        "    \n",
        "    #convert to 2d array\n",
        "    inputs = np.array(inputs_list, ndmin=2).T\n",
        "    targets = np.array(targets_list, ndmin=2).T\n",
        "    \n",
        "    #calculating signals into last layer \n",
        "    last_inputs = np.dot(self.wio,inputs)\n",
        "    last_outputs = self.activation_function(last_inputs)\n",
        "    \n",
        "    #output layer error \n",
        "    last_errors = targets - last_outputs\n",
        "    \n",
        "    #update the weight links between input layers and last layers\n",
        "    self.wio += self.lr * np.dot((last_errors * last_outputs * (1.0 - last_outputs)), np.transpose(inputs))\n",
        "    \n",
        "    pass\n",
        "  \n",
        "  def predict(w, b, X):\n",
        "    m = X.shape[1]\n",
        "    Y_pred = np.zeros((1, m))\n",
        "    w = w.reshape(X.shape[0], 1)\n",
        "    \n",
        "    # Compute the prediction vector \"A\" containing the probabilities\n",
        "    A = sigmoid(np.dot(w.T, X) + b)\n",
        "       \n",
        "    for i in range(A.shape[0]):\n",
        "        # Convert probabilities a[0,i] to actual predictions p[0,i]\n",
        "        if A[0][i] <= 0.5:\n",
        "            Y_pred[0, i] = 0\n",
        "        else:\n",
        "            Y_pred[0, i] = 1\n",
        "    return Y_pred\n",
        "  \n",
        "  def query(self,inputs_list):\n",
        "    \n",
        "    #convert to 2d array\n",
        "    inputs = np.array(inputs_list, ndmin=2).T\n",
        "    \n",
        "    #calculating signals into and from last layer \n",
        "    last_inputs = np.dot(self.wio,inputs)\n",
        "    last_outputs = self.activation_function(last_inputs)\n",
        "    \n",
        "    return last_outputs"
      ],
      "execution_count": 0,
      "outputs": []
    },
    {
      "metadata": {
        "id": "nOXM285Q0Jqe",
        "colab_type": "text"
      },
      "cell_type": "markdown",
      "source": [
        "Loading the data"
      ]
    },
    {
      "metadata": {
        "id": "3OOyADzg0F35",
        "colab_type": "code",
        "colab": {
          "base_uri": "https://localhost:8080/",
          "height": 34
        },
        "outputId": "0c952c38-3e75-40a2-9bbd-cc48d33f9809"
      },
      "cell_type": "code",
      "source": [
        "from keras.datasets import mnist\n",
        "\n",
        "(x_train_org, y_train_org), (x_test_org, y_test_org) = mnist.load_data()"
      ],
      "execution_count": 4,
      "outputs": [
        {
          "output_type": "stream",
          "text": [
            "Using TensorFlow backend.\n"
          ],
          "name": "stderr"
        }
      ]
    },
    {
      "metadata": {
        "id": "nshmXPBW0Ulb",
        "colab_type": "text"
      },
      "cell_type": "markdown",
      "source": [
        "Preparing the data (Range 1-0)"
      ]
    },
    {
      "metadata": {
        "id": "UNbWYpgh0SOV",
        "colab_type": "code",
        "colab": {
          "base_uri": "https://localhost:8080/",
          "height": 136
        },
        "outputId": "c933509c-2cf9-4f2f-98ee-7a4673507ed3"
      },
      "cell_type": "code",
      "source": [
        "x_train = x_train_org.reshape((60000, 28 * 28))\n",
        "scaled_input_x = np.asfarray(x_train)/255.0\n",
        "\n",
        "x_test = x_test_org.reshape((10000, 28 * 28))\n",
        "scaled_test_x = np.asfarray(x_test)/255.0\n",
        "\n",
        "\n",
        "scaled_input_x\n",
        "scaled_test_x\n"
      ],
      "execution_count": 6,
      "outputs": [
        {
          "output_type": "execute_result",
          "data": {
            "text/plain": [
              "array([[0., 0., 0., ..., 0., 0., 0.],\n",
              "       [0., 0., 0., ..., 0., 0., 0.],\n",
              "       [0., 0., 0., ..., 0., 0., 0.],\n",
              "       ...,\n",
              "       [0., 0., 0., ..., 0., 0., 0.],\n",
              "       [0., 0., 0., ..., 0., 0., 0.],\n",
              "       [0., 0., 0., ..., 0., 0., 0.]])"
            ]
          },
          "metadata": {
            "tags": []
          },
          "execution_count": 6
        }
      ]
    },
    {
      "metadata": {
        "id": "KE0Ip_cv0aN0",
        "colab_type": "text"
      },
      "cell_type": "markdown",
      "source": [
        "Target matrix - the labels y"
      ]
    },
    {
      "metadata": {
        "id": "zsGRap4u0Xl9",
        "colab_type": "code",
        "colab": {}
      },
      "cell_type": "code",
      "source": [
        "from keras.utils import to_categorical\n",
        "\n",
        "y_train_org = to_categorical(y_train_org)\n",
        "y_test_org = to_categorical(y_test_org)"
      ],
      "execution_count": 0,
      "outputs": []
    },
    {
      "metadata": {
        "id": "LVeRBPaj0fPy",
        "colab_type": "text"
      },
      "cell_type": "markdown",
      "source": [
        "Nodes, learning rate and instance of the network architecture (mini-batch)"
      ]
    },
    {
      "metadata": {
        "id": "MvyX0kbn0chp",
        "colab_type": "code",
        "colab": {}
      },
      "cell_type": "code",
      "source": [
        "#output nodes are 10, the # of classifiers we have\n",
        "input_nodes = len(scaled_input_x[0])\n",
        "output_nodes = len(y_train_org[0])\n",
        "\n",
        "learning_rate = 0.3\n",
        "\n",
        "#instance of the Network\n",
        "n = neuralArch(input_nodes, output_nodes, learning_rate)"
      ],
      "execution_count": 0,
      "outputs": []
    },
    {
      "metadata": {
        "id": "KGxu0kht0j4p",
        "colab_type": "text"
      },
      "cell_type": "markdown",
      "source": [
        "Training the network"
      ]
    },
    {
      "metadata": {
        "id": "I6Ve34Ky0g_H",
        "colab_type": "code",
        "colab": {}
      },
      "cell_type": "code",
      "source": [
        "epochs = 6\n",
        "batch_size = 4\n",
        "\n",
        "for epoch in tqdm(range(epochs)):\n",
        "    shuffled_indices = np.random.permutation(len(scaled_input_x))\n",
        "    X_b_shuffled = scaled_input_x[shuffled_indices]\n",
        "    y_shuffled = y_train_org[shuffled_indices]\n",
        "    \n",
        "    \n",
        "    \n",
        "    for i in tqdm(range(0, len(scaled_input_x), batch_size)):\n",
        "      xi = X_b_shuffled[i:i+batch_size]\n",
        "      yi = y_shuffled[i:i+batch_size]\n",
        "      n.train(xi, yi)\n",
        "\n",
        "  "
      ],
      "execution_count": 0,
      "outputs": []
    },
    {
      "metadata": {
        "id": "zRku9uwu02Np",
        "colab_type": "text"
      },
      "cell_type": "markdown",
      "source": [
        "Testing "
      ]
    },
    {
      "metadata": {
        "id": "gg23FRmd0ocp",
        "colab_type": "code",
        "colab": {}
      },
      "cell_type": "code",
      "source": [
        "answers = []\n",
        "for i in tqdm(range(len(scaled_test_x))):\n",
        "  answer = n.query(scaled_test_x[i])\n",
        "  answers.append(answer.argmax())"
      ],
      "execution_count": 0,
      "outputs": []
    },
    {
      "metadata": {
        "id": "TLiPmKTP0wWb",
        "colab_type": "code",
        "colab": {}
      },
      "cell_type": "code",
      "source": [
        "performance= []\n",
        "for i in answers:\n",
        "  if answers[i] == y_test_org.argmax():\n",
        "    performance.append(1)\n",
        "  else:\n",
        "    performance.append(0)\n",
        "    pass "
      ],
      "execution_count": 0,
      "outputs": []
    },
    {
      "metadata": {
        "id": "rah8iOZn0zbK",
        "colab_type": "code",
        "colab": {}
      },
      "cell_type": "code",
      "source": [
        "performance_array = np.asarray(performance)\n",
        "print (\"performance = \", performance_array.sum() / performance_array.size)"
      ],
      "execution_count": 0,
      "outputs": []
    }
  ]
}