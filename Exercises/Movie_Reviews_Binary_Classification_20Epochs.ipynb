{
  "nbformat": 4,
  "nbformat_minor": 0,
  "metadata": {
    "colab": {
      "name": "Movie_Reviews_Binary_Classification_20Epochs.ipynb",
      "version": "0.3.2",
      "provenance": [],
      "include_colab_link": true
    },
    "kernelspec": {
      "name": "python3",
      "display_name": "Python 3"
    }
  },
  "cells": [
    {
      "cell_type": "markdown",
      "metadata": {
        "id": "view-in-github",
        "colab_type": "text"
      },
      "source": [
        "<a href=\"https://colab.research.google.com/github/AnitaKirkovska/Machine_Learning_Class/blob/master/Exercises/Movie_Reviews_Binary_Classification_20Epochs.ipynb\" target=\"_parent\"><img src=\"https://colab.research.google.com/assets/colab-badge.svg\" alt=\"Open In Colab\"/></a>"
      ]
    },
    {
      "metadata": {
        "id": "eUjXJVNlozzO",
        "colab_type": "text"
      },
      "cell_type": "markdown",
      "source": [
        "**The IMDB dataset**"
      ]
    },
    {
      "metadata": {
        "id": "SB1jLVSHmrgo",
        "colab_type": "code",
        "colab": {
          "base_uri": "https://localhost:8080/",
          "height": 68
        },
        "outputId": "4598e1a2-8633-48d0-d48d-71d1de5ce7b0"
      },
      "cell_type": "code",
      "source": [
        "from keras.datasets import imdb\n",
        "\n",
        "(train_data, train_labels), (test_data, test_labels) = imdb.load_data(num_words=10000)"
      ],
      "execution_count": 1,
      "outputs": [
        {
          "output_type": "stream",
          "text": [
            "Using TensorFlow backend.\n"
          ],
          "name": "stderr"
        },
        {
          "output_type": "stream",
          "text": [
            "Downloading data from https://s3.amazonaws.com/text-datasets/imdb.npz\n",
            "17465344/17464789 [==============================] - 0s 0us/step\n"
          ],
          "name": "stdout"
        }
      ]
    },
    {
      "metadata": {
        "id": "G0mxMitInYw3",
        "colab_type": "code",
        "colab": {}
      },
      "cell_type": "code",
      "source": [
        "train_data"
      ],
      "execution_count": 0,
      "outputs": []
    },
    {
      "metadata": {
        "id": "Fv5LsLD1nefL",
        "colab_type": "code",
        "colab": {}
      },
      "cell_type": "code",
      "source": [
        "train_labels[2]"
      ],
      "execution_count": 0,
      "outputs": []
    },
    {
      "metadata": {
        "id": "IZtU-lNooqTU",
        "colab_type": "text"
      },
      "cell_type": "markdown",
      "source": [
        "**Decoding one of the reviews train_data[0] into actual review from numbers**"
      ]
    },
    {
      "metadata": {
        "id": "b6SPwmhznj2E",
        "colab_type": "code",
        "colab": {
          "base_uri": "https://localhost:8080/",
          "height": 51
        },
        "outputId": "fce04657-d0bd-44e2-e310-dffc084ab598"
      },
      "cell_type": "code",
      "source": [
        "word_index = imdb.get_word_index()\n",
        "reverse_word_index = dict(\n",
        "[(value,key) for (key, value) in word_index.items()])\n",
        "decoded_review = ' '.join(\n",
        "[reverse_word_index.get(i-3, '?') for i in train_data[0]])"
      ],
      "execution_count": 7,
      "outputs": [
        {
          "output_type": "stream",
          "text": [
            "Downloading data from https://s3.amazonaws.com/text-datasets/imdb_word_index.json\n",
            "1646592/1641221 [==============================] - 0s 0us/step\n"
          ],
          "name": "stdout"
        }
      ]
    },
    {
      "metadata": {
        "id": "V7GjLPpUtzn9",
        "colab_type": "code",
        "colab": {}
      },
      "cell_type": "code",
      "source": [
        ""
      ],
      "execution_count": 0,
      "outputs": []
    },
    {
      "metadata": {
        "id": "zmoVNQHKoyLX",
        "colab_type": "text"
      },
      "cell_type": "markdown",
      "source": [
        "**Preparing the data**\n",
        "We have list of numbers. For neural networks we need those lists into **tensors**. \n",
        "\n",
        "```The example bellow is a vectorization of the data with One-hot encoding.```"
      ]
    },
    {
      "metadata": {
        "id": "fUC8MmJdrZXM",
        "colab_type": "code",
        "colab": {}
      },
      "cell_type": "code",
      "source": [
        "import numpy as np\n",
        "test = np.zeros((len(train_data),10000))"
      ],
      "execution_count": 0,
      "outputs": []
    },
    {
      "metadata": {
        "id": "D67IIXCcoKC_",
        "colab_type": "code",
        "colab": {}
      },
      "cell_type": "code",
      "source": [
        "import numpy as np \n",
        "\n",
        "def vectorize_sequences(sequences, dimension=10000):\n",
        "    results = np.zeros((len(sequences),dimension))\n",
        "    for i, sequence in enumerate(sequences):\n",
        "        results[i, sequence] = 1.\n",
        "    return results\n",
        "x_train = vectorize_sequences(train_data)\n",
        "x_test = vectorize_sequences(test_data)"
      ],
      "execution_count": 0,
      "outputs": []
    },
    {
      "metadata": {
        "id": "Kaco95xGtGk0",
        "colab_type": "code",
        "colab": {}
      },
      "cell_type": "code",
      "source": [
        "y_train = np.asarray(train_labels).astype('float32')\n",
        "y_test = np.asarray(test_labels).astype('float32')"
      ],
      "execution_count": 0,
      "outputs": []
    },
    {
      "metadata": {
        "id": "Z6kYAq6Xsq7O",
        "colab_type": "code",
        "colab": {
          "base_uri": "https://localhost:8080/",
          "height": 136
        },
        "outputId": "294fa3c4-194b-4aab-ff62-413caa3afe48"
      },
      "cell_type": "code",
      "source": [
        "x_train"
      ],
      "execution_count": 34,
      "outputs": [
        {
          "output_type": "execute_result",
          "data": {
            "text/plain": [
              "array([[0., 1., 1., ..., 0., 0., 0.],\n",
              "       [0., 1., 1., ..., 0., 0., 0.],\n",
              "       [0., 1., 1., ..., 0., 0., 0.],\n",
              "       ...,\n",
              "       [0., 1., 1., ..., 0., 0., 0.],\n",
              "       [0., 1., 1., ..., 0., 0., 0.],\n",
              "       [0., 1., 1., ..., 0., 0., 0.]])"
            ]
          },
          "metadata": {
            "tags": []
          },
          "execution_count": 34
        }
      ]
    },
    {
      "metadata": {
        "id": "V8XOjySytsyI",
        "colab_type": "text"
      },
      "cell_type": "markdown",
      "source": [
        "**Building the network**, model definition\n",
        "\n",
        "\n",
        "1.   Input data is vectors\n",
        "2.   Labels are scalars\n",
        "\n"
      ]
    },
    {
      "metadata": {
        "id": "1O5VIpA1s3Il",
        "colab_type": "code",
        "colab": {}
      },
      "cell_type": "code",
      "source": [
        "from keras import models\n",
        "from keras import layers\n",
        "\n",
        "model = models.Sequential()\n",
        "model.add(layers.Dense(16, activation='relu', input_shape=(10000,)))\n",
        "model.add(layers.Dense(16, activation='relu'))\n",
        "model.add(layers.Dense(1, activation='sigmoid'))"
      ],
      "execution_count": 0,
      "outputs": []
    },
    {
      "metadata": {
        "id": "iEpJkdaRxWSa",
        "colab_type": "text"
      },
      "cell_type": "markdown",
      "source": [
        "**Compiling the model**"
      ]
    },
    {
      "metadata": {
        "id": "1tx4NLj0udwf",
        "colab_type": "code",
        "colab": {}
      },
      "cell_type": "code",
      "source": [
        "model.compile(optimizer='rmsprop',\n",
        "              loss='binary_crossentropy',\n",
        "              metrics=['accuracy'])"
      ],
      "execution_count": 0,
      "outputs": []
    },
    {
      "metadata": {
        "id": "iiifT8xmxxhg",
        "colab_type": "text"
      },
      "cell_type": "markdown",
      "source": [
        "**Validation set** to monitor the accuracy of the model during training "
      ]
    },
    {
      "metadata": {
        "id": "Nt5q2WSnxxQ5",
        "colab_type": "code",
        "colab": {}
      },
      "cell_type": "code",
      "source": [
        "x_val = x_train[:10000]\n",
        "partial_x_train = x_train[10000:]\n",
        "\n",
        "y_val = y_train[:10000]\n",
        "partial_y_train = y_train[10000:]"
      ],
      "execution_count": 0,
      "outputs": []
    },
    {
      "metadata": {
        "id": "FediaVzZyUZp",
        "colab_type": "text"
      },
      "cell_type": "markdown",
      "source": [
        "**Training the model**"
      ]
    },
    {
      "metadata": {
        "id": "Yb1eNObExxLM",
        "colab_type": "code",
        "colab": {
          "base_uri": "https://localhost:8080/",
          "height": 785
        },
        "outputId": "74a28f30-08a6-4bf8-bf24-5efc7660044d"
      },
      "cell_type": "code",
      "source": [
        "history = model.fit(partial_x_train,\n",
        "                    partial_y_train,\n",
        "                    epochs=20,\n",
        "                    batch_size=512,\n",
        "                    validation_data=(x_val, y_val))"
      ],
      "execution_count": 47,
      "outputs": [
        {
          "output_type": "stream",
          "text": [
            "WARNING:tensorflow:From /usr/local/lib/python3.6/dist-packages/tensorflow/python/ops/math_ops.py:3066: to_int32 (from tensorflow.python.ops.math_ops) is deprecated and will be removed in a future version.\n",
            "Instructions for updating:\n",
            "Use tf.cast instead.\n",
            "Train on 15000 samples, validate on 10000 samples\n",
            "Epoch 1/20\n",
            "15000/15000 [==============================] - 3s 201us/step - loss: 0.5348 - acc: 0.7943 - val_loss: 0.4216 - val_acc: 0.8570\n",
            "Epoch 2/20\n",
            "15000/15000 [==============================] - 2s 147us/step - loss: 0.3319 - acc: 0.9010 - val_loss: 0.3220 - val_acc: 0.8848\n",
            "Epoch 3/20\n",
            "15000/15000 [==============================] - 2s 147us/step - loss: 0.2412 - acc: 0.9262 - val_loss: 0.2914 - val_acc: 0.8867\n",
            "Epoch 4/20\n",
            "15000/15000 [==============================] - 2s 146us/step - loss: 0.1893 - acc: 0.9381 - val_loss: 0.2755 - val_acc: 0.8893\n",
            "Epoch 5/20\n",
            "15000/15000 [==============================] - 2s 146us/step - loss: 0.1552 - acc: 0.9509 - val_loss: 0.2757 - val_acc: 0.8888\n",
            "Epoch 6/20\n",
            "15000/15000 [==============================] - 2s 148us/step - loss: 0.1299 - acc: 0.9604 - val_loss: 0.2840 - val_acc: 0.8865\n",
            "Epoch 7/20\n",
            "15000/15000 [==============================] - 2s 146us/step - loss: 0.1107 - acc: 0.9664 - val_loss: 0.2988 - val_acc: 0.8844\n",
            "Epoch 8/20\n",
            "15000/15000 [==============================] - 2s 145us/step - loss: 0.0911 - acc: 0.9734 - val_loss: 0.3163 - val_acc: 0.8850\n",
            "Epoch 9/20\n",
            "15000/15000 [==============================] - 2s 145us/step - loss: 0.0751 - acc: 0.9795 - val_loss: 0.3428 - val_acc: 0.8785\n",
            "Epoch 10/20\n",
            "15000/15000 [==============================] - 2s 145us/step - loss: 0.0646 - acc: 0.9835 - val_loss: 0.3699 - val_acc: 0.8783\n",
            "Epoch 11/20\n",
            "15000/15000 [==============================] - 2s 146us/step - loss: 0.0520 - acc: 0.9873 - val_loss: 0.3834 - val_acc: 0.8784\n",
            "Epoch 12/20\n",
            "15000/15000 [==============================] - 2s 145us/step - loss: 0.0444 - acc: 0.9903 - val_loss: 0.4154 - val_acc: 0.8738\n",
            "Epoch 13/20\n",
            "15000/15000 [==============================] - 2s 146us/step - loss: 0.0366 - acc: 0.9919 - val_loss: 0.4351 - val_acc: 0.8747\n",
            "Epoch 14/20\n",
            "15000/15000 [==============================] - 2s 146us/step - loss: 0.0328 - acc: 0.9927 - val_loss: 0.4797 - val_acc: 0.8715\n",
            "Epoch 15/20\n",
            "15000/15000 [==============================] - 2s 146us/step - loss: 0.0231 - acc: 0.9967 - val_loss: 0.4924 - val_acc: 0.8708\n",
            "Epoch 16/20\n",
            "15000/15000 [==============================] - 2s 146us/step - loss: 0.0222 - acc: 0.9962 - val_loss: 0.5286 - val_acc: 0.8705\n",
            "Epoch 17/20\n",
            "15000/15000 [==============================] - 2s 146us/step - loss: 0.0141 - acc: 0.9987 - val_loss: 0.5572 - val_acc: 0.8685\n",
            "Epoch 18/20\n",
            "15000/15000 [==============================] - 2s 146us/step - loss: 0.0130 - acc: 0.9985 - val_loss: 0.5911 - val_acc: 0.8657\n",
            "Epoch 19/20\n",
            "15000/15000 [==============================] - 2s 147us/step - loss: 0.0101 - acc: 0.9992 - val_loss: 0.6258 - val_acc: 0.8655\n",
            "Epoch 20/20\n",
            "15000/15000 [==============================] - 2s 148us/step - loss: 0.0088 - acc: 0.9992 - val_loss: 0.6566 - val_acc: 0.8642\n"
          ],
          "name": "stdout"
        }
      ]
    },
    {
      "metadata": {
        "id": "vXhMHByExfcy",
        "colab_type": "code",
        "colab": {
          "base_uri": "https://localhost:8080/",
          "height": 34
        },
        "outputId": "dd68dbb0-79ac-433d-bc77-422b307f41c8"
      },
      "cell_type": "code",
      "source": [
        "history_dict = history.history\n",
        "history_dict.keys()\n",
        "[u'acc',u'loss',u'val_acc',u'val_loss']"
      ],
      "execution_count": 49,
      "outputs": [
        {
          "output_type": "execute_result",
          "data": {
            "text/plain": [
              "['acc', 'loss', 'val_acc', 'val_loss']"
            ]
          },
          "metadata": {
            "tags": []
          },
          "execution_count": 49
        }
      ]
    },
    {
      "metadata": {
        "id": "EFvbhnYhzX2C",
        "colab_type": "text"
      },
      "cell_type": "markdown",
      "source": [
        "**Plotting the training and validation loss**\n",
        "\n",
        "*   Obvious overfitting.\n",
        "*   Can change this if we use epochs=3, because there is the tweaks for overfitting\n",
        "\n"
      ]
    },
    {
      "metadata": {
        "id": "bgnrb4EqzEiV",
        "colab_type": "code",
        "colab": {
          "base_uri": "https://localhost:8080/",
          "height": 376
        },
        "outputId": "a5a48ab0-c448-4a60-ff25-140ba6dadce5"
      },
      "cell_type": "code",
      "source": [
        "import matplotlib.pyplot as plt\n",
        "\n",
        "history_dict = history.history\n",
        "loss_values = history_dict['loss']\n",
        "val_loss_values = history_dict['val_loss']\n",
        "acc = history_dict['acc']\n",
        "\n",
        "epochs = range(1, len(acc) + 1)\n",
        "\n",
        "plt.plot(epochs, loss_values, 'bo', label='Training loss')\n",
        "plt.plot(epochs, val_loss_values, 'r', label='Validation loss')\n",
        "plt.title('Training and validation loss')\n",
        "plt.xlabel('Epochs')\n",
        "plt.ylabel('Loss')\n",
        "plt.legend()\n",
        "\n",
        "plt.show()"
      ],
      "execution_count": 55,
      "outputs": [
        {
          "output_type": "display_data",
          "data": {
            "image/png": "[encoded data removed]",
            "text/plain": [
              "<Figure size 576x396 with 1 Axes>"
            ]
          },
          "metadata": {
            "tags": []
          }
        }
      ]
    },
    {
      "metadata": {
        "id": "pz-C9lBr0uBl",
        "colab_type": "text"
      },
      "cell_type": "markdown",
      "source": [
        "**Plotting the training and validation accuracy**"
      ]
    },
    {
      "metadata": {
        "id": "PCCQlY1Zz5Wc",
        "colab_type": "code",
        "colab": {
          "base_uri": "https://localhost:8080/",
          "height": 376
        },
        "outputId": "423224e3-4990-4a66-eeff-b602ee4e3685"
      },
      "cell_type": "code",
      "source": [
        "plt.clf()\n",
        "acc = history_dict['acc']\n",
        "val_acc = history_dict['val_acc']\n",
        "\n",
        "plt.plot(epochs, acc, 'bo', label='Training accuracy')\n",
        "plt.plot(epochs, val_acc, 'r', label='Validation accuracy')\n",
        "plt.title('Training and validation accuracy')\n",
        "plt.xlabel('Epochs')\n",
        "plt.ylabel('Loss')\n",
        "plt.legend()\n",
        "\n",
        "plt.show()\n",
        "\n"
      ],
      "execution_count": 56,
      "outputs": [
        {
          "output_type": "display_data",
          "data": {
            "image/png": "[encoded data removed]",
            "text/plain": [
              "<Figure size 576x396 with 1 Axes>"
            ]
          },
          "metadata": {
            "tags": []
          }
        }
      ]
    },
    {
      "metadata": {
        "id": "LVvigrHR0_m_",
        "colab_type": "code",
        "colab": {}
      },
      "cell_type": "code",
      "source": [
        ""
      ],
      "execution_count": 0,
      "outputs": []
    }
  ]
}