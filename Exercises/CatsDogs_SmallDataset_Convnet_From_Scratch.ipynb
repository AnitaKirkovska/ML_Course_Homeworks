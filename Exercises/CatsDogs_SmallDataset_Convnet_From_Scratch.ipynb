{
  "nbformat": 4,
  "nbformat_minor": 0,
  "metadata": {
    "colab": {
      "name": "CatsDogs_SmallDataset_Convnet_From_Scratch.ipynb",
      "version": "0.3.2",
      "provenance": [],
      "include_colab_link": true
    },
    "kernelspec": {
      "name": "python3",
      "display_name": "Python 3"
    }
  },
  "cells": [
    {
      "cell_type": "markdown",
      "metadata": {
        "id": "view-in-github",
        "colab_type": "text"
      },
      "source": [
        "<a href=\"https://colab.research.google.com/github/AnitaKirkovska/Machine_Learning_Class/blob/master/Exercises/CatsDogs_SmallDataset_Convnet_From_Scratch.ipynb\" target=\"_parent\"><img src=\"https://colab.research.google.com/assets/colab-badge.svg\" alt=\"Open In Colab\"/></a>"
      ]
    },
    {
      "metadata": {
        "id": "qZiCSJqDbB1v",
        "colab_type": "text"
      },
      "cell_type": "markdown",
      "source": [
        "**Downloading the data**"
      ]
    },
    {
      "metadata": {
        "id": "1RkVG-6FZM8T",
        "colab_type": "code",
        "colab": {
          "base_uri": "https://localhost:8080/",
          "height": 204
        },
        "outputId": "b2bcce91-0b6a-4091-ad0b-737ff2af715b"
      },
      "cell_type": "code",
      "source": [
        "!wget --no-check-certificate \\\n",
        "    https://storage.googleapis.com/mledu-datasets/cats_and_dogs_filtered.zip \\\n",
        "    -O /tmp/cats_and_dogs_filtered.zip"
      ],
      "execution_count": 1,
      "outputs": [
        {
          "output_type": "stream",
          "text": [
            "--2019-04-01 05:41:51--  https://storage.googleapis.com/mledu-datasets/cats_and_dogs_filtered.zip\n",
            "Resolving storage.googleapis.com (storage.googleapis.com)... 74.125.141.128, 2607:f8b0:400c:c06::80\n",
            "Connecting to storage.googleapis.com (storage.googleapis.com)|74.125.141.128|:443... connected.\n",
            "HTTP request sent, awaiting response... 200 OK\n",
            "Length: 68606236 (65M) [application/zip]\n",
            "Saving to: ‘/tmp/cats_and_dogs_filtered.zip’\n",
            "\n",
            "/tmp/cats_and_dogs_ 100%[===================>]  65.43M   180MB/s    in 0.4s    \n",
            "\n",
            "2019-04-01 05:41:51 (180 MB/s) - ‘/tmp/cats_and_dogs_filtered.zip’ saved [68606236/68606236]\n",
            "\n"
          ],
          "name": "stdout"
        }
      ]
    },
    {
      "metadata": {
        "id": "mJSyL39eavqw",
        "colab_type": "code",
        "colab": {}
      },
      "cell_type": "code",
      "source": [
        "import os\n",
        "import zipfile\n",
        "\n",
        "local_zip = '/tmp/cats_and_dogs_filtered.zip'\n",
        "zip_ref = zipfile.ZipFile(local_zip, 'r')\n",
        "zip_ref.extractall('/tmp')\n",
        "zip_ref.close()"
      ],
      "execution_count": 0,
      "outputs": []
    },
    {
      "metadata": {
        "id": "rFNYZ6-tbMal",
        "colab_type": "code",
        "colab": {
          "base_uri": "https://localhost:8080/",
          "height": 34
        },
        "outputId": "19d215ba-2805-4842-edf0-21bccfdc66cb"
      },
      "cell_type": "code",
      "source": [
        "!ls /tmp/cats_and_dogs_filtered"
      ],
      "execution_count": 4,
      "outputs": [
        {
          "output_type": "stream",
          "text": [
            "train  validation  vectorize.py\n"
          ],
          "name": "stdout"
        }
      ]
    },
    {
      "metadata": {
        "id": "_58Da11Bc2Z9",
        "colab_type": "code",
        "colab": {}
      },
      "cell_type": "code",
      "source": [
        "base_dir = '/tmp/cats_and_dogs_filtered'\n",
        "train_dir = os.path.join(base_dir, 'train')\n",
        "\n",
        "validation_dir = os.path.join(base_dir, 'validation')\n",
        "\n",
        "# Directory with our training cat pictures\n",
        "train_cats_dir = os.path.join(train_dir, 'cats')\n",
        "\n",
        "# Directory with our training dog pictures\n",
        "train_dogs_dir = os.path.join(train_dir, 'dogs')\n",
        "\n",
        "# Directory with our validation cat pictures\n",
        "validation_cats_dir = os.path.join(validation_dir, 'cats')\n",
        "\n",
        "# Directory with our validation dog pictures\n",
        "validation_dogs_dir = os.path.join(validation_dir, 'dogs')"
      ],
      "execution_count": 0,
      "outputs": []
    },
    {
      "metadata": {
        "id": "DJlEkbE5dOpD",
        "colab_type": "code",
        "colab": {
          "base_uri": "https://localhost:8080/",
          "height": 102
        },
        "outputId": "890b2f54-4c6e-44c7-a822-2d9b85e64a49"
      },
      "cell_type": "code",
      "source": [
        "print('total training cat images:', len(os.listdir(train_cats_dir)))\n",
        "print('total training dog images:', len(os.listdir(train_dogs_dir)))\n",
        "print()\n",
        "print('total validation cat images:', len(os.listdir(validation_cats_dir)))\n",
        "\n",
        "print('total validation dog images:', len(os.listdir(validation_dogs_dir)))"
      ],
      "execution_count": 6,
      "outputs": [
        {
          "output_type": "stream",
          "text": [
            "total training cat images: 1000\n",
            "total training dog images: 1000\n",
            "\n",
            "total validation cat images: 500\n",
            "total validation dog images: 500\n"
          ],
          "name": "stdout"
        }
      ]
    },
    {
      "metadata": {
        "id": "jLTM24i2d8lS",
        "colab_type": "text"
      },
      "cell_type": "markdown",
      "source": [
        "**Building a small convnet**"
      ]
    },
    {
      "metadata": {
        "id": "9W25MaoNdgMx",
        "colab_type": "code",
        "colab": {
          "base_uri": "https://localhost:8080/",
          "height": 105
        },
        "outputId": "f1bac06c-7e8e-4458-9896-8a1ec78a51e5"
      },
      "cell_type": "code",
      "source": [
        "from keras import layers\n",
        "from keras import models\n",
        "\n",
        "model = models.Sequential()\n",
        "# conv layers\n",
        "# 1\n",
        "model.add(layers.Conv2D(32, (3, 3), activation='relu', input_shape=(150, 150, 3)))\n",
        "model.add(layers.MaxPooling2D(2, 2))\n",
        "# 2\n",
        "model.add(layers.Conv2D(64, (3, 3), activation='relu'))\n",
        "model.add(layers.MaxPooling2D(2, 2))\n",
        "# 3\n",
        "model.add(layers.Conv2D(128, (3, 3), activation='relu'))\n",
        "model.add(layers.MaxPooling2D(2, 2))\n",
        "# 4\n",
        "model.add(layers.Conv2D(128, (3, 3), activation='relu'))\n",
        "model.add(layers.MaxPooling2D(2, 2))\n",
        "# dense layers\n",
        "model.add(layers.Flatten())\n",
        "model.add(layers.Dense(512, activation='relu'))\n",
        "model.add(layers.Dense(1, activation='sigmoid'))"
      ],
      "execution_count": 7,
      "outputs": [
        {
          "output_type": "stream",
          "text": [
            "Using TensorFlow backend.\n"
          ],
          "name": "stderr"
        },
        {
          "output_type": "stream",
          "text": [
            "WARNING:tensorflow:From /usr/local/lib/python3.6/dist-packages/tensorflow/python/framework/op_def_library.py:263: colocate_with (from tensorflow.python.framework.ops) is deprecated and will be removed in a future version.\n",
            "Instructions for updating:\n",
            "Colocations handled automatically by placer.\n"
          ],
          "name": "stdout"
        }
      ]
    },
    {
      "metadata": {
        "id": "yndSzqyteY1G",
        "colab_type": "code",
        "colab": {
          "base_uri": "https://localhost:8080/",
          "height": 510
        },
        "outputId": "80c72f2f-844e-4e35-bf2f-16da93b3d005"
      },
      "cell_type": "code",
      "source": [
        "model.summary()"
      ],
      "execution_count": 8,
      "outputs": [
        {
          "output_type": "stream",
          "text": [
            "_________________________________________________________________\n",
            "Layer (type)                 Output Shape              Param #   \n",
            "=================================================================\n",
            "conv2d_1 (Conv2D)            (None, 148, 148, 32)      896       \n",
            "_________________________________________________________________\n",
            "max_pooling2d_1 (MaxPooling2 (None, 74, 74, 32)        0         \n",
            "_________________________________________________________________\n",
            "conv2d_2 (Conv2D)            (None, 72, 72, 64)        18496     \n",
            "_________________________________________________________________\n",
            "max_pooling2d_2 (MaxPooling2 (None, 36, 36, 64)        0         \n",
            "_________________________________________________________________\n",
            "conv2d_3 (Conv2D)            (None, 34, 34, 128)       73856     \n",
            "_________________________________________________________________\n",
            "max_pooling2d_3 (MaxPooling2 (None, 17, 17, 128)       0         \n",
            "_________________________________________________________________\n",
            "conv2d_4 (Conv2D)            (None, 15, 15, 128)       147584    \n",
            "_________________________________________________________________\n",
            "max_pooling2d_4 (MaxPooling2 (None, 7, 7, 128)         0         \n",
            "_________________________________________________________________\n",
            "flatten_1 (Flatten)          (None, 6272)              0         \n",
            "_________________________________________________________________\n",
            "dense_1 (Dense)              (None, 512)               3211776   \n",
            "_________________________________________________________________\n",
            "dense_2 (Dense)              (None, 1)                 513       \n",
            "=================================================================\n",
            "Total params: 3,453,121\n",
            "Trainable params: 3,453,121\n",
            "Non-trainable params: 0\n",
            "_________________________________________________________________\n"
          ],
          "name": "stdout"
        }
      ]
    },
    {
      "metadata": {
        "id": "9WDCnOKteddd",
        "colab_type": "text"
      },
      "cell_type": "markdown",
      "source": [
        "**Compilation**"
      ]
    },
    {
      "metadata": {
        "id": "Dz5T4OSneaGY",
        "colab_type": "code",
        "colab": {}
      },
      "cell_type": "code",
      "source": [
        "from keras import optimizers\n",
        "\n",
        "model.compile(loss='binary_crossentropy',\n",
        "              optimizer=optimizers.RMSprop(lr=1e-4),\n",
        "              metrics=['acc'])"
      ],
      "execution_count": 0,
      "outputs": []
    },
    {
      "metadata": {
        "id": "TQwrtUieer1h",
        "colab_type": "text"
      },
      "cell_type": "markdown",
      "source": [
        "**Data preprocessing using ImageDataGenerator**"
      ]
    },
    {
      "metadata": {
        "id": "NbKQpsjMeqlQ",
        "colab_type": "code",
        "colab": {
          "base_uri": "https://localhost:8080/",
          "height": 51
        },
        "outputId": "0f664874-a30e-42ed-d345-61d3ff3e7ef2"
      },
      "cell_type": "code",
      "source": [
        "from keras.preprocessing.image import ImageDataGenerator\n",
        "\n",
        "generator = ImageDataGenerator(rescale=1./255)\n",
        "\n",
        "train_generator = generator.flow_from_directory(\n",
        "    train_dir,\n",
        "    target_size=(150,150),\n",
        "    batch_size=20,\n",
        "    class_mode='binary'\n",
        ")\n",
        "\n",
        "validation_generator = generator.flow_from_directory(\n",
        "    validation_dir,\n",
        "    target_size=(150,150),\n",
        "    batch_size=20,\n",
        "    class_mode='binary'\n",
        ")"
      ],
      "execution_count": 16,
      "outputs": [
        {
          "output_type": "stream",
          "text": [
            "Found 2000 images belonging to 2 classes.\n",
            "Found 1000 images belonging to 2 classes.\n"
          ],
          "name": "stdout"
        }
      ]
    },
    {
      "metadata": {
        "id": "irRGAZ2AgfDt",
        "colab_type": "text"
      },
      "cell_type": "markdown",
      "source": [
        "**Fitting the model**"
      ]
    },
    {
      "metadata": {
        "id": "ZpjMf-UZe-zD",
        "colab_type": "code",
        "colab": {
          "base_uri": "https://localhost:8080/",
          "height": 1108
        },
        "outputId": "958b9f51-ceba-4487-a77b-2c71dbf3e816"
      },
      "cell_type": "code",
      "source": [
        "history = model.fit_generator(\n",
        "    train_generator,\n",
        "    steps_per_epoch=100,\n",
        "    epochs=30,\n",
        "    validation_data=validation_generator,\n",
        "    validation_steps=50\n",
        ")"
      ],
      "execution_count": 17,
      "outputs": [
        {
          "output_type": "stream",
          "text": [
            "WARNING:tensorflow:From /usr/local/lib/python3.6/dist-packages/tensorflow/python/ops/math_ops.py:3066: to_int32 (from tensorflow.python.ops.math_ops) is deprecated and will be removed in a future version.\n",
            "Instructions for updating:\n",
            "Use tf.cast instead.\n",
            "Epoch 1/30\n",
            "100/100 [==============================] - 156s 2s/step - loss: 0.6883 - acc: 0.5320 - val_loss: 0.6741 - val_acc: 0.6220\n",
            "Epoch 2/30\n",
            "100/100 [==============================] - 155s 2s/step - loss: 0.6596 - acc: 0.6105 - val_loss: 0.6347 - val_acc: 0.6440\n",
            "Epoch 3/30\n",
            "100/100 [==============================] - 157s 2s/step - loss: 0.6149 - acc: 0.6765 - val_loss: 0.5993 - val_acc: 0.6790\n",
            "Epoch 4/30\n",
            "100/100 [==============================] - 154s 2s/step - loss: 0.5701 - acc: 0.7045 - val_loss: 0.5803 - val_acc: 0.7000\n",
            "Epoch 5/30\n",
            "100/100 [==============================] - 154s 2s/step - loss: 0.5419 - acc: 0.7260 - val_loss: 0.6106 - val_acc: 0.6470\n",
            "Epoch 6/30\n",
            "100/100 [==============================] - 156s 2s/step - loss: 0.5116 - acc: 0.7455 - val_loss: 0.5522 - val_acc: 0.7180\n",
            "Epoch 7/30\n",
            "100/100 [==============================] - 151s 2s/step - loss: 0.4824 - acc: 0.7625 - val_loss: 0.5591 - val_acc: 0.7060\n",
            "Epoch 8/30\n",
            "100/100 [==============================] - 149s 1s/step - loss: 0.4599 - acc: 0.7915 - val_loss: 0.5444 - val_acc: 0.7380\n",
            "Epoch 9/30\n",
            "100/100 [==============================] - 156s 2s/step - loss: 0.4258 - acc: 0.7990 - val_loss: 0.5328 - val_acc: 0.7290\n",
            "Epoch 10/30\n",
            "100/100 [==============================] - 151s 2s/step - loss: 0.4006 - acc: 0.8220 - val_loss: 0.5392 - val_acc: 0.7290\n",
            "Epoch 11/30\n",
            "100/100 [==============================] - 151s 2s/step - loss: 0.3810 - acc: 0.8315 - val_loss: 0.5545 - val_acc: 0.7380\n",
            "Epoch 12/30\n",
            "100/100 [==============================] - 149s 1s/step - loss: 0.3555 - acc: 0.8435 - val_loss: 0.5362 - val_acc: 0.7420\n",
            "Epoch 13/30\n",
            "100/100 [==============================] - 148s 1s/step - loss: 0.3257 - acc: 0.8575 - val_loss: 0.5637 - val_acc: 0.7390\n",
            "Epoch 14/30\n",
            "100/100 [==============================] - 150s 2s/step - loss: 0.3111 - acc: 0.8660 - val_loss: 0.5660 - val_acc: 0.7340\n",
            "Epoch 15/30\n",
            "100/100 [==============================] - 152s 2s/step - loss: 0.2768 - acc: 0.8845 - val_loss: 0.5511 - val_acc: 0.7590\n",
            "Epoch 16/30\n",
            "100/100 [==============================] - 152s 2s/step - loss: 0.2655 - acc: 0.8885 - val_loss: 0.5565 - val_acc: 0.7460\n",
            "Epoch 17/30\n",
            "100/100 [==============================] - 153s 2s/step - loss: 0.2367 - acc: 0.9030 - val_loss: 0.5631 - val_acc: 0.7670\n",
            "Epoch 18/30\n",
            "100/100 [==============================] - 149s 1s/step - loss: 0.2155 - acc: 0.9170 - val_loss: 0.5805 - val_acc: 0.7490\n",
            "Epoch 19/30\n",
            "100/100 [==============================] - 147s 1s/step - loss: 0.1888 - acc: 0.9285 - val_loss: 0.6305 - val_acc: 0.7300\n",
            "Epoch 20/30\n",
            "100/100 [==============================] - 149s 1s/step - loss: 0.1723 - acc: 0.9410 - val_loss: 0.6392 - val_acc: 0.7390\n",
            "Epoch 21/30\n",
            "100/100 [==============================] - 149s 1s/step - loss: 0.1582 - acc: 0.9390 - val_loss: 0.6355 - val_acc: 0.7510\n",
            "Epoch 22/30\n",
            "100/100 [==============================] - 150s 1s/step - loss: 0.1364 - acc: 0.9510 - val_loss: 0.7102 - val_acc: 0.7450\n",
            "Epoch 23/30\n",
            "100/100 [==============================] - 148s 1s/step - loss: 0.1260 - acc: 0.9580 - val_loss: 0.8174 - val_acc: 0.7250\n",
            "Epoch 24/30\n",
            "100/100 [==============================] - 150s 2s/step - loss: 0.0996 - acc: 0.9730 - val_loss: 0.9404 - val_acc: 0.7100\n",
            "Epoch 25/30\n",
            "100/100 [==============================] - 150s 2s/step - loss: 0.0844 - acc: 0.9745 - val_loss: 0.8664 - val_acc: 0.7400\n",
            "Epoch 26/30\n",
            "100/100 [==============================] - 152s 2s/step - loss: 0.0819 - acc: 0.9765 - val_loss: 0.7773 - val_acc: 0.7580\n",
            "Epoch 27/30\n",
            "100/100 [==============================] - 149s 1s/step - loss: 0.0668 - acc: 0.9815 - val_loss: 0.8337 - val_acc: 0.7490\n",
            "Epoch 28/30\n",
            "100/100 [==============================] - 149s 1s/step - loss: 0.0503 - acc: 0.9890 - val_loss: 0.8818 - val_acc: 0.7570\n",
            "Epoch 29/30\n",
            "100/100 [==============================] - 151s 2s/step - loss: 0.0451 - acc: 0.9860 - val_loss: 0.9022 - val_acc: 0.7470\n",
            "Epoch 30/30\n",
            "100/100 [==============================] - 152s 2s/step - loss: 0.0460 - acc: 0.9855 - val_loss: 0.9348 - val_acc: 0.7370\n"
          ],
          "name": "stdout"
        }
      ]
    },
    {
      "metadata": {
        "id": "v0ryeUTMgq1z",
        "colab_type": "code",
        "colab": {}
      },
      "cell_type": "code",
      "source": [
        ""
      ],
      "execution_count": 0,
      "outputs": []
    }
  ]
}