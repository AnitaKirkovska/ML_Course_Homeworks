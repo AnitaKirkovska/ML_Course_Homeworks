{
  "nbformat": 4,
  "nbformat_minor": 0,
  "metadata": {
    "colab": {
      "name": "VGG19_Data_Aug_Feature_Extraction.ipynb",
      "version": "0.3.2",
      "provenance": [],
      "include_colab_link": true
    },
    "kernelspec": {
      "name": "python3",
      "display_name": "Python 3"
    },
    "accelerator": "GPU"
  },
  "cells": [
    {
      "cell_type": "markdown",
      "metadata": {
        "id": "view-in-github",
        "colab_type": "text"
      },
      "source": [
        "<a href=\"https://colab.research.google.com/github/AnitaKirkovska/Machine_Learning_Class/blob/master/HW3/VGG19_Data_Aug_Feature_Extraction.ipynb\" target=\"_parent\"><img src=\"https://colab.research.google.com/assets/colab-badge.svg\" alt=\"Open In Colab\"/></a>"
      ]
    },
    {
      "metadata": {
        "id": "aBJQnTXZFgN9",
        "colab_type": "text"
      },
      "cell_type": "markdown",
      "source": [
        "**Downloading**"
      ]
    },
    {
      "metadata": {
        "id": "EPXQH7ZyFUke",
        "colab_type": "code",
        "outputId": "4bc5eaee-a186-47ab-8c24-37328c4ae736",
        "colab": {
          "base_uri": "https://localhost:8080/",
          "height": 204
        }
      },
      "cell_type": "code",
      "source": [
        "!wget --no-check-certificate \\\n",
        "    https://storage.googleapis.com/mledu-datasets/cats_and_dogs_filtered.zip \\\n",
        "    -O /tmp/cats_and_dogs_filtered.zip\n",
        "  "
      ],
      "execution_count": 0,
      "outputs": [
        {
          "output_type": "stream",
          "text": [
            "--2019-04-16 17:19:14--  https://storage.googleapis.com/mledu-datasets/cats_and_dogs_filtered.zip\n",
            "Resolving storage.googleapis.com (storage.googleapis.com)... 108.177.119.128, 2a00:1450:4013:c00::80\n",
            "Connecting to storage.googleapis.com (storage.googleapis.com)|108.177.119.128|:443... connected.\n",
            "HTTP request sent, awaiting response... 200 OK\n",
            "Length: 68606236 (65M) [application/zip]\n",
            "Saving to: ‘/tmp/cats_and_dogs_filtered.zip’\n",
            "\n",
            "/tmp/cats_and_dogs_ 100%[===================>]  65.43M  60.4MB/s    in 1.1s    \n",
            "\n",
            "2019-04-16 17:19:15 (60.4 MB/s) - ‘/tmp/cats_and_dogs_filtered.zip’ saved [68606236/68606236]\n",
            "\n"
          ],
          "name": "stdout"
        }
      ]
    },
    {
      "metadata": {
        "id": "1z8scTQQFiZ-",
        "colab_type": "code",
        "colab": {}
      },
      "cell_type": "code",
      "source": [
        "import os\n",
        "import zipfile\n",
        "\n",
        "local_zip = '/tmp/cats_and_dogs_filtered.zip'\n",
        "zip_ref = zipfile.ZipFile(local_zip, 'r')\n",
        "zip_ref.extractall('/tmp')\n",
        "zip_ref.close()"
      ],
      "execution_count": 0,
      "outputs": []
    },
    {
      "metadata": {
        "id": "XShie9vSFlFj",
        "colab_type": "code",
        "colab": {}
      },
      "cell_type": "code",
      "source": [
        "base_dir = '/tmp/cats_and_dogs_filtered'\n",
        "train_dir = os.path.join(base_dir, 'train')\n",
        "validation_dir = os.path.join(base_dir, 'validation')\n",
        "\n",
        "train_cats_dir = os.path.join(train_dir, 'cats')\n",
        "\n",
        "train_dogs_dir = os.path.join(train_dir, 'dogs')\n",
        "\n",
        "validation_cats_dir = os.path.join(validation_dir, 'cats')\n",
        "\n",
        "validation_dogs_dir = os.path.join(validation_dir, 'dogs')\n"
      ],
      "execution_count": 0,
      "outputs": []
    },
    {
      "metadata": {
        "id": "f1WV4ARyH4w8",
        "colab_type": "text"
      },
      "cell_type": "markdown",
      "source": [
        "**VGG**"
      ]
    },
    {
      "metadata": {
        "id": "Pg6grn_rHy8h",
        "colab_type": "code",
        "outputId": "9e0a0460-13d3-4bf2-f62b-816866c5f494",
        "colab": {
          "base_uri": "https://localhost:8080/",
          "height": 139
        }
      },
      "cell_type": "code",
      "source": [
        "from keras.applications import VGG19\n",
        "\n",
        "conv_base = VGG19(\n",
        "    weights='imagenet', \n",
        "    include_top=False, \n",
        "    input_shape=(150, 150, 3))"
      ],
      "execution_count": 0,
      "outputs": [
        {
          "output_type": "stream",
          "text": [
            "Using TensorFlow backend.\n"
          ],
          "name": "stderr"
        },
        {
          "output_type": "stream",
          "text": [
            "WARNING:tensorflow:From /usr/local/lib/python3.6/dist-packages/tensorflow/python/framework/op_def_library.py:263: colocate_with (from tensorflow.python.framework.ops) is deprecated and will be removed in a future version.\n",
            "Instructions for updating:\n",
            "Colocations handled automatically by placer.\n",
            "Downloading data from https://github.com/fchollet/deep-learning-models/releases/download/v0.1/vgg19_weights_tf_dim_ordering_tf_kernels_notop.h5\n",
            "80142336/80134624 [==============================] - 3s 0us/step\n"
          ],
          "name": "stdout"
        }
      ]
    },
    {
      "metadata": {
        "id": "x98ZzByOH50E",
        "colab_type": "code",
        "colab": {}
      },
      "cell_type": "code",
      "source": [
        "conv_base.trainable = False"
      ],
      "execution_count": 0,
      "outputs": []
    },
    {
      "metadata": {
        "id": "_ZFUTIp6H9v9",
        "colab_type": "text"
      },
      "cell_type": "markdown",
      "source": [
        "**Merge**"
      ]
    },
    {
      "metadata": {
        "id": "hWZ7-2ojH8E0",
        "colab_type": "code",
        "colab": {}
      },
      "cell_type": "code",
      "source": [
        "from keras import layers\n",
        "from keras import models\n",
        "from keras import optimizers\n",
        "\n",
        "model = models.Sequential()\n",
        "model.add(conv_base)\n",
        "model.add(layers.Flatten())\n",
        "model.add(layers.Dense(256, activation='relu'))\n",
        "# no dropout\n",
        "model.add(layers.Dense(1, activation='sigmoid'))"
      ],
      "execution_count": 0,
      "outputs": []
    },
    {
      "metadata": {
        "id": "4gWZhBcwH_Xt",
        "colab_type": "code",
        "outputId": "c7c02329-b87a-4f6d-aa39-ce6d399b09f9",
        "colab": {
          "base_uri": "https://localhost:8080/",
          "height": 272
        }
      },
      "cell_type": "code",
      "source": [
        "model.summary()"
      ],
      "execution_count": 0,
      "outputs": [
        {
          "output_type": "stream",
          "text": [
            "_________________________________________________________________\n",
            "Layer (type)                 Output Shape              Param #   \n",
            "=================================================================\n",
            "vgg19 (Model)                (None, 4, 4, 512)         20024384  \n",
            "_________________________________________________________________\n",
            "flatten_1 (Flatten)          (None, 8192)              0         \n",
            "_________________________________________________________________\n",
            "dense_1 (Dense)              (None, 256)               2097408   \n",
            "_________________________________________________________________\n",
            "dense_2 (Dense)              (None, 1)                 257       \n",
            "=================================================================\n",
            "Total params: 22,122,049\n",
            "Trainable params: 2,097,665\n",
            "Non-trainable params: 20,024,384\n",
            "_________________________________________________________________\n"
          ],
          "name": "stdout"
        }
      ]
    },
    {
      "metadata": {
        "id": "wbdeN_8SIGwD",
        "colab_type": "text"
      },
      "cell_type": "markdown",
      "source": [
        "**Frozen Conv Base**"
      ]
    },
    {
      "metadata": {
        "id": "bqwhJCmfIETv",
        "colab_type": "code",
        "outputId": "7c8fe895-e752-44e7-d85a-d25440fd3758",
        "colab": {
          "base_uri": "https://localhost:8080/",
          "height": 1142
        }
      },
      "cell_type": "code",
      "source": [
        "from keras.preprocessing.image import ImageDataGenerator\n",
        "from keras import optimizers\n",
        "\n",
        "# data augmentation\n",
        "\n",
        "train_datagen = ImageDataGenerator(\n",
        "    rescale=1./255, \n",
        "    rotation_range=40,\n",
        "    width_shift_range=0.2,\n",
        "    height_shift_range=0.2,\n",
        "    shear_range=0.2,\n",
        "    zoom_range=0.2,\n",
        "    horizontal_flip=True,\n",
        "    fill_mode='nearest'\n",
        ")\n",
        "\n",
        "train_generator = train_datagen.flow_from_directory(\n",
        "    train_dir,\n",
        "    target_size=(150, 150),\n",
        "    batch_size=20,\n",
        "    class_mode='binary')\n",
        "\n",
        "validation_datagen = ImageDataGenerator(rescale=1./255)\n",
        "\n",
        "validation_generator = validation_datagen.flow_from_directory(\n",
        "    validation_dir,\n",
        "    target_size=(150, 150),\n",
        "    batch_size=20,\n",
        "    class_mode='binary')\n",
        "\n",
        "# compile model\n",
        "\n",
        "model.compile(\n",
        "    loss='binary_crossentropy', \n",
        "    optimizer=optimizers.RMSprop(lr=2e-5), \n",
        "    metrics=['acc'])\n",
        "\n",
        "# train\n",
        "\n",
        "history = model.fit_generator(\n",
        "    train_generator,\n",
        "    steps_per_epoch=100,\n",
        "    epochs=30,\n",
        "    validation_data=validation_generator,\n",
        "    validation_steps=50\n",
        ")"
      ],
      "execution_count": 0,
      "outputs": [
        {
          "output_type": "stream",
          "text": [
            "Found 2000 images belonging to 2 classes.\n",
            "Found 1000 images belonging to 2 classes.\n",
            "WARNING:tensorflow:From /usr/local/lib/python3.6/dist-packages/tensorflow/python/ops/math_ops.py:3066: to_int32 (from tensorflow.python.ops.math_ops) is deprecated and will be removed in a future version.\n",
            "Instructions for updating:\n",
            "Use tf.cast instead.\n",
            "Epoch 1/30\n",
            "100/100 [==============================] - 24s 236ms/step - loss: 0.6170 - acc: 0.6620 - val_loss: 0.4850 - val_acc: 0.7960\n",
            "Epoch 2/30\n",
            "100/100 [==============================] - 20s 195ms/step - loss: 0.5196 - acc: 0.7535 - val_loss: 0.4139 - val_acc: 0.8280\n",
            "Epoch 3/30\n",
            "100/100 [==============================] - 18s 184ms/step - loss: 0.4682 - acc: 0.7900 - val_loss: 0.3675 - val_acc: 0.8300\n",
            "Epoch 4/30\n",
            "100/100 [==============================] - 18s 181ms/step - loss: 0.4494 - acc: 0.8020 - val_loss: 0.3488 - val_acc: 0.8380\n",
            "Epoch 5/30\n",
            "100/100 [==============================] - 18s 181ms/step - loss: 0.4240 - acc: 0.8065 - val_loss: 0.3588 - val_acc: 0.8540\n",
            "Epoch 6/30\n",
            "100/100 [==============================] - 19s 193ms/step - loss: 0.4110 - acc: 0.8150 - val_loss: 0.3242 - val_acc: 0.8480\n",
            "Epoch 7/30\n",
            "100/100 [==============================] - 18s 182ms/step - loss: 0.4053 - acc: 0.8205 - val_loss: 0.3104 - val_acc: 0.8710\n",
            "Epoch 8/30\n",
            "100/100 [==============================] - 18s 180ms/step - loss: 0.3875 - acc: 0.8285 - val_loss: 0.3054 - val_acc: 0.8630\n",
            "Epoch 9/30\n",
            "100/100 [==============================] - 18s 180ms/step - loss: 0.3825 - acc: 0.8255 - val_loss: 0.3115 - val_acc: 0.8660\n",
            "Epoch 10/30\n",
            "100/100 [==============================] - 18s 180ms/step - loss: 0.3797 - acc: 0.8320 - val_loss: 0.2950 - val_acc: 0.8810\n",
            "Epoch 11/30\n",
            "100/100 [==============================] - 19s 189ms/step - loss: 0.3662 - acc: 0.8385 - val_loss: 0.2924 - val_acc: 0.8800\n",
            "Epoch 12/30\n",
            "100/100 [==============================] - 18s 179ms/step - loss: 0.3543 - acc: 0.8480 - val_loss: 0.3004 - val_acc: 0.8760\n",
            "Epoch 13/30\n",
            "100/100 [==============================] - 18s 179ms/step - loss: 0.3687 - acc: 0.8305 - val_loss: 0.2860 - val_acc: 0.8750\n",
            "Epoch 14/30\n",
            "100/100 [==============================] - 18s 180ms/step - loss: 0.3493 - acc: 0.8405 - val_loss: 0.2893 - val_acc: 0.8780\n",
            "Epoch 15/30\n",
            "100/100 [==============================] - 19s 191ms/step - loss: 0.3530 - acc: 0.8495 - val_loss: 0.3101 - val_acc: 0.8650\n",
            "Epoch 16/30\n",
            "100/100 [==============================] - 18s 179ms/step - loss: 0.3649 - acc: 0.8275 - val_loss: 0.2757 - val_acc: 0.8800\n",
            "Epoch 17/30\n",
            "100/100 [==============================] - 18s 179ms/step - loss: 0.3440 - acc: 0.8435 - val_loss: 0.2843 - val_acc: 0.8820\n",
            "Epoch 18/30\n",
            "100/100 [==============================] - 18s 177ms/step - loss: 0.3264 - acc: 0.8555 - val_loss: 0.2735 - val_acc: 0.8820\n",
            "Epoch 19/30\n",
            "100/100 [==============================] - 19s 189ms/step - loss: 0.3511 - acc: 0.8400 - val_loss: 0.2768 - val_acc: 0.8790\n",
            "Epoch 20/30\n",
            "100/100 [==============================] - 18s 185ms/step - loss: 0.3498 - acc: 0.8485 - val_loss: 0.2641 - val_acc: 0.8920\n",
            "Epoch 21/30\n",
            "100/100 [==============================] - 18s 179ms/step - loss: 0.3285 - acc: 0.8510 - val_loss: 0.2646 - val_acc: 0.8900\n",
            "Epoch 22/30\n",
            "100/100 [==============================] - 18s 178ms/step - loss: 0.3333 - acc: 0.8490 - val_loss: 0.2806 - val_acc: 0.8760\n",
            "Epoch 23/30\n",
            "100/100 [==============================] - 19s 188ms/step - loss: 0.3323 - acc: 0.8515 - val_loss: 0.2638 - val_acc: 0.8860\n",
            "Epoch 24/30\n",
            "100/100 [==============================] - 19s 191ms/step - loss: 0.3190 - acc: 0.8605 - val_loss: 0.2754 - val_acc: 0.8830\n",
            "Epoch 25/30\n",
            "100/100 [==============================] - 18s 178ms/step - loss: 0.3102 - acc: 0.8680 - val_loss: 0.2611 - val_acc: 0.8910\n",
            "Epoch 26/30\n",
            "100/100 [==============================] - 18s 178ms/step - loss: 0.3391 - acc: 0.8445 - val_loss: 0.2582 - val_acc: 0.8850\n",
            "Epoch 27/30\n",
            "100/100 [==============================] - 18s 178ms/step - loss: 0.3232 - acc: 0.8505 - val_loss: 0.2595 - val_acc: 0.8920\n",
            "Epoch 28/30\n",
            "100/100 [==============================] - 18s 185ms/step - loss: 0.3196 - acc: 0.8605 - val_loss: 0.2632 - val_acc: 0.8860\n",
            "Epoch 29/30\n",
            "100/100 [==============================] - 18s 180ms/step - loss: 0.3179 - acc: 0.8660 - val_loss: 0.2716 - val_acc: 0.8860\n",
            "Epoch 30/30\n",
            "100/100 [==============================] - 18s 178ms/step - loss: 0.3258 - acc: 0.8545 - val_loss: 0.2647 - val_acc: 0.8850\n"
          ],
          "name": "stdout"
        }
      ]
    },
    {
      "metadata": {
        "id": "vyiaZELjIH4C",
        "colab_type": "code",
        "outputId": "04c346b7-44f5-4e83-8fb5-1683c659c58d",
        "colab": {
          "base_uri": "https://localhost:8080/",
          "height": 545
        }
      },
      "cell_type": "code",
      "source": [
        "%matplotlib inline\n",
        "\n",
        "import matplotlib.pyplot as plt\n",
        "\n",
        "acc = history.history['acc']\n",
        "val_acc = history.history['val_acc']\n",
        "\n",
        "loss = history.history['loss']\n",
        "val_loss = history.history['val_loss']\n",
        "\n",
        "epochs = range(1, len(acc) + 1)\n",
        "\n",
        "# training and validation accuracy\n",
        "\n",
        "plt.plot(epochs, acc, 'bo', label='training acc')\n",
        "plt.plot(epochs, val_acc, 'r', label='validation acc')\n",
        "plt.title('training and validation accuracy')\n",
        "plt.legend()\n",
        "\n",
        "plt.figure()\n",
        "\n",
        "# training and validation loss\n",
        "\n",
        "plt.plot(epochs, loss, 'bo', label='training loss')\n",
        "plt.plot(epochs, val_loss, 'r', label='validation loss')\n",
        "plt.title('training and validation loss')\n",
        "plt.legend()\n",
        "\n",
        "plt.show()"
      ],
      "execution_count": 0,
      "outputs": [
        {
          "output_type": "display_data",
          "data": {
            "image/png": "[encoded data removed]",
            "text/plain": [
              "<Figure size 432x288 with 1 Axes>"
            ]
          },
          "metadata": {
            "tags": []
          }
        },
        {
          "output_type": "display_data",
          "data": {
            "image/png": "[encoded data removed]",
            "text/plain": [
              "<Figure size 432x288 with 1 Axes>"
            ]
          },
          "metadata": {
            "tags": []
          }
        }
      ]
    },
    {
      "metadata": {
        "id": "GknEYsToOCcp",
        "colab_type": "text"
      },
      "cell_type": "markdown",
      "source": [
        "**Val Loss and Accuracy**"
      ]
    },
    {
      "metadata": {
        "id": "DsvwkekdN7oM",
        "colab_type": "code",
        "colab": {}
      },
      "cell_type": "code",
      "source": [
        "val_loss, val_acc = model.evaluate_generator(validation_generator, steps=50)"
      ],
      "execution_count": 0,
      "outputs": []
    },
    {
      "metadata": {
        "id": "b5X1CEB4OEop",
        "colab_type": "code",
        "outputId": "aba62ce8-daa8-4155-9d2c-b170d60f65e6",
        "colab": {
          "base_uri": "https://localhost:8080/",
          "height": 51
        }
      },
      "cell_type": "code",
      "source": [
        "print(\"Validation loss:\", val_loss)\n",
        "print(\"Validation accuracy:\", val_acc)"
      ],
      "execution_count": 0,
      "outputs": [
        {
          "output_type": "stream",
          "text": [
            "Validation loss: 0.25099982529878617\n",
            "Validation accuracy: 0.8889999985694885\n"
          ],
          "name": "stdout"
        }
      ]
    },
    {
      "metadata": {
        "id": "G1yaiuKOOHla",
        "colab_type": "code",
        "colab": {}
      },
      "cell_type": "code",
      "source": [
        ""
      ],
      "execution_count": 0,
      "outputs": []
    }
  ]
}