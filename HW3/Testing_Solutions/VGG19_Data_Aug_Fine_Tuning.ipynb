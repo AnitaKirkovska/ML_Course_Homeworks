{
  "nbformat": 4,
  "nbformat_minor": 0,
  "metadata": {
    "colab": {
      "name": "VGG19_Data_Aug_Fine_Tuning.ipynb",
      "version": "0.3.2",
      "provenance": [],
      "include_colab_link": true
    },
    "kernelspec": {
      "name": "python3",
      "display_name": "Python 3"
    },
    "accelerator": "GPU"
  },
  "cells": [
    {
      "cell_type": "markdown",
      "metadata": {
        "id": "view-in-github",
        "colab_type": "text"
      },
      "source": [
        "<a href=\"https://colab.research.google.com/github/AnitaKirkovska/Machine_Learning_Class/blob/master/HW3/VGG19_Data_Aug_Fine_Tuning.ipynb\" target=\"_parent\"><img src=\"https://colab.research.google.com/assets/colab-badge.svg\" alt=\"Open In Colab\"/></a>"
      ]
    },
    {
      "metadata": {
        "id": "eGazS7cnhFbx",
        "colab_type": "text"
      },
      "cell_type": "markdown",
      "source": [
        "**Downloading**"
      ]
    },
    {
      "metadata": {
        "id": "fGg3xONGKr7k",
        "colab_type": "code",
        "colab": {
          "base_uri": "https://localhost:8080/",
          "height": 204
        },
        "outputId": "97eca0c9-9aab-46b9-e908-f076d96b77c3"
      },
      "cell_type": "code",
      "source": [
        "!wget --no-check-certificate \\\n",
        "    https://storage.googleapis.com/mledu-datasets/cats_and_dogs_filtered.zip \\\n",
        "    -O /tmp/cats_and_dogs_filtered.zip\n",
        "  "
      ],
      "execution_count": 1,
      "outputs": [
        {
          "output_type": "stream",
          "text": [
            "--2019-04-17 12:18:07--  https://storage.googleapis.com/mledu-datasets/cats_and_dogs_filtered.zip\n",
            "Resolving storage.googleapis.com (storage.googleapis.com)... 74.125.141.128, 2607:f8b0:400c:c06::80\n",
            "Connecting to storage.googleapis.com (storage.googleapis.com)|74.125.141.128|:443... connected.\n",
            "HTTP request sent, awaiting response... 200 OK\n",
            "Length: 68606236 (65M) [application/zip]\n",
            "Saving to: ‘/tmp/cats_and_dogs_filtered.zip’\n",
            "\n",
            "/tmp/cats_and_dogs_ 100%[===================>]  65.43M   214MB/s    in 0.3s    \n",
            "\n",
            "2019-04-17 12:18:13 (214 MB/s) - ‘/tmp/cats_and_dogs_filtered.zip’ saved [68606236/68606236]\n",
            "\n"
          ],
          "name": "stdout"
        }
      ]
    },
    {
      "metadata": {
        "id": "ovQzzyDKhJVR",
        "colab_type": "code",
        "colab": {}
      },
      "cell_type": "code",
      "source": [
        "import os\n",
        "import zipfile\n",
        "\n",
        "local_zip = '/tmp/cats_and_dogs_filtered.zip'\n",
        "zip_ref = zipfile.ZipFile(local_zip, 'r')\n",
        "zip_ref.extractall('/tmp')\n",
        "zip_ref.close()"
      ],
      "execution_count": 0,
      "outputs": []
    },
    {
      "metadata": {
        "id": "9ZktS6i7iTC2",
        "colab_type": "code",
        "colab": {}
      },
      "cell_type": "code",
      "source": [
        "base_dir = '/tmp/cats_and_dogs_filtered'\n",
        "train_dir = os.path.join(base_dir, 'train')\n",
        "validation_dir = os.path.join(base_dir, 'validation')\n",
        "\n",
        "# Directory with our training cat pictures\n",
        "train_cats_dir = os.path.join(train_dir, 'cats')\n",
        "\n",
        "# Directory with our training dog pictures\n",
        "train_dogs_dir = os.path.join(train_dir, 'dogs')\n",
        "\n",
        "# Directory with our validation cat pictures\n",
        "validation_cats_dir = os.path.join(validation_dir, 'cats')\n",
        "\n",
        "# Directory with our validation dog pictures\n",
        "validation_dogs_dir = os.path.join(validation_dir, 'dogs')"
      ],
      "execution_count": 0,
      "outputs": []
    },
    {
      "metadata": {
        "id": "E7Uks3-2iWve",
        "colab_type": "text"
      },
      "cell_type": "markdown",
      "source": [
        "**VGG 19**"
      ]
    },
    {
      "metadata": {
        "id": "L_q5AZVjiUna",
        "colab_type": "code",
        "colab": {
          "base_uri": "https://localhost:8080/",
          "height": 139
        },
        "outputId": "113a797f-63d4-4302-8533-4c7a97d18d85"
      },
      "cell_type": "code",
      "source": [
        "from keras.applications import VGG19\n",
        "\n",
        "conv_base = VGG19(\n",
        "    weights='imagenet', \n",
        "    include_top=False, \n",
        "    input_shape=(150, 150, 3))"
      ],
      "execution_count": 4,
      "outputs": [
        {
          "output_type": "stream",
          "text": [
            "Using TensorFlow backend.\n"
          ],
          "name": "stderr"
        },
        {
          "output_type": "stream",
          "text": [
            "WARNING:tensorflow:From /usr/local/lib/python3.6/dist-packages/tensorflow/python/framework/op_def_library.py:263: colocate_with (from tensorflow.python.framework.ops) is deprecated and will be removed in a future version.\n",
            "Instructions for updating:\n",
            "Colocations handled automatically by placer.\n",
            "Downloading data from https://github.com/fchollet/deep-learning-models/releases/download/v0.1/vgg19_weights_tf_dim_ordering_tf_kernels_notop.h5\n",
            "80142336/80134624 [==============================] - 1s 0us/step\n"
          ],
          "name": "stdout"
        }
      ]
    },
    {
      "metadata": {
        "id": "KSGt9BR8iYrv",
        "colab_type": "code",
        "colab": {}
      },
      "cell_type": "code",
      "source": [
        "conv_base.trainable = False"
      ],
      "execution_count": 0,
      "outputs": []
    },
    {
      "metadata": {
        "id": "GsUEuaiDibvJ",
        "colab_type": "text"
      },
      "cell_type": "markdown",
      "source": [
        "**Merge**"
      ]
    },
    {
      "metadata": {
        "id": "Hh9Ztw8nibGP",
        "colab_type": "code",
        "colab": {}
      },
      "cell_type": "code",
      "source": [
        "from keras import layers\n",
        "from keras import models\n",
        "from keras import optimizers\n",
        "\n",
        "model = models.Sequential()\n",
        "model.add(conv_base)\n",
        "model.add(layers.Flatten())\n",
        "model.add(layers.Dense(256, activation='relu'))\n",
        "# no dropout\n",
        "model.add(layers.Dense(1, activation='sigmoid'))"
      ],
      "execution_count": 0,
      "outputs": []
    },
    {
      "metadata": {
        "id": "ysFZCqqiisaE",
        "colab_type": "code",
        "colab": {
          "base_uri": "https://localhost:8080/",
          "height": 272
        },
        "outputId": "bf83e7e1-911f-4e0f-b0ad-58d0ed639c42"
      },
      "cell_type": "code",
      "source": [
        "model.summary()\n"
      ],
      "execution_count": 7,
      "outputs": [
        {
          "output_type": "stream",
          "text": [
            "_________________________________________________________________\n",
            "Layer (type)                 Output Shape              Param #   \n",
            "=================================================================\n",
            "vgg19 (Model)                (None, 4, 4, 512)         20024384  \n",
            "_________________________________________________________________\n",
            "flatten_1 (Flatten)          (None, 8192)              0         \n",
            "_________________________________________________________________\n",
            "dense_1 (Dense)              (None, 256)               2097408   \n",
            "_________________________________________________________________\n",
            "dense_2 (Dense)              (None, 1)                 257       \n",
            "=================================================================\n",
            "Total params: 22,122,049\n",
            "Trainable params: 2,097,665\n",
            "Non-trainable params: 20,024,384\n",
            "_________________________________________________________________\n"
          ],
          "name": "stdout"
        }
      ]
    },
    {
      "metadata": {
        "id": "OtB1LsvliwFv",
        "colab_type": "text"
      },
      "cell_type": "markdown",
      "source": [
        "**Training**"
      ]
    },
    {
      "metadata": {
        "id": "8pa7k9EOit3N",
        "colab_type": "code",
        "colab": {
          "base_uri": "https://localhost:8080/",
          "height": 1142
        },
        "outputId": "0377ff92-1d23-4fe5-a78f-5714902876ca"
      },
      "cell_type": "code",
      "source": [
        "from keras.preprocessing.image import ImageDataGenerator\n",
        "from keras import optimizers\n",
        "\n",
        "# data augmentation\n",
        "\n",
        "train_datagen = ImageDataGenerator(\n",
        "    rescale=1./255, \n",
        "    rotation_range=40,\n",
        "    width_shift_range=0.2,\n",
        "    height_shift_range=0.2,\n",
        "    shear_range=0.2,\n",
        "    zoom_range=0.2,\n",
        "    horizontal_flip=True,\n",
        "    fill_mode='nearest'\n",
        ")\n",
        "\n",
        "train_generator = train_datagen.flow_from_directory(\n",
        "    train_dir,\n",
        "    target_size=(150, 150),\n",
        "    batch_size=20,\n",
        "    class_mode='binary')\n",
        "\n",
        "validation_datagen = ImageDataGenerator(rescale=1./255)\n",
        "\n",
        "validation_generator = validation_datagen.flow_from_directory(\n",
        "    validation_dir,\n",
        "    target_size=(150, 150),\n",
        "    batch_size=20,\n",
        "    class_mode='binary')\n",
        "\n",
        "# compile model\n",
        "\n",
        "model.compile(\n",
        "    loss='binary_crossentropy', \n",
        "    optimizer=optimizers.RMSprop(lr=2e-5), \n",
        "    metrics=['acc'])\n",
        "\n",
        "# train\n",
        "\n",
        "history = model.fit_generator(\n",
        "    train_generator,\n",
        "    steps_per_epoch=100,\n",
        "    epochs=30,\n",
        "    validation_data=validation_generator,\n",
        "    validation_steps=50\n",
        ")"
      ],
      "execution_count": 8,
      "outputs": [
        {
          "output_type": "stream",
          "text": [
            "Found 2000 images belonging to 2 classes.\n",
            "Found 1000 images belonging to 2 classes.\n",
            "WARNING:tensorflow:From /usr/local/lib/python3.6/dist-packages/tensorflow/python/ops/math_ops.py:3066: to_int32 (from tensorflow.python.ops.math_ops) is deprecated and will be removed in a future version.\n",
            "Instructions for updating:\n",
            "Use tf.cast instead.\n",
            "Epoch 1/30\n",
            "100/100 [==============================] - 23s 226ms/step - loss: 0.6134 - acc: 0.6775 - val_loss: 0.4927 - val_acc: 0.7860\n",
            "Epoch 2/30\n",
            "100/100 [==============================] - 18s 177ms/step - loss: 0.5329 - acc: 0.7480 - val_loss: 0.4203 - val_acc: 0.8180\n",
            "Epoch 3/30\n",
            "100/100 [==============================] - 18s 177ms/step - loss: 0.4784 - acc: 0.7785 - val_loss: 0.3735 - val_acc: 0.8360\n",
            "Epoch 4/30\n",
            "100/100 [==============================] - 19s 192ms/step - loss: 0.4440 - acc: 0.8040 - val_loss: 0.3578 - val_acc: 0.8460\n",
            "Epoch 5/30\n",
            "100/100 [==============================] - 18s 178ms/step - loss: 0.4286 - acc: 0.8030 - val_loss: 0.3336 - val_acc: 0.8500\n",
            "Epoch 6/30\n",
            "100/100 [==============================] - 19s 192ms/step - loss: 0.4208 - acc: 0.8060 - val_loss: 0.3313 - val_acc: 0.8630\n",
            "Epoch 7/30\n",
            "100/100 [==============================] - 18s 179ms/step - loss: 0.4047 - acc: 0.8180 - val_loss: 0.3142 - val_acc: 0.8540\n",
            "Epoch 8/30\n",
            "100/100 [==============================] - 18s 185ms/step - loss: 0.3945 - acc: 0.8225 - val_loss: 0.3007 - val_acc: 0.8600\n",
            "Epoch 9/30\n",
            "100/100 [==============================] - 18s 181ms/step - loss: 0.3916 - acc: 0.8250 - val_loss: 0.3443 - val_acc: 0.8520\n",
            "Epoch 10/30\n",
            "100/100 [==============================] - 18s 178ms/step - loss: 0.3772 - acc: 0.8270 - val_loss: 0.3102 - val_acc: 0.8690\n",
            "Epoch 11/30\n",
            "100/100 [==============================] - 18s 185ms/step - loss: 0.3775 - acc: 0.8280 - val_loss: 0.2930 - val_acc: 0.8790\n",
            "Epoch 12/30\n",
            "100/100 [==============================] - 18s 178ms/step - loss: 0.3628 - acc: 0.8425 - val_loss: 0.2869 - val_acc: 0.8740\n",
            "Epoch 13/30\n",
            "100/100 [==============================] - 19s 190ms/step - loss: 0.3609 - acc: 0.8410 - val_loss: 0.2961 - val_acc: 0.8760\n",
            "Epoch 14/30\n",
            "100/100 [==============================] - 18s 178ms/step - loss: 0.3454 - acc: 0.8425 - val_loss: 0.2744 - val_acc: 0.8870\n",
            "Epoch 15/30\n",
            "100/100 [==============================] - 18s 178ms/step - loss: 0.3540 - acc: 0.8350 - val_loss: 0.2825 - val_acc: 0.8760\n",
            "Epoch 16/30\n",
            "100/100 [==============================] - 18s 178ms/step - loss: 0.3592 - acc: 0.8280 - val_loss: 0.2718 - val_acc: 0.8820\n",
            "Epoch 17/30\n",
            "100/100 [==============================] - 19s 189ms/step - loss: 0.3476 - acc: 0.8420 - val_loss: 0.2755 - val_acc: 0.8850\n",
            "Epoch 18/30\n",
            "100/100 [==============================] - 18s 179ms/step - loss: 0.3484 - acc: 0.8430 - val_loss: 0.2941 - val_acc: 0.8810\n",
            "Epoch 19/30\n",
            "100/100 [==============================] - 18s 178ms/step - loss: 0.3444 - acc: 0.8500 - val_loss: 0.3038 - val_acc: 0.8750\n",
            "Epoch 20/30\n",
            "100/100 [==============================] - 18s 177ms/step - loss: 0.3537 - acc: 0.8490 - val_loss: 0.2635 - val_acc: 0.8910\n",
            "Epoch 21/30\n",
            "100/100 [==============================] - 18s 177ms/step - loss: 0.3259 - acc: 0.8575 - val_loss: 0.2653 - val_acc: 0.8830\n",
            "Epoch 22/30\n",
            "100/100 [==============================] - 19s 188ms/step - loss: 0.3281 - acc: 0.8565 - val_loss: 0.2651 - val_acc: 0.8850\n",
            "Epoch 23/30\n",
            "100/100 [==============================] - 19s 192ms/step - loss: 0.3274 - acc: 0.8610 - val_loss: 0.2632 - val_acc: 0.8850\n",
            "Epoch 24/30\n",
            "100/100 [==============================] - 18s 177ms/step - loss: 0.3300 - acc: 0.8535 - val_loss: 0.2589 - val_acc: 0.8840\n",
            "Epoch 25/30\n",
            "100/100 [==============================] - 18s 177ms/step - loss: 0.3374 - acc: 0.8540 - val_loss: 0.2831 - val_acc: 0.8830\n",
            "Epoch 26/30\n",
            "100/100 [==============================] - 19s 190ms/step - loss: 0.3180 - acc: 0.8630 - val_loss: 0.2556 - val_acc: 0.8860\n",
            "Epoch 27/30\n",
            "100/100 [==============================] - 18s 177ms/step - loss: 0.3182 - acc: 0.8600 - val_loss: 0.2516 - val_acc: 0.8950\n",
            "Epoch 28/30\n",
            "100/100 [==============================] - 18s 184ms/step - loss: 0.3348 - acc: 0.8515 - val_loss: 0.2720 - val_acc: 0.8910\n",
            "Epoch 29/30\n",
            "100/100 [==============================] - 18s 178ms/step - loss: 0.3233 - acc: 0.8555 - val_loss: 0.2551 - val_acc: 0.8900\n",
            "Epoch 30/30\n",
            "100/100 [==============================] - 18s 180ms/step - loss: 0.3305 - acc: 0.8520 - val_loss: 0.2535 - val_acc: 0.8920\n"
          ],
          "name": "stdout"
        }
      ]
    },
    {
      "metadata": {
        "id": "PQ4zywPbixJP",
        "colab_type": "code",
        "colab": {
          "base_uri": "https://localhost:8080/",
          "height": 545
        },
        "outputId": "02836b85-6543-4b91-9b33-68184cc83f1e"
      },
      "cell_type": "code",
      "source": [
        "%matplotlib inline\n",
        "\n",
        "import matplotlib.pyplot as plt\n",
        "\n",
        "acc = history.history['acc']\n",
        "val_acc = history.history['val_acc']\n",
        "\n",
        "loss = history.history['loss']\n",
        "val_loss = history.history['val_loss']\n",
        "\n",
        "epochs = range(1, len(acc) + 1)\n",
        "\n",
        "# training and validation accuracy\n",
        "\n",
        "plt.plot(epochs, acc, 'bo', label='training acc')\n",
        "plt.plot(epochs, val_acc, 'b', label='validation acc')\n",
        "plt.title('training and validation accuracy')\n",
        "plt.legend()\n",
        "\n",
        "plt.figure()\n",
        "\n",
        "# training and validation loss\n",
        "\n",
        "plt.plot(epochs, loss, 'bo', label='training loss')\n",
        "plt.plot(epochs, val_loss, 'b', label='validation loss')\n",
        "plt.title('training and validation loss')\n",
        "plt.legend()\n",
        "\n",
        "plt.show()"
      ],
      "execution_count": 9,
      "outputs": [
        {
          "output_type": "display_data",
          "data": {
            "image/png": "[encoded data removed]",
            "text/plain": [
              "<Figure size 432x288 with 1 Axes>"
            ]
          },
          "metadata": {
            "tags": []
          }
        },
        {
          "output_type": "display_data",
          "data": {
            "image/png": "[encoded data removed]",
            "text/plain": [
              "<Figure size 432x288 with 1 Axes>"
            ]
          },
          "metadata": {
            "tags": []
          }
        }
      ]
    },
    {
      "metadata": {
        "id": "iq6nwKJ_q2al",
        "colab_type": "text"
      },
      "cell_type": "markdown",
      "source": [
        "**Fine tuning**"
      ]
    },
    {
      "metadata": {
        "id": "FxELm3UhqxvT",
        "colab_type": "code",
        "colab": {}
      },
      "cell_type": "code",
      "source": [
        "conv_base.trainable = True\n",
        "\n",
        "set_trainable = False\n",
        "for layer in conv_base.layers:\n",
        "  if layer.name == 'block5_conv4':\n",
        "    set_trainable = True\n",
        "  if set_trainable:\n",
        "    layer.trainable = True\n",
        "  else:\n",
        "    layer.trainable = False"
      ],
      "execution_count": 0,
      "outputs": []
    },
    {
      "metadata": {
        "id": "A6jUpF5BrBuJ",
        "colab_type": "code",
        "colab": {
          "base_uri": "https://localhost:8080/",
          "height": 3417
        },
        "outputId": "19dadca0-41a7-487f-f55f-766a1cebdfd2"
      },
      "cell_type": "code",
      "source": [
        "# compile model\n",
        "\n",
        "model.compile(\n",
        "    loss='binary_crossentropy',\n",
        "    optimizer=optimizers.RMSprop(lr=1e-5), \n",
        "    metrics=['acc'])\n",
        "\n",
        "# train\n",
        "\n",
        "history = model.fit_generator(\n",
        "    train_generator,\n",
        "    steps_per_epoch=100,\n",
        "    epochs=100,\n",
        "    validation_data=validation_generator,\n",
        "    validation_steps=50)"
      ],
      "execution_count": 12,
      "outputs": [
        {
          "output_type": "stream",
          "text": [
            "Epoch 1/100\n",
            "100/100 [==============================] - 20s 198ms/step - loss: 0.3119 - acc: 0.8615 - val_loss: 0.2393 - val_acc: 0.8950\n",
            "Epoch 2/100\n",
            "100/100 [==============================] - 18s 179ms/step - loss: 0.3150 - acc: 0.8640 - val_loss: 0.2808 - val_acc: 0.8820\n",
            "Epoch 3/100\n",
            "100/100 [==============================] - 19s 188ms/step - loss: 0.3162 - acc: 0.8580 - val_loss: 0.2683 - val_acc: 0.8950\n",
            "Epoch 4/100\n",
            "100/100 [==============================] - 18s 179ms/step - loss: 0.2985 - acc: 0.8655 - val_loss: 0.2431 - val_acc: 0.8960\n",
            "Epoch 5/100\n",
            "100/100 [==============================] - 18s 181ms/step - loss: 0.3061 - acc: 0.8705 - val_loss: 0.2712 - val_acc: 0.8890\n",
            "Epoch 6/100\n",
            "100/100 [==============================] - 18s 181ms/step - loss: 0.2763 - acc: 0.8800 - val_loss: 0.2126 - val_acc: 0.9130\n",
            "Epoch 7/100\n",
            "100/100 [==============================] - 18s 178ms/step - loss: 0.2741 - acc: 0.8800 - val_loss: 0.2365 - val_acc: 0.8910\n",
            "Epoch 8/100\n",
            "100/100 [==============================] - 19s 188ms/step - loss: 0.2641 - acc: 0.8950 - val_loss: 0.2662 - val_acc: 0.8900\n",
            "Epoch 9/100\n",
            "100/100 [==============================] - 18s 178ms/step - loss: 0.2915 - acc: 0.8640 - val_loss: 0.2606 - val_acc: 0.8980\n",
            "Epoch 10/100\n",
            "100/100 [==============================] - 18s 180ms/step - loss: 0.2653 - acc: 0.8905 - val_loss: 0.2323 - val_acc: 0.8950\n",
            "Epoch 11/100\n",
            "100/100 [==============================] - 18s 179ms/step - loss: 0.2865 - acc: 0.8765 - val_loss: 0.2391 - val_acc: 0.8970\n",
            "Epoch 12/100\n",
            "100/100 [==============================] - 20s 196ms/step - loss: 0.2577 - acc: 0.8895 - val_loss: 0.2412 - val_acc: 0.8900\n",
            "Epoch 13/100\n",
            "100/100 [==============================] - 18s 179ms/step - loss: 0.2622 - acc: 0.8855 - val_loss: 0.2673 - val_acc: 0.8950\n",
            "Epoch 14/100\n",
            "100/100 [==============================] - 18s 179ms/step - loss: 0.2600 - acc: 0.8945 - val_loss: 0.2382 - val_acc: 0.9010\n",
            "Epoch 15/100\n",
            "100/100 [==============================] - 18s 180ms/step - loss: 0.2474 - acc: 0.8990 - val_loss: 0.2546 - val_acc: 0.8900\n",
            "Epoch 16/100\n",
            "100/100 [==============================] - 18s 183ms/step - loss: 0.2535 - acc: 0.8910 - val_loss: 0.2292 - val_acc: 0.8990\n",
            "Epoch 17/100\n",
            "100/100 [==============================] - 19s 186ms/step - loss: 0.2564 - acc: 0.8945 - val_loss: 0.2383 - val_acc: 0.9130\n",
            "Epoch 18/100\n",
            "100/100 [==============================] - 18s 180ms/step - loss: 0.2439 - acc: 0.8960 - val_loss: 0.2617 - val_acc: 0.9020\n",
            "Epoch 19/100\n",
            "100/100 [==============================] - 18s 179ms/step - loss: 0.2459 - acc: 0.8935 - val_loss: 0.2496 - val_acc: 0.9030\n",
            "Epoch 20/100\n",
            "100/100 [==============================] - 18s 179ms/step - loss: 0.2587 - acc: 0.8880 - val_loss: 0.2149 - val_acc: 0.9100\n",
            "Epoch 21/100\n",
            "100/100 [==============================] - 19s 192ms/step - loss: 0.2280 - acc: 0.9035 - val_loss: 0.2244 - val_acc: 0.9030\n",
            "Epoch 22/100\n",
            "100/100 [==============================] - 18s 179ms/step - loss: 0.2362 - acc: 0.8940 - val_loss: 0.2194 - val_acc: 0.9090\n",
            "Epoch 23/100\n",
            "100/100 [==============================] - 18s 178ms/step - loss: 0.2159 - acc: 0.9115 - val_loss: 0.2278 - val_acc: 0.9030\n",
            "Epoch 24/100\n",
            "100/100 [==============================] - 18s 179ms/step - loss: 0.2252 - acc: 0.9010 - val_loss: 0.2353 - val_acc: 0.9060\n",
            "Epoch 25/100\n",
            "100/100 [==============================] - 19s 187ms/step - loss: 0.2386 - acc: 0.8990 - val_loss: 0.2333 - val_acc: 0.9040\n",
            "Epoch 26/100\n",
            "100/100 [==============================] - 18s 182ms/step - loss: 0.2183 - acc: 0.9085 - val_loss: 0.2658 - val_acc: 0.8940\n",
            "Epoch 27/100\n",
            "100/100 [==============================] - 18s 178ms/step - loss: 0.2112 - acc: 0.9130 - val_loss: 0.2172 - val_acc: 0.9030\n",
            "Epoch 28/100\n",
            "100/100 [==============================] - 18s 178ms/step - loss: 0.2236 - acc: 0.9075 - val_loss: 0.2098 - val_acc: 0.9170\n",
            "Epoch 29/100\n",
            "100/100 [==============================] - 19s 194ms/step - loss: 0.2049 - acc: 0.9195 - val_loss: 0.2186 - val_acc: 0.9070\n",
            "Epoch 30/100\n",
            "100/100 [==============================] - 19s 190ms/step - loss: 0.2150 - acc: 0.9105 - val_loss: 0.2138 - val_acc: 0.9160\n",
            "Epoch 31/100\n",
            "100/100 [==============================] - 18s 178ms/step - loss: 0.2106 - acc: 0.9100 - val_loss: 0.2496 - val_acc: 0.9010\n",
            "Epoch 32/100\n",
            "100/100 [==============================] - 18s 178ms/step - loss: 0.2040 - acc: 0.9190 - val_loss: 0.2095 - val_acc: 0.9110\n",
            "Epoch 33/100\n",
            "100/100 [==============================] - 18s 182ms/step - loss: 0.1884 - acc: 0.9245 - val_loss: 0.2191 - val_acc: 0.9170\n",
            "Epoch 34/100\n",
            "100/100 [==============================] - 19s 192ms/step - loss: 0.2112 - acc: 0.9120 - val_loss: 0.2156 - val_acc: 0.9110\n",
            "Epoch 35/100\n",
            "100/100 [==============================] - 18s 177ms/step - loss: 0.1946 - acc: 0.9210 - val_loss: 0.2133 - val_acc: 0.9170\n",
            "Epoch 36/100\n",
            "100/100 [==============================] - 18s 179ms/step - loss: 0.1925 - acc: 0.9195 - val_loss: 0.2588 - val_acc: 0.9040\n",
            "Epoch 37/100\n",
            "100/100 [==============================] - 18s 178ms/step - loss: 0.1895 - acc: 0.9275 - val_loss: 0.2109 - val_acc: 0.9190\n",
            "Epoch 38/100\n",
            "100/100 [==============================] - 18s 180ms/step - loss: 0.1952 - acc: 0.9270 - val_loss: 0.2548 - val_acc: 0.9010\n",
            "Epoch 39/100\n",
            "100/100 [==============================] - 19s 188ms/step - loss: 0.1917 - acc: 0.9215 - val_loss: 0.2185 - val_acc: 0.9210\n",
            "Epoch 40/100\n",
            "100/100 [==============================] - 18s 178ms/step - loss: 0.1865 - acc: 0.9290 - val_loss: 0.2512 - val_acc: 0.9070\n",
            "Epoch 41/100\n",
            "100/100 [==============================] - 18s 177ms/step - loss: 0.1928 - acc: 0.9150 - val_loss: 0.2035 - val_acc: 0.9160\n",
            "Epoch 42/100\n",
            "100/100 [==============================] - 18s 177ms/step - loss: 0.1723 - acc: 0.9320 - val_loss: 0.2354 - val_acc: 0.9030\n",
            "Epoch 43/100\n",
            "100/100 [==============================] - 19s 192ms/step - loss: 0.1804 - acc: 0.9290 - val_loss: 0.2199 - val_acc: 0.9110\n",
            "Epoch 44/100\n",
            "100/100 [==============================] - 18s 178ms/step - loss: 0.1819 - acc: 0.9270 - val_loss: 0.2423 - val_acc: 0.9080\n",
            "Epoch 45/100\n",
            "100/100 [==============================] - 18s 178ms/step - loss: 0.1843 - acc: 0.9295 - val_loss: 0.3036 - val_acc: 0.8850\n",
            "Epoch 46/100\n",
            "100/100 [==============================] - 19s 193ms/step - loss: 0.1867 - acc: 0.9220 - val_loss: 0.3186 - val_acc: 0.8810\n",
            "Epoch 47/100\n",
            "100/100 [==============================] - 18s 183ms/step - loss: 0.1843 - acc: 0.9240 - val_loss: 0.2257 - val_acc: 0.9150\n",
            "Epoch 48/100\n",
            "100/100 [==============================] - 18s 181ms/step - loss: 0.1789 - acc: 0.9270 - val_loss: 0.2681 - val_acc: 0.8940\n",
            "Epoch 49/100\n",
            "100/100 [==============================] - 18s 177ms/step - loss: 0.1846 - acc: 0.9280 - val_loss: 0.2168 - val_acc: 0.9140\n",
            "Epoch 50/100\n",
            "100/100 [==============================] - 19s 185ms/step - loss: 0.1755 - acc: 0.9300 - val_loss: 0.2225 - val_acc: 0.9150\n",
            "Epoch 51/100\n",
            "100/100 [==============================] - 18s 177ms/step - loss: 0.1720 - acc: 0.9380 - val_loss: 0.2546 - val_acc: 0.9010\n",
            "Epoch 52/100\n",
            "100/100 [==============================] - 19s 191ms/step - loss: 0.1812 - acc: 0.9265 - val_loss: 0.2488 - val_acc: 0.9020\n",
            "Epoch 53/100\n",
            "100/100 [==============================] - 18s 176ms/step - loss: 0.1623 - acc: 0.9345 - val_loss: 0.2463 - val_acc: 0.9050\n",
            "Epoch 54/100\n",
            "100/100 [==============================] - 18s 175ms/step - loss: 0.1663 - acc: 0.9365 - val_loss: 0.2610 - val_acc: 0.8970\n",
            "Epoch 55/100\n",
            "100/100 [==============================] - 18s 176ms/step - loss: 0.1719 - acc: 0.9300 - val_loss: 0.2527 - val_acc: 0.9060\n",
            "Epoch 56/100\n",
            "100/100 [==============================] - 19s 186ms/step - loss: 0.1673 - acc: 0.9355 - val_loss: 0.2454 - val_acc: 0.9040\n",
            "Epoch 57/100\n",
            "100/100 [==============================] - 18s 179ms/step - loss: 0.1690 - acc: 0.9300 - val_loss: 0.2378 - val_acc: 0.8950\n",
            "Epoch 58/100\n",
            "100/100 [==============================] - 18s 177ms/step - loss: 0.1667 - acc: 0.9330 - val_loss: 0.2311 - val_acc: 0.9150\n",
            "Epoch 59/100\n",
            "100/100 [==============================] - 18s 178ms/step - loss: 0.1738 - acc: 0.9230 - val_loss: 0.2033 - val_acc: 0.9130\n",
            "Epoch 60/100\n",
            "100/100 [==============================] - 18s 176ms/step - loss: 0.1511 - acc: 0.9370 - val_loss: 0.2809 - val_acc: 0.8960\n",
            "Epoch 61/100\n",
            "100/100 [==============================] - 19s 190ms/step - loss: 0.1597 - acc: 0.9365 - val_loss: 0.2351 - val_acc: 0.9140\n",
            "Epoch 62/100\n",
            "100/100 [==============================] - 18s 176ms/step - loss: 0.1530 - acc: 0.9435 - val_loss: 0.2084 - val_acc: 0.9170\n",
            "Epoch 63/100\n",
            "100/100 [==============================] - 19s 185ms/step - loss: 0.1514 - acc: 0.9435 - val_loss: 0.2389 - val_acc: 0.9050\n",
            "Epoch 64/100\n",
            "100/100 [==============================] - 18s 180ms/step - loss: 0.1536 - acc: 0.9345 - val_loss: 0.2350 - val_acc: 0.9090\n",
            "Epoch 65/100\n",
            "100/100 [==============================] - 19s 189ms/step - loss: 0.1619 - acc: 0.9305 - val_loss: 0.2146 - val_acc: 0.9150\n",
            "Epoch 66/100\n",
            "100/100 [==============================] - 18s 177ms/step - loss: 0.1365 - acc: 0.9485 - val_loss: 0.2277 - val_acc: 0.9210\n",
            "Epoch 67/100\n",
            "100/100 [==============================] - 18s 184ms/step - loss: 0.1546 - acc: 0.9360 - val_loss: 0.3102 - val_acc: 0.8790\n",
            "Epoch 68/100\n",
            "100/100 [==============================] - 18s 176ms/step - loss: 0.1437 - acc: 0.9450 - val_loss: 0.2155 - val_acc: 0.9190\n",
            "Epoch 69/100\n",
            "100/100 [==============================] - 18s 176ms/step - loss: 0.1436 - acc: 0.9435 - val_loss: 0.2133 - val_acc: 0.9180\n",
            "Epoch 70/100\n",
            "100/100 [==============================] - 19s 188ms/step - loss: 0.1500 - acc: 0.9450 - val_loss: 0.2285 - val_acc: 0.9150\n",
            "Epoch 71/100\n",
            "100/100 [==============================] - 18s 176ms/step - loss: 0.1393 - acc: 0.9415 - val_loss: 0.2333 - val_acc: 0.9060\n",
            "Epoch 72/100\n",
            "100/100 [==============================] - 18s 177ms/step - loss: 0.1366 - acc: 0.9460 - val_loss: 0.2189 - val_acc: 0.9100\n",
            "Epoch 73/100\n",
            "100/100 [==============================] - 18s 175ms/step - loss: 0.1484 - acc: 0.9420 - val_loss: 0.2192 - val_acc: 0.9190\n",
            "Epoch 74/100\n",
            "100/100 [==============================] - 19s 189ms/step - loss: 0.1430 - acc: 0.9425 - val_loss: 0.2286 - val_acc: 0.9060\n",
            "Epoch 75/100\n",
            "100/100 [==============================] - 18s 175ms/step - loss: 0.1368 - acc: 0.9400 - val_loss: 0.2037 - val_acc: 0.9190\n",
            "Epoch 76/100\n",
            "100/100 [==============================] - 18s 177ms/step - loss: 0.1346 - acc: 0.9430 - val_loss: 0.2457 - val_acc: 0.9100\n",
            "Epoch 77/100\n",
            "100/100 [==============================] - 17s 175ms/step - loss: 0.1466 - acc: 0.9405 - val_loss: 0.2259 - val_acc: 0.9110\n",
            "Epoch 78/100\n",
            "100/100 [==============================] - 18s 177ms/step - loss: 0.1351 - acc: 0.9435 - val_loss: 0.2636 - val_acc: 0.9050\n",
            "Epoch 79/100\n",
            "100/100 [==============================] - 19s 189ms/step - loss: 0.1299 - acc: 0.9485 - val_loss: 0.2670 - val_acc: 0.8960\n",
            "Epoch 80/100\n",
            "100/100 [==============================] - 18s 176ms/step - loss: 0.1369 - acc: 0.9445 - val_loss: 0.2078 - val_acc: 0.9260\n",
            "Epoch 81/100\n",
            "100/100 [==============================] - 19s 186ms/step - loss: 0.1348 - acc: 0.9485 - val_loss: 0.2343 - val_acc: 0.9100\n",
            "Epoch 82/100\n",
            "100/100 [==============================] - 18s 175ms/step - loss: 0.1198 - acc: 0.9575 - val_loss: 0.2228 - val_acc: 0.9120\n",
            "Epoch 83/100\n",
            "100/100 [==============================] - 19s 191ms/step - loss: 0.1348 - acc: 0.9495 - val_loss: 0.2888 - val_acc: 0.8960\n",
            "Epoch 84/100\n",
            "100/100 [==============================] - 18s 184ms/step - loss: 0.1189 - acc: 0.9535 - val_loss: 0.2251 - val_acc: 0.9070\n",
            "Epoch 85/100\n",
            "100/100 [==============================] - 18s 176ms/step - loss: 0.1234 - acc: 0.9535 - val_loss: 0.2286 - val_acc: 0.9120\n",
            "Epoch 86/100\n",
            "100/100 [==============================] - 17s 175ms/step - loss: 0.1190 - acc: 0.9525 - val_loss: 0.2149 - val_acc: 0.9170\n",
            "Epoch 87/100\n",
            "100/100 [==============================] - 18s 176ms/step - loss: 0.1131 - acc: 0.9605 - val_loss: 0.2255 - val_acc: 0.9140\n",
            "Epoch 88/100\n",
            "100/100 [==============================] - 18s 185ms/step - loss: 0.1319 - acc: 0.9510 - val_loss: 0.2770 - val_acc: 0.8960\n",
            "Epoch 89/100\n",
            "100/100 [==============================] - 18s 176ms/step - loss: 0.1213 - acc: 0.9510 - val_loss: 0.2337 - val_acc: 0.9100\n",
            "Epoch 90/100\n",
            "100/100 [==============================] - 17s 175ms/step - loss: 0.1210 - acc: 0.9535 - val_loss: 0.2224 - val_acc: 0.9120\n",
            "Epoch 91/100\n",
            "100/100 [==============================] - 18s 176ms/step - loss: 0.1185 - acc: 0.9540 - val_loss: 0.2210 - val_acc: 0.9120\n",
            "Epoch 92/100\n",
            "100/100 [==============================] - 19s 192ms/step - loss: 0.1252 - acc: 0.9500 - val_loss: 0.2196 - val_acc: 0.9150\n",
            "Epoch 93/100\n",
            "100/100 [==============================] - 18s 176ms/step - loss: 0.1373 - acc: 0.9495 - val_loss: 0.2885 - val_acc: 0.8920\n",
            "Epoch 94/100\n",
            "100/100 [==============================] - 18s 176ms/step - loss: 0.1265 - acc: 0.9460 - val_loss: 0.2333 - val_acc: 0.9100\n",
            "Epoch 95/100\n",
            "100/100 [==============================] - 17s 174ms/step - loss: 0.1166 - acc: 0.9535 - val_loss: 0.2564 - val_acc: 0.9040\n",
            "Epoch 96/100\n",
            "100/100 [==============================] - 17s 175ms/step - loss: 0.1223 - acc: 0.9560 - val_loss: 0.3133 - val_acc: 0.8810\n",
            "Epoch 97/100\n",
            "100/100 [==============================] - 19s 186ms/step - loss: 0.1038 - acc: 0.9630 - val_loss: 0.2216 - val_acc: 0.9210\n",
            "Epoch 98/100\n",
            "100/100 [==============================] - 19s 192ms/step - loss: 0.1283 - acc: 0.9490 - val_loss: 0.2306 - val_acc: 0.9110\n",
            "Epoch 99/100\n",
            "100/100 [==============================] - 18s 175ms/step - loss: 0.1023 - acc: 0.9570 - val_loss: 0.2509 - val_acc: 0.9140\n",
            "Epoch 100/100\n",
            "100/100 [==============================] - 18s 176ms/step - loss: 0.1195 - acc: 0.9550 - val_loss: 0.2414 - val_acc: 0.9140\n"
          ],
          "name": "stdout"
        }
      ]
    },
    {
      "metadata": {
        "id": "VpJu8qz3roHd",
        "colab_type": "code",
        "colab": {
          "base_uri": "https://localhost:8080/",
          "height": 545
        },
        "outputId": "46d488f7-7695-4341-b14c-38287c061e3f"
      },
      "cell_type": "code",
      "source": [
        "%matplotlib inline\n",
        "\n",
        "import matplotlib.pyplot as plt\n",
        "\n",
        "acc = history.history['acc']\n",
        "val_acc = history.history['val_acc']\n",
        "\n",
        "loss = history.history['loss']\n",
        "val_loss = history.history['val_loss']\n",
        "\n",
        "epochs = range(1, len(acc) + 1)\n",
        "\n",
        "# training and validation accuracy\n",
        "\n",
        "plt.plot(epochs, acc, 'bo', label='training acc')\n",
        "plt.plot(epochs, val_acc, 'r', label='validation acc')\n",
        "plt.title('training and validation accuracy')\n",
        "plt.legend()\n",
        "\n",
        "plt.figure()\n",
        "\n",
        "# training and validation loss\n",
        "\n",
        "plt.plot(epochs, loss, 'bo', label='training loss')\n",
        "plt.plot(epochs, val_loss, 'r', label='validation loss')\n",
        "plt.title('training and validation loss')\n",
        "plt.legend()\n",
        "\n",
        "plt.show()"
      ],
      "execution_count": 14,
      "outputs": [
        {
          "output_type": "display_data",
          "data": {
            "image/png": "[encoded data removed]",
            "text/plain": [
              "<Figure size 432x288 with 1 Axes>"
            ]
          },
          "metadata": {
            "tags": []
          }
        },
        {
          "output_type": "display_data",
          "data": {
            "image/png": "[encoded data removed]",
            "text/plain": [
              "<Figure size 432x288 with 1 Axes>"
            ]
          },
          "metadata": {
            "tags": []
          }
        }
      ]
    },
    {
      "metadata": {
        "id": "8d6KzTSMys9N",
        "colab_type": "code",
        "colab": {}
      },
      "cell_type": "code",
      "source": [
        "val_loss, val_acc = model.evaluate_generator(validation_generator, steps=50)"
      ],
      "execution_count": 0,
      "outputs": []
    },
    {
      "metadata": {
        "id": "05T_bMe2ywrY",
        "colab_type": "code",
        "colab": {
          "base_uri": "https://localhost:8080/",
          "height": 51
        },
        "outputId": "268309e9-34cd-4561-9f3a-71d4a2c6fcb0"
      },
      "cell_type": "code",
      "source": [
        "print(\"Validation loss:\", val_loss)\n",
        "print(\"Validation accuracy:\", val_acc)"
      ],
      "execution_count": 16,
      "outputs": [
        {
          "output_type": "stream",
          "text": [
            "Validation loss: 0.23247014604508875\n",
            "Validation accuracy: 0.9139999926090241\n"
          ],
          "name": "stdout"
        }
      ]
    },
    {
      "metadata": {
        "id": "X-gHS9RFVQjs",
        "colab_type": "text"
      },
      "cell_type": "markdown",
      "source": [
        "**Saving model**"
      ]
    },
    {
      "metadata": {
        "id": "zmk_geikyzfs",
        "colab_type": "code",
        "colab": {}
      },
      "cell_type": "code",
      "source": [
        "model_fname = 'cats_and_dogs_fine_1.h5' \n",
        "model.save(model_fname)"
      ],
      "execution_count": 0,
      "outputs": []
    },
    {
      "metadata": {
        "id": "pU7mSJHIaUG-",
        "colab_type": "code",
        "colab": {}
      },
      "cell_type": "code",
      "source": [
        "from google.colab import files\n",
        "\n",
        "with open(model_fname, 'r') as f:\n",
        "  files.download(model_fname)"
      ],
      "execution_count": 0,
      "outputs": []
    },
    {
      "metadata": {
        "id": "JSVlW5JsaWox",
        "colab_type": "code",
        "colab": {}
      },
      "cell_type": "code",
      "source": [
        ""
      ],
      "execution_count": 0,
      "outputs": []
    }
  ]
}