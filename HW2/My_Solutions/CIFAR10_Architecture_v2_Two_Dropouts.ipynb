{
  "nbformat": 4,
  "nbformat_minor": 0,
  "metadata": {
    "colab": {
      "name": "CIFAR10_Architecture_v2_Two_Dropouts.ipynb",
      "version": "0.3.2",
      "provenance": [],
      "include_colab_link": true
    },
    "kernelspec": {
      "name": "python3",
      "display_name": "Python 3"
    },
    "accelerator": "GPU"
  },
  "cells": [
    {
      "cell_type": "markdown",
      "metadata": {
        "id": "view-in-github",
        "colab_type": "text"
      },
      "source": [
        "<a href=\"https://colab.research.google.com/github/AnitaKirkovska/Machine_Learning_Class/blob/master/HW2/My_Solutions/CIFAR10_Architecture_v2_Two_Dropouts.ipynb\" target=\"_parent\"><img src=\"https://colab.research.google.com/assets/colab-badge.svg\" alt=\"Open In Colab\"/></a>"
      ]
    },
    {
      "metadata": {
        "id": "T_XgBXo_2qCH",
        "colab_type": "text"
      },
      "cell_type": "markdown",
      "source": [
        "# **Simple hold-out validation - Using [Second CNN](https://github.com/AnitaKirkovska/Machine_Learning_Class/blob/master/HW2/My_Solutions/CIFAR10_Architecture_v2_WithoutNormalizations.ipynb) **\n",
        "\n",
        "Using the v1 model with 2 Drop-outs\n",
        "\n",
        "\n",
        "\n",
        "\n",
        "```\n",
        "Overfitting is more decreased than with 1 dropout. Training set is approaching 1 slowly and validation accuracy is little higher than without Dropout or with 1 drop out.\n",
        "\n",
        "Accuracy without Dropout = 71.54%\n",
        "Accuracy with Dropout = 75.55%\n",
        "Accuracy with 2 Dropouts = 75.79%\n",
        "```\n",
        "\n"
      ]
    },
    {
      "metadata": {
        "id": "GCowLyKs3AFy",
        "colab_type": "text"
      },
      "cell_type": "markdown",
      "source": [
        "**Loading the CIFAR10 set**"
      ]
    },
    {
      "metadata": {
        "id": "wq2g1ynu2jE5",
        "colab_type": "code",
        "outputId": "7fedf54b-83f0-4c4f-fa02-73350f873190",
        "colab": {
          "base_uri": "https://localhost:8080/",
          "height": 68
        }
      },
      "cell_type": "code",
      "source": [
        "from keras.datasets import cifar10\n",
        "\n",
        "(train_images, train_labels), (test_images, test_labels) = cifar10.load_data()"
      ],
      "execution_count": 0,
      "outputs": [
        {
          "output_type": "stream",
          "text": [
            "Using TensorFlow backend.\n"
          ],
          "name": "stderr"
        },
        {
          "output_type": "stream",
          "text": [
            "Downloading data from https://www.cs.toronto.edu/~kriz/cifar-10-python.tar.gz\n",
            "170500096/170498071 [==============================] - 40s 0us/step\n"
          ],
          "name": "stdout"
        }
      ]
    },
    {
      "metadata": {
        "id": "CPd86r-04VKl",
        "colab_type": "text"
      },
      "cell_type": "markdown",
      "source": [
        "**Preparing data**\n",
        "\n",
        "Training/Validation 80%/20%\n"
      ]
    },
    {
      "metadata": {
        "id": "bt8j5iKg3Bcu",
        "colab_type": "code",
        "outputId": "3623ce39-d807-4611-cc83-0ded4caf01e8",
        "colab": {
          "base_uri": "https://localhost:8080/",
          "height": 51
        }
      },
      "cell_type": "code",
      "source": [
        "import sklearn.model_selection as skl \n",
        "\n",
        "train_images, val_images, train_labels, val_labels = skl.train_test_split(train_images, train_labels, test_size=0.20)\n",
        "\n",
        "print(\"train images\",train_images.shape)\n",
        "print(\"val images\",val_images.shape)"
      ],
      "execution_count": 0,
      "outputs": [
        {
          "output_type": "stream",
          "text": [
            "train images (40000, 32, 32, 3)\n",
            "val images (10000, 32, 32, 3)\n"
          ],
          "name": "stdout"
        }
      ]
    },
    {
      "metadata": {
        "id": "Q5XefuIQ4ZG2",
        "colab_type": "text"
      },
      "cell_type": "markdown",
      "source": [
        "**Preprocess the data**"
      ]
    },
    {
      "metadata": {
        "id": "K_TuMrsP4XaX",
        "colab_type": "code",
        "colab": {}
      },
      "cell_type": "code",
      "source": [
        "from keras.utils import to_categorical\n",
        "\n",
        "train_images = train_images.astype('float32')/255\n",
        "val_images = val_images.astype('float32')/255\n",
        "\n",
        "train_labels = to_categorical(train_labels)\n",
        "val_labels = to_categorical(val_labels)"
      ],
      "execution_count": 0,
      "outputs": []
    },
    {
      "metadata": {
        "id": "I8MjUwYQ4dWs",
        "colab_type": "text"
      },
      "cell_type": "markdown",
      "source": [
        "**The Architecture**"
      ]
    },
    {
      "metadata": {
        "id": "eisuLLzE4ayi",
        "colab_type": "code",
        "outputId": "d48fc402-efa3-4a28-fa7b-5b3596051c07",
        "colab": {
          "base_uri": "https://localhost:8080/",
          "height": 598
        }
      },
      "cell_type": "code",
      "source": [
        "from keras import models\n",
        "from keras import layers\n",
        "\n",
        "model = models.Sequential()\n",
        "\n",
        "model.add(layers.Conv2D(64, (3,3), activation='relu', input_shape=(32,32,3)))\n",
        "model.add(layers.MaxPooling2D(2,2))\n",
        "\n",
        "model.add(layers.Conv2D(128, (3,3), activation='relu'))\n",
        "model.add(layers.MaxPooling2D(2,2))\n",
        "\n",
        "model.add(layers.Conv2D(256, (3,3), activation='relu'))\n",
        "model.add(layers.MaxPooling2D(2,2))\n",
        "\n",
        "model.add(layers.Dropout(0.25))\n",
        "\n",
        "model.add(layers.Flatten())\n",
        "\n",
        "model.add(layers.Dropout(0.5))\n",
        "\n",
        "model.add(layers.Dense(10, activation='softmax'))\n",
        "\n",
        "model.summary()"
      ],
      "execution_count": 0,
      "outputs": [
        {
          "output_type": "stream",
          "text": [
            "WARNING:tensorflow:From /usr/local/lib/python3.6/dist-packages/tensorflow/python/framework/op_def_library.py:263: colocate_with (from tensorflow.python.framework.ops) is deprecated and will be removed in a future version.\n",
            "Instructions for updating:\n",
            "Colocations handled automatically by placer.\n",
            "WARNING:tensorflow:From /usr/local/lib/python3.6/dist-packages/keras/backend/tensorflow_backend.py:3445: calling dropout (from tensorflow.python.ops.nn_ops) with keep_prob is deprecated and will be removed in a future version.\n",
            "Instructions for updating:\n",
            "Please use `rate` instead of `keep_prob`. Rate should be set to `rate = 1 - keep_prob`.\n",
            "_________________________________________________________________\n",
            "Layer (type)                 Output Shape              Param #   \n",
            "=================================================================\n",
            "conv2d_1 (Conv2D)            (None, 30, 30, 64)        1792      \n",
            "_________________________________________________________________\n",
            "max_pooling2d_1 (MaxPooling2 (None, 15, 15, 64)        0         \n",
            "_________________________________________________________________\n",
            "conv2d_2 (Conv2D)            (None, 13, 13, 128)       73856     \n",
            "_________________________________________________________________\n",
            "max_pooling2d_2 (MaxPooling2 (None, 6, 6, 128)         0         \n",
            "_________________________________________________________________\n",
            "conv2d_3 (Conv2D)            (None, 4, 4, 256)         295168    \n",
            "_________________________________________________________________\n",
            "max_pooling2d_3 (MaxPooling2 (None, 2, 2, 256)         0         \n",
            "_________________________________________________________________\n",
            "dropout_1 (Dropout)          (None, 2, 2, 256)         0         \n",
            "_________________________________________________________________\n",
            "flatten_1 (Flatten)          (None, 1024)              0         \n",
            "_________________________________________________________________\n",
            "dropout_2 (Dropout)          (None, 1024)              0         \n",
            "_________________________________________________________________\n",
            "dense_1 (Dense)              (None, 10)                10250     \n",
            "=================================================================\n",
            "Total params: 381,066\n",
            "Trainable params: 381,066\n",
            "Non-trainable params: 0\n",
            "_________________________________________________________________\n"
          ],
          "name": "stdout"
        }
      ]
    },
    {
      "metadata": {
        "id": "KRuBUB5K5G4q",
        "colab_type": "text"
      },
      "cell_type": "markdown",
      "source": [
        "**Compiling the model**"
      ]
    },
    {
      "metadata": {
        "id": "qKFIWiqv4vv2",
        "colab_type": "code",
        "colab": {}
      },
      "cell_type": "code",
      "source": [
        "import keras\n",
        "opt = keras.optimizers.rmsprop(lr=0.0005, decay=1e-6)\n",
        "\n",
        "model.compile(\n",
        "    loss='categorical_crossentropy',\n",
        "    optimizer=opt,\n",
        "    metrics=['accuracy'])"
      ],
      "execution_count": 0,
      "outputs": []
    },
    {
      "metadata": {
        "id": "30Pq2VmD5KBB",
        "colab_type": "text"
      },
      "cell_type": "markdown",
      "source": [
        "**Training the model**"
      ]
    },
    {
      "metadata": {
        "id": "fiU5-1x25IZ5",
        "colab_type": "code",
        "outputId": "3ae8b6f8-c3b2-4ea0-d026-e431467e5a39",
        "colab": {
          "base_uri": "https://localhost:8080/",
          "height": 1805
        }
      },
      "cell_type": "code",
      "source": [
        "history = model.fit(train_images,\n",
        "          train_labels,\n",
        "          batch_size=128,\n",
        "          epochs = 50,\n",
        "          validation_data=(val_images, val_labels))"
      ],
      "execution_count": 0,
      "outputs": [
        {
          "output_type": "stream",
          "text": [
            "WARNING:tensorflow:From /usr/local/lib/python3.6/dist-packages/tensorflow/python/ops/math_ops.py:3066: to_int32 (from tensorflow.python.ops.math_ops) is deprecated and will be removed in a future version.\n",
            "Instructions for updating:\n",
            "Use tf.cast instead.\n",
            "Train on 40000 samples, validate on 10000 samples\n",
            "Epoch 1/50\n",
            "40000/40000 [==============================] - 12s 289us/step - loss: 1.8864 - acc: 0.3095 - val_loss: 1.5793 - val_acc: 0.4303\n",
            "Epoch 2/50\n",
            "40000/40000 [==============================] - 7s 172us/step - loss: 1.5651 - acc: 0.4326 - val_loss: 1.4288 - val_acc: 0.4857\n",
            "Epoch 3/50\n",
            "40000/40000 [==============================] - 7s 173us/step - loss: 1.4250 - acc: 0.4894 - val_loss: 1.3192 - val_acc: 0.5372\n",
            "Epoch 4/50\n",
            "40000/40000 [==============================] - 7s 172us/step - loss: 1.3190 - acc: 0.5290 - val_loss: 1.2407 - val_acc: 0.5755\n",
            "Epoch 5/50\n",
            "40000/40000 [==============================] - 7s 172us/step - loss: 1.2412 - acc: 0.5625 - val_loss: 1.1796 - val_acc: 0.5890\n",
            "Epoch 6/50\n",
            "40000/40000 [==============================] - 7s 172us/step - loss: 1.1674 - acc: 0.5899 - val_loss: 1.1527 - val_acc: 0.6010\n",
            "Epoch 7/50\n",
            "40000/40000 [==============================] - 7s 173us/step - loss: 1.1137 - acc: 0.6109 - val_loss: 1.1021 - val_acc: 0.6200\n",
            "Epoch 8/50\n",
            "40000/40000 [==============================] - 7s 171us/step - loss: 1.0628 - acc: 0.6306 - val_loss: 1.0246 - val_acc: 0.6450\n",
            "Epoch 9/50\n",
            "40000/40000 [==============================] - 7s 172us/step - loss: 1.0203 - acc: 0.6446 - val_loss: 1.0412 - val_acc: 0.6403\n",
            "Epoch 10/50\n",
            "40000/40000 [==============================] - 7s 172us/step - loss: 0.9797 - acc: 0.6574 - val_loss: 0.9537 - val_acc: 0.6729\n",
            "Epoch 11/50\n",
            "40000/40000 [==============================] - 7s 173us/step - loss: 0.9410 - acc: 0.6713 - val_loss: 1.0052 - val_acc: 0.6584\n",
            "Epoch 12/50\n",
            "40000/40000 [==============================] - 7s 173us/step - loss: 0.9131 - acc: 0.6835 - val_loss: 0.9139 - val_acc: 0.6896\n",
            "Epoch 13/50\n",
            "40000/40000 [==============================] - 7s 173us/step - loss: 0.8837 - acc: 0.6909 - val_loss: 0.8784 - val_acc: 0.7020\n",
            "Epoch 14/50\n",
            "40000/40000 [==============================] - 7s 173us/step - loss: 0.8571 - acc: 0.6995 - val_loss: 0.8686 - val_acc: 0.7023\n",
            "Epoch 15/50\n",
            "40000/40000 [==============================] - 7s 173us/step - loss: 0.8311 - acc: 0.7114 - val_loss: 0.9252 - val_acc: 0.6913\n",
            "Epoch 16/50\n",
            "40000/40000 [==============================] - 7s 172us/step - loss: 0.8019 - acc: 0.7209 - val_loss: 0.8562 - val_acc: 0.7114\n",
            "Epoch 17/50\n",
            "40000/40000 [==============================] - 7s 172us/step - loss: 0.7830 - acc: 0.7285 - val_loss: 0.8432 - val_acc: 0.7132\n",
            "Epoch 18/50\n",
            "40000/40000 [==============================] - 7s 172us/step - loss: 0.7653 - acc: 0.7339 - val_loss: 0.7844 - val_acc: 0.7373\n",
            "Epoch 19/50\n",
            "40000/40000 [==============================] - 7s 172us/step - loss: 0.7380 - acc: 0.7443 - val_loss: 0.8035 - val_acc: 0.7263\n",
            "Epoch 20/50\n",
            "40000/40000 [==============================] - 7s 173us/step - loss: 0.7206 - acc: 0.7491 - val_loss: 0.8095 - val_acc: 0.7220\n",
            "Epoch 21/50\n",
            "40000/40000 [==============================] - 7s 172us/step - loss: 0.7082 - acc: 0.7545 - val_loss: 0.8302 - val_acc: 0.7244\n",
            "Epoch 22/50\n",
            "40000/40000 [==============================] - 7s 172us/step - loss: 0.6848 - acc: 0.7637 - val_loss: 0.7546 - val_acc: 0.7460\n",
            "Epoch 23/50\n",
            "40000/40000 [==============================] - 7s 171us/step - loss: 0.6673 - acc: 0.7687 - val_loss: 0.7598 - val_acc: 0.7438\n",
            "Epoch 24/50\n",
            "40000/40000 [==============================] - 7s 172us/step - loss: 0.6454 - acc: 0.7737 - val_loss: 0.7282 - val_acc: 0.7533\n",
            "Epoch 25/50\n",
            "40000/40000 [==============================] - 7s 172us/step - loss: 0.6389 - acc: 0.7774 - val_loss: 0.8112 - val_acc: 0.7298\n",
            "Epoch 26/50\n",
            "40000/40000 [==============================] - 7s 172us/step - loss: 0.6220 - acc: 0.7845 - val_loss: 0.7236 - val_acc: 0.7576\n",
            "Epoch 27/50\n",
            "40000/40000 [==============================] - 7s 172us/step - loss: 0.6091 - acc: 0.7876 - val_loss: 0.7665 - val_acc: 0.7403\n",
            "Epoch 28/50\n",
            "40000/40000 [==============================] - 7s 172us/step - loss: 0.5937 - acc: 0.7942 - val_loss: 0.7303 - val_acc: 0.7512\n",
            "Epoch 29/50\n",
            "40000/40000 [==============================] - 7s 173us/step - loss: 0.5818 - acc: 0.7965 - val_loss: 0.8120 - val_acc: 0.7298\n",
            "Epoch 30/50\n",
            "40000/40000 [==============================] - 7s 172us/step - loss: 0.5608 - acc: 0.8027 - val_loss: 0.7214 - val_acc: 0.7586\n",
            "Epoch 31/50\n",
            "40000/40000 [==============================] - 7s 171us/step - loss: 0.5561 - acc: 0.8067 - val_loss: 0.7330 - val_acc: 0.7518\n",
            "Epoch 32/50\n",
            "40000/40000 [==============================] - 7s 171us/step - loss: 0.5414 - acc: 0.8104 - val_loss: 0.7154 - val_acc: 0.7625\n",
            "Epoch 33/50\n",
            "40000/40000 [==============================] - 7s 172us/step - loss: 0.5324 - acc: 0.8132 - val_loss: 0.7232 - val_acc: 0.7640\n",
            "Epoch 34/50\n",
            "40000/40000 [==============================] - 7s 171us/step - loss: 0.5199 - acc: 0.8189 - val_loss: 0.7182 - val_acc: 0.7653\n",
            "Epoch 35/50\n",
            "40000/40000 [==============================] - 7s 172us/step - loss: 0.5060 - acc: 0.8230 - val_loss: 0.7867 - val_acc: 0.7461\n",
            "Epoch 36/50\n",
            "40000/40000 [==============================] - 7s 171us/step - loss: 0.5001 - acc: 0.8243 - val_loss: 0.7168 - val_acc: 0.7649\n",
            "Epoch 37/50\n",
            "40000/40000 [==============================] - 7s 171us/step - loss: 0.4863 - acc: 0.8294 - val_loss: 0.7078 - val_acc: 0.7699\n",
            "Epoch 38/50\n",
            "40000/40000 [==============================] - 7s 171us/step - loss: 0.4793 - acc: 0.8335 - val_loss: 0.6817 - val_acc: 0.7766\n",
            "Epoch 39/50\n",
            "40000/40000 [==============================] - 7s 172us/step - loss: 0.4681 - acc: 0.8359 - val_loss: 0.6868 - val_acc: 0.7752\n",
            "Epoch 40/50\n",
            "40000/40000 [==============================] - 7s 171us/step - loss: 0.4602 - acc: 0.8375 - val_loss: 0.7136 - val_acc: 0.7602\n",
            "Epoch 41/50\n",
            "40000/40000 [==============================] - 7s 172us/step - loss: 0.4501 - acc: 0.8413 - val_loss: 0.7372 - val_acc: 0.7572\n",
            "Epoch 42/50\n",
            "40000/40000 [==============================] - 7s 171us/step - loss: 0.4455 - acc: 0.8451 - val_loss: 0.7357 - val_acc: 0.7646\n",
            "Epoch 43/50\n",
            "40000/40000 [==============================] - 7s 172us/step - loss: 0.4345 - acc: 0.8481 - val_loss: 0.7926 - val_acc: 0.7571\n",
            "Epoch 44/50\n",
            "40000/40000 [==============================] - 7s 171us/step - loss: 0.4256 - acc: 0.8508 - val_loss: 0.7964 - val_acc: 0.7405\n",
            "Epoch 45/50\n",
            "40000/40000 [==============================] - 7s 171us/step - loss: 0.4218 - acc: 0.8525 - val_loss: 0.7371 - val_acc: 0.7643\n",
            "Epoch 46/50\n",
            "40000/40000 [==============================] - 7s 171us/step - loss: 0.4177 - acc: 0.8549 - val_loss: 0.6992 - val_acc: 0.7743\n",
            "Epoch 47/50\n",
            "40000/40000 [==============================] - 7s 171us/step - loss: 0.4003 - acc: 0.8588 - val_loss: 0.6984 - val_acc: 0.7749\n",
            "Epoch 48/50\n",
            "40000/40000 [==============================] - 7s 172us/step - loss: 0.3989 - acc: 0.8593 - val_loss: 0.7265 - val_acc: 0.7778\n",
            "Epoch 49/50\n",
            "40000/40000 [==============================] - 7s 171us/step - loss: 0.3978 - acc: 0.8600 - val_loss: 0.8046 - val_acc: 0.7500\n",
            "Epoch 50/50\n",
            "40000/40000 [==============================] - 7s 172us/step - loss: 0.3855 - acc: 0.8629 - val_loss: 0.7842 - val_acc: 0.7579\n"
          ],
          "name": "stdout"
        }
      ]
    },
    {
      "metadata": {
        "id": "ELk1rvFQQxuX",
        "colab_type": "text"
      },
      "cell_type": "markdown",
      "source": [
        "**Plotting the model**"
      ]
    },
    {
      "metadata": {
        "id": "aOZo7EtE5MtI",
        "colab_type": "code",
        "outputId": "30824420-080f-43c1-fdda-45301e09bfba",
        "colab": {
          "base_uri": "https://localhost:8080/",
          "height": 707
        }
      },
      "cell_type": "code",
      "source": [
        "\n",
        "import matplotlib.pyplot as plt\n",
        "\n",
        "acc = history.history['acc']\n",
        "val_acc = history.history['val_acc']\n",
        "loss = history.history['loss']\n",
        "val_loss = history.history['val_loss']\n",
        "\n",
        "epochs = range(1, len(acc) + 1)\n",
        "\n",
        "\n",
        "plt.plot(epochs, acc, 'bo', \n",
        "         label='training acc')\n",
        "plt.plot(epochs, val_acc, 'r', label='validation acc')\n",
        "plt.title('training and validation accuracy')\n",
        "plt.legend()\n",
        "\n",
        "plt.figure()\n",
        "\n",
        "plt.plot(epochs, loss, 'bo', label='training loss')\n",
        "plt.plot(epochs, val_loss, 'r', label='validation loss')\n",
        "plt.title('training and validation loss')\n",
        "\n",
        "plt.legend()\n",
        "\n",
        "plt.show()"
      ],
      "execution_count": 0,
      "outputs": [
        {
          "output_type": "display_data",
          "data": {
            "image/png": "[encoded data removed]",
            "text/plain": [
              "<Figure size 576x396 with 1 Axes>"
            ]
          },
          "metadata": {
            "tags": []
          }
        },
        {
          "output_type": "display_data",
          "data": {
            "image/png": "[encoded data removed]",
            "text/plain": [
              "<Figure size 576x396 with 1 Axes>"
            ]
          },
          "metadata": {
            "tags": []
          }
        }
      ]
    },
    {
      "metadata": {
        "id": "77RCTywFQ1NK",
        "colab_type": "text"
      },
      "cell_type": "markdown",
      "source": [
        "**Evaluate the model with validation set**"
      ]
    },
    {
      "metadata": {
        "id": "6_GUAMgkQ3Vv",
        "colab_type": "code",
        "outputId": "caf8c11e-cc10-4205-fde5-9f6684050611",
        "colab": {
          "base_uri": "https://localhost:8080/",
          "height": 51
        }
      },
      "cell_type": "code",
      "source": [
        "\n",
        "score = model.evaluate(val_images, val_labels, verbose=0)\n",
        "print('Validation loss:', score[0])\n",
        "print('Validation accuracy:', score[1]*100,\"%\")"
      ],
      "execution_count": 0,
      "outputs": [
        {
          "output_type": "stream",
          "text": [
            "Validation loss: 0.7841863094329834\n",
            "Validation accuracy: 75.79 %\n"
          ],
          "name": "stdout"
        }
      ]
    },
    {
      "metadata": {
        "id": "kPLryLxgShjM",
        "colab_type": "code",
        "colab": {}
      },
      "cell_type": "code",
      "source": [
        ""
      ],
      "execution_count": 0,
      "outputs": []
    }
  ]
}