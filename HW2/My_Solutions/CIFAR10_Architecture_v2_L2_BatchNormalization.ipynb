{
  "nbformat": 4,
  "nbformat_minor": 0,
  "metadata": {
    "colab": {
      "name": "CIFAR10_Architecture_v2_L2_BatchNormalization.ipynb",
      "version": "0.3.2",
      "provenance": [],
      "include_colab_link": true
    },
    "kernelspec": {
      "name": "python3",
      "display_name": "Python 3"
    },
    "accelerator": "GPU"
  },
  "cells": [
    {
      "cell_type": "markdown",
      "metadata": {
        "id": "view-in-github",
        "colab_type": "text"
      },
      "source": [
        "<a href=\"https://colab.research.google.com/github/AnitaKirkovska/Machine_Learning_Class/blob/master/HW2/My_Solutions/CIFAR10_Architecture_v2_L2_BatchNormalization.ipynb\" target=\"_parent\"><img src=\"https://colab.research.google.com/assets/colab-badge.svg\" alt=\"Open In Colab\"/></a>"
      ]
    },
    {
      "metadata": {
        "id": "T_XgBXo_2qCH",
        "colab_type": "text"
      },
      "cell_type": "markdown",
      "source": [
        "# **Simple hold-out validation - Using [Second CNN](https://github.com/AnitaKirkovska/Machine_Learning_Class/blob/master/HW2/My_Solutions/CIFAR10_Architecture_v2_WithoutNormalizations.ipynb) **\n",
        "\n",
        "Using the v2 model with l2 and Batch Normalization\n",
        "\n",
        "\n",
        "\n",
        "\n",
        "```\n",
        "Overfitting is HUGE. Training set is nowhere close to 1, where validation can't move up. Lower than Naked model.\n",
        "\n",
        "Accuracy with Naked model = 71.54%\n",
        "Accuracy with Dropout = 75.55%\n",
        "Accuracy with 2 Dropouts = 75.79%\n",
        "Accuracy with Data Aug = \n",
        "Accuracy with L2 and Batch Normalization = 66.94%\n",
        "```\n",
        "\n"
      ]
    },
    {
      "metadata": {
        "id": "GCowLyKs3AFy",
        "colab_type": "text"
      },
      "cell_type": "markdown",
      "source": [
        "**Loading the CIFAR10 set**"
      ]
    },
    {
      "metadata": {
        "id": "wq2g1ynu2jE5",
        "colab_type": "code",
        "outputId": "c391320f-01ef-4c43-8872-361f26d7da8e",
        "colab": {
          "base_uri": "https://localhost:8080/",
          "height": 34
        }
      },
      "cell_type": "code",
      "source": [
        "from keras.datasets import cifar10\n",
        "\n",
        "(train_images, train_labels), (test_images, test_labels) = cifar10.load_data()"
      ],
      "execution_count": 1,
      "outputs": [
        {
          "output_type": "stream",
          "text": [
            "Using TensorFlow backend.\n"
          ],
          "name": "stderr"
        }
      ]
    },
    {
      "metadata": {
        "id": "CPd86r-04VKl",
        "colab_type": "text"
      },
      "cell_type": "markdown",
      "source": [
        "**Preparing data**\n",
        "\n",
        "Training/Validation 80%/20%\n"
      ]
    },
    {
      "metadata": {
        "id": "bt8j5iKg3Bcu",
        "colab_type": "code",
        "outputId": "d94445a2-c4ac-42e8-99df-6d97bcd45a62",
        "colab": {
          "base_uri": "https://localhost:8080/",
          "height": 51
        }
      },
      "cell_type": "code",
      "source": [
        "import sklearn.model_selection as skl \n",
        "\n",
        "train_images, val_images, train_labels, val_labels = skl.train_test_split(train_images, train_labels, test_size=0.20)\n",
        "\n",
        "print(\"train images\",train_images.shape)\n",
        "print(\"val images\",val_images.shape)"
      ],
      "execution_count": 2,
      "outputs": [
        {
          "output_type": "stream",
          "text": [
            "train images (40000, 32, 32, 3)\n",
            "val images (10000, 32, 32, 3)\n"
          ],
          "name": "stdout"
        }
      ]
    },
    {
      "metadata": {
        "id": "Q5XefuIQ4ZG2",
        "colab_type": "text"
      },
      "cell_type": "markdown",
      "source": [
        "**Preprocess the data**"
      ]
    },
    {
      "metadata": {
        "id": "K_TuMrsP4XaX",
        "colab_type": "code",
        "colab": {}
      },
      "cell_type": "code",
      "source": [
        "from keras.utils import to_categorical\n",
        "\n",
        "train_images = train_images.astype('float32')/255\n",
        "val_images = val_images.astype('float32')/255\n",
        "\n",
        "train_labels = to_categorical(train_labels)\n",
        "val_labels = to_categorical(val_labels)"
      ],
      "execution_count": 0,
      "outputs": []
    },
    {
      "metadata": {
        "id": "I8MjUwYQ4dWs",
        "colab_type": "text"
      },
      "cell_type": "markdown",
      "source": [
        "**The Architecture**"
      ]
    },
    {
      "metadata": {
        "id": "eisuLLzE4ayi",
        "colab_type": "code",
        "outputId": "c2af7fe6-bfaa-488d-e08d-57a18d3e922c",
        "colab": {
          "base_uri": "https://localhost:8080/",
          "height": 510
        }
      },
      "cell_type": "code",
      "source": [
        "from keras import models\n",
        "from keras import layers\n",
        "from keras import regularizers\n",
        "from keras.layers import BatchNormalization\n",
        "\n",
        "model = models.Sequential()\n",
        "\n",
        "model.add(layers.Conv2D(64, (3,3), activation='relu', kernel_regularizer=regularizers.l2(0.01), input_shape=(32,32,3)))\n",
        "model.add(layers.BatchNormalization())\n",
        "model.add(layers.MaxPooling2D(2,2))\n",
        "\n",
        "model.add(layers.Conv2D(128, (3,3), activation='relu',kernel_regularizer=regularizers.l2(0.01)))\n",
        "model.add(layers.BatchNormalization())\n",
        "model.add(layers.MaxPooling2D(2,2))\n",
        "\n",
        "model.add(layers.Conv2D(256, (3,3), activation='relu',kernel_regularizer=regularizers.l2(0.01)))\n",
        "model.add(layers.BatchNormalization())\n",
        "model.add(layers.MaxPooling2D(2,2))\n",
        "\n",
        "model.add(layers.Flatten())\n",
        "\n",
        "model.add(layers.Dense(10, activation='softmax'))\n",
        "\n",
        "model.summary()"
      ],
      "execution_count": 5,
      "outputs": [
        {
          "output_type": "stream",
          "text": [
            "_________________________________________________________________\n",
            "Layer (type)                 Output Shape              Param #   \n",
            "=================================================================\n",
            "conv2d_2 (Conv2D)            (None, 30, 30, 64)        1792      \n",
            "_________________________________________________________________\n",
            "batch_normalization_2 (Batch (None, 30, 30, 64)        256       \n",
            "_________________________________________________________________\n",
            "max_pooling2d_1 (MaxPooling2 (None, 15, 15, 64)        0         \n",
            "_________________________________________________________________\n",
            "conv2d_3 (Conv2D)            (None, 13, 13, 128)       73856     \n",
            "_________________________________________________________________\n",
            "batch_normalization_3 (Batch (None, 13, 13, 128)       512       \n",
            "_________________________________________________________________\n",
            "max_pooling2d_2 (MaxPooling2 (None, 6, 6, 128)         0         \n",
            "_________________________________________________________________\n",
            "conv2d_4 (Conv2D)            (None, 4, 4, 256)         295168    \n",
            "_________________________________________________________________\n",
            "batch_normalization_4 (Batch (None, 4, 4, 256)         1024      \n",
            "_________________________________________________________________\n",
            "max_pooling2d_3 (MaxPooling2 (None, 2, 2, 256)         0         \n",
            "_________________________________________________________________\n",
            "flatten_1 (Flatten)          (None, 1024)              0         \n",
            "_________________________________________________________________\n",
            "dense_1 (Dense)              (None, 10)                10250     \n",
            "=================================================================\n",
            "Total params: 382,858\n",
            "Trainable params: 381,962\n",
            "Non-trainable params: 896\n",
            "_________________________________________________________________\n"
          ],
          "name": "stdout"
        }
      ]
    },
    {
      "metadata": {
        "id": "KRuBUB5K5G4q",
        "colab_type": "text"
      },
      "cell_type": "markdown",
      "source": [
        "**Compiling the model**"
      ]
    },
    {
      "metadata": {
        "id": "qKFIWiqv4vv2",
        "colab_type": "code",
        "colab": {}
      },
      "cell_type": "code",
      "source": [
        "import keras\n",
        "opt = keras.optimizers.rmsprop(lr=0.0005, decay=1e-6)\n",
        "\n",
        "model.compile(\n",
        "    loss='categorical_crossentropy',\n",
        "    optimizer=opt,\n",
        "    metrics=['accuracy'])"
      ],
      "execution_count": 0,
      "outputs": []
    },
    {
      "metadata": {
        "id": "30Pq2VmD5KBB",
        "colab_type": "text"
      },
      "cell_type": "markdown",
      "source": [
        "**Training the model**"
      ]
    },
    {
      "metadata": {
        "id": "fiU5-1x25IZ5",
        "colab_type": "code",
        "outputId": "5f817b75-1ffa-416e-947e-c8e1f7a5056e",
        "colab": {
          "base_uri": "https://localhost:8080/",
          "height": 1805
        }
      },
      "cell_type": "code",
      "source": [
        "history = model.fit(train_images,\n",
        "          train_labels,\n",
        "          batch_size=128,\n",
        "          epochs = 50,\n",
        "          validation_data=(val_images, val_labels))"
      ],
      "execution_count": 8,
      "outputs": [
        {
          "output_type": "stream",
          "text": [
            "WARNING:tensorflow:From /usr/local/lib/python3.6/dist-packages/tensorflow/python/ops/math_ops.py:3066: to_int32 (from tensorflow.python.ops.math_ops) is deprecated and will be removed in a future version.\n",
            "Instructions for updating:\n",
            "Use tf.cast instead.\n",
            "Train on 40000 samples, validate on 10000 samples\n",
            "Epoch 1/50\n",
            "40000/40000 [==============================] - 12s 288us/step - loss: 3.1592 - acc: 0.5322 - val_loss: 2.4041 - val_acc: 0.5764\n",
            "Epoch 2/50\n",
            "40000/40000 [==============================] - 10s 247us/step - loss: 1.8452 - acc: 0.6672 - val_loss: 1.9300 - val_acc: 0.5881\n",
            "Epoch 3/50\n",
            "40000/40000 [==============================] - 10s 246us/step - loss: 1.3771 - acc: 0.7241 - val_loss: 1.5001 - val_acc: 0.6586\n",
            "Epoch 4/50\n",
            "40000/40000 [==============================] - 10s 247us/step - loss: 1.1634 - acc: 0.7624 - val_loss: 1.5625 - val_acc: 0.6399\n",
            "Epoch 5/50\n",
            "40000/40000 [==============================] - 10s 246us/step - loss: 1.0396 - acc: 0.7910 - val_loss: 1.6260 - val_acc: 0.6264\n",
            "Epoch 6/50\n",
            "40000/40000 [==============================] - 10s 247us/step - loss: 0.9603 - acc: 0.8155 - val_loss: 1.4573 - val_acc: 0.6710\n",
            "Epoch 7/50\n",
            "40000/40000 [==============================] - 10s 245us/step - loss: 0.8976 - acc: 0.8368 - val_loss: 1.9845 - val_acc: 0.5926\n",
            "Epoch 8/50\n",
            "40000/40000 [==============================] - 10s 248us/step - loss: 0.8572 - acc: 0.8523 - val_loss: 1.5992 - val_acc: 0.6535\n",
            "Epoch 9/50\n",
            "40000/40000 [==============================] - 10s 247us/step - loss: 0.8276 - acc: 0.8646 - val_loss: 1.5133 - val_acc: 0.6923\n",
            "Epoch 10/50\n",
            "40000/40000 [==============================] - 10s 247us/step - loss: 0.8058 - acc: 0.8750 - val_loss: 1.8166 - val_acc: 0.6479\n",
            "Epoch 11/50\n",
            "40000/40000 [==============================] - 10s 245us/step - loss: 0.7858 - acc: 0.8834 - val_loss: 1.7893 - val_acc: 0.6392\n",
            "Epoch 12/50\n",
            "40000/40000 [==============================] - 10s 246us/step - loss: 0.7757 - acc: 0.8877 - val_loss: 1.7880 - val_acc: 0.6592\n",
            "Epoch 13/50\n",
            "40000/40000 [==============================] - 10s 246us/step - loss: 0.7663 - acc: 0.8918 - val_loss: 1.7158 - val_acc: 0.6808\n",
            "Epoch 14/50\n",
            "40000/40000 [==============================] - 10s 245us/step - loss: 0.7599 - acc: 0.8955 - val_loss: 1.7398 - val_acc: 0.6659\n",
            "Epoch 15/50\n",
            "40000/40000 [==============================] - 10s 246us/step - loss: 0.7518 - acc: 0.8995 - val_loss: 1.7634 - val_acc: 0.6717\n",
            "Epoch 16/50\n",
            "40000/40000 [==============================] - 10s 245us/step - loss: 0.7489 - acc: 0.9005 - val_loss: 1.7016 - val_acc: 0.6878\n",
            "Epoch 17/50\n",
            "40000/40000 [==============================] - 10s 245us/step - loss: 0.7417 - acc: 0.9036 - val_loss: 2.6151 - val_acc: 0.5789\n",
            "Epoch 18/50\n",
            "40000/40000 [==============================] - 10s 245us/step - loss: 0.7404 - acc: 0.9052 - val_loss: 1.6471 - val_acc: 0.6978\n",
            "Epoch 19/50\n",
            "40000/40000 [==============================] - 10s 246us/step - loss: 0.7331 - acc: 0.9087 - val_loss: 1.6365 - val_acc: 0.7054\n",
            "Epoch 20/50\n",
            "40000/40000 [==============================] - 10s 246us/step - loss: 0.7274 - acc: 0.9106 - val_loss: 2.5945 - val_acc: 0.6014\n",
            "Epoch 21/50\n",
            "40000/40000 [==============================] - 10s 247us/step - loss: 0.7331 - acc: 0.9085 - val_loss: 2.0148 - val_acc: 0.6202\n",
            "Epoch 22/50\n",
            "40000/40000 [==============================] - 10s 246us/step - loss: 0.7215 - acc: 0.9139 - val_loss: 2.2779 - val_acc: 0.5967\n",
            "Epoch 23/50\n",
            "40000/40000 [==============================] - 10s 246us/step - loss: 0.7239 - acc: 0.9134 - val_loss: 2.5181 - val_acc: 0.5655\n",
            "Epoch 24/50\n",
            "40000/40000 [==============================] - 10s 246us/step - loss: 0.7168 - acc: 0.9145 - val_loss: 2.1822 - val_acc: 0.6405\n",
            "Epoch 25/50\n",
            "40000/40000 [==============================] - 10s 246us/step - loss: 0.7175 - acc: 0.9141 - val_loss: 1.6920 - val_acc: 0.7091\n",
            "Epoch 26/50\n",
            "40000/40000 [==============================] - 10s 245us/step - loss: 0.7201 - acc: 0.9135 - val_loss: 1.7690 - val_acc: 0.6682\n",
            "Epoch 27/50\n",
            "40000/40000 [==============================] - 10s 246us/step - loss: 0.7046 - acc: 0.9190 - val_loss: 1.7962 - val_acc: 0.6749\n",
            "Epoch 28/50\n",
            "40000/40000 [==============================] - 10s 245us/step - loss: 0.6999 - acc: 0.9206 - val_loss: 2.0141 - val_acc: 0.6627\n",
            "Epoch 29/50\n",
            "40000/40000 [==============================] - 10s 246us/step - loss: 0.7020 - acc: 0.9191 - val_loss: 1.6633 - val_acc: 0.6916\n",
            "Epoch 30/50\n",
            "40000/40000 [==============================] - 10s 245us/step - loss: 0.6969 - acc: 0.9196 - val_loss: 1.8162 - val_acc: 0.6933\n",
            "Epoch 31/50\n",
            "40000/40000 [==============================] - 10s 246us/step - loss: 0.6930 - acc: 0.9197 - val_loss: 1.9268 - val_acc: 0.6829\n",
            "Epoch 32/50\n",
            "40000/40000 [==============================] - 10s 244us/step - loss: 0.6834 - acc: 0.9223 - val_loss: 2.0694 - val_acc: 0.6560\n",
            "Epoch 33/50\n",
            "40000/40000 [==============================] - 10s 247us/step - loss: 0.6816 - acc: 0.9229 - val_loss: 1.9906 - val_acc: 0.6671\n",
            "Epoch 34/50\n",
            "40000/40000 [==============================] - 10s 246us/step - loss: 0.6715 - acc: 0.9252 - val_loss: 2.1291 - val_acc: 0.6511\n",
            "Epoch 35/50\n",
            "40000/40000 [==============================] - 10s 245us/step - loss: 0.6737 - acc: 0.9239 - val_loss: 2.1396 - val_acc: 0.6479\n",
            "Epoch 36/50\n",
            "40000/40000 [==============================] - 10s 246us/step - loss: 0.6711 - acc: 0.9237 - val_loss: 1.8384 - val_acc: 0.6952\n",
            "Epoch 37/50\n",
            "40000/40000 [==============================] - 10s 247us/step - loss: 0.6649 - acc: 0.9254 - val_loss: 2.2316 - val_acc: 0.6645\n",
            "Epoch 38/50\n",
            "40000/40000 [==============================] - 10s 246us/step - loss: 0.6663 - acc: 0.9265 - val_loss: 1.7276 - val_acc: 0.7044\n",
            "Epoch 39/50\n",
            "40000/40000 [==============================] - 10s 246us/step - loss: 0.6657 - acc: 0.9253 - val_loss: 2.8539 - val_acc: 0.5993\n",
            "Epoch 40/50\n",
            "40000/40000 [==============================] - 10s 246us/step - loss: 0.6584 - acc: 0.9280 - val_loss: 2.1300 - val_acc: 0.6454\n",
            "Epoch 41/50\n",
            "40000/40000 [==============================] - 10s 246us/step - loss: 0.6591 - acc: 0.9274 - val_loss: 1.8615 - val_acc: 0.6974\n",
            "Epoch 42/50\n",
            "40000/40000 [==============================] - 10s 245us/step - loss: 0.6555 - acc: 0.9274 - val_loss: 2.2135 - val_acc: 0.6820\n",
            "Epoch 43/50\n",
            "40000/40000 [==============================] - 10s 246us/step - loss: 0.6490 - acc: 0.9292 - val_loss: 1.6878 - val_acc: 0.7065\n",
            "Epoch 44/50\n",
            "40000/40000 [==============================] - 10s 247us/step - loss: 0.6461 - acc: 0.9293 - val_loss: 2.0470 - val_acc: 0.6540\n",
            "Epoch 45/50\n",
            "40000/40000 [==============================] - 10s 246us/step - loss: 0.6418 - acc: 0.9313 - val_loss: 1.8914 - val_acc: 0.6858\n",
            "Epoch 46/50\n",
            "40000/40000 [==============================] - 10s 246us/step - loss: 0.6500 - acc: 0.9276 - val_loss: 1.9531 - val_acc: 0.6879\n",
            "Epoch 47/50\n",
            "40000/40000 [==============================] - 10s 246us/step - loss: 0.6419 - acc: 0.9304 - val_loss: 1.9011 - val_acc: 0.6954\n",
            "Epoch 48/50\n",
            "40000/40000 [==============================] - 10s 246us/step - loss: 0.6381 - acc: 0.9313 - val_loss: 2.0054 - val_acc: 0.6609\n",
            "Epoch 49/50\n",
            "40000/40000 [==============================] - 10s 246us/step - loss: 0.6346 - acc: 0.9323 - val_loss: 1.6756 - val_acc: 0.7387\n",
            "Epoch 50/50\n",
            "40000/40000 [==============================] - 10s 246us/step - loss: 0.6377 - acc: 0.9322 - val_loss: 2.1062 - val_acc: 0.6694\n"
          ],
          "name": "stdout"
        }
      ]
    },
    {
      "metadata": {
        "id": "ELk1rvFQQxuX",
        "colab_type": "text"
      },
      "cell_type": "markdown",
      "source": [
        "**Plotting the model**"
      ]
    },
    {
      "metadata": {
        "id": "aOZo7EtE5MtI",
        "colab_type": "code",
        "outputId": "5d99c785-acd9-4deb-f2c2-271dd99866b2",
        "colab": {
          "base_uri": "https://localhost:8080/",
          "height": 707
        }
      },
      "cell_type": "code",
      "source": [
        "\n",
        "import matplotlib.pyplot as plt\n",
        "\n",
        "acc = history.history['acc']\n",
        "val_acc = history.history['val_acc']\n",
        "loss = history.history['loss']\n",
        "val_loss = history.history['val_loss']\n",
        "\n",
        "epochs = range(1, len(acc) + 1)\n",
        "\n",
        "\n",
        "plt.plot(epochs, acc, 'bo', \n",
        "         label='training acc')\n",
        "plt.plot(epochs, val_acc, 'r', label='validation acc')\n",
        "plt.title('training and validation accuracy')\n",
        "plt.legend()\n",
        "\n",
        "plt.figure()\n",
        "\n",
        "plt.plot(epochs, loss, 'bo', label='training loss')\n",
        "plt.plot(epochs, val_loss, 'r', label='validation loss')\n",
        "plt.title('training and validation loss')\n",
        "\n",
        "plt.legend()\n",
        "\n",
        "plt.show()"
      ],
      "execution_count": 9,
      "outputs": [
        {
          "output_type": "display_data",
          "data": {
            "image/png": "[encoded data removed]",
            "text/plain": [
              "<Figure size 576x396 with 1 Axes>"
            ]
          },
          "metadata": {
            "tags": []
          }
        },
        {
          "output_type": "display_data",
          "data": {
            "image/png": "[encoded data removed]",
            "text/plain": [
              "<Figure size 576x396 with 1 Axes>"
            ]
          },
          "metadata": {
            "tags": []
          }
        }
      ]
    },
    {
      "metadata": {
        "id": "77RCTywFQ1NK",
        "colab_type": "text"
      },
      "cell_type": "markdown",
      "source": [
        "**Evaluate the model with validation set**"
      ]
    },
    {
      "metadata": {
        "id": "6_GUAMgkQ3Vv",
        "colab_type": "code",
        "outputId": "f924d401-bcba-4543-99ed-2d2cd9f37793",
        "colab": {
          "base_uri": "https://localhost:8080/",
          "height": 51
        }
      },
      "cell_type": "code",
      "source": [
        "\n",
        "score = model.evaluate(val_images, val_labels, verbose=0)\n",
        "print('Validation loss:', score[0])\n",
        "print('Validation accuracy:', score[1]*100,\"%\")"
      ],
      "execution_count": 10,
      "outputs": [
        {
          "output_type": "stream",
          "text": [
            "Validation loss: 2.106234500694275\n",
            "Validation accuracy: 66.94 %\n"
          ],
          "name": "stdout"
        }
      ]
    },
    {
      "metadata": {
        "id": "kPLryLxgShjM",
        "colab_type": "code",
        "colab": {}
      },
      "cell_type": "code",
      "source": [
        ""
      ],
      "execution_count": 0,
      "outputs": []
    }
  ]
}