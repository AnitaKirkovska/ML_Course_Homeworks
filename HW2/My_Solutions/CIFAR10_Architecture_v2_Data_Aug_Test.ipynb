{
  "nbformat": 4,
  "nbformat_minor": 0,
  "metadata": {
    "colab": {
      "name": "CIFAR10_Architecture_v2_Data_Aug_Test.ipynb",
      "version": "0.3.2",
      "provenance": [],
      "include_colab_link": true
    },
    "kernelspec": {
      "name": "python3",
      "display_name": "Python 3"
    },
    "accelerator": "GPU"
  },
  "cells": [
    {
      "cell_type": "markdown",
      "metadata": {
        "id": "view-in-github",
        "colab_type": "text"
      },
      "source": [
        "<a href=\"https://colab.research.google.com/github/AnitaKirkovska/Machine_Learning_Class/blob/master/HW2/My_Solutions/CIFAR10_Architecture_v2_Data_Aug_Test.ipynb\" target=\"_parent\"><img src=\"https://colab.research.google.com/assets/colab-badge.svg\" alt=\"Open In Colab\"/></a>"
      ]
    },
    {
      "metadata": {
        "id": "T_XgBXo_2qCH",
        "colab_type": "text"
      },
      "cell_type": "markdown",
      "source": [
        "# **Simple hold-out validation - Using [Second CNN](https://github.com/AnitaKirkovska/Machine_Learning_Class/blob/master/HW2/My_Solutions/CIFAR10_Architecture_v2_WithoutNormalizations.ipynb) **\n",
        "\n",
        "Using the v2 model with Data Aug and evaluating on the test set\n",
        "\n",
        "\n",
        "\n",
        "\n",
        "```\n",
        "No overfitting. Training set is approaching 1 really slowly, but validation accuracy is higher without, and with 1xDropout, 2xDropout.\n",
        "\n",
        "Accuracy without Dropout = 71.54%\n",
        "Accuracy with Dropout = 75.55%\n",
        "Accuracy with 2 Dropouts = 75.79%\n",
        "Accuracy with Data Aug = 78.84 %\n",
        "```\n",
        "\n"
      ]
    },
    {
      "metadata": {
        "id": "GCowLyKs3AFy",
        "colab_type": "text"
      },
      "cell_type": "markdown",
      "source": [
        "**Loading the CIFAR10 set**"
      ]
    },
    {
      "metadata": {
        "id": "wq2g1ynu2jE5",
        "colab_type": "code",
        "colab": {}
      },
      "cell_type": "code",
      "source": [
        "from keras.datasets import cifar10\n",
        "\n",
        "(train_images, train_labels), (test_images, test_labels) = cifar10.load_data()"
      ],
      "execution_count": 0,
      "outputs": []
    },
    {
      "metadata": {
        "id": "CPd86r-04VKl",
        "colab_type": "text"
      },
      "cell_type": "markdown",
      "source": [
        "**Preparing data**\n",
        "\n",
        "Training/Validation 80%/20%\n"
      ]
    },
    {
      "metadata": {
        "id": "bt8j5iKg3Bcu",
        "colab_type": "code",
        "outputId": "3cd3424c-634e-4403-8373-30d286242dc6",
        "colab": {
          "base_uri": "https://localhost:8080/",
          "height": 51
        }
      },
      "cell_type": "code",
      "source": [
        "import sklearn.model_selection as skl \n",
        "\n",
        "train_images, val_images, train_labels, val_labels = skl.train_test_split(train_images, train_labels, test_size=0.20)\n",
        "\n",
        "print(\"train images\",train_images.shape)\n",
        "print(\"val images\",val_images.shape)"
      ],
      "execution_count": 11,
      "outputs": [
        {
          "output_type": "stream",
          "text": [
            "train images (40000, 32, 32, 3)\n",
            "val images (10000, 32, 32, 3)\n"
          ],
          "name": "stdout"
        }
      ]
    },
    {
      "metadata": {
        "id": "Q5XefuIQ4ZG2",
        "colab_type": "text"
      },
      "cell_type": "markdown",
      "source": [
        "**Preprocess the data**"
      ]
    },
    {
      "metadata": {
        "id": "K_TuMrsP4XaX",
        "colab_type": "code",
        "colab": {}
      },
      "cell_type": "code",
      "source": [
        "from keras.utils import to_categorical\n",
        "\n",
        "train_images = train_images.astype('float32')/255\n",
        "val_images = val_images.astype('float32')/255\n",
        "test_images = test_images.astype('float32')/255\n",
        "\n",
        "train_labels = to_categorical(train_labels)\n",
        "val_labels = to_categorical(val_labels)\n",
        "test_labels = to_categorical(test_labels)"
      ],
      "execution_count": 0,
      "outputs": []
    },
    {
      "metadata": {
        "id": "I8MjUwYQ4dWs",
        "colab_type": "text"
      },
      "cell_type": "markdown",
      "source": [
        "**The Architecture**"
      ]
    },
    {
      "metadata": {
        "id": "eisuLLzE4ayi",
        "colab_type": "code",
        "outputId": "c5fcc095-7a15-4e04-de48-07f4196c2e50",
        "colab": {
          "base_uri": "https://localhost:8080/",
          "height": 408
        }
      },
      "cell_type": "code",
      "source": [
        "from keras import models\n",
        "from keras import layers\n",
        "\n",
        "model = models.Sequential()\n",
        "\n",
        "model.add(layers.Conv2D(64, (3,3), activation='relu', input_shape=(32,32,3)))\n",
        "model.add(layers.MaxPooling2D(2,2))\n",
        "\n",
        "model.add(layers.Conv2D(128, (3,3), activation='relu'))\n",
        "model.add(layers.MaxPooling2D(2,2))\n",
        "\n",
        "model.add(layers.Conv2D(256, (3,3), activation='relu'))\n",
        "model.add(layers.MaxPooling2D(2,2))\n",
        "\n",
        "model.add(layers.Flatten())\n",
        "\n",
        "model.add(layers.Dense(10, activation='softmax'))\n",
        "\n",
        "model.summary()"
      ],
      "execution_count": 13,
      "outputs": [
        {
          "output_type": "stream",
          "text": [
            "_________________________________________________________________\n",
            "Layer (type)                 Output Shape              Param #   \n",
            "=================================================================\n",
            "conv2d_4 (Conv2D)            (None, 30, 30, 64)        1792      \n",
            "_________________________________________________________________\n",
            "max_pooling2d_4 (MaxPooling2 (None, 15, 15, 64)        0         \n",
            "_________________________________________________________________\n",
            "conv2d_5 (Conv2D)            (None, 13, 13, 128)       73856     \n",
            "_________________________________________________________________\n",
            "max_pooling2d_5 (MaxPooling2 (None, 6, 6, 128)         0         \n",
            "_________________________________________________________________\n",
            "conv2d_6 (Conv2D)            (None, 4, 4, 256)         295168    \n",
            "_________________________________________________________________\n",
            "max_pooling2d_6 (MaxPooling2 (None, 2, 2, 256)         0         \n",
            "_________________________________________________________________\n",
            "flatten_2 (Flatten)          (None, 1024)              0         \n",
            "_________________________________________________________________\n",
            "dense_2 (Dense)              (None, 10)                10250     \n",
            "=================================================================\n",
            "Total params: 381,066\n",
            "Trainable params: 381,066\n",
            "Non-trainable params: 0\n",
            "_________________________________________________________________\n"
          ],
          "name": "stdout"
        }
      ]
    },
    {
      "metadata": {
        "id": "gtCrHxLd8lw-",
        "colab_type": "text"
      },
      "cell_type": "markdown",
      "source": [
        "**Data Augmentation**"
      ]
    },
    {
      "metadata": {
        "id": "s1eIaMMc8nQV",
        "colab_type": "code",
        "colab": {}
      },
      "cell_type": "code",
      "source": [
        "from keras.preprocessing.image import ImageDataGenerator\n",
        "\n",
        "datagen = ImageDataGenerator(\n",
        "    rotation_range=3,\n",
        "    width_shift_range=0.2,\n",
        "    height_shift_range=0.2,\n",
        "    horizontal_flip=True,\n",
        "    fill_mode='nearest')\n",
        "\n",
        "datagen.fit(train_images)"
      ],
      "execution_count": 0,
      "outputs": []
    },
    {
      "metadata": {
        "id": "KRuBUB5K5G4q",
        "colab_type": "text"
      },
      "cell_type": "markdown",
      "source": [
        "**Compiling the model**"
      ]
    },
    {
      "metadata": {
        "id": "qKFIWiqv4vv2",
        "colab_type": "code",
        "colab": {}
      },
      "cell_type": "code",
      "source": [
        "import keras\n",
        "opt = keras.optimizers.rmsprop(lr=0.0001, decay=1e-6)\n",
        "\n",
        "model.compile(\n",
        "    loss='categorical_crossentropy',\n",
        "    optimizer=opt,\n",
        "    metrics=['accuracy'])"
      ],
      "execution_count": 0,
      "outputs": []
    },
    {
      "metadata": {
        "id": "30Pq2VmD5KBB",
        "colab_type": "text"
      },
      "cell_type": "markdown",
      "source": [
        "**Training the model**"
      ]
    },
    {
      "metadata": {
        "id": "fiU5-1x25IZ5",
        "colab_type": "code",
        "outputId": "aad5e412-5967-472a-8f77-345fbeef32d3",
        "colab": {
          "base_uri": "https://localhost:8080/",
          "height": 1717
        }
      },
      "cell_type": "code",
      "source": [
        "history = model.fit_generator(datagen.flow(train_images, \n",
        "                                           train_labels, \n",
        "                                           batch_size=32),\n",
        "                                           epochs=50,\n",
        "                                           steps_per_epoch=1250,\n",
        "                                           validation_data=(val_images, val_labels),\n",
        "                                           validation_steps=312)"
      ],
      "execution_count": 16,
      "outputs": [
        {
          "output_type": "stream",
          "text": [
            "Epoch 1/50\n",
            "1250/1250 [==============================] - 29s 23ms/step - loss: 1.9593 - acc: 0.2803 - val_loss: 1.6886 - val_acc: 0.3922\n",
            "Epoch 2/50\n",
            "1250/1250 [==============================] - 29s 23ms/step - loss: 1.7157 - acc: 0.3705 - val_loss: 1.6595 - val_acc: 0.4056\n",
            "Epoch 3/50\n",
            "1250/1250 [==============================] - 30s 24ms/step - loss: 1.6246 - acc: 0.4110 - val_loss: 1.4810 - val_acc: 0.4789\n",
            "Epoch 4/50\n",
            "1250/1250 [==============================] - 30s 24ms/step - loss: 1.5628 - acc: 0.4383 - val_loss: 1.4240 - val_acc: 0.4963\n",
            "Epoch 5/50\n",
            "1250/1250 [==============================] - 29s 23ms/step - loss: 1.5142 - acc: 0.4586 - val_loss: 1.3781 - val_acc: 0.5138\n",
            "Epoch 6/50\n",
            "1250/1250 [==============================] - 29s 23ms/step - loss: 1.4627 - acc: 0.4779 - val_loss: 1.3421 - val_acc: 0.5291\n",
            "Epoch 7/50\n",
            "1250/1250 [==============================] - 29s 23ms/step - loss: 1.4258 - acc: 0.4935 - val_loss: 1.2588 - val_acc: 0.5661\n",
            "Epoch 8/50\n",
            "1250/1250 [==============================] - 29s 23ms/step - loss: 1.3884 - acc: 0.5085 - val_loss: 1.2296 - val_acc: 0.5798\n",
            "Epoch 9/50\n",
            "1250/1250 [==============================] - 29s 23ms/step - loss: 1.3567 - acc: 0.5248 - val_loss: 1.2627 - val_acc: 0.5618\n",
            "Epoch 10/50\n",
            "1250/1250 [==============================] - 29s 23ms/step - loss: 1.3286 - acc: 0.5311 - val_loss: 1.1898 - val_acc: 0.5879\n",
            "Epoch 11/50\n",
            "1250/1250 [==============================] - 29s 23ms/step - loss: 1.3079 - acc: 0.5390 - val_loss: 1.2334 - val_acc: 0.5663\n",
            "Epoch 12/50\n",
            "1250/1250 [==============================] - 29s 23ms/step - loss: 1.2826 - acc: 0.5498 - val_loss: 1.1532 - val_acc: 0.6038\n",
            "Epoch 13/50\n",
            "1250/1250 [==============================] - 29s 23ms/step - loss: 1.2603 - acc: 0.5570 - val_loss: 1.1223 - val_acc: 0.6097\n",
            "Epoch 14/50\n",
            "1250/1250 [==============================] - 31s 25ms/step - loss: 1.2479 - acc: 0.5612 - val_loss: 1.1614 - val_acc: 0.5952\n",
            "Epoch 15/50\n",
            "1250/1250 [==============================] - 29s 23ms/step - loss: 1.2260 - acc: 0.5739 - val_loss: 1.1338 - val_acc: 0.6183\n",
            "Epoch 16/50\n",
            "1250/1250 [==============================] - 29s 24ms/step - loss: 1.2097 - acc: 0.5765 - val_loss: 1.1535 - val_acc: 0.6100\n",
            "Epoch 17/50\n",
            "1250/1250 [==============================] - 29s 23ms/step - loss: 1.1924 - acc: 0.5801 - val_loss: 1.1097 - val_acc: 0.6277\n",
            "Epoch 18/50\n",
            "1250/1250 [==============================] - 29s 23ms/step - loss: 1.1766 - acc: 0.5858 - val_loss: 1.0716 - val_acc: 0.6291\n",
            "Epoch 19/50\n",
            "1250/1250 [==============================] - 29s 23ms/step - loss: 1.1649 - acc: 0.5930 - val_loss: 1.0663 - val_acc: 0.6282\n",
            "Epoch 20/50\n",
            "1250/1250 [==============================] - 29s 23ms/step - loss: 1.1503 - acc: 0.5974 - val_loss: 1.0311 - val_acc: 0.6410\n",
            "Epoch 21/50\n",
            "1250/1250 [==============================] - 29s 23ms/step - loss: 1.1412 - acc: 0.6032 - val_loss: 1.0486 - val_acc: 0.6367\n",
            "Epoch 22/50\n",
            "1250/1250 [==============================] - 29s 23ms/step - loss: 1.1245 - acc: 0.6110 - val_loss: 1.0592 - val_acc: 0.6370\n",
            "Epoch 23/50\n",
            "1250/1250 [==============================] - 29s 23ms/step - loss: 1.1119 - acc: 0.6175 - val_loss: 1.0290 - val_acc: 0.6472\n",
            "Epoch 24/50\n",
            "1250/1250 [==============================] - 30s 24ms/step - loss: 1.1061 - acc: 0.6165 - val_loss: 1.0456 - val_acc: 0.6410\n",
            "Epoch 25/50\n",
            "1250/1250 [==============================] - 30s 24ms/step - loss: 1.0942 - acc: 0.6197 - val_loss: 1.0429 - val_acc: 0.6506\n",
            "Epoch 26/50\n",
            "1250/1250 [==============================] - 30s 24ms/step - loss: 1.0796 - acc: 0.6240 - val_loss: 0.9484 - val_acc: 0.6720\n",
            "Epoch 27/50\n",
            "1250/1250 [==============================] - 30s 24ms/step - loss: 1.0674 - acc: 0.6296 - val_loss: 0.9865 - val_acc: 0.6626\n",
            "Epoch 28/50\n",
            "1250/1250 [==============================] - 29s 23ms/step - loss: 1.0584 - acc: 0.6344 - val_loss: 0.9501 - val_acc: 0.6739\n",
            "Epoch 29/50\n",
            "1250/1250 [==============================] - 29s 23ms/step - loss: 1.0442 - acc: 0.6406 - val_loss: 0.9526 - val_acc: 0.6758\n",
            "Epoch 30/50\n",
            "1250/1250 [==============================] - 29s 23ms/step - loss: 1.0398 - acc: 0.6409 - val_loss: 0.9064 - val_acc: 0.6910\n",
            "Epoch 31/50\n",
            "1250/1250 [==============================] - 29s 23ms/step - loss: 1.0317 - acc: 0.6423 - val_loss: 0.9270 - val_acc: 0.6769\n",
            "Epoch 32/50\n",
            "1250/1250 [==============================] - 29s 23ms/step - loss: 1.0207 - acc: 0.6462 - val_loss: 0.9433 - val_acc: 0.6748\n",
            "Epoch 33/50\n",
            "1250/1250 [==============================] - 29s 23ms/step - loss: 1.0089 - acc: 0.6512 - val_loss: 0.9174 - val_acc: 0.6840\n",
            "Epoch 34/50\n",
            "1250/1250 [==============================] - 28s 22ms/step - loss: 1.0047 - acc: 0.6528 - val_loss: 0.8986 - val_acc: 0.6898\n",
            "Epoch 35/50\n",
            "1250/1250 [==============================] - 29s 23ms/step - loss: 0.9935 - acc: 0.6556 - val_loss: 0.9307 - val_acc: 0.6856\n",
            "Epoch 36/50\n",
            "1250/1250 [==============================] - 28s 22ms/step - loss: 0.9895 - acc: 0.6575 - val_loss: 0.9413 - val_acc: 0.6779\n",
            "Epoch 37/50\n",
            "1250/1250 [==============================] - 27s 21ms/step - loss: 0.9767 - acc: 0.6601 - val_loss: 0.8629 - val_acc: 0.7031\n",
            "Epoch 38/50\n",
            "1250/1250 [==============================] - 26s 21ms/step - loss: 0.9714 - acc: 0.6652 - val_loss: 0.9030 - val_acc: 0.6916\n",
            "Epoch 39/50\n",
            "1250/1250 [==============================] - 26s 21ms/step - loss: 0.9643 - acc: 0.6654 - val_loss: 0.8692 - val_acc: 0.7083\n",
            "Epoch 40/50\n",
            "1250/1250 [==============================] - 27s 21ms/step - loss: 0.9565 - acc: 0.6702 - val_loss: 0.8897 - val_acc: 0.7007\n",
            "Epoch 41/50\n",
            "1250/1250 [==============================] - 26s 21ms/step - loss: 0.9523 - acc: 0.6715 - val_loss: 0.8315 - val_acc: 0.7172\n",
            "Epoch 42/50\n",
            "1250/1250 [==============================] - 27s 21ms/step - loss: 0.9413 - acc: 0.6752 - val_loss: 0.8386 - val_acc: 0.7156\n",
            "Epoch 43/50\n",
            "1250/1250 [==============================] - 29s 23ms/step - loss: 0.9321 - acc: 0.6760 - val_loss: 0.8173 - val_acc: 0.7249\n",
            "Epoch 44/50\n",
            "1250/1250 [==============================] - 29s 23ms/step - loss: 0.9250 - acc: 0.6805 - val_loss: 0.8570 - val_acc: 0.7182\n",
            "Epoch 45/50\n",
            "1250/1250 [==============================] - 27s 21ms/step - loss: 0.9208 - acc: 0.6825 - val_loss: 0.8090 - val_acc: 0.7275\n",
            "Epoch 46/50\n",
            "1250/1250 [==============================] - 28s 22ms/step - loss: 0.9212 - acc: 0.6845 - val_loss: 0.8861 - val_acc: 0.6962\n",
            "Epoch 47/50\n",
            "1250/1250 [==============================] - 28s 22ms/step - loss: 0.9101 - acc: 0.6870 - val_loss: 0.8765 - val_acc: 0.7066\n",
            "Epoch 48/50\n",
            "1250/1250 [==============================] - 26s 21ms/step - loss: 0.9055 - acc: 0.6886 - val_loss: 0.8712 - val_acc: 0.7051\n",
            "Epoch 49/50\n",
            "1250/1250 [==============================] - 26s 21ms/step - loss: 0.8985 - acc: 0.6894 - val_loss: 0.7977 - val_acc: 0.7288\n",
            "Epoch 50/50\n",
            "1250/1250 [==============================] - 26s 21ms/step - loss: 0.8948 - acc: 0.6940 - val_loss: 0.8026 - val_acc: 0.7339\n"
          ],
          "name": "stdout"
        }
      ]
    },
    {
      "metadata": {
        "id": "ELk1rvFQQxuX",
        "colab_type": "text"
      },
      "cell_type": "markdown",
      "source": [
        "**Plotting the model**"
      ]
    },
    {
      "metadata": {
        "id": "aOZo7EtE5MtI",
        "colab_type": "code",
        "outputId": "5515a9ee-5fa0-4c2e-d9da-787b29aab515",
        "colab": {
          "base_uri": "https://localhost:8080/",
          "height": 707
        }
      },
      "cell_type": "code",
      "source": [
        "\n",
        "import matplotlib.pyplot as plt\n",
        "\n",
        "acc = history.history['acc']\n",
        "val_acc = history.history['val_acc']\n",
        "loss = history.history['loss']\n",
        "val_loss = history.history['val_loss']\n",
        "\n",
        "epochs = range(1, len(acc) + 1)\n",
        "\n",
        "\n",
        "plt.plot(epochs, acc, 'bo', \n",
        "         label='training acc')\n",
        "plt.plot(epochs, val_acc, 'r', label='validation acc')\n",
        "plt.title('training and validation accuracy')\n",
        "plt.legend()\n",
        "\n",
        "plt.figure()\n",
        "\n",
        "plt.plot(epochs, loss, 'bo', label='training loss')\n",
        "plt.plot(epochs, val_loss, 'r', label='validation loss')\n",
        "plt.title('training and validation loss')\n",
        "\n",
        "plt.legend()\n",
        "\n",
        "plt.show()"
      ],
      "execution_count": 17,
      "outputs": [
        {
          "output_type": "display_data",
          "data": {
            "image/png": "[encoded data removed]",
            "text/plain": [
              "<Figure size 576x396 with 1 Axes>"
            ]
          },
          "metadata": {
            "tags": []
          }
        },
        {
          "output_type": "display_data",
          "data": {
            "image/png": "[encoded data removed]",
            "text/plain": [
              "<Figure size 576x396 with 1 Axes>"
            ]
          },
          "metadata": {
            "tags": []
          }
        }
      ]
    },
    {
      "metadata": {
        "id": "77RCTywFQ1NK",
        "colab_type": "text"
      },
      "cell_type": "markdown",
      "source": [
        "**Evaluate the model with validation set**"
      ]
    },
    {
      "metadata": {
        "id": "6_GUAMgkQ3Vv",
        "colab_type": "code",
        "outputId": "1cd4f8a9-952d-4dc2-faa0-0394c19bf51f",
        "colab": {
          "base_uri": "https://localhost:8080/",
          "height": 51
        }
      },
      "cell_type": "code",
      "source": [
        "\n",
        "score = model.evaluate(test_images, test_labels, verbose=0)\n",
        "print('Test loss:', score[0])\n",
        "print('Test accuracy:', score[1]*100,\"%\")"
      ],
      "execution_count": 22,
      "outputs": [
        {
          "output_type": "stream",
          "text": [
            "Test loss: 0.7959888329505921\n",
            "Test accuracy: 73.06 %\n"
          ],
          "name": "stdout"
        }
      ]
    },
    {
      "metadata": {
        "id": "kPLryLxgShjM",
        "colab_type": "code",
        "colab": {}
      },
      "cell_type": "code",
      "source": [
        ""
      ],
      "execution_count": 0,
      "outputs": []
    }
  ]
}