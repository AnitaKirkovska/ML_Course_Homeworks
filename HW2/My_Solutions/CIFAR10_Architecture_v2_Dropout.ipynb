{
  "nbformat": 4,
  "nbformat_minor": 0,
  "metadata": {
    "colab": {
      "name": "CIFAR10_Architecture_v2-Dropout.ipynb",
      "version": "0.3.2",
      "provenance": [],
      "include_colab_link": true
    },
    "kernelspec": {
      "name": "python3",
      "display_name": "Python 3"
    },
    "accelerator": "GPU"
  },
  "cells": [
    {
      "cell_type": "markdown",
      "metadata": {
        "id": "view-in-github",
        "colab_type": "text"
      },
      "source": [
        "<a href=\"https://colab.research.google.com/github/AnitaKirkovska/Machine_Learning_Class/blob/master/HW2/My_Solutions/CIFAR10_Architecture_v2_Dropout.ipynb\" target=\"_parent\"><img src=\"https://colab.research.google.com/assets/colab-badge.svg\" alt=\"Open In Colab\"/></a>"
      ]
    },
    {
      "metadata": {
        "id": "nMpXk5rvqFkN",
        "colab_type": "text"
      },
      "cell_type": "markdown",
      "source": [
        "# **Simple hold-out validation - Using [Second CNN](https://github.com/AnitaKirkovska/Machine_Learning_Class/blob/master/HW2/My_Solutions/CIFAR10_Architecture_v2_WithoutNormalizations.ipynb) **\n",
        "\n",
        "Using the v1 model with Data Aug, Drop out, Normalizaiton techniques. \n",
        "\n",
        "\n",
        "\n",
        "\n",
        "```\n",
        "Overfitting is decreased. Training set is approaching 1 slowly and validation accuracy is higher than without Dropout. \n",
        "\n",
        "Accuracy without Dropout = 71.54%\n",
        "Accuracy with Dropout = 75.55%\n",
        "```\n",
        "\n"
      ]
    },
    {
      "metadata": {
        "id": "s_AhUNzKlvfc",
        "colab_type": "text"
      },
      "cell_type": "markdown",
      "source": [
        "**Loading the CIFAR10 set**"
      ]
    },
    {
      "metadata": {
        "id": "gC6RaFtWlnJ0",
        "colab_type": "code",
        "outputId": "1d3e030e-2c69-4c1c-d92b-ccf8edf6d5ca",
        "colab": {
          "base_uri": "https://localhost:8080/",
          "height": 34
        }
      },
      "cell_type": "code",
      "source": [
        "from keras.datasets import cifar10\n",
        "\n",
        "(train_images, train_labels), (test_images, test_labels) = cifar10.load_data()"
      ],
      "execution_count": 1,
      "outputs": [
        {
          "output_type": "stream",
          "text": [
            "Using TensorFlow backend.\n"
          ],
          "name": "stderr"
        }
      ]
    },
    {
      "metadata": {
        "id": "xzMADY1AsS5D",
        "colab_type": "text"
      },
      "cell_type": "markdown",
      "source": [
        "**Preparing data**\n",
        "\n",
        "Training/Validation 80%/20%\n"
      ]
    },
    {
      "metadata": {
        "id": "dLZZ4weelz6D",
        "colab_type": "code",
        "outputId": "9b4bfd28-fb92-473d-c7a9-e280910c8c28",
        "colab": {
          "base_uri": "https://localhost:8080/",
          "height": 51
        }
      },
      "cell_type": "code",
      "source": [
        "import sklearn.model_selection as skl \n",
        "\n",
        "train_images, val_images, train_labels, val_labels = skl.train_test_split(train_images, train_labels, test_size=0.20)\n",
        "\n",
        "print(\"train images\",train_images.shape)\n",
        "print(\"val images\",val_images.shape)"
      ],
      "execution_count": 2,
      "outputs": [
        {
          "output_type": "stream",
          "text": [
            "train images (40000, 32, 32, 3)\n",
            "val images (10000, 32, 32, 3)\n"
          ],
          "name": "stdout"
        }
      ]
    },
    {
      "metadata": {
        "id": "DcFxp8Evvl1J",
        "colab_type": "text"
      },
      "cell_type": "markdown",
      "source": [
        "**Preprocess the data**"
      ]
    },
    {
      "metadata": {
        "id": "IH8XuNgxuDgG",
        "colab_type": "code",
        "colab": {}
      },
      "cell_type": "code",
      "source": [
        "from keras.utils import to_categorical\n",
        "\n",
        "train_images = train_images.astype('float32')/255\n",
        "val_images = val_images.astype('float32')/255\n",
        "\n",
        "train_labels = to_categorical(train_labels)\n",
        "val_labels = to_categorical(val_labels)"
      ],
      "execution_count": 0,
      "outputs": []
    },
    {
      "metadata": {
        "id": "q0MRhybNwL4M",
        "colab_type": "text"
      },
      "cell_type": "markdown",
      "source": [
        "**The Architecture**"
      ]
    },
    {
      "metadata": {
        "id": "RB_-pHxswHY_",
        "colab_type": "code",
        "outputId": "b4635df4-9acc-4686-99ec-90310bb17e91",
        "colab": {
          "base_uri": "https://localhost:8080/",
          "height": 564
        }
      },
      "cell_type": "code",
      "source": [
        "from keras import models\n",
        "from keras import layers\n",
        "\n",
        "model = models.Sequential()\n",
        "\n",
        "model.add(layers.Conv2D(64, (3,3), activation='relu', input_shape=(32,32,3)))\n",
        "model.add(layers.MaxPooling2D(2,2))\n",
        "\n",
        "model.add(layers.Conv2D(128, (3,3), activation='relu'))\n",
        "model.add(layers.MaxPooling2D(2,2))\n",
        "\n",
        "model.add(layers.Conv2D(256, (3,3), activation='relu'))\n",
        "model.add(layers.MaxPooling2D(2,2))\n",
        "\n",
        "model.add(layers.Flatten())\n",
        "\n",
        "model.add(layers.Dropout(0.5))\n",
        "\n",
        "model.add(layers.Dense(10, activation='softmax'))\n",
        "\n",
        "model.summary()"
      ],
      "execution_count": 4,
      "outputs": [
        {
          "output_type": "stream",
          "text": [
            "WARNING:tensorflow:From /usr/local/lib/python3.6/dist-packages/tensorflow/python/framework/op_def_library.py:263: colocate_with (from tensorflow.python.framework.ops) is deprecated and will be removed in a future version.\n",
            "Instructions for updating:\n",
            "Colocations handled automatically by placer.\n",
            "WARNING:tensorflow:From /usr/local/lib/python3.6/dist-packages/keras/backend/tensorflow_backend.py:3445: calling dropout (from tensorflow.python.ops.nn_ops) with keep_prob is deprecated and will be removed in a future version.\n",
            "Instructions for updating:\n",
            "Please use `rate` instead of `keep_prob`. Rate should be set to `rate = 1 - keep_prob`.\n",
            "_________________________________________________________________\n",
            "Layer (type)                 Output Shape              Param #   \n",
            "=================================================================\n",
            "conv2d_1 (Conv2D)            (None, 30, 30, 64)        1792      \n",
            "_________________________________________________________________\n",
            "max_pooling2d_1 (MaxPooling2 (None, 15, 15, 64)        0         \n",
            "_________________________________________________________________\n",
            "conv2d_2 (Conv2D)            (None, 13, 13, 128)       73856     \n",
            "_________________________________________________________________\n",
            "max_pooling2d_2 (MaxPooling2 (None, 6, 6, 128)         0         \n",
            "_________________________________________________________________\n",
            "conv2d_3 (Conv2D)            (None, 4, 4, 256)         295168    \n",
            "_________________________________________________________________\n",
            "max_pooling2d_3 (MaxPooling2 (None, 2, 2, 256)         0         \n",
            "_________________________________________________________________\n",
            "flatten_1 (Flatten)          (None, 1024)              0         \n",
            "_________________________________________________________________\n",
            "dropout_1 (Dropout)          (None, 1024)              0         \n",
            "_________________________________________________________________\n",
            "dense_1 (Dense)              (None, 10)                10250     \n",
            "=================================================================\n",
            "Total params: 381,066\n",
            "Trainable params: 381,066\n",
            "Non-trainable params: 0\n",
            "_________________________________________________________________\n"
          ],
          "name": "stdout"
        }
      ]
    },
    {
      "metadata": {
        "id": "I09lNpRC0T6N",
        "colab_type": "text"
      },
      "cell_type": "markdown",
      "source": [
        "**Compiling the model**"
      ]
    },
    {
      "metadata": {
        "id": "FAlS6jHsz9wD",
        "colab_type": "code",
        "colab": {}
      },
      "cell_type": "code",
      "source": [
        "import keras\n",
        "opt = keras.optimizers.rmsprop(lr=0.0005, decay=1e-6)\n",
        "\n",
        "model.compile(\n",
        "    loss='categorical_crossentropy',\n",
        "    optimizer=opt,\n",
        "    metrics=['accuracy'])"
      ],
      "execution_count": 0,
      "outputs": []
    },
    {
      "metadata": {
        "id": "vPHqytLh0i1O",
        "colab_type": "text"
      },
      "cell_type": "markdown",
      "source": [
        "**Training the network**"
      ]
    },
    {
      "metadata": {
        "id": "EnJgV0Qs0iRD",
        "colab_type": "code",
        "outputId": "3692fd3c-0652-40cc-a836-5e36b0daf432",
        "colab": {
          "base_uri": "https://localhost:8080/",
          "height": 1805
        }
      },
      "cell_type": "code",
      "source": [
        "history = model.fit(train_images,\n",
        "          train_labels,\n",
        "          batch_size=128,\n",
        "          epochs = 50,\n",
        "          validation_data=(val_images, val_labels))"
      ],
      "execution_count": 6,
      "outputs": [
        {
          "output_type": "stream",
          "text": [
            "WARNING:tensorflow:From /usr/local/lib/python3.6/dist-packages/tensorflow/python/ops/math_ops.py:3066: to_int32 (from tensorflow.python.ops.math_ops) is deprecated and will be removed in a future version.\n",
            "Instructions for updating:\n",
            "Use tf.cast instead.\n",
            "Train on 40000 samples, validate on 10000 samples\n",
            "Epoch 1/50\n",
            "40000/40000 [==============================] - 9s 221us/step - loss: 1.8390 - acc: 0.3287 - val_loss: 1.5336 - val_acc: 0.4669\n",
            "Epoch 2/50\n",
            "40000/40000 [==============================] - 7s 175us/step - loss: 1.5134 - acc: 0.4601 - val_loss: 1.3790 - val_acc: 0.5079\n",
            "Epoch 3/50\n",
            "40000/40000 [==============================] - 7s 174us/step - loss: 1.3660 - acc: 0.5156 - val_loss: 1.3529 - val_acc: 0.5123\n",
            "Epoch 4/50\n",
            "40000/40000 [==============================] - 7s 175us/step - loss: 1.2636 - acc: 0.5588 - val_loss: 1.1882 - val_acc: 0.5845\n",
            "Epoch 5/50\n",
            "40000/40000 [==============================] - 7s 175us/step - loss: 1.1792 - acc: 0.5865 - val_loss: 1.1741 - val_acc: 0.5911\n",
            "Epoch 6/50\n",
            "40000/40000 [==============================] - 7s 175us/step - loss: 1.1172 - acc: 0.6109 - val_loss: 1.0477 - val_acc: 0.6326\n",
            "Epoch 7/50\n",
            "40000/40000 [==============================] - 7s 175us/step - loss: 1.0561 - acc: 0.6334 - val_loss: 1.0928 - val_acc: 0.6245\n",
            "Epoch 8/50\n",
            "40000/40000 [==============================] - 7s 174us/step - loss: 1.0101 - acc: 0.6498 - val_loss: 0.9425 - val_acc: 0.6774\n",
            "Epoch 9/50\n",
            "40000/40000 [==============================] - 7s 175us/step - loss: 0.9658 - acc: 0.6649 - val_loss: 1.0237 - val_acc: 0.6503\n",
            "Epoch 10/50\n",
            "40000/40000 [==============================] - 7s 176us/step - loss: 0.9210 - acc: 0.6809 - val_loss: 0.9625 - val_acc: 0.6665\n",
            "Epoch 11/50\n",
            "40000/40000 [==============================] - 7s 175us/step - loss: 0.8810 - acc: 0.6942 - val_loss: 0.8941 - val_acc: 0.6925\n",
            "Epoch 12/50\n",
            "40000/40000 [==============================] - 7s 175us/step - loss: 0.8543 - acc: 0.7057 - val_loss: 0.8706 - val_acc: 0.7004\n",
            "Epoch 13/50\n",
            "40000/40000 [==============================] - 7s 174us/step - loss: 0.8161 - acc: 0.7170 - val_loss: 0.8730 - val_acc: 0.6990\n",
            "Epoch 14/50\n",
            "40000/40000 [==============================] - 7s 175us/step - loss: 0.7900 - acc: 0.7274 - val_loss: 0.8358 - val_acc: 0.7123\n",
            "Epoch 15/50\n",
            "40000/40000 [==============================] - 7s 175us/step - loss: 0.7617 - acc: 0.7364 - val_loss: 0.8478 - val_acc: 0.7044\n",
            "Epoch 16/50\n",
            "40000/40000 [==============================] - 7s 175us/step - loss: 0.7328 - acc: 0.7455 - val_loss: 0.8481 - val_acc: 0.7122\n",
            "Epoch 17/50\n",
            "40000/40000 [==============================] - 7s 175us/step - loss: 0.7141 - acc: 0.7526 - val_loss: 0.7784 - val_acc: 0.7297\n",
            "Epoch 18/50\n",
            "40000/40000 [==============================] - 7s 175us/step - loss: 0.6878 - acc: 0.7605 - val_loss: 0.7991 - val_acc: 0.7258\n",
            "Epoch 19/50\n",
            "40000/40000 [==============================] - 7s 175us/step - loss: 0.6672 - acc: 0.7670 - val_loss: 0.8035 - val_acc: 0.7301\n",
            "Epoch 20/50\n",
            "40000/40000 [==============================] - 7s 174us/step - loss: 0.6388 - acc: 0.7778 - val_loss: 0.7901 - val_acc: 0.7288\n",
            "Epoch 21/50\n",
            "40000/40000 [==============================] - 7s 175us/step - loss: 0.6212 - acc: 0.7842 - val_loss: 0.7390 - val_acc: 0.7499\n",
            "Epoch 22/50\n",
            "40000/40000 [==============================] - 7s 174us/step - loss: 0.6034 - acc: 0.7904 - val_loss: 0.7173 - val_acc: 0.7585\n",
            "Epoch 23/50\n",
            "40000/40000 [==============================] - 7s 175us/step - loss: 0.5756 - acc: 0.7996 - val_loss: 0.8910 - val_acc: 0.7005\n",
            "Epoch 24/50\n",
            "40000/40000 [==============================] - 7s 175us/step - loss: 0.5651 - acc: 0.8009 - val_loss: 0.7463 - val_acc: 0.7477\n",
            "Epoch 25/50\n",
            "40000/40000 [==============================] - 7s 173us/step - loss: 0.5450 - acc: 0.8106 - val_loss: 0.7835 - val_acc: 0.7335\n",
            "Epoch 26/50\n",
            "40000/40000 [==============================] - 7s 174us/step - loss: 0.5309 - acc: 0.8154 - val_loss: 0.7510 - val_acc: 0.7443\n",
            "Epoch 27/50\n",
            "40000/40000 [==============================] - 7s 175us/step - loss: 0.5132 - acc: 0.8196 - val_loss: 0.7193 - val_acc: 0.7578\n",
            "Epoch 28/50\n",
            "40000/40000 [==============================] - 7s 175us/step - loss: 0.4933 - acc: 0.8270 - val_loss: 0.7660 - val_acc: 0.7469\n",
            "Epoch 29/50\n",
            "40000/40000 [==============================] - 7s 175us/step - loss: 0.4790 - acc: 0.8339 - val_loss: 0.7038 - val_acc: 0.7656\n",
            "Epoch 30/50\n",
            "40000/40000 [==============================] - 7s 174us/step - loss: 0.4651 - acc: 0.8384 - val_loss: 0.8566 - val_acc: 0.7215\n",
            "Epoch 31/50\n",
            "40000/40000 [==============================] - 7s 174us/step - loss: 0.4532 - acc: 0.8414 - val_loss: 0.7363 - val_acc: 0.7629\n",
            "Epoch 32/50\n",
            "40000/40000 [==============================] - 7s 174us/step - loss: 0.4423 - acc: 0.8477 - val_loss: 0.7371 - val_acc: 0.7628\n",
            "Epoch 33/50\n",
            "40000/40000 [==============================] - 7s 175us/step - loss: 0.4254 - acc: 0.8515 - val_loss: 0.7248 - val_acc: 0.7685\n",
            "Epoch 34/50\n",
            "40000/40000 [==============================] - 7s 176us/step - loss: 0.4119 - acc: 0.8570 - val_loss: 0.7677 - val_acc: 0.7591\n",
            "Epoch 35/50\n",
            "40000/40000 [==============================] - 7s 174us/step - loss: 0.3955 - acc: 0.8603 - val_loss: 0.7278 - val_acc: 0.7643\n",
            "Epoch 36/50\n",
            "40000/40000 [==============================] - 7s 175us/step - loss: 0.3866 - acc: 0.8636 - val_loss: 0.7138 - val_acc: 0.7726\n",
            "Epoch 37/50\n",
            "40000/40000 [==============================] - 7s 175us/step - loss: 0.3750 - acc: 0.8652 - val_loss: 0.7034 - val_acc: 0.7704\n",
            "Epoch 38/50\n",
            "40000/40000 [==============================] - 7s 175us/step - loss: 0.3644 - acc: 0.8716 - val_loss: 0.7320 - val_acc: 0.7688\n",
            "Epoch 39/50\n",
            "40000/40000 [==============================] - 7s 174us/step - loss: 0.3531 - acc: 0.8742 - val_loss: 0.7242 - val_acc: 0.7745\n",
            "Epoch 40/50\n",
            "40000/40000 [==============================] - 7s 174us/step - loss: 0.3427 - acc: 0.8792 - val_loss: 0.7321 - val_acc: 0.7766\n",
            "Epoch 41/50\n",
            "40000/40000 [==============================] - 7s 174us/step - loss: 0.3323 - acc: 0.8831 - val_loss: 0.7759 - val_acc: 0.7556\n",
            "Epoch 42/50\n",
            "40000/40000 [==============================] - 7s 175us/step - loss: 0.3261 - acc: 0.8845 - val_loss: 0.7839 - val_acc: 0.7658\n",
            "Epoch 43/50\n",
            "40000/40000 [==============================] - 7s 175us/step - loss: 0.3163 - acc: 0.8878 - val_loss: 0.7235 - val_acc: 0.7704\n",
            "Epoch 44/50\n",
            "40000/40000 [==============================] - 7s 175us/step - loss: 0.3082 - acc: 0.8879 - val_loss: 0.7585 - val_acc: 0.7782\n",
            "Epoch 45/50\n",
            "40000/40000 [==============================] - 7s 175us/step - loss: 0.2999 - acc: 0.8945 - val_loss: 0.7301 - val_acc: 0.7808\n",
            "Epoch 46/50\n",
            "40000/40000 [==============================] - 7s 175us/step - loss: 0.2915 - acc: 0.8978 - val_loss: 0.7567 - val_acc: 0.7695\n",
            "Epoch 47/50\n",
            "40000/40000 [==============================] - 7s 175us/step - loss: 0.2844 - acc: 0.8989 - val_loss: 0.7837 - val_acc: 0.7671\n",
            "Epoch 48/50\n",
            "40000/40000 [==============================] - 7s 175us/step - loss: 0.2819 - acc: 0.9015 - val_loss: 0.8094 - val_acc: 0.7708\n",
            "Epoch 49/50\n",
            "40000/40000 [==============================] - 7s 175us/step - loss: 0.2694 - acc: 0.9053 - val_loss: 0.7498 - val_acc: 0.7800\n",
            "Epoch 50/50\n",
            "40000/40000 [==============================] - 7s 175us/step - loss: 0.2639 - acc: 0.9062 - val_loss: 0.8486 - val_acc: 0.7555\n"
          ],
          "name": "stdout"
        }
      ]
    },
    {
      "metadata": {
        "id": "Qj_0Cx1R99HS",
        "colab_type": "text"
      },
      "cell_type": "markdown",
      "source": [
        "**Plotting the model**"
      ]
    },
    {
      "metadata": {
        "id": "mEZBx7pk1NCr",
        "colab_type": "code",
        "cellView": "code",
        "outputId": "95034896-d80f-4ea3-9502-128d690e2404",
        "colab": {
          "base_uri": "https://localhost:8080/",
          "height": 707
        }
      },
      "cell_type": "code",
      "source": [
        "#@title\n",
        "import matplotlib.pyplot as plt\n",
        "\n",
        "acc = history.history['acc']\n",
        "val_acc = history.history['val_acc']\n",
        "loss = history.history['loss']\n",
        "val_loss = history.history['val_loss']\n",
        "\n",
        "epochs = range(1, len(acc) + 1)\n",
        "\n",
        "\n",
        "plt.plot(epochs, acc, 'bo', \n",
        "         label='training acc')\n",
        "plt.plot(epochs, val_acc, 'r', label='validation acc')\n",
        "plt.title('training and validation accuracy')\n",
        "plt.legend()\n",
        "\n",
        "plt.figure()\n",
        "\n",
        "plt.plot(epochs, loss, 'bo', label='training loss')\n",
        "plt.plot(epochs, val_loss, 'r', label='validation loss')\n",
        "plt.title('training and validation loss')\n",
        "\n",
        "plt.legend()\n",
        "\n",
        "plt.show()"
      ],
      "execution_count": 7,
      "outputs": [
        {
          "output_type": "display_data",
          "data": {
            "image/png": "[encoded data removed]",
            "text/plain": [
              "<Figure size 576x396 with 1 Axes>"
            ]
          },
          "metadata": {
            "tags": []
          }
        },
        {
          "output_type": "display_data",
          "data": {
            "image/png": "[encoded data removed]",
            "text/plain": [
              "<Figure size 576x396 with 1 Axes>"
            ]
          },
          "metadata": {
            "tags": []
          }
        }
      ]
    },
    {
      "metadata": {
        "id": "WgnhCQdm_KyJ",
        "colab_type": "text"
      },
      "cell_type": "markdown",
      "source": [
        "**Evaluate the model with validation set**\n",
        "\n"
      ]
    },
    {
      "metadata": {
        "id": "NvqLZ0RY9-66",
        "colab_type": "code",
        "cellView": "code",
        "outputId": "370734a4-750b-465f-d2b7-2b8c3ca38a99",
        "colab": {
          "base_uri": "https://localhost:8080/",
          "height": 51
        }
      },
      "cell_type": "code",
      "source": [
        "\n",
        "score = model.evaluate(val_images, val_labels, verbose=0)\n",
        "print('Validation loss:', score[0])\n",
        "print('Validation accuracy:', score[1]*100,\"%\")"
      ],
      "execution_count": 8,
      "outputs": [
        {
          "output_type": "stream",
          "text": [
            "Validation loss: 0.8485503450870514\n",
            "Validation accuracy: 75.55 %\n"
          ],
          "name": "stdout"
        }
      ]
    },
    {
      "metadata": {
        "id": "ZUk8MGhBC0HR",
        "colab_type": "code",
        "colab": {}
      },
      "cell_type": "code",
      "source": [
        ""
      ],
      "execution_count": 0,
      "outputs": []
    }
  ]
}