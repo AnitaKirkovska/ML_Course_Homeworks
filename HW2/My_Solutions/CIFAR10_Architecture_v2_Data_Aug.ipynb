{
  "nbformat": 4,
  "nbformat_minor": 0,
  "metadata": {
    "colab": {
      "name": "CIFAR10_Architecture_v2_Data_Aug.ipynb",
      "version": "0.3.2",
      "provenance": [],
      "include_colab_link": true
    },
    "kernelspec": {
      "name": "python3",
      "display_name": "Python 3"
    },
    "accelerator": "GPU"
  },
  "cells": [
    {
      "cell_type": "markdown",
      "metadata": {
        "id": "view-in-github",
        "colab_type": "text"
      },
      "source": [
        "<a href=\"https://colab.research.google.com/github/AnitaKirkovska/Machine_Learning_Class/blob/master/HW2/My_Solutions/CIFAR10_Architecture_v2_Data_Aug.ipynb\" target=\"_parent\"><img src=\"https://colab.research.google.com/assets/colab-badge.svg\" alt=\"Open In Colab\"/></a>"
      ]
    },
    {
      "metadata": {
        "id": "T_XgBXo_2qCH",
        "colab_type": "text"
      },
      "cell_type": "markdown",
      "source": [
        "# **Simple hold-out validation - Using [Second CNN](https://github.com/AnitaKirkovska/Machine_Learning_Class/blob/master/HW2/My_Solutions/CIFAR10_Architecture_v2_WithoutNormalizations.ipynb) **\n",
        "\n",
        "Using the v2 model with Data Aug\n",
        "\n",
        "\n",
        "\n",
        "\n",
        "```\n",
        "No overfitting. Training set is approaching 1 really slowly, but validation accuracy is higher without, and with 1xDropout, 2xDropout.\n",
        "\n",
        "Accuracy without Dropout = 71.54%\n",
        "Accuracy with Dropout = 75.55%\n",
        "Accuracy with 2 Dropouts = 75.79%\n",
        "Accuracy with Data Aug = 78.84 %\n",
        "```\n",
        "\n"
      ]
    },
    {
      "metadata": {
        "id": "GCowLyKs3AFy",
        "colab_type": "text"
      },
      "cell_type": "markdown",
      "source": [
        "**Loading the CIFAR10 set**"
      ]
    },
    {
      "metadata": {
        "id": "wq2g1ynu2jE5",
        "colab_type": "code",
        "outputId": "e0809176-d05d-475b-826f-b5398a76bd75",
        "colab": {
          "base_uri": "https://localhost:8080/",
          "height": 34
        }
      },
      "cell_type": "code",
      "source": [
        "from keras.datasets import cifar10\n",
        "\n",
        "(train_images, train_labels), (test_images, test_labels) = cifar10.load_data()"
      ],
      "execution_count": 1,
      "outputs": [
        {
          "output_type": "stream",
          "text": [
            "Using TensorFlow backend.\n"
          ],
          "name": "stderr"
        }
      ]
    },
    {
      "metadata": {
        "id": "CPd86r-04VKl",
        "colab_type": "text"
      },
      "cell_type": "markdown",
      "source": [
        "**Preparing data**\n",
        "\n",
        "Training/Validation 80%/20%\n"
      ]
    },
    {
      "metadata": {
        "id": "bt8j5iKg3Bcu",
        "colab_type": "code",
        "outputId": "0bd04a42-c2b1-48e4-c6f7-f37fbd166897",
        "colab": {
          "base_uri": "https://localhost:8080/",
          "height": 51
        }
      },
      "cell_type": "code",
      "source": [
        "import sklearn.model_selection as skl \n",
        "\n",
        "train_images, val_images, train_labels, val_labels = skl.train_test_split(train_images, train_labels, test_size=0.20)\n",
        "\n",
        "print(\"train images\",train_images.shape)\n",
        "print(\"val images\",val_images.shape)"
      ],
      "execution_count": 2,
      "outputs": [
        {
          "output_type": "stream",
          "text": [
            "train images (40000, 32, 32, 3)\n",
            "val images (10000, 32, 32, 3)\n"
          ],
          "name": "stdout"
        }
      ]
    },
    {
      "metadata": {
        "id": "Q5XefuIQ4ZG2",
        "colab_type": "text"
      },
      "cell_type": "markdown",
      "source": [
        "**Preprocess the data**"
      ]
    },
    {
      "metadata": {
        "id": "K_TuMrsP4XaX",
        "colab_type": "code",
        "colab": {}
      },
      "cell_type": "code",
      "source": [
        "from keras.utils import to_categorical\n",
        "\n",
        "train_images = train_images.astype('float32')/255\n",
        "val_images = val_images.astype('float32')/255\n",
        "\n",
        "train_labels = to_categorical(train_labels)\n",
        "val_labels = to_categorical(val_labels)"
      ],
      "execution_count": 0,
      "outputs": []
    },
    {
      "metadata": {
        "id": "I8MjUwYQ4dWs",
        "colab_type": "text"
      },
      "cell_type": "markdown",
      "source": [
        "**The Architecture**"
      ]
    },
    {
      "metadata": {
        "id": "eisuLLzE4ayi",
        "colab_type": "code",
        "outputId": "9a3ee09c-05d7-4761-a24c-dc746a96aab1",
        "colab": {
          "base_uri": "https://localhost:8080/",
          "height": 479
        }
      },
      "cell_type": "code",
      "source": [
        "from keras import models\n",
        "from keras import layers\n",
        "\n",
        "model = models.Sequential()\n",
        "\n",
        "model.add(layers.Conv2D(64, (3,3), activation='relu', input_shape=(32,32,3)))\n",
        "model.add(layers.MaxPooling2D(2,2))\n",
        "\n",
        "model.add(layers.Conv2D(128, (3,3), activation='relu'))\n",
        "model.add(layers.MaxPooling2D(2,2))\n",
        "\n",
        "model.add(layers.Conv2D(256, (3,3), activation='relu'))\n",
        "model.add(layers.MaxPooling2D(2,2))\n",
        "\n",
        "model.add(layers.Flatten())\n",
        "\n",
        "model.add(layers.Dense(10, activation='softmax'))\n",
        "\n",
        "model.summary()"
      ],
      "execution_count": 4,
      "outputs": [
        {
          "output_type": "stream",
          "text": [
            "WARNING:tensorflow:From /usr/local/lib/python3.6/dist-packages/tensorflow/python/framework/op_def_library.py:263: colocate_with (from tensorflow.python.framework.ops) is deprecated and will be removed in a future version.\n",
            "Instructions for updating:\n",
            "Colocations handled automatically by placer.\n",
            "_________________________________________________________________\n",
            "Layer (type)                 Output Shape              Param #   \n",
            "=================================================================\n",
            "conv2d_1 (Conv2D)            (None, 30, 30, 64)        1792      \n",
            "_________________________________________________________________\n",
            "max_pooling2d_1 (MaxPooling2 (None, 15, 15, 64)        0         \n",
            "_________________________________________________________________\n",
            "conv2d_2 (Conv2D)            (None, 13, 13, 128)       73856     \n",
            "_________________________________________________________________\n",
            "max_pooling2d_2 (MaxPooling2 (None, 6, 6, 128)         0         \n",
            "_________________________________________________________________\n",
            "conv2d_3 (Conv2D)            (None, 4, 4, 256)         295168    \n",
            "_________________________________________________________________\n",
            "max_pooling2d_3 (MaxPooling2 (None, 2, 2, 256)         0         \n",
            "_________________________________________________________________\n",
            "flatten_1 (Flatten)          (None, 1024)              0         \n",
            "_________________________________________________________________\n",
            "dense_1 (Dense)              (None, 10)                10250     \n",
            "=================================================================\n",
            "Total params: 381,066\n",
            "Trainable params: 381,066\n",
            "Non-trainable params: 0\n",
            "_________________________________________________________________\n"
          ],
          "name": "stdout"
        }
      ]
    },
    {
      "metadata": {
        "id": "gtCrHxLd8lw-",
        "colab_type": "text"
      },
      "cell_type": "markdown",
      "source": [
        "**Data Augmentation**"
      ]
    },
    {
      "metadata": {
        "id": "s1eIaMMc8nQV",
        "colab_type": "code",
        "colab": {}
      },
      "cell_type": "code",
      "source": [
        "from keras.preprocessing.image import ImageDataGenerator\n",
        "\n",
        "datagen = ImageDataGenerator(\n",
        "    rotation_range=3,\n",
        "    width_shift_range=0.2,\n",
        "    height_shift_range=0.2,\n",
        "    horizontal_flip=True,\n",
        "    fill_mode='nearest')\n",
        "\n",
        "datagen.fit(train_images)"
      ],
      "execution_count": 0,
      "outputs": []
    },
    {
      "metadata": {
        "id": "KRuBUB5K5G4q",
        "colab_type": "text"
      },
      "cell_type": "markdown",
      "source": [
        "**Compiling the model**"
      ]
    },
    {
      "metadata": {
        "id": "qKFIWiqv4vv2",
        "colab_type": "code",
        "colab": {}
      },
      "cell_type": "code",
      "source": [
        "import keras\n",
        "opt = keras.optimizers.rmsprop(lr=0.0005, decay=1e-6)\n",
        "\n",
        "model.compile(\n",
        "    loss='categorical_crossentropy',\n",
        "    optimizer=opt,\n",
        "    metrics=['accuracy'])"
      ],
      "execution_count": 0,
      "outputs": []
    },
    {
      "metadata": {
        "id": "30Pq2VmD5KBB",
        "colab_type": "text"
      },
      "cell_type": "markdown",
      "source": [
        "**Training the model**"
      ]
    },
    {
      "metadata": {
        "id": "fiU5-1x25IZ5",
        "colab_type": "code",
        "outputId": "4c78b425-7e7b-46b5-c74f-b2ad0e429250",
        "colab": {
          "base_uri": "https://localhost:8080/",
          "height": 1788
        }
      },
      "cell_type": "code",
      "source": [
        "history = model.fit_generator(datagen.flow(train_images, \n",
        "                                           train_labels, \n",
        "                                           batch_size=32),\n",
        "                                           epochs=50,\n",
        "                                           steps_per_epoch=1250,\n",
        "                                           validation_data=(val_images, val_labels),\n",
        "                                           validation_steps=312)"
      ],
      "execution_count": 7,
      "outputs": [
        {
          "output_type": "stream",
          "text": [
            "WARNING:tensorflow:From /usr/local/lib/python3.6/dist-packages/tensorflow/python/ops/math_ops.py:3066: to_int32 (from tensorflow.python.ops.math_ops) is deprecated and will be removed in a future version.\n",
            "Instructions for updating:\n",
            "Use tf.cast instead.\n",
            "Epoch 1/50\n",
            "1250/1250 [==============================] - 33s 27ms/step - loss: 1.7733 - acc: 0.3475 - val_loss: 1.3891 - val_acc: 0.5021\n",
            "Epoch 2/50\n",
            "1250/1250 [==============================] - 32s 25ms/step - loss: 1.4848 - acc: 0.4656 - val_loss: 1.3629 - val_acc: 0.5328\n",
            "Epoch 3/50\n",
            "1250/1250 [==============================] - 32s 26ms/step - loss: 1.3331 - acc: 0.5266 - val_loss: 1.2399 - val_acc: 0.5681\n",
            "Epoch 4/50\n",
            "1250/1250 [==============================] - 32s 26ms/step - loss: 1.2437 - acc: 0.5616 - val_loss: 1.1050 - val_acc: 0.6254\n",
            "Epoch 5/50\n",
            "1250/1250 [==============================] - 32s 25ms/step - loss: 1.1626 - acc: 0.5910 - val_loss: 1.0670 - val_acc: 0.6310\n",
            "Epoch 6/50\n",
            "1250/1250 [==============================] - 32s 25ms/step - loss: 1.1044 - acc: 0.6142 - val_loss: 1.1447 - val_acc: 0.6234\n",
            "Epoch 7/50\n",
            "1250/1250 [==============================] - 32s 25ms/step - loss: 1.0517 - acc: 0.6353 - val_loss: 0.8987 - val_acc: 0.6881\n",
            "Epoch 8/50\n",
            "1250/1250 [==============================] - 32s 26ms/step - loss: 1.0068 - acc: 0.6493 - val_loss: 0.9305 - val_acc: 0.6836\n",
            "Epoch 9/50\n",
            "1250/1250 [==============================] - 32s 26ms/step - loss: 0.9762 - acc: 0.6621 - val_loss: 0.9085 - val_acc: 0.6934\n",
            "Epoch 10/50\n",
            "1250/1250 [==============================] - 32s 26ms/step - loss: 0.9443 - acc: 0.6732 - val_loss: 0.9154 - val_acc: 0.6989\n",
            "Epoch 11/50\n",
            "1250/1250 [==============================] - 32s 26ms/step - loss: 0.9125 - acc: 0.6835 - val_loss: 0.8250 - val_acc: 0.7241\n",
            "Epoch 12/50\n",
            "1250/1250 [==============================] - 32s 26ms/step - loss: 0.8929 - acc: 0.6928 - val_loss: 0.7654 - val_acc: 0.7437\n",
            "Epoch 13/50\n",
            "1250/1250 [==============================] - 32s 25ms/step - loss: 0.8639 - acc: 0.7026 - val_loss: 0.8244 - val_acc: 0.7275\n",
            "Epoch 14/50\n",
            "1250/1250 [==============================] - 32s 25ms/step - loss: 0.8473 - acc: 0.7073 - val_loss: 0.7951 - val_acc: 0.7341\n",
            "Epoch 15/50\n",
            "1250/1250 [==============================] - 32s 25ms/step - loss: 0.8323 - acc: 0.7131 - val_loss: 0.7388 - val_acc: 0.7540\n",
            "Epoch 16/50\n",
            "1250/1250 [==============================] - 32s 25ms/step - loss: 0.8154 - acc: 0.7214 - val_loss: 0.7468 - val_acc: 0.7457\n",
            "Epoch 17/50\n",
            "1250/1250 [==============================] - 32s 25ms/step - loss: 0.7986 - acc: 0.7251 - val_loss: 0.7331 - val_acc: 0.7683\n",
            "Epoch 18/50\n",
            "1250/1250 [==============================] - 32s 25ms/step - loss: 0.7949 - acc: 0.7274 - val_loss: 0.6932 - val_acc: 0.7684\n",
            "Epoch 19/50\n",
            "1250/1250 [==============================] - 35s 28ms/step - loss: 0.7853 - acc: 0.7316 - val_loss: 0.7274 - val_acc: 0.7596\n",
            "Epoch 20/50\n",
            "1250/1250 [==============================] - 31s 25ms/step - loss: 0.7684 - acc: 0.7351 - val_loss: 0.6935 - val_acc: 0.7680\n",
            "Epoch 21/50\n",
            "1250/1250 [==============================] - 31s 25ms/step - loss: 0.7520 - acc: 0.7438 - val_loss: 0.9747 - val_acc: 0.7187\n",
            "Epoch 22/50\n",
            "1250/1250 [==============================] - 31s 25ms/step - loss: 0.7555 - acc: 0.7442 - val_loss: 0.6834 - val_acc: 0.7786\n",
            "Epoch 23/50\n",
            "1250/1250 [==============================] - 31s 25ms/step - loss: 0.7435 - acc: 0.7447 - val_loss: 0.7078 - val_acc: 0.7740\n",
            "Epoch 24/50\n",
            "1250/1250 [==============================] - 32s 25ms/step - loss: 0.7301 - acc: 0.7499 - val_loss: 0.6290 - val_acc: 0.7928\n",
            "Epoch 25/50\n",
            "1250/1250 [==============================] - 32s 25ms/step - loss: 0.7184 - acc: 0.7541 - val_loss: 0.6899 - val_acc: 0.7862\n",
            "Epoch 26/50\n",
            "1250/1250 [==============================] - 31s 25ms/step - loss: 0.7172 - acc: 0.7568 - val_loss: 0.7119 - val_acc: 0.7696\n",
            "Epoch 27/50\n",
            "1250/1250 [==============================] - 31s 25ms/step - loss: 0.7047 - acc: 0.7609 - val_loss: 0.7665 - val_acc: 0.7651\n",
            "Epoch 28/50\n",
            "1250/1250 [==============================] - 31s 25ms/step - loss: 0.7083 - acc: 0.7582 - val_loss: 0.6930 - val_acc: 0.7894\n",
            "Epoch 29/50\n",
            "1250/1250 [==============================] - 31s 25ms/step - loss: 0.6918 - acc: 0.7636 - val_loss: 0.8698 - val_acc: 0.7411\n",
            "Epoch 30/50\n",
            "1250/1250 [==============================] - 31s 25ms/step - loss: 0.6933 - acc: 0.7674 - val_loss: 0.9084 - val_acc: 0.7376\n",
            "Epoch 31/50\n",
            "1250/1250 [==============================] - 31s 25ms/step - loss: 0.6882 - acc: 0.7669 - val_loss: 0.6676 - val_acc: 0.7912\n",
            "Epoch 32/50\n",
            "1250/1250 [==============================] - 32s 26ms/step - loss: 0.6765 - acc: 0.7701 - val_loss: 0.7401 - val_acc: 0.7733\n",
            "Epoch 33/50\n",
            "1250/1250 [==============================] - 32s 26ms/step - loss: 0.6899 - acc: 0.7678 - val_loss: 0.7218 - val_acc: 0.7760\n",
            "Epoch 34/50\n",
            "1250/1250 [==============================] - 32s 25ms/step - loss: 0.6858 - acc: 0.7694 - val_loss: 0.6897 - val_acc: 0.7838\n",
            "Epoch 35/50\n",
            "1250/1250 [==============================] - 32s 25ms/step - loss: 0.6761 - acc: 0.7693 - val_loss: 0.7150 - val_acc: 0.7855\n",
            "Epoch 36/50\n",
            "1250/1250 [==============================] - 31s 25ms/step - loss: 0.6782 - acc: 0.7713 - val_loss: 0.6444 - val_acc: 0.8019\n",
            "Epoch 37/50\n",
            "1250/1250 [==============================] - 32s 25ms/step - loss: 0.6688 - acc: 0.7748 - val_loss: 0.7492 - val_acc: 0.7848\n",
            "Epoch 38/50\n",
            "1250/1250 [==============================] - 31s 25ms/step - loss: 0.6603 - acc: 0.7766 - val_loss: 0.6629 - val_acc: 0.8028\n",
            "Epoch 39/50\n",
            "1250/1250 [==============================] - 35s 28ms/step - loss: 0.6616 - acc: 0.7764 - val_loss: 0.7273 - val_acc: 0.7775\n",
            "Epoch 40/50\n",
            "1250/1250 [==============================] - 32s 25ms/step - loss: 0.6608 - acc: 0.7779 - val_loss: 0.6895 - val_acc: 0.7826\n",
            "Epoch 41/50\n",
            "1250/1250 [==============================] - 32s 26ms/step - loss: 0.6640 - acc: 0.7771 - val_loss: 0.6829 - val_acc: 0.7964\n",
            "Epoch 42/50\n",
            "1250/1250 [==============================] - 32s 25ms/step - loss: 0.6621 - acc: 0.7774 - val_loss: 0.6955 - val_acc: 0.7921\n",
            "Epoch 43/50\n",
            "1250/1250 [==============================] - 32s 26ms/step - loss: 0.6593 - acc: 0.7782 - val_loss: 0.7209 - val_acc: 0.7854\n",
            "Epoch 44/50\n",
            "1250/1250 [==============================] - 32s 25ms/step - loss: 0.6558 - acc: 0.7791 - val_loss: 0.7606 - val_acc: 0.7859\n",
            "Epoch 45/50\n",
            "1250/1250 [==============================] - 32s 25ms/step - loss: 0.6529 - acc: 0.7832 - val_loss: 0.7003 - val_acc: 0.7904\n",
            "Epoch 46/50\n",
            "1250/1250 [==============================] - 32s 25ms/step - loss: 0.6610 - acc: 0.7802 - val_loss: 0.8145 - val_acc: 0.7787\n",
            "Epoch 47/50\n",
            "1250/1250 [==============================] - 32s 25ms/step - loss: 0.6546 - acc: 0.7814 - val_loss: 0.7765 - val_acc: 0.7728\n",
            "Epoch 48/50\n",
            "1250/1250 [==============================] - 32s 25ms/step - loss: 0.6551 - acc: 0.7828 - val_loss: 0.7887 - val_acc: 0.7772\n",
            "Epoch 49/50\n",
            "1250/1250 [==============================] - 32s 26ms/step - loss: 0.6529 - acc: 0.7825 - val_loss: 0.7553 - val_acc: 0.7718\n",
            "Epoch 50/50\n",
            "1250/1250 [==============================] - 32s 26ms/step - loss: 0.6568 - acc: 0.7810 - val_loss: 0.7263 - val_acc: 0.7884\n"
          ],
          "name": "stdout"
        }
      ]
    },
    {
      "metadata": {
        "id": "ELk1rvFQQxuX",
        "colab_type": "text"
      },
      "cell_type": "markdown",
      "source": [
        "**Plotting the model**"
      ]
    },
    {
      "metadata": {
        "id": "aOZo7EtE5MtI",
        "colab_type": "code",
        "outputId": "acb9f720-384f-43c5-afc4-5287cf9980f3",
        "colab": {
          "base_uri": "https://localhost:8080/",
          "height": 707
        }
      },
      "cell_type": "code",
      "source": [
        "\n",
        "import matplotlib.pyplot as plt\n",
        "\n",
        "acc = history.history['acc']\n",
        "val_acc = history.history['val_acc']\n",
        "loss = history.history['loss']\n",
        "val_loss = history.history['val_loss']\n",
        "\n",
        "epochs = range(1, len(acc) + 1)\n",
        "\n",
        "\n",
        "plt.plot(epochs, acc, 'bo', \n",
        "         label='training acc')\n",
        "plt.plot(epochs, val_acc, 'r', label='validation acc')\n",
        "plt.title('training and validation accuracy')\n",
        "plt.legend()\n",
        "\n",
        "plt.figure()\n",
        "\n",
        "plt.plot(epochs, loss, 'bo', label='training loss')\n",
        "plt.plot(epochs, val_loss, 'r', label='validation loss')\n",
        "plt.title('training and validation loss')\n",
        "\n",
        "plt.legend()\n",
        "\n",
        "plt.show()"
      ],
      "execution_count": 8,
      "outputs": [
        {
          "output_type": "display_data",
          "data": {
            "image/png": "[encoded data removed]",
            "text/plain": [
              "<Figure size 576x396 with 1 Axes>"
            ]
          },
          "metadata": {
            "tags": []
          }
        },
        {
          "output_type": "display_data",
          "data": {
            "image/png": "[encoded data removed]",
            "text/plain": [
              "<Figure size 576x396 with 1 Axes>"
            ]
          },
          "metadata": {
            "tags": []
          }
        }
      ]
    },
    {
      "metadata": {
        "id": "77RCTywFQ1NK",
        "colab_type": "text"
      },
      "cell_type": "markdown",
      "source": [
        "**Evaluate the model with validation set**"
      ]
    },
    {
      "metadata": {
        "id": "6_GUAMgkQ3Vv",
        "colab_type": "code",
        "outputId": "937ca9ba-4434-4e70-d7a2-1b2abcc5c197",
        "colab": {
          "base_uri": "https://localhost:8080/",
          "height": 51
        }
      },
      "cell_type": "code",
      "source": [
        "\n",
        "score = model.evaluate(val_images, val_labels, verbose=0)\n",
        "print('Validation loss:', score[0])\n",
        "print('Validation accuracy:', score[1]*100,\"%\")"
      ],
      "execution_count": 9,
      "outputs": [
        {
          "output_type": "stream",
          "text": [
            "Validation loss: 0.7263447140216828\n",
            "Validation accuracy: 78.84 %\n"
          ],
          "name": "stdout"
        }
      ]
    },
    {
      "metadata": {
        "id": "kPLryLxgShjM",
        "colab_type": "code",
        "colab": {}
      },
      "cell_type": "code",
      "source": [
        ""
      ],
      "execution_count": 0,
      "outputs": []
    }
  ]
}