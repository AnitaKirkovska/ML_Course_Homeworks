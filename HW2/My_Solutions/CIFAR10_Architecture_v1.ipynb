{
  "nbformat": 4,
  "nbformat_minor": 0,
  "metadata": {
    "colab": {
      "name": "CIFAR10_Architecture_v1.ipynb",
      "version": "0.3.2",
      "provenance": [],
      "include_colab_link": true
    },
    "kernelspec": {
      "name": "python3",
      "display_name": "Python 3"
    }
  },
  "cells": [
    {
      "cell_type": "markdown",
      "metadata": {
        "id": "view-in-github",
        "colab_type": "text"
      },
      "source": [
        "<a href=\"https://colab.research.google.com/github/AnitaKirkovska/Machine_Learning_Class/blob/master/HW2/My_Solutions/CIFAR10_Architecture_v1.ipynb\" target=\"_parent\"><img src=\"https://colab.research.google.com/assets/colab-badge.svg\" alt=\"Open In Colab\"/></a>"
      ]
    },
    {
      "metadata": {
        "id": "nMpXk5rvqFkN",
        "colab_type": "text"
      },
      "cell_type": "markdown",
      "source": [
        "**First CNN with Dropout**\n",
        "\n",
        "\n",
        "\n",
        "1.   Conv2D + Relu + Maxpool\n",
        "2.   Conv2D + Relu +   Maxpool\n",
        "3.   Conv2D + Relu + Maxpool\n",
        "4.   Dense\n",
        "5.   Dropout(0.5)\n",
        "\n"
      ]
    },
    {
      "metadata": {
        "id": "s_AhUNzKlvfc",
        "colab_type": "text"
      },
      "cell_type": "markdown",
      "source": [
        "**Loading the CIFAR10 set**"
      ]
    },
    {
      "metadata": {
        "id": "gC6RaFtWlnJ0",
        "colab_type": "code",
        "colab": {}
      },
      "cell_type": "code",
      "source": [
        "from keras.datasets import cifar10\n",
        "\n",
        "(train_images, train_labels), (test_images, test_labels) = cifar10.load_data()"
      ],
      "execution_count": 0,
      "outputs": []
    },
    {
      "metadata": {
        "id": "xzMADY1AsS5D",
        "colab_type": "text"
      },
      "cell_type": "markdown",
      "source": [
        "**Preparing data**\n",
        "\n",
        "Training/Validation 80%/20%\n"
      ]
    },
    {
      "metadata": {
        "id": "dLZZ4weelz6D",
        "colab_type": "code",
        "outputId": "b77603a8-f160-49df-d35b-df428656d2b5",
        "colab": {
          "base_uri": "https://localhost:8080/",
          "height": 51
        }
      },
      "cell_type": "code",
      "source": [
        "import sklearn.model_selection as skl \n",
        "\n",
        "train_images, val_images, train_labels, val_labels = skl.train_test_split(train_images, train_labels, test_size=0.20)\n",
        "\n",
        "print(\"train images\",train_images.shape)\n",
        "print(\"val images\",val_images.shape)"
      ],
      "execution_count": 0,
      "outputs": [
        {
          "output_type": "stream",
          "text": [
            "train images (40000, 32, 32, 3)\n",
            "val images (10000, 32, 32, 3)\n"
          ],
          "name": "stdout"
        }
      ]
    },
    {
      "metadata": {
        "id": "DcFxp8Evvl1J",
        "colab_type": "text"
      },
      "cell_type": "markdown",
      "source": [
        "**Preprocess the data**"
      ]
    },
    {
      "metadata": {
        "id": "IH8XuNgxuDgG",
        "colab_type": "code",
        "colab": {}
      },
      "cell_type": "code",
      "source": [
        "from keras.utils import to_categorical\n",
        "\n",
        "train_images = train_images.astype('float32')/255\n",
        "val_images = val_images.astype('float32')/255\n",
        "\n",
        "train_labels = to_categorical(train_labels)\n",
        "val_labels = to_categorical(val_labels)"
      ],
      "execution_count": 0,
      "outputs": []
    },
    {
      "metadata": {
        "id": "q0MRhybNwL4M",
        "colab_type": "text"
      },
      "cell_type": "markdown",
      "source": [
        "**The Architecture**"
      ]
    },
    {
      "metadata": {
        "id": "RB_-pHxswHY_",
        "colab_type": "code",
        "outputId": "3bb1f511-a07c-4bac-df41-7b4ca891af9e",
        "colab": {
          "base_uri": "https://localhost:8080/",
          "height": 476
        }
      },
      "cell_type": "code",
      "source": [
        "from keras import models\n",
        "from keras import layers\n",
        "\n",
        "model = models.Sequential()\n",
        "\n",
        "model.add(layers.Conv2D(32, (3,3), activation='relu', input_shape=(32,32,3)))\n",
        "model.add(layers.MaxPooling2D(2,2))\n",
        "\n",
        "model.add(layers.Conv2D(64, (3,3), activation='relu'))\n",
        "model.add(layers.MaxPooling2D(2,2))\n",
        "\n",
        "model.add(layers.Conv2D(128, (3,3), activation='relu'))\n",
        "model.add(layers.MaxPooling2D(2,2))\n",
        "\n",
        "model.add(layers.Flatten())\n",
        "\n",
        "model.add(layers.Dropout(0.5))\n",
        "\n",
        "model.add(layers.Dense(512, activation='relu'))\n",
        "model.add(layers.Dense(10, activation='softmax'))\n",
        "\n",
        "model.summary()"
      ],
      "execution_count": 0,
      "outputs": [
        {
          "output_type": "stream",
          "text": [
            "_________________________________________________________________\n",
            "Layer (type)                 Output Shape              Param #   \n",
            "=================================================================\n",
            "conv2d_7 (Conv2D)            (None, 30, 30, 32)        896       \n",
            "_________________________________________________________________\n",
            "max_pooling2d_7 (MaxPooling2 (None, 15, 15, 32)        0         \n",
            "_________________________________________________________________\n",
            "conv2d_8 (Conv2D)            (None, 13, 13, 64)        18496     \n",
            "_________________________________________________________________\n",
            "max_pooling2d_8 (MaxPooling2 (None, 6, 6, 64)          0         \n",
            "_________________________________________________________________\n",
            "conv2d_9 (Conv2D)            (None, 4, 4, 128)         73856     \n",
            "_________________________________________________________________\n",
            "max_pooling2d_9 (MaxPooling2 (None, 2, 2, 128)         0         \n",
            "_________________________________________________________________\n",
            "flatten_3 (Flatten)          (None, 512)               0         \n",
            "_________________________________________________________________\n",
            "dropout_3 (Dropout)          (None, 512)               0         \n",
            "_________________________________________________________________\n",
            "dense_5 (Dense)              (None, 512)               262656    \n",
            "_________________________________________________________________\n",
            "dense_6 (Dense)              (None, 10)                5130      \n",
            "=================================================================\n",
            "Total params: 361,034\n",
            "Trainable params: 361,034\n",
            "Non-trainable params: 0\n",
            "_________________________________________________________________\n"
          ],
          "name": "stdout"
        }
      ]
    },
    {
      "metadata": {
        "id": "I09lNpRC0T6N",
        "colab_type": "text"
      },
      "cell_type": "markdown",
      "source": [
        "**Compiling the model**"
      ]
    },
    {
      "metadata": {
        "id": "FAlS6jHsz9wD",
        "colab_type": "code",
        "colab": {}
      },
      "cell_type": "code",
      "source": [
        "model.compile(\n",
        "    loss='categorical_crossentropy',\n",
        "    optimizer='rmsprop',\n",
        "    metrics=['accuracy'])"
      ],
      "execution_count": 0,
      "outputs": []
    },
    {
      "metadata": {
        "id": "vPHqytLh0i1O",
        "colab_type": "text"
      },
      "cell_type": "markdown",
      "source": [
        "**Training the network**"
      ]
    },
    {
      "metadata": {
        "id": "EnJgV0Qs0iRD",
        "colab_type": "code",
        "outputId": "1f2a5cc8-924e-4723-fdf7-5b6e373f56a7",
        "colab": {
          "base_uri": "https://localhost:8080/",
          "height": 374
        }
      },
      "cell_type": "code",
      "source": [
        "history = model.fit(train_images,\n",
        "          train_labels,\n",
        "          batch_size=128,\n",
        "          epochs = 10,\n",
        "          validation_data=(val_images, val_labels))"
      ],
      "execution_count": 0,
      "outputs": [
        {
          "output_type": "stream",
          "text": [
            "Train on 40000 samples, validate on 10000 samples\n",
            "Epoch 1/10\n",
            "40000/40000 [==============================] - 73s 2ms/step - loss: 1.8351 - acc: 0.3333 - val_loss: 1.6175 - val_acc: 0.4149\n",
            "Epoch 2/10\n",
            "40000/40000 [==============================] - 69s 2ms/step - loss: 1.4809 - acc: 0.4722 - val_loss: 1.3159 - val_acc: 0.5262\n",
            "Epoch 3/10\n",
            "40000/40000 [==============================] - 69s 2ms/step - loss: 1.3307 - acc: 0.5258 - val_loss: 1.2994 - val_acc: 0.5465\n",
            "Epoch 4/10\n",
            "40000/40000 [==============================] - 69s 2ms/step - loss: 1.2262 - acc: 0.5669 - val_loss: 1.1431 - val_acc: 0.5996\n",
            "Epoch 5/10\n",
            "40000/40000 [==============================] - 70s 2ms/step - loss: 1.1411 - acc: 0.5959 - val_loss: 1.1137 - val_acc: 0.6110\n",
            "Epoch 6/10\n",
            "40000/40000 [==============================] - 70s 2ms/step - loss: 1.0771 - acc: 0.6213 - val_loss: 1.0352 - val_acc: 0.6263\n",
            "Epoch 7/10\n",
            "40000/40000 [==============================] - 69s 2ms/step - loss: 1.0232 - acc: 0.6390 - val_loss: 0.9445 - val_acc: 0.6696\n",
            "Epoch 8/10\n",
            "40000/40000 [==============================] - 69s 2ms/step - loss: 0.9756 - acc: 0.6595 - val_loss: 0.9653 - val_acc: 0.6585\n",
            "Epoch 9/10\n",
            "40000/40000 [==============================] - 69s 2ms/step - loss: 0.9367 - acc: 0.6707 - val_loss: 1.0941 - val_acc: 0.6172\n",
            "Epoch 10/10\n",
            "40000/40000 [==============================] - 69s 2ms/step - loss: 0.8995 - acc: 0.6838 - val_loss: 1.0337 - val_acc: 0.6365\n"
          ],
          "name": "stdout"
        }
      ]
    },
    {
      "metadata": {
        "id": "Qj_0Cx1R99HS",
        "colab_type": "text"
      },
      "cell_type": "markdown",
      "source": [
        "**Plotting the model**"
      ]
    },
    {
      "metadata": {
        "id": "mEZBx7pk1NCr",
        "colab_type": "code",
        "cellView": "code",
        "outputId": "1c88d6b4-2df7-4073-c367-a276270d6697",
        "colab": {
          "base_uri": "https://localhost:8080/",
          "height": 707
        }
      },
      "cell_type": "code",
      "source": [
        "#@title\n",
        "import matplotlib.pyplot as plt\n",
        "\n",
        "acc = history.history['acc']\n",
        "val_acc = history.history['val_acc']\n",
        "loss = history.history['loss']\n",
        "val_loss = history.history['val_loss']\n",
        "\n",
        "epochs = range(1, len(acc) + 1)\n",
        "\n",
        "\n",
        "plt.plot(epochs, acc, 'bo', \n",
        "         label='training acc')\n",
        "plt.plot(epochs, val_acc, 'r', label='validation acc')\n",
        "plt.title('training and validation accuracy')\n",
        "plt.legend()\n",
        "\n",
        "plt.figure()\n",
        "\n",
        "plt.plot(epochs, loss, 'bo', label='training loss')\n",
        "plt.plot(epochs, val_loss, 'r', label='validation loss')\n",
        "plt.title('training and validation loss')\n",
        "\n",
        "plt.legend()\n",
        "\n",
        "plt.show()"
      ],
      "execution_count": 0,
      "outputs": [
        {
          "output_type": "display_data",
          "data": {
            "image/png": "[encoded data removed]",
            "text/plain": [
              "<Figure size 576x396 with 1 Axes>"
            ]
          },
          "metadata": {
            "tags": []
          }
        },
        {
          "output_type": "display_data",
          "data": {
            "image/png": "[encoded data removed]",
            "text/plain": [
              "<Figure size 576x396 with 1 Axes>"
            ]
          },
          "metadata": {
            "tags": []
          }
        }
      ]
    },
    {
      "metadata": {
        "id": "WgnhCQdm_KyJ",
        "colab_type": "text"
      },
      "cell_type": "markdown",
      "source": [
        "**Evaluate the model with validation set**\n",
        "\n"
      ]
    },
    {
      "metadata": {
        "id": "NvqLZ0RY9-66",
        "colab_type": "code",
        "cellView": "code",
        "outputId": "c908616b-da4b-4c3a-a13a-898fbf337653",
        "colab": {
          "base_uri": "https://localhost:8080/",
          "height": 51
        }
      },
      "cell_type": "code",
      "source": [
        "\n",
        "score = model.evaluate(val_images, val_labels, verbose=0)\n",
        "print('Validation loss:', score[0])\n",
        "print('Validation accuracy:', score[1]*100,\"%\")"
      ],
      "execution_count": 0,
      "outputs": [
        {
          "output_type": "stream",
          "text": [
            "Validation loss: 1.033653085231781\n",
            "Validation accuracy: 63.65 %\n"
          ],
          "name": "stdout"
        }
      ]
    },
    {
      "metadata": {
        "id": "ZUk8MGhBC0HR",
        "colab_type": "code",
        "colab": {}
      },
      "cell_type": "code",
      "source": [
        ""
      ],
      "execution_count": 0,
      "outputs": []
    }
  ]
}