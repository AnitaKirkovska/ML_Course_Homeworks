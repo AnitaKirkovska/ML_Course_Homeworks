{
  "nbformat": 4,
  "nbformat_minor": 0,
  "metadata": {
    "colab": {
      "name": "CIFAR10_Architecture_v2_Data_Aug-100epochs.ipynb",
      "version": "0.3.2",
      "provenance": [],
      "include_colab_link": true
    },
    "kernelspec": {
      "name": "python3",
      "display_name": "Python 3"
    },
    "accelerator": "GPU"
  },
  "cells": [
    {
      "cell_type": "markdown",
      "metadata": {
        "id": "view-in-github",
        "colab_type": "text"
      },
      "source": [
        "<a href=\"https://colab.research.google.com/github/AnitaKirkovska/Machine_Learning_Class/blob/master/HW2/My_Solutions/CIFAR10_Architecture_v2_Data_Aug_100epochs.ipynb\" target=\"_parent\"><img src=\"https://colab.research.google.com/assets/colab-badge.svg\" alt=\"Open In Colab\"/></a>"
      ]
    },
    {
      "metadata": {
        "id": "T_XgBXo_2qCH",
        "colab_type": "text"
      },
      "cell_type": "markdown",
      "source": [
        "# **Simple hold-out validation - Using [Second CNN](https://github.com/AnitaKirkovska/Machine_Learning_Class/blob/master/HW2/My_Solutions/CIFAR10_Architecture_v2_WithoutNormalizations.ipynb) **\n",
        "\n",
        "Using the v2 model with Data Aug on 100 epochs. \n",
        "\n",
        "```\n",
        "No overfitting. Training set is approaching 1 really slowly and never reaches it. Maybe we are stuck in a local minima (lr = 0.0005) or the model is poor, since we have increased loss near the 100 epochs on the training set.\n",
        "\n",
        "Accuracy without Dropout = 71.54%\n",
        "Accuracy with Dropout = 75.55%\n",
        "Accuracy with 2 Dropouts = 75.79%\n",
        "Accuracy with Data Aug = 78.84 %\n",
        "Accuracy with Data Aug(100epochs) = 75.94 %\n",
        "```\n",
        "\n"
      ]
    },
    {
      "metadata": {
        "id": "GCowLyKs3AFy",
        "colab_type": "text"
      },
      "cell_type": "markdown",
      "source": [
        "**Loading the CIFAR10 set**"
      ]
    },
    {
      "metadata": {
        "id": "wq2g1ynu2jE5",
        "colab_type": "code",
        "outputId": "bc804fef-c6b7-4b33-adcb-35dfa1fb3f5b",
        "colab": {
          "base_uri": "https://localhost:8080/",
          "height": 34
        }
      },
      "cell_type": "code",
      "source": [
        "from keras.datasets import cifar10\n",
        "\n",
        "(train_images, train_labels), (test_images, test_labels) = cifar10.load_data()"
      ],
      "execution_count": 1,
      "outputs": [
        {
          "output_type": "stream",
          "text": [
            "Using TensorFlow backend.\n"
          ],
          "name": "stderr"
        }
      ]
    },
    {
      "metadata": {
        "id": "CPd86r-04VKl",
        "colab_type": "text"
      },
      "cell_type": "markdown",
      "source": [
        "**Preparing data**\n",
        "\n",
        "Training/Validation 80%/20%\n"
      ]
    },
    {
      "metadata": {
        "id": "bt8j5iKg3Bcu",
        "colab_type": "code",
        "outputId": "383a987a-7e39-4ac1-ad60-0cdffc0cb276",
        "colab": {
          "base_uri": "https://localhost:8080/",
          "height": 51
        }
      },
      "cell_type": "code",
      "source": [
        "import sklearn.model_selection as skl \n",
        "\n",
        "train_images, val_images, train_labels, val_labels = skl.train_test_split(train_images, train_labels, test_size=0.20)\n",
        "\n",
        "print(\"train images\",train_images.shape)\n",
        "print(\"val images\",val_images.shape)"
      ],
      "execution_count": 2,
      "outputs": [
        {
          "output_type": "stream",
          "text": [
            "train images (40000, 32, 32, 3)\n",
            "val images (10000, 32, 32, 3)\n"
          ],
          "name": "stdout"
        }
      ]
    },
    {
      "metadata": {
        "id": "Q5XefuIQ4ZG2",
        "colab_type": "text"
      },
      "cell_type": "markdown",
      "source": [
        "**Preprocess the data**"
      ]
    },
    {
      "metadata": {
        "id": "K_TuMrsP4XaX",
        "colab_type": "code",
        "colab": {}
      },
      "cell_type": "code",
      "source": [
        "from keras.utils import to_categorical\n",
        "\n",
        "train_images = train_images.astype('float32')/255\n",
        "val_images = val_images.astype('float32')/255\n",
        "\n",
        "train_labels = to_categorical(train_labels)\n",
        "val_labels = to_categorical(val_labels)"
      ],
      "execution_count": 0,
      "outputs": []
    },
    {
      "metadata": {
        "id": "I8MjUwYQ4dWs",
        "colab_type": "text"
      },
      "cell_type": "markdown",
      "source": [
        "**The Architecture**"
      ]
    },
    {
      "metadata": {
        "id": "eisuLLzE4ayi",
        "colab_type": "code",
        "outputId": "5b774a77-ded7-4384-8eda-2a5d67a0e549",
        "colab": {
          "base_uri": "https://localhost:8080/",
          "height": 479
        }
      },
      "cell_type": "code",
      "source": [
        "from keras import models\n",
        "from keras import layers\n",
        "\n",
        "model = models.Sequential()\n",
        "\n",
        "model.add(layers.Conv2D(64, (3,3), activation='relu', input_shape=(32,32,3)))\n",
        "model.add(layers.MaxPooling2D(2,2))\n",
        "\n",
        "model.add(layers.Conv2D(128, (3,3), activation='relu'))\n",
        "model.add(layers.MaxPooling2D(2,2))\n",
        "\n",
        "model.add(layers.Conv2D(256, (3,3), activation='relu'))\n",
        "model.add(layers.MaxPooling2D(2,2))\n",
        "\n",
        "model.add(layers.Flatten())\n",
        "\n",
        "model.add(layers.Dense(10, activation='softmax'))\n",
        "\n",
        "model.summary()"
      ],
      "execution_count": 4,
      "outputs": [
        {
          "output_type": "stream",
          "text": [
            "WARNING:tensorflow:From /usr/local/lib/python3.6/dist-packages/tensorflow/python/framework/op_def_library.py:263: colocate_with (from tensorflow.python.framework.ops) is deprecated and will be removed in a future version.\n",
            "Instructions for updating:\n",
            "Colocations handled automatically by placer.\n",
            "_________________________________________________________________\n",
            "Layer (type)                 Output Shape              Param #   \n",
            "=================================================================\n",
            "conv2d_1 (Conv2D)            (None, 30, 30, 64)        1792      \n",
            "_________________________________________________________________\n",
            "max_pooling2d_1 (MaxPooling2 (None, 15, 15, 64)        0         \n",
            "_________________________________________________________________\n",
            "conv2d_2 (Conv2D)            (None, 13, 13, 128)       73856     \n",
            "_________________________________________________________________\n",
            "max_pooling2d_2 (MaxPooling2 (None, 6, 6, 128)         0         \n",
            "_________________________________________________________________\n",
            "conv2d_3 (Conv2D)            (None, 4, 4, 256)         295168    \n",
            "_________________________________________________________________\n",
            "max_pooling2d_3 (MaxPooling2 (None, 2, 2, 256)         0         \n",
            "_________________________________________________________________\n",
            "flatten_1 (Flatten)          (None, 1024)              0         \n",
            "_________________________________________________________________\n",
            "dense_1 (Dense)              (None, 10)                10250     \n",
            "=================================================================\n",
            "Total params: 381,066\n",
            "Trainable params: 381,066\n",
            "Non-trainable params: 0\n",
            "_________________________________________________________________\n"
          ],
          "name": "stdout"
        }
      ]
    },
    {
      "metadata": {
        "id": "gtCrHxLd8lw-",
        "colab_type": "text"
      },
      "cell_type": "markdown",
      "source": [
        "**Data Augmentation**"
      ]
    },
    {
      "metadata": {
        "id": "s1eIaMMc8nQV",
        "colab_type": "code",
        "colab": {}
      },
      "cell_type": "code",
      "source": [
        "from keras.preprocessing.image import ImageDataGenerator\n",
        "\n",
        "datagen = ImageDataGenerator(\n",
        "    rotation_range=3,\n",
        "    width_shift_range=0.2,\n",
        "    height_shift_range=0.2,\n",
        "    horizontal_flip=True,\n",
        "    fill_mode='nearest')\n",
        "\n",
        "datagen.fit(train_images)"
      ],
      "execution_count": 0,
      "outputs": []
    },
    {
      "metadata": {
        "id": "KRuBUB5K5G4q",
        "colab_type": "text"
      },
      "cell_type": "markdown",
      "source": [
        "**Compiling the model**"
      ]
    },
    {
      "metadata": {
        "id": "qKFIWiqv4vv2",
        "colab_type": "code",
        "colab": {}
      },
      "cell_type": "code",
      "source": [
        "import keras\n",
        "opt = keras.optimizers.rmsprop(lr=0.0005, decay=1e-6)\n",
        "\n",
        "model.compile(\n",
        "    loss='categorical_crossentropy',\n",
        "    optimizer=opt,\n",
        "    metrics=['accuracy'])"
      ],
      "execution_count": 0,
      "outputs": []
    },
    {
      "metadata": {
        "id": "30Pq2VmD5KBB",
        "colab_type": "text"
      },
      "cell_type": "markdown",
      "source": [
        "**Training the model**"
      ]
    },
    {
      "metadata": {
        "id": "fiU5-1x25IZ5",
        "colab_type": "code",
        "outputId": "f25868db-2f5b-4c5c-f597-bb7407d84e01",
        "colab": {
          "base_uri": "https://localhost:8080/",
          "height": 3488
        }
      },
      "cell_type": "code",
      "source": [
        "history = model.fit_generator(datagen.flow(train_images, \n",
        "                                           train_labels, \n",
        "                                           batch_size=32),\n",
        "                                           epochs=100,\n",
        "                                           steps_per_epoch=1250,\n",
        "                                           validation_data=(val_images, val_labels),\n",
        "                                           validation_steps=312)"
      ],
      "execution_count": 7,
      "outputs": [
        {
          "output_type": "stream",
          "text": [
            "WARNING:tensorflow:From /usr/local/lib/python3.6/dist-packages/tensorflow/python/ops/math_ops.py:3066: to_int32 (from tensorflow.python.ops.math_ops) is deprecated and will be removed in a future version.\n",
            "Instructions for updating:\n",
            "Use tf.cast instead.\n",
            "Epoch 1/100\n",
            "1250/1250 [==============================] - 33s 26ms/step - loss: 1.7786 - acc: 0.3461 - val_loss: 1.4994 - val_acc: 0.4659\n",
            "Epoch 2/100\n",
            "1250/1250 [==============================] - 31s 25ms/step - loss: 1.4897 - acc: 0.4632 - val_loss: 1.2521 - val_acc: 0.5696\n",
            "Epoch 3/100\n",
            "1250/1250 [==============================] - 31s 25ms/step - loss: 1.3458 - acc: 0.5212 - val_loss: 1.1256 - val_acc: 0.6017\n",
            "Epoch 4/100\n",
            "1250/1250 [==============================] - 31s 25ms/step - loss: 1.2455 - acc: 0.5599 - val_loss: 1.1857 - val_acc: 0.5979\n",
            "Epoch 5/100\n",
            "1250/1250 [==============================] - 31s 25ms/step - loss: 1.1742 - acc: 0.5879 - val_loss: 1.1156 - val_acc: 0.6216\n",
            "Epoch 6/100\n",
            "1250/1250 [==============================] - 31s 25ms/step - loss: 1.1072 - acc: 0.6106 - val_loss: 0.9570 - val_acc: 0.6716\n",
            "Epoch 7/100\n",
            "1250/1250 [==============================] - 31s 25ms/step - loss: 1.0578 - acc: 0.6299 - val_loss: 0.8547 - val_acc: 0.7068\n",
            "Epoch 8/100\n",
            "1250/1250 [==============================] - 31s 25ms/step - loss: 1.0144 - acc: 0.6461 - val_loss: 0.9270 - val_acc: 0.6841\n",
            "Epoch 9/100\n",
            "1250/1250 [==============================] - 31s 25ms/step - loss: 0.9795 - acc: 0.6623 - val_loss: 0.8211 - val_acc: 0.7229\n",
            "Epoch 10/100\n",
            "1250/1250 [==============================] - 31s 25ms/step - loss: 0.9439 - acc: 0.6739 - val_loss: 0.7768 - val_acc: 0.7327\n",
            "Epoch 11/100\n",
            "1250/1250 [==============================] - 31s 25ms/step - loss: 0.9158 - acc: 0.6841 - val_loss: 0.8789 - val_acc: 0.7109\n",
            "Epoch 12/100\n",
            "1250/1250 [==============================] - 31s 25ms/step - loss: 0.8873 - acc: 0.6936 - val_loss: 0.8617 - val_acc: 0.7101\n",
            "Epoch 13/100\n",
            "1250/1250 [==============================] - 31s 25ms/step - loss: 0.8710 - acc: 0.6997 - val_loss: 0.8101 - val_acc: 0.7342\n",
            "Epoch 14/100\n",
            "1250/1250 [==============================] - 31s 25ms/step - loss: 0.8497 - acc: 0.7074 - val_loss: 0.7286 - val_acc: 0.7526\n",
            "Epoch 15/100\n",
            "1250/1250 [==============================] - 31s 25ms/step - loss: 0.8320 - acc: 0.7138 - val_loss: 0.7094 - val_acc: 0.7634\n",
            "Epoch 16/100\n",
            "1250/1250 [==============================] - 31s 25ms/step - loss: 0.8193 - acc: 0.7182 - val_loss: 0.7839 - val_acc: 0.7500\n",
            "Epoch 17/100\n",
            "1250/1250 [==============================] - 31s 25ms/step - loss: 0.8017 - acc: 0.7258 - val_loss: 0.7109 - val_acc: 0.7662\n",
            "Epoch 18/100\n",
            "1250/1250 [==============================] - 31s 24ms/step - loss: 0.7862 - acc: 0.7293 - val_loss: 0.7153 - val_acc: 0.7611\n",
            "Epoch 19/100\n",
            "1250/1250 [==============================] - 31s 25ms/step - loss: 0.7742 - acc: 0.7338 - val_loss: 0.6861 - val_acc: 0.7721\n",
            "Epoch 20/100\n",
            "1250/1250 [==============================] - 31s 25ms/step - loss: 0.7608 - acc: 0.7422 - val_loss: 0.7148 - val_acc: 0.7659\n",
            "Epoch 21/100\n",
            "1250/1250 [==============================] - 30s 24ms/step - loss: 0.7523 - acc: 0.7426 - val_loss: 0.6751 - val_acc: 0.7763\n",
            "Epoch 22/100\n",
            "1250/1250 [==============================] - 31s 25ms/step - loss: 0.7366 - acc: 0.7466 - val_loss: 0.7575 - val_acc: 0.7637\n",
            "Epoch 23/100\n",
            "1250/1250 [==============================] - 31s 25ms/step - loss: 0.7370 - acc: 0.7494 - val_loss: 0.7127 - val_acc: 0.7702\n",
            "Epoch 24/100\n",
            "1250/1250 [==============================] - 31s 25ms/step - loss: 0.7243 - acc: 0.7519 - val_loss: 0.8286 - val_acc: 0.7520\n",
            "Epoch 25/100\n",
            "1250/1250 [==============================] - 31s 25ms/step - loss: 0.7262 - acc: 0.7518 - val_loss: 0.6715 - val_acc: 0.7853\n",
            "Epoch 26/100\n",
            "1250/1250 [==============================] - 31s 25ms/step - loss: 0.7187 - acc: 0.7557 - val_loss: 0.7126 - val_acc: 0.7704\n",
            "Epoch 27/100\n",
            "1250/1250 [==============================] - 31s 25ms/step - loss: 0.7109 - acc: 0.7582 - val_loss: 0.6837 - val_acc: 0.7820\n",
            "Epoch 28/100\n",
            "1250/1250 [==============================] - 31s 25ms/step - loss: 0.7037 - acc: 0.7607 - val_loss: 0.7377 - val_acc: 0.7779\n",
            "Epoch 29/100\n",
            "1250/1250 [==============================] - 31s 25ms/step - loss: 0.7034 - acc: 0.7606 - val_loss: 0.6640 - val_acc: 0.7927\n",
            "Epoch 30/100\n",
            "1250/1250 [==============================] - 31s 25ms/step - loss: 0.7034 - acc: 0.7606 - val_loss: 0.6646 - val_acc: 0.7900\n",
            "Epoch 31/100\n",
            "1250/1250 [==============================] - 31s 25ms/step - loss: 0.6931 - acc: 0.7654 - val_loss: 0.6295 - val_acc: 0.8053\n",
            "Epoch 32/100\n",
            "1250/1250 [==============================] - 31s 25ms/step - loss: 0.6893 - acc: 0.7670 - val_loss: 0.6172 - val_acc: 0.8063\n",
            "Epoch 33/100\n",
            "1250/1250 [==============================] - 31s 25ms/step - loss: 0.6853 - acc: 0.7707 - val_loss: 0.7216 - val_acc: 0.7790\n",
            "Epoch 34/100\n",
            "1250/1250 [==============================] - 31s 25ms/step - loss: 0.6819 - acc: 0.7701 - val_loss: 0.7060 - val_acc: 0.7846\n",
            "Epoch 35/100\n",
            "1250/1250 [==============================] - 31s 25ms/step - loss: 0.6799 - acc: 0.7721 - val_loss: 0.7192 - val_acc: 0.7795\n",
            "Epoch 36/100\n",
            "1250/1250 [==============================] - 31s 25ms/step - loss: 0.6802 - acc: 0.7703 - val_loss: 0.7789 - val_acc: 0.7584\n",
            "Epoch 37/100\n",
            "1250/1250 [==============================] - 31s 25ms/step - loss: 0.6714 - acc: 0.7743 - val_loss: 0.6668 - val_acc: 0.7907\n",
            "Epoch 38/100\n",
            "1250/1250 [==============================] - 31s 24ms/step - loss: 0.6720 - acc: 0.7733 - val_loss: 0.6697 - val_acc: 0.7904\n",
            "Epoch 39/100\n",
            "1250/1250 [==============================] - 31s 25ms/step - loss: 0.6725 - acc: 0.7736 - val_loss: 0.6362 - val_acc: 0.8084\n",
            "Epoch 40/100\n",
            "1250/1250 [==============================] - 31s 24ms/step - loss: 0.6692 - acc: 0.7759 - val_loss: 0.7176 - val_acc: 0.7763\n",
            "Epoch 41/100\n",
            "1250/1250 [==============================] - 31s 25ms/step - loss: 0.6743 - acc: 0.7750 - val_loss: 0.7279 - val_acc: 0.7809\n",
            "Epoch 42/100\n",
            "1250/1250 [==============================] - 31s 25ms/step - loss: 0.6691 - acc: 0.7762 - val_loss: 0.6679 - val_acc: 0.7931\n",
            "Epoch 43/100\n",
            "1250/1250 [==============================] - 31s 25ms/step - loss: 0.6702 - acc: 0.7757 - val_loss: 0.6897 - val_acc: 0.7903\n",
            "Epoch 44/100\n",
            "1250/1250 [==============================] - 32s 25ms/step - loss: 0.6670 - acc: 0.7763 - val_loss: 0.6543 - val_acc: 0.8007\n",
            "Epoch 45/100\n",
            "1250/1250 [==============================] - 31s 25ms/step - loss: 0.6665 - acc: 0.7776 - val_loss: 0.6512 - val_acc: 0.8016\n",
            "Epoch 46/100\n",
            "1250/1250 [==============================] - 32s 25ms/step - loss: 0.6647 - acc: 0.7773 - val_loss: 0.6476 - val_acc: 0.7983\n",
            "Epoch 47/100\n",
            "1250/1250 [==============================] - 31s 25ms/step - loss: 0.6659 - acc: 0.7775 - val_loss: 0.6090 - val_acc: 0.8034\n",
            "Epoch 48/100\n",
            "1250/1250 [==============================] - 32s 25ms/step - loss: 0.6547 - acc: 0.7817 - val_loss: 0.6579 - val_acc: 0.7961\n",
            "Epoch 49/100\n",
            "1250/1250 [==============================] - 32s 26ms/step - loss: 0.6596 - acc: 0.7799 - val_loss: 0.7212 - val_acc: 0.7928\n",
            "Epoch 50/100\n",
            "1250/1250 [==============================] - 32s 26ms/step - loss: 0.6561 - acc: 0.7814 - val_loss: 0.8451 - val_acc: 0.7769\n",
            "Epoch 51/100\n",
            "1250/1250 [==============================] - 32s 25ms/step - loss: 0.6624 - acc: 0.7810 - val_loss: 0.7432 - val_acc: 0.7797\n",
            "Epoch 52/100\n",
            "1250/1250 [==============================] - 32s 25ms/step - loss: 0.6623 - acc: 0.7805 - val_loss: 0.7593 - val_acc: 0.7818\n",
            "Epoch 53/100\n",
            "1250/1250 [==============================] - 32s 25ms/step - loss: 0.6614 - acc: 0.7798 - val_loss: 0.6799 - val_acc: 0.7933\n",
            "Epoch 54/100\n",
            "1250/1250 [==============================] - 32s 25ms/step - loss: 0.6531 - acc: 0.7812 - val_loss: 0.7502 - val_acc: 0.7846\n",
            "Epoch 55/100\n",
            "1250/1250 [==============================] - 32s 25ms/step - loss: 0.6641 - acc: 0.7799 - val_loss: 0.6986 - val_acc: 0.7915\n",
            "Epoch 56/100\n",
            "1250/1250 [==============================] - 32s 25ms/step - loss: 0.6667 - acc: 0.7791 - val_loss: 0.6280 - val_acc: 0.8076\n",
            "Epoch 57/100\n",
            "1250/1250 [==============================] - 31s 25ms/step - loss: 0.6644 - acc: 0.7802 - val_loss: 0.7450 - val_acc: 0.7850\n",
            "Epoch 58/100\n",
            "1250/1250 [==============================] - 32s 25ms/step - loss: 0.6680 - acc: 0.7802 - val_loss: 0.7607 - val_acc: 0.7911\n",
            "Epoch 59/100\n",
            "1250/1250 [==============================] - 32s 25ms/step - loss: 0.6732 - acc: 0.7774 - val_loss: 0.7556 - val_acc: 0.7697\n",
            "Epoch 60/100\n",
            "1250/1250 [==============================] - 32s 26ms/step - loss: 0.6717 - acc: 0.7797 - val_loss: 0.6215 - val_acc: 0.8076\n",
            "Epoch 61/100\n",
            "1250/1250 [==============================] - 32s 25ms/step - loss: 0.6706 - acc: 0.7759 - val_loss: 0.6949 - val_acc: 0.7953\n",
            "Epoch 62/100\n",
            "1250/1250 [==============================] - 32s 25ms/step - loss: 0.6716 - acc: 0.7786 - val_loss: 0.7644 - val_acc: 0.7865\n",
            "Epoch 63/100\n",
            "1250/1250 [==============================] - 31s 25ms/step - loss: 0.6844 - acc: 0.7759 - val_loss: 0.7990 - val_acc: 0.7745\n",
            "Epoch 64/100\n",
            "1250/1250 [==============================] - 31s 25ms/step - loss: 0.6869 - acc: 0.7767 - val_loss: 0.7710 - val_acc: 0.7813\n",
            "Epoch 65/100\n",
            "1250/1250 [==============================] - 32s 25ms/step - loss: 0.6911 - acc: 0.7744 - val_loss: 0.8086 - val_acc: 0.7733\n",
            "Epoch 66/100\n",
            "1250/1250 [==============================] - 31s 25ms/step - loss: 0.6944 - acc: 0.7741 - val_loss: 0.7574 - val_acc: 0.7842\n",
            "Epoch 67/100\n",
            "1250/1250 [==============================] - 31s 25ms/step - loss: 0.6857 - acc: 0.7748 - val_loss: 0.8771 - val_acc: 0.7678\n",
            "Epoch 68/100\n",
            "1250/1250 [==============================] - 31s 25ms/step - loss: 0.6986 - acc: 0.7714 - val_loss: 0.7608 - val_acc: 0.7869\n",
            "Epoch 69/100\n",
            "1250/1250 [==============================] - 31s 25ms/step - loss: 0.6945 - acc: 0.7718 - val_loss: 0.7962 - val_acc: 0.7863\n",
            "Epoch 70/100\n",
            "1250/1250 [==============================] - 32s 25ms/step - loss: 0.7016 - acc: 0.7722 - val_loss: 0.8755 - val_acc: 0.7537\n",
            "Epoch 71/100\n",
            "1250/1250 [==============================] - 32s 25ms/step - loss: 0.7009 - acc: 0.7726 - val_loss: 0.7892 - val_acc: 0.7832\n",
            "Epoch 72/100\n",
            "1250/1250 [==============================] - 31s 25ms/step - loss: 0.7056 - acc: 0.7693 - val_loss: 0.6482 - val_acc: 0.8007\n",
            "Epoch 73/100\n",
            "1250/1250 [==============================] - 32s 25ms/step - loss: 0.7142 - acc: 0.7687 - val_loss: 0.7859 - val_acc: 0.7764\n",
            "Epoch 74/100\n",
            "1250/1250 [==============================] - 31s 25ms/step - loss: 0.7137 - acc: 0.7689 - val_loss: 0.7220 - val_acc: 0.7917\n",
            "Epoch 75/100\n",
            "1250/1250 [==============================] - 32s 25ms/step - loss: 0.7247 - acc: 0.7653 - val_loss: 0.6927 - val_acc: 0.8013\n",
            "Epoch 76/100\n",
            "1250/1250 [==============================] - 31s 25ms/step - loss: 0.7285 - acc: 0.7647 - val_loss: 0.6917 - val_acc: 0.7979\n",
            "Epoch 77/100\n",
            "1250/1250 [==============================] - 31s 25ms/step - loss: 0.7259 - acc: 0.7656 - val_loss: 0.7568 - val_acc: 0.7876\n",
            "Epoch 78/100\n",
            "1250/1250 [==============================] - 31s 25ms/step - loss: 0.7398 - acc: 0.7628 - val_loss: 0.7362 - val_acc: 0.7870\n",
            "Epoch 79/100\n",
            "1250/1250 [==============================] - 31s 25ms/step - loss: 0.7498 - acc: 0.7588 - val_loss: 0.7936 - val_acc: 0.7849\n",
            "Epoch 80/100\n",
            "1250/1250 [==============================] - 31s 25ms/step - loss: 0.7416 - acc: 0.7622 - val_loss: 0.8669 - val_acc: 0.7606\n",
            "Epoch 81/100\n",
            "1250/1250 [==============================] - 32s 25ms/step - loss: 0.7426 - acc: 0.7589 - val_loss: 0.6946 - val_acc: 0.7970\n",
            "Epoch 82/100\n",
            "1250/1250 [==============================] - 32s 25ms/step - loss: 0.7471 - acc: 0.7607 - val_loss: 0.8356 - val_acc: 0.7631\n",
            "Epoch 83/100\n",
            "1250/1250 [==============================] - 31s 25ms/step - loss: 0.7553 - acc: 0.7578 - val_loss: 0.7689 - val_acc: 0.7945\n",
            "Epoch 84/100\n",
            "1250/1250 [==============================] - 31s 25ms/step - loss: 0.7610 - acc: 0.7575 - val_loss: 0.7706 - val_acc: 0.7822\n",
            "Epoch 85/100\n",
            "1250/1250 [==============================] - 32s 25ms/step - loss: 0.7598 - acc: 0.7553 - val_loss: 0.7988 - val_acc: 0.7880\n",
            "Epoch 86/100\n",
            "1250/1250 [==============================] - 31s 25ms/step - loss: 0.7713 - acc: 0.7515 - val_loss: 0.7463 - val_acc: 0.7776\n",
            "Epoch 87/100\n",
            "1250/1250 [==============================] - 31s 25ms/step - loss: 0.7709 - acc: 0.7515 - val_loss: 0.7520 - val_acc: 0.7891\n",
            "Epoch 88/100\n",
            "1250/1250 [==============================] - 31s 25ms/step - loss: 0.7832 - acc: 0.7495 - val_loss: 0.8533 - val_acc: 0.7690\n",
            "Epoch 89/100\n",
            "1250/1250 [==============================] - 31s 25ms/step - loss: 0.7844 - acc: 0.7483 - val_loss: 0.7634 - val_acc: 0.7927\n",
            "Epoch 90/100\n",
            "1250/1250 [==============================] - 32s 25ms/step - loss: 0.7820 - acc: 0.7509 - val_loss: 0.8786 - val_acc: 0.7586\n",
            "Epoch 91/100\n",
            "1250/1250 [==============================] - 31s 25ms/step - loss: 0.7826 - acc: 0.7504 - val_loss: 0.7450 - val_acc: 0.7888\n",
            "Epoch 92/100\n",
            "1250/1250 [==============================] - 31s 25ms/step - loss: 0.7834 - acc: 0.7463 - val_loss: 0.8721 - val_acc: 0.7644\n",
            "Epoch 93/100\n",
            "1250/1250 [==============================] - 32s 25ms/step - loss: 0.7899 - acc: 0.7487 - val_loss: 0.8102 - val_acc: 0.7770\n",
            "Epoch 94/100\n",
            "1250/1250 [==============================] - 32s 26ms/step - loss: 0.7860 - acc: 0.7490 - val_loss: 0.9485 - val_acc: 0.7526\n",
            "Epoch 95/100\n",
            "1250/1250 [==============================] - 32s 25ms/step - loss: 0.7969 - acc: 0.7450 - val_loss: 0.8774 - val_acc: 0.7730\n",
            "Epoch 96/100\n",
            "1250/1250 [==============================] - 31s 25ms/step - loss: 0.8041 - acc: 0.7442 - val_loss: 0.8495 - val_acc: 0.7656\n",
            "Epoch 97/100\n",
            "1250/1250 [==============================] - 31s 25ms/step - loss: 0.8006 - acc: 0.7446 - val_loss: 0.7540 - val_acc: 0.7748\n",
            "Epoch 98/100\n",
            "1250/1250 [==============================] - 31s 24ms/step - loss: 0.8001 - acc: 0.7435 - val_loss: 1.0297 - val_acc: 0.7489\n",
            "Epoch 99/100\n",
            "1250/1250 [==============================] - 30s 24ms/step - loss: 0.8067 - acc: 0.7415 - val_loss: 0.8026 - val_acc: 0.7947\n",
            "Epoch 100/100\n",
            "1250/1250 [==============================] - 31s 25ms/step - loss: 0.8313 - acc: 0.7363 - val_loss: 0.8919 - val_acc: 0.7594\n"
          ],
          "name": "stdout"
        }
      ]
    },
    {
      "metadata": {
        "id": "ELk1rvFQQxuX",
        "colab_type": "text"
      },
      "cell_type": "markdown",
      "source": [
        "**Plotting the model**"
      ]
    },
    {
      "metadata": {
        "id": "aOZo7EtE5MtI",
        "colab_type": "code",
        "outputId": "b20b412e-212a-4f7c-c670-653ceeb33177",
        "colab": {
          "base_uri": "https://localhost:8080/",
          "height": 707
        }
      },
      "cell_type": "code",
      "source": [
        "\n",
        "import matplotlib.pyplot as plt\n",
        "\n",
        "acc = history.history['acc']\n",
        "val_acc = history.history['val_acc']\n",
        "loss = history.history['loss']\n",
        "val_loss = history.history['val_loss']\n",
        "\n",
        "epochs = range(1, len(acc) + 1)\n",
        "\n",
        "\n",
        "plt.plot(epochs, acc, 'bo', \n",
        "         label='training acc')\n",
        "plt.plot(epochs, val_acc, 'r', label='validation acc')\n",
        "plt.title('training and validation accuracy')\n",
        "plt.legend()\n",
        "\n",
        "plt.figure()\n",
        "\n",
        "plt.plot(epochs, loss, 'bo', label='training loss')\n",
        "plt.plot(epochs, val_loss, 'r', label='validation loss')\n",
        "plt.title('training and validation loss')\n",
        "\n",
        "plt.legend()\n",
        "\n",
        "plt.show()"
      ],
      "execution_count": 8,
      "outputs": [
        {
          "output_type": "display_data",
          "data": {
            "image/png": "[encoded data removed]",
            "text/plain": [
              "<Figure size 576x396 with 1 Axes>"
            ]
          },
          "metadata": {
            "tags": []
          }
        },
        {
          "output_type": "display_data",
          "data": {
            "image/png": "[encoded data removed]",
            "text/plain": [
              "<Figure size 576x396 with 1 Axes>"
            ]
          },
          "metadata": {
            "tags": []
          }
        }
      ]
    },
    {
      "metadata": {
        "id": "77RCTywFQ1NK",
        "colab_type": "text"
      },
      "cell_type": "markdown",
      "source": [
        "**Evaluate the model with validation set**"
      ]
    },
    {
      "metadata": {
        "id": "6_GUAMgkQ3Vv",
        "colab_type": "code",
        "outputId": "979152cb-4081-489d-eba6-3a50a2d3ddcf",
        "colab": {
          "base_uri": "https://localhost:8080/",
          "height": 215
        }
      },
      "cell_type": "code",
      "source": [
        "\n",
        "score = model.evaluate(val_images, val_labels, verbose=0)\n",
        "print('Validation loss:', score[0])\n",
        "print('Validation accuracy:', score[1]*100,\"%\")"
      ],
      "execution_count": 1,
      "outputs": [
        {
          "output_type": "error",
          "ename": "NameError",
          "evalue": "ignored",
          "traceback": [
            "\u001b[0;31m---------------------------------------------------------------------------\u001b[0m",
            "\u001b[0;31mNameError\u001b[0m                                 Traceback (most recent call last)",
            "\u001b[0;32m<ipython-input-1-7ac8c19eeee8>\u001b[0m in \u001b[0;36m<module>\u001b[0;34m()\u001b[0m\n\u001b[1;32m      1\u001b[0m \u001b[0;34m\u001b[0m\u001b[0m\n\u001b[0;32m----> 2\u001b[0;31m \u001b[0mscore\u001b[0m \u001b[0;34m=\u001b[0m \u001b[0mmodel\u001b[0m\u001b[0;34m.\u001b[0m\u001b[0mevaluate\u001b[0m\u001b[0;34m(\u001b[0m\u001b[0mval_images\u001b[0m\u001b[0;34m,\u001b[0m \u001b[0mval_labels\u001b[0m\u001b[0;34m,\u001b[0m \u001b[0mverbose\u001b[0m\u001b[0;34m=\u001b[0m\u001b[0;36m0\u001b[0m\u001b[0;34m)\u001b[0m\u001b[0;34m\u001b[0m\u001b[0;34m\u001b[0m\u001b[0m\n\u001b[0m\u001b[1;32m      3\u001b[0m \u001b[0mprint\u001b[0m\u001b[0;34m(\u001b[0m\u001b[0;34m'Validation loss:'\u001b[0m\u001b[0;34m,\u001b[0m \u001b[0mscore\u001b[0m\u001b[0;34m[\u001b[0m\u001b[0;36m0\u001b[0m\u001b[0;34m]\u001b[0m\u001b[0;34m)\u001b[0m\u001b[0;34m\u001b[0m\u001b[0;34m\u001b[0m\u001b[0m\n\u001b[1;32m      4\u001b[0m \u001b[0mprint\u001b[0m\u001b[0;34m(\u001b[0m\u001b[0;34m'Validation accuracy:'\u001b[0m\u001b[0;34m,\u001b[0m \u001b[0mscore\u001b[0m\u001b[0;34m[\u001b[0m\u001b[0;36m1\u001b[0m\u001b[0;34m]\u001b[0m\u001b[0;34m*\u001b[0m\u001b[0;36m100\u001b[0m\u001b[0;34m,\u001b[0m\u001b[0;34m\"%\"\u001b[0m\u001b[0;34m)\u001b[0m\u001b[0;34m\u001b[0m\u001b[0;34m\u001b[0m\u001b[0m\n",
            "\u001b[0;31mNameError\u001b[0m: name 'model' is not defined"
          ]
        }
      ]
    },
    {
      "metadata": {
        "id": "kPLryLxgShjM",
        "colab_type": "code",
        "colab": {}
      },
      "cell_type": "code",
      "source": [
        ""
      ],
      "execution_count": 0,
      "outputs": []
    }
  ]
}