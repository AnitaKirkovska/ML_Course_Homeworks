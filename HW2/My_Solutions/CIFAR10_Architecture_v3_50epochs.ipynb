{
  "nbformat": 4,
  "nbformat_minor": 0,
  "metadata": {
    "colab": {
      "name": "CIFAR10_Architecture_v3-50epochs.ipynb",
      "version": "0.3.2",
      "provenance": [],
      "include_colab_link": true
    },
    "kernelspec": {
      "name": "python3",
      "display_name": "Python 3"
    },
    "accelerator": "GPU"
  },
  "cells": [
    {
      "cell_type": "markdown",
      "metadata": {
        "id": "view-in-github",
        "colab_type": "text"
      },
      "source": [
        "<a href=\"https://colab.research.google.com/github/AnitaKirkovska/Machine_Learning_Class/blob/master/HW2/My_Solutions/CIFAR10_Architecture_v3_50epochs.ipynb\" target=\"_parent\"><img src=\"https://colab.research.google.com/assets/colab-badge.svg\" alt=\"Open In Colab\"/></a>"
      ]
    },
    {
      "metadata": {
        "id": "7VETWmd-5VY7",
        "colab_type": "text"
      },
      "cell_type": "markdown",
      "source": [
        "**Third CNN with Data Augmentation without Dropout**\n",
        "\n",
        "\n",
        "\n",
        "1.   Conv2D + Relu + Conv2D + Relu + Maxpool\n",
        "2.   Conv2D + Relu + Conv2D + Relu + Maxpool\n",
        "3.   Dense\n",
        "4.   Data augmentation\n",
        "\n"
      ]
    },
    {
      "metadata": {
        "id": "cn6zuQIw7I_l",
        "colab_type": "text"
      },
      "cell_type": "markdown",
      "source": [
        "**Loading the CIFAR10**"
      ]
    },
    {
      "metadata": {
        "id": "FAOilVv55VPX",
        "colab_type": "code",
        "outputId": "1efb096c-1732-4878-ae40-2cfdac43c749",
        "colab": {
          "base_uri": "https://localhost:8080/",
          "height": 68
        }
      },
      "cell_type": "code",
      "source": [
        "from keras.datasets import cifar10\n",
        "\n",
        "(train_images, train_labels), (test_images, test_labels) = cifar10.load_data()"
      ],
      "execution_count": 0,
      "outputs": [
        {
          "output_type": "stream",
          "text": [
            "Using TensorFlow backend.\n"
          ],
          "name": "stderr"
        },
        {
          "output_type": "stream",
          "text": [
            "Downloading data from https://www.cs.toronto.edu/~kriz/cifar-10-python.tar.gz\n",
            "170500096/170498071 [==============================] - 60s 0us/step\n"
          ],
          "name": "stdout"
        }
      ]
    },
    {
      "metadata": {
        "id": "Zrz1IJi47OSk",
        "colab_type": "text"
      },
      "cell_type": "markdown",
      "source": [
        "**Preparing data**\n",
        "\n",
        "Training/Validation 80%/20%\n"
      ]
    },
    {
      "metadata": {
        "id": "We21LQVY5VME",
        "colab_type": "code",
        "outputId": "2330ca97-9928-4d26-cd93-209ffebdca48",
        "colab": {
          "base_uri": "https://localhost:8080/",
          "height": 51
        }
      },
      "cell_type": "code",
      "source": [
        "import sklearn.model_selection as skl \n",
        "\n",
        "train_images, val_images, train_labels, val_labels = skl.train_test_split(train_images, train_labels, test_size=0.20)\n",
        "\n",
        "print(\"train images\",train_images.shape)\n",
        "print(\"val images\",val_images.shape)"
      ],
      "execution_count": 0,
      "outputs": [
        {
          "output_type": "stream",
          "text": [
            "train images (40000, 32, 32, 3)\n",
            "val images (10000, 32, 32, 3)\n"
          ],
          "name": "stdout"
        }
      ]
    },
    {
      "metadata": {
        "id": "8IKNwGKkWMV6",
        "colab_type": "text"
      },
      "cell_type": "markdown",
      "source": [
        "**Preprocessing the data**"
      ]
    },
    {
      "metadata": {
        "id": "e544CDXfWOBT",
        "colab_type": "code",
        "colab": {}
      },
      "cell_type": "code",
      "source": [
        "from keras.utils import to_categorical\n",
        "\n",
        "train_images = train_images.astype('float32')/255\n",
        "val_images = val_images.astype('float32')/255\n",
        "\n",
        "train_labels = to_categorical(train_labels)\n",
        "val_labels = to_categorical(val_labels)"
      ],
      "execution_count": 0,
      "outputs": []
    },
    {
      "metadata": {
        "id": "ZzUZnhb37epl",
        "colab_type": "text"
      },
      "cell_type": "markdown",
      "source": [
        "**The architecture**"
      ]
    },
    {
      "metadata": {
        "id": "QSk_e_dy7c0P",
        "colab_type": "code",
        "outputId": "8c118b64-96c4-45b9-a5a8-f1a4169dca3c",
        "colab": {
          "base_uri": "https://localhost:8080/",
          "height": 513
        }
      },
      "cell_type": "code",
      "source": [
        "from keras import models\n",
        "from keras import layers\n",
        "\n",
        "model = models.Sequential()\n",
        "\n",
        "model.add(layers.Conv2D(32, (3,3), activation='relu', input_shape=(32,32,3)))\n",
        "model.add(layers.Conv2D(64, (3,3), activation='relu'))\n",
        "model.add(layers.MaxPooling2D(2,2))\n",
        "\n",
        "model.add(layers.Conv2D(128, (3,3), activation='relu'))\n",
        "model.add(layers.Conv2D(256, (3,3), activation='relu'))\n",
        "model.add(layers.MaxPooling2D(2,2))\n",
        "\n",
        "model.add(layers.Flatten())\n",
        "\n",
        "model.add(layers.Dense(512, activation='relu'))\n",
        "model.add(layers.Dense(10, activation='softmax'))\n",
        "model.summary()"
      ],
      "execution_count": 0,
      "outputs": [
        {
          "output_type": "stream",
          "text": [
            "WARNING:tensorflow:From /usr/local/lib/python3.6/dist-packages/tensorflow/python/framework/op_def_library.py:263: colocate_with (from tensorflow.python.framework.ops) is deprecated and will be removed in a future version.\n",
            "Instructions for updating:\n",
            "Colocations handled automatically by placer.\n",
            "_________________________________________________________________\n",
            "Layer (type)                 Output Shape              Param #   \n",
            "=================================================================\n",
            "conv2d_1 (Conv2D)            (None, 30, 30, 32)        896       \n",
            "_________________________________________________________________\n",
            "conv2d_2 (Conv2D)            (None, 28, 28, 64)        18496     \n",
            "_________________________________________________________________\n",
            "max_pooling2d_1 (MaxPooling2 (None, 14, 14, 64)        0         \n",
            "_________________________________________________________________\n",
            "conv2d_3 (Conv2D)            (None, 12, 12, 128)       73856     \n",
            "_________________________________________________________________\n",
            "conv2d_4 (Conv2D)            (None, 10, 10, 256)       295168    \n",
            "_________________________________________________________________\n",
            "max_pooling2d_2 (MaxPooling2 (None, 5, 5, 256)         0         \n",
            "_________________________________________________________________\n",
            "flatten_1 (Flatten)          (None, 6400)              0         \n",
            "_________________________________________________________________\n",
            "dense_1 (Dense)              (None, 512)               3277312   \n",
            "_________________________________________________________________\n",
            "dense_2 (Dense)              (None, 10)                5130      \n",
            "=================================================================\n",
            "Total params: 3,670,858\n",
            "Trainable params: 3,670,858\n",
            "Non-trainable params: 0\n",
            "_________________________________________________________________\n"
          ],
          "name": "stdout"
        }
      ]
    },
    {
      "metadata": {
        "id": "EpmpiOSvQA3a",
        "colab_type": "text"
      },
      "cell_type": "markdown",
      "source": [
        "**Compiling the model**"
      ]
    },
    {
      "metadata": {
        "id": "viXoS0-vP96b",
        "colab_type": "code",
        "colab": {}
      },
      "cell_type": "code",
      "source": [
        "model.compile(\n",
        "    loss='categorical_crossentropy',\n",
        "    optimizer='rmsprop',\n",
        "    metrics=['accuracy'])"
      ],
      "execution_count": 0,
      "outputs": []
    },
    {
      "metadata": {
        "id": "lHefkNij7g5l",
        "colab_type": "text"
      },
      "cell_type": "markdown",
      "source": [
        "**Data augmentation with ImageDataGenerator**"
      ]
    },
    {
      "metadata": {
        "id": "Rc4SoWU07joZ",
        "colab_type": "code",
        "colab": {}
      },
      "cell_type": "code",
      "source": [
        "from keras.preprocessing.image import ImageDataGenerator\n",
        "\n",
        "datagen = ImageDataGenerator(\n",
        "    rotation_range=15,\n",
        "    width_shift_range=0.1,\n",
        "    height_shift_range=0.1,\n",
        "    horizontal_flip=True)\n",
        "\n",
        "datagen.fit(train_images)\n"
      ],
      "execution_count": 0,
      "outputs": []
    },
    {
      "metadata": {
        "id": "u4u30O4ITxoI",
        "colab_type": "text"
      },
      "cell_type": "markdown",
      "source": [
        "**Training**"
      ]
    },
    {
      "metadata": {
        "id": "03O93a6g75fx",
        "colab_type": "code",
        "outputId": "8e9323c0-f4d1-4576-ce8d-59b5a8efe3bf",
        "colab": {
          "base_uri": "https://localhost:8080/",
          "height": 1788
        }
      },
      "cell_type": "code",
      "source": [
        "history = model.fit_generator(datagen.flow(train_images, \n",
        "                                           train_labels, \n",
        "                                           batch_size=40),\n",
        "                                           epochs=50,\n",
        "                                           steps_per_epoch=1000,\n",
        "                                           validation_data=(val_images, val_labels),\n",
        "                                           validation_steps=250)"
      ],
      "execution_count": 0,
      "outputs": [
        {
          "output_type": "stream",
          "text": [
            "WARNING:tensorflow:From /usr/local/lib/python3.6/dist-packages/tensorflow/python/ops/math_ops.py:3066: to_int32 (from tensorflow.python.ops.math_ops) is deprecated and will be removed in a future version.\n",
            "Instructions for updating:\n",
            "Use tf.cast instead.\n",
            "Epoch 1/50\n",
            "1000/1000 [==============================] - 37s 37ms/step - loss: 1.6577 - acc: 0.3997 - val_loss: 1.1641 - val_acc: 0.5855\n",
            "Epoch 2/50\n",
            "1000/1000 [==============================] - 33s 33ms/step - loss: 1.1899 - acc: 0.5796 - val_loss: 0.8867 - val_acc: 0.6914\n",
            "Epoch 3/50\n",
            "1000/1000 [==============================] - 32s 32ms/step - loss: 1.0142 - acc: 0.6478 - val_loss: 0.8189 - val_acc: 0.7205\n",
            "Epoch 4/50\n",
            "1000/1000 [==============================] - 33s 33ms/step - loss: 0.9511 - acc: 0.6732 - val_loss: 0.8282 - val_acc: 0.7226\n",
            "Epoch 5/50\n",
            "1000/1000 [==============================] - 32s 32ms/step - loss: 0.9168 - acc: 0.6920 - val_loss: 0.8531 - val_acc: 0.7167\n",
            "Epoch 6/50\n",
            "1000/1000 [==============================] - 32s 32ms/step - loss: 0.9058 - acc: 0.6960 - val_loss: 0.8192 - val_acc: 0.7423\n",
            "Epoch 7/50\n",
            "1000/1000 [==============================] - 33s 33ms/step - loss: 0.9012 - acc: 0.7003 - val_loss: 0.8374 - val_acc: 0.7232\n",
            "Epoch 8/50\n",
            "1000/1000 [==============================] - 32s 32ms/step - loss: 0.8760 - acc: 0.7082 - val_loss: 0.9427 - val_acc: 0.7280\n",
            "Epoch 9/50\n",
            "1000/1000 [==============================] - 32s 32ms/step - loss: 0.8863 - acc: 0.7055 - val_loss: 1.1118 - val_acc: 0.7164\n",
            "Epoch 10/50\n",
            "1000/1000 [==============================] - 33s 33ms/step - loss: 0.8878 - acc: 0.7069 - val_loss: 0.8591 - val_acc: 0.7249\n",
            "Epoch 11/50\n",
            "1000/1000 [==============================] - 32s 32ms/step - loss: 0.8805 - acc: 0.7102 - val_loss: 0.7998 - val_acc: 0.7515\n",
            "Epoch 12/50\n",
            "1000/1000 [==============================] - 33s 33ms/step - loss: 0.8755 - acc: 0.7113 - val_loss: 0.8087 - val_acc: 0.7262\n",
            "Epoch 13/50\n",
            "1000/1000 [==============================] - 32s 32ms/step - loss: 0.8885 - acc: 0.7089 - val_loss: 0.8631 - val_acc: 0.7330\n",
            "Epoch 14/50\n",
            "1000/1000 [==============================] - 32s 32ms/step - loss: 0.8962 - acc: 0.7097 - val_loss: 0.9108 - val_acc: 0.7437\n",
            "Epoch 15/50\n",
            "1000/1000 [==============================] - 33s 33ms/step - loss: 0.8966 - acc: 0.7058 - val_loss: 0.8524 - val_acc: 0.7580\n",
            "Epoch 16/50\n",
            "1000/1000 [==============================] - 32s 32ms/step - loss: 0.9154 - acc: 0.7076 - val_loss: 0.9572 - val_acc: 0.7294\n",
            "Epoch 17/50\n",
            "1000/1000 [==============================] - 32s 32ms/step - loss: 0.9154 - acc: 0.7042 - val_loss: 0.8466 - val_acc: 0.7189\n",
            "Epoch 18/50\n",
            "1000/1000 [==============================] - 33s 33ms/step - loss: 0.9220 - acc: 0.7007 - val_loss: 0.9802 - val_acc: 0.7205\n",
            "Epoch 19/50\n",
            "1000/1000 [==============================] - 32s 32ms/step - loss: 0.9306 - acc: 0.6995 - val_loss: 0.9193 - val_acc: 0.7268\n",
            "Epoch 20/50\n",
            "1000/1000 [==============================] - 33s 33ms/step - loss: 0.9432 - acc: 0.6946 - val_loss: 0.8048 - val_acc: 0.7461\n",
            "Epoch 21/50\n",
            "1000/1000 [==============================] - 33s 33ms/step - loss: 0.9258 - acc: 0.6993 - val_loss: 1.0763 - val_acc: 0.7180\n",
            "Epoch 22/50\n",
            "1000/1000 [==============================] - 32s 32ms/step - loss: 0.9303 - acc: 0.6985 - val_loss: 0.8429 - val_acc: 0.7398\n",
            "Epoch 23/50\n",
            "1000/1000 [==============================] - 33s 33ms/step - loss: 0.9258 - acc: 0.6991 - val_loss: 0.8264 - val_acc: 0.7426\n",
            "Epoch 24/50\n",
            "1000/1000 [==============================] - 32s 32ms/step - loss: 0.9445 - acc: 0.6961 - val_loss: 0.9070 - val_acc: 0.7130\n",
            "Epoch 25/50\n",
            "1000/1000 [==============================] - 32s 32ms/step - loss: 0.9469 - acc: 0.6969 - val_loss: 0.9378 - val_acc: 0.7329\n",
            "Epoch 26/50\n",
            "1000/1000 [==============================] - 33s 33ms/step - loss: 0.9638 - acc: 0.6907 - val_loss: 1.2655 - val_acc: 0.6592\n",
            "Epoch 27/50\n",
            "1000/1000 [==============================] - 32s 32ms/step - loss: 0.9702 - acc: 0.6876 - val_loss: 0.8606 - val_acc: 0.7293\n",
            "Epoch 28/50\n",
            "1000/1000 [==============================] - 32s 32ms/step - loss: 0.9873 - acc: 0.6835 - val_loss: 0.8278 - val_acc: 0.7426\n",
            "Epoch 29/50\n",
            "1000/1000 [==============================] - 33s 33ms/step - loss: 0.9902 - acc: 0.6857 - val_loss: 0.8623 - val_acc: 0.7512\n",
            "Epoch 30/50\n",
            "1000/1000 [==============================] - 32s 32ms/step - loss: 1.0091 - acc: 0.6816 - val_loss: 1.8515 - val_acc: 0.6145\n",
            "Epoch 31/50\n",
            "1000/1000 [==============================] - 33s 33ms/step - loss: 0.9964 - acc: 0.6824 - val_loss: 0.8773 - val_acc: 0.7254\n",
            "Epoch 32/50\n",
            "1000/1000 [==============================] - 32s 32ms/step - loss: 1.0108 - acc: 0.6805 - val_loss: 0.8033 - val_acc: 0.7452\n",
            "Epoch 33/50\n",
            "1000/1000 [==============================] - 32s 32ms/step - loss: 1.0398 - acc: 0.6781 - val_loss: 0.7861 - val_acc: 0.7533\n",
            "Epoch 34/50\n",
            "1000/1000 [==============================] - 33s 33ms/step - loss: 1.0146 - acc: 0.6800 - val_loss: 0.9999 - val_acc: 0.6788\n",
            "Epoch 35/50\n",
            "1000/1000 [==============================] - 32s 32ms/step - loss: 0.9939 - acc: 0.6867 - val_loss: 0.9333 - val_acc: 0.7434\n",
            "Epoch 36/50\n",
            "1000/1000 [==============================] - 32s 32ms/step - loss: 1.0116 - acc: 0.6843 - val_loss: 1.2798 - val_acc: 0.6779\n",
            "Epoch 37/50\n",
            "1000/1000 [==============================] - 33s 33ms/step - loss: 1.0074 - acc: 0.6801 - val_loss: 0.7581 - val_acc: 0.7535\n",
            "Epoch 38/50\n",
            "1000/1000 [==============================] - 32s 32ms/step - loss: 1.0361 - acc: 0.6766 - val_loss: 1.0052 - val_acc: 0.7382\n",
            "Epoch 39/50\n",
            "1000/1000 [==============================] - 32s 32ms/step - loss: 1.0415 - acc: 0.6733 - val_loss: 1.4761 - val_acc: 0.5788\n",
            "Epoch 40/50\n",
            "1000/1000 [==============================] - 33s 33ms/step - loss: 1.0718 - acc: 0.6653 - val_loss: 0.9998 - val_acc: 0.7414\n",
            "Epoch 41/50\n",
            "1000/1000 [==============================] - 32s 32ms/step - loss: 1.0926 - acc: 0.6670 - val_loss: 1.2153 - val_acc: 0.6119\n",
            "Epoch 42/50\n",
            "1000/1000 [==============================] - 32s 32ms/step - loss: 1.0848 - acc: 0.6624 - val_loss: 1.1847 - val_acc: 0.6979\n",
            "Epoch 43/50\n",
            "1000/1000 [==============================] - 33s 33ms/step - loss: 1.1029 - acc: 0.6662 - val_loss: 2.8696 - val_acc: 0.5976\n",
            "Epoch 44/50\n",
            "1000/1000 [==============================] - 32s 32ms/step - loss: 1.1007 - acc: 0.6624 - val_loss: 1.6946 - val_acc: 0.5787\n",
            "Epoch 45/50\n",
            "1000/1000 [==============================] - 32s 32ms/step - loss: 1.1025 - acc: 0.6606 - val_loss: 0.9858 - val_acc: 0.7211\n",
            "Epoch 46/50\n",
            "1000/1000 [==============================] - 33s 33ms/step - loss: 1.1437 - acc: 0.6520 - val_loss: 1.0062 - val_acc: 0.6946\n",
            "Epoch 47/50\n",
            "1000/1000 [==============================] - 32s 32ms/step - loss: 1.1749 - acc: 0.6434 - val_loss: 0.9417 - val_acc: 0.7310\n",
            "Epoch 48/50\n",
            "1000/1000 [==============================] - 33s 33ms/step - loss: 1.1861 - acc: 0.6421 - val_loss: 1.2136 - val_acc: 0.6732\n",
            "Epoch 49/50\n",
            "1000/1000 [==============================] - 32s 32ms/step - loss: 1.1905 - acc: 0.6432 - val_loss: 1.0930 - val_acc: 0.6907\n",
            "Epoch 50/50\n",
            "1000/1000 [==============================] - 32s 32ms/step - loss: 1.1634 - acc: 0.6434 - val_loss: 0.8957 - val_acc: 0.7237\n"
          ],
          "name": "stdout"
        }
      ]
    },
    {
      "metadata": {
        "id": "lUgWzjC7UMmi",
        "colab_type": "text"
      },
      "cell_type": "markdown",
      "source": [
        "**Plotting the data**"
      ]
    },
    {
      "metadata": {
        "id": "HzvycWUMUPh4",
        "colab_type": "code",
        "outputId": "ed443bd3-f701-4c0a-a38d-d5cef9b6276c",
        "colab": {
          "base_uri": "https://localhost:8080/",
          "height": 707
        }
      },
      "cell_type": "code",
      "source": [
        "import matplotlib.pyplot as plt\n",
        "\n",
        "acc = history.history['acc']\n",
        "val_acc = history.history['val_acc']\n",
        "\n",
        "loss = history.history['loss']\n",
        "val_loss = history.history['val_loss']\n",
        "\n",
        "epochs = range(1, len(acc) + 1)\n",
        "\n",
        "# training and validation accuracy\n",
        "\n",
        "plt.plot(epochs, acc, 'bo', label='training acc')\n",
        "plt.plot(epochs, val_acc, 'b', label='validation acc')\n",
        "plt.title('training and validation accuracy')\n",
        "plt.legend()\n",
        "\n",
        "plt.figure()\n",
        "\n",
        "# training and validation loss\n",
        "\n",
        "plt.plot(epochs, loss, 'bo', label='training loss')\n",
        "plt.plot(epochs, val_loss, 'b', label='validation loss')\n",
        "plt.title('training and validation loss')\n",
        "plt.legend()\n",
        "\n",
        "plt.show()"
      ],
      "execution_count": 0,
      "outputs": [
        {
          "output_type": "display_data",
          "data": {
            "image/png": "[encoded data removed]",
            "text/plain": [
              "<Figure size 576x396 with 1 Axes>"
            ]
          },
          "metadata": {
            "tags": []
          }
        },
        {
          "output_type": "display_data",
          "data": {
            "image/png": "[encoded data removed]",
            "text/plain": [
              "<Figure size 576x396 with 1 Axes>"
            ]
          },
          "metadata": {
            "tags": []
          }
        }
      ]
    },
    {
      "metadata": {
        "id": "C2Dqe2P0UPLn",
        "colab_type": "text"
      },
      "cell_type": "markdown",
      "source": [
        "**Evaluate the model**"
      ]
    },
    {
      "metadata": {
        "id": "v9139d8gUTK3",
        "colab_type": "code",
        "outputId": "02338ce3-9408-483a-cf35-b75e2b90f5f6",
        "colab": {
          "base_uri": "https://localhost:8080/",
          "height": 51
        }
      },
      "cell_type": "code",
      "source": [
        "\n",
        "score = model.evaluate(val_images, val_labels, verbose=0)\n",
        "print('Validation loss:', score[0])\n",
        "print('Validation accuracy:', score[1]*100,\"%\")"
      ],
      "execution_count": 0,
      "outputs": [
        {
          "output_type": "stream",
          "text": [
            "Validation loss: 0.8956695654869079\n",
            "Validation accuracy: 72.37 %\n"
          ],
          "name": "stdout"
        }
      ]
    },
    {
      "metadata": {
        "id": "-6dZsp1Fl_92",
        "colab_type": "code",
        "colab": {}
      },
      "cell_type": "code",
      "source": [
        ""
      ],
      "execution_count": 0,
      "outputs": []
    }
  ]
}