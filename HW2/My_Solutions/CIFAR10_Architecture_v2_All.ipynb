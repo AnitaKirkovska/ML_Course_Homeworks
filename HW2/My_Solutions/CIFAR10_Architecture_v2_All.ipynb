{
  "nbformat": 4,
  "nbformat_minor": 0,
  "metadata": {
    "colab": {
      "name": "CIFAR10_Architecture_v2_All.ipynb",
      "version": "0.3.2",
      "provenance": [],
      "include_colab_link": true
    },
    "kernelspec": {
      "name": "python3",
      "display_name": "Python 3"
    },
    "accelerator": "GPU"
  },
  "cells": [
    {
      "cell_type": "markdown",
      "metadata": {
        "id": "view-in-github",
        "colab_type": "text"
      },
      "source": [
        "<a href=\"https://colab.research.google.com/github/AnitaKirkovska/Machine_Learning_Class/blob/master/HW2/My_Solutions/CIFAR10_Architecture_v2_All.ipynb\" target=\"_parent\"><img src=\"https://colab.research.google.com/assets/colab-badge.svg\" alt=\"Open In Colab\"/></a>"
      ]
    },
    {
      "metadata": {
        "id": "T_XgBXo_2qCH",
        "colab_type": "text"
      },
      "cell_type": "markdown",
      "source": [
        "# **Simple hold-out validation - Using [Second CNN](https://github.com/AnitaKirkovska/Machine_Learning_Class/blob/master/HW2/My_Solutions/CIFAR10_Architecture_v2_WithoutNormalizations.ipynb) **\n",
        "\n",
        "Using the v2 model with two Dropouts, Data Aug, L2 and Batch Normalization for 50 epochs.\n",
        "\n",
        "\n",
        "```\n",
        "No overfitting but Training set is approaching 1 slowly, and validation fluctuates a lot. Maybe we need more epochs or change of learning rate.\n",
        "\n",
        "Accuracy without Dropout = 71.54%\n",
        "Accuracy with Dropout = 75.55%\n",
        "Accuracy with 2 Dropouts = 75.79%\n",
        "Accuracy with Data Aug = 78.84 %\n",
        "Accuracy with L2 and Batch Normalization = 66.94 %\n",
        "Accuracy with all(50 epochs) = 62.71%\n",
        "Accuracy with all(100 epochs) = 62.71 % (same)\n",
        "```\n",
        "\n"
      ]
    },
    {
      "metadata": {
        "id": "GCowLyKs3AFy",
        "colab_type": "text"
      },
      "cell_type": "markdown",
      "source": [
        "**Loading the CIFAR10 set**"
      ]
    },
    {
      "metadata": {
        "id": "wq2g1ynu2jE5",
        "colab_type": "code",
        "colab": {}
      },
      "cell_type": "code",
      "source": [
        "from keras.datasets import cifar10\n",
        "\n",
        "(train_images, train_labels), (test_images, test_labels) = cifar10.load_data()"
      ],
      "execution_count": 0,
      "outputs": []
    },
    {
      "metadata": {
        "id": "CPd86r-04VKl",
        "colab_type": "text"
      },
      "cell_type": "markdown",
      "source": [
        "**Preparing data**\n",
        "\n",
        "Training/Validation 80%/20%\n"
      ]
    },
    {
      "metadata": {
        "id": "bt8j5iKg3Bcu",
        "colab_type": "code",
        "outputId": "97d64f61-e32d-4760-c87b-97a7c428c616",
        "colab": {
          "base_uri": "https://localhost:8080/",
          "height": 51
        }
      },
      "cell_type": "code",
      "source": [
        "import sklearn.model_selection as skl \n",
        "\n",
        "train_images, val_images, train_labels, val_labels = skl.train_test_split(train_images, train_labels, test_size=0.20)\n",
        "\n",
        "print(\"train images\",train_images.shape)\n",
        "print(\"val images\",val_images.shape)"
      ],
      "execution_count": 8,
      "outputs": [
        {
          "output_type": "stream",
          "text": [
            "train images (40000, 32, 32, 3)\n",
            "val images (10000, 32, 32, 3)\n"
          ],
          "name": "stdout"
        }
      ]
    },
    {
      "metadata": {
        "id": "Q5XefuIQ4ZG2",
        "colab_type": "text"
      },
      "cell_type": "markdown",
      "source": [
        "**Preprocess the data**"
      ]
    },
    {
      "metadata": {
        "id": "K_TuMrsP4XaX",
        "colab_type": "code",
        "colab": {}
      },
      "cell_type": "code",
      "source": [
        "from keras.utils import to_categorical\n",
        "\n",
        "train_images = train_images.astype('float32')/255\n",
        "val_images = val_images.astype('float32')/255\n",
        "\n",
        "train_labels = to_categorical(train_labels)\n",
        "val_labels = to_categorical(val_labels)"
      ],
      "execution_count": 0,
      "outputs": []
    },
    {
      "metadata": {
        "id": "I8MjUwYQ4dWs",
        "colab_type": "text"
      },
      "cell_type": "markdown",
      "source": [
        "**The Architecture**"
      ]
    },
    {
      "metadata": {
        "id": "eisuLLzE4ayi",
        "colab_type": "code",
        "outputId": "26ee0693-90c2-45a2-deb7-bdc764812516",
        "colab": {
          "base_uri": "https://localhost:8080/",
          "height": 544
        }
      },
      "cell_type": "code",
      "source": [
        "from keras import models\n",
        "from keras import layers\n",
        "from keras import regularizers\n",
        "from keras.layers import BatchNormalization\n",
        "\n",
        "model = models.Sequential()\n",
        "\n",
        "model.add(layers.Conv2D(64, (3,3), activation='relu', kernel_regularizer=regularizers.l2(0.01), input_shape=(32,32,3)))\n",
        "model.add(layers.BatchNormalization())\n",
        "model.add(layers.MaxPooling2D(2,2))\n",
        "\n",
        "model.add(layers.Conv2D(128, (3,3), activation='relu',kernel_regularizer=regularizers.l2(0.01)))\n",
        "model.add(layers.BatchNormalization())\n",
        "model.add(layers.MaxPooling2D(2,2))\n",
        "\n",
        "model.add(layers.Conv2D(256, (3,3), activation='relu',kernel_regularizer=regularizers.l2(0.01)))\n",
        "model.add(layers.BatchNormalization())\n",
        "model.add(layers.MaxPooling2D(2,2))\n",
        "\n",
        "model.add(layers.Flatten())\n",
        "\n",
        "model.add(layers.Dropout(0.5))\n",
        "\n",
        "model.add(layers.Dense(10, activation='softmax'))\n",
        "\n",
        "model.summary()"
      ],
      "execution_count": 10,
      "outputs": [
        {
          "output_type": "stream",
          "text": [
            "_________________________________________________________________\n",
            "Layer (type)                 Output Shape              Param #   \n",
            "=================================================================\n",
            "conv2d_4 (Conv2D)            (None, 30, 30, 64)        1792      \n",
            "_________________________________________________________________\n",
            "batch_normalization_4 (Batch (None, 30, 30, 64)        256       \n",
            "_________________________________________________________________\n",
            "max_pooling2d_4 (MaxPooling2 (None, 15, 15, 64)        0         \n",
            "_________________________________________________________________\n",
            "conv2d_5 (Conv2D)            (None, 13, 13, 128)       73856     \n",
            "_________________________________________________________________\n",
            "batch_normalization_5 (Batch (None, 13, 13, 128)       512       \n",
            "_________________________________________________________________\n",
            "max_pooling2d_5 (MaxPooling2 (None, 6, 6, 128)         0         \n",
            "_________________________________________________________________\n",
            "conv2d_6 (Conv2D)            (None, 4, 4, 256)         295168    \n",
            "_________________________________________________________________\n",
            "batch_normalization_6 (Batch (None, 4, 4, 256)         1024      \n",
            "_________________________________________________________________\n",
            "max_pooling2d_6 (MaxPooling2 (None, 2, 2, 256)         0         \n",
            "_________________________________________________________________\n",
            "flatten_2 (Flatten)          (None, 1024)              0         \n",
            "_________________________________________________________________\n",
            "dropout_2 (Dropout)          (None, 1024)              0         \n",
            "_________________________________________________________________\n",
            "dense_2 (Dense)              (None, 10)                10250     \n",
            "=================================================================\n",
            "Total params: 382,858\n",
            "Trainable params: 381,962\n",
            "Non-trainable params: 896\n",
            "_________________________________________________________________\n"
          ],
          "name": "stdout"
        }
      ]
    },
    {
      "metadata": {
        "id": "_XvOURb7CBH_",
        "colab_type": "text"
      },
      "cell_type": "markdown",
      "source": [
        "**Data Augmentation**"
      ]
    },
    {
      "metadata": {
        "id": "OfBNq6ykCFX6",
        "colab_type": "code",
        "colab": {}
      },
      "cell_type": "code",
      "source": [
        "from keras.preprocessing.image import ImageDataGenerator\n",
        "\n",
        "datagen = ImageDataGenerator(\n",
        "    rotation_range=3,\n",
        "    width_shift_range=0.2,\n",
        "    height_shift_range=0.2,\n",
        "    horizontal_flip=True,\n",
        "    fill_mode='nearest')\n",
        "\n",
        "datagen.fit(train_images)"
      ],
      "execution_count": 0,
      "outputs": []
    },
    {
      "metadata": {
        "id": "KRuBUB5K5G4q",
        "colab_type": "text"
      },
      "cell_type": "markdown",
      "source": [
        "**Compiling the model**"
      ]
    },
    {
      "metadata": {
        "id": "qKFIWiqv4vv2",
        "colab_type": "code",
        "colab": {}
      },
      "cell_type": "code",
      "source": [
        "import keras\n",
        "opt = keras.optimizers.rmsprop(lr=0.0003, decay=1e-6)\n",
        "\n",
        "model.compile(\n",
        "    loss='categorical_crossentropy',\n",
        "    optimizer=opt,\n",
        "    metrics=['accuracy'])"
      ],
      "execution_count": 0,
      "outputs": []
    },
    {
      "metadata": {
        "id": "30Pq2VmD5KBB",
        "colab_type": "text"
      },
      "cell_type": "markdown",
      "source": [
        "**Training the model**"
      ]
    },
    {
      "metadata": {
        "id": "fiU5-1x25IZ5",
        "colab_type": "code",
        "outputId": "b5fcfa2b-b5db-40ab-b189-01b19905d9c9",
        "colab": {
          "base_uri": "https://localhost:8080/",
          "height": 3488
        }
      },
      "cell_type": "code",
      "source": [
        "history = model.fit_generator(datagen.flow(train_images, \n",
        "                                           train_labels, \n",
        "                                           batch_size=32),\n",
        "                                           epochs=100,\n",
        "                                           steps_per_epoch=1250,\n",
        "                                           validation_data=(val_images, val_labels),\n",
        "                                           validation_steps=312)"
      ],
      "execution_count": 13,
      "outputs": [
        {
          "output_type": "stream",
          "text": [
            "WARNING:tensorflow:From /usr/local/lib/python3.6/dist-packages/tensorflow/python/ops/math_ops.py:3066: to_int32 (from tensorflow.python.ops.math_ops) is deprecated and will be removed in a future version.\n",
            "Instructions for updating:\n",
            "Use tf.cast instead.\n",
            "Epoch 1/100\n",
            "1250/1250 [==============================] - 38s 31ms/step - loss: 3.9916 - acc: 0.3323 - val_loss: 2.8672 - val_acc: 0.4272\n",
            "Epoch 2/100\n",
            "1250/1250 [==============================] - 37s 29ms/step - loss: 2.3700 - acc: 0.4466 - val_loss: 2.1497 - val_acc: 0.4548\n",
            "Epoch 3/100\n",
            "1250/1250 [==============================] - 36s 29ms/step - loss: 1.8647 - acc: 0.5051 - val_loss: 1.5950 - val_acc: 0.5774\n",
            "Epoch 4/100\n",
            "1250/1250 [==============================] - 37s 29ms/step - loss: 1.6550 - acc: 0.5440 - val_loss: 1.4908 - val_acc: 0.6093\n",
            "Epoch 5/100\n",
            "1250/1250 [==============================] - 36s 29ms/step - loss: 1.5574 - acc: 0.5703 - val_loss: 1.5300 - val_acc: 0.5989\n",
            "Epoch 6/100\n",
            "1250/1250 [==============================] - 36s 29ms/step - loss: 1.4972 - acc: 0.5905 - val_loss: 1.3589 - val_acc: 0.6453\n",
            "Epoch 7/100\n",
            "1250/1250 [==============================] - 37s 29ms/step - loss: 1.4611 - acc: 0.5984 - val_loss: 1.3404 - val_acc: 0.6630\n",
            "Epoch 8/100\n",
            "1250/1250 [==============================] - 36s 29ms/step - loss: 1.4363 - acc: 0.6096 - val_loss: 1.3748 - val_acc: 0.6395\n",
            "Epoch 9/100\n",
            "1250/1250 [==============================] - 36s 29ms/step - loss: 1.4142 - acc: 0.6173 - val_loss: 1.1967 - val_acc: 0.6952\n",
            "Epoch 10/100\n",
            "1250/1250 [==============================] - 36s 29ms/step - loss: 1.3897 - acc: 0.6269 - val_loss: 1.6118 - val_acc: 0.6027\n",
            "Epoch 11/100\n",
            "1250/1250 [==============================] - 36s 29ms/step - loss: 1.3815 - acc: 0.6261 - val_loss: 1.2825 - val_acc: 0.6749\n",
            "Epoch 12/100\n",
            "1250/1250 [==============================] - 37s 30ms/step - loss: 1.3704 - acc: 0.6331 - val_loss: 1.6435 - val_acc: 0.5758\n",
            "Epoch 13/100\n",
            "1250/1250 [==============================] - 37s 29ms/step - loss: 1.3581 - acc: 0.6417 - val_loss: 1.1975 - val_acc: 0.6975\n",
            "Epoch 14/100\n",
            "1250/1250 [==============================] - 36s 28ms/step - loss: 1.3477 - acc: 0.6408 - val_loss: 1.6758 - val_acc: 0.5879\n",
            "Epoch 15/100\n",
            "1250/1250 [==============================] - 36s 29ms/step - loss: 1.3313 - acc: 0.6466 - val_loss: 1.4132 - val_acc: 0.6481\n",
            "Epoch 16/100\n",
            "1250/1250 [==============================] - 35s 28ms/step - loss: 1.3185 - acc: 0.6500 - val_loss: 1.5767 - val_acc: 0.6085\n",
            "Epoch 17/100\n",
            "1250/1250 [==============================] - 36s 28ms/step - loss: 1.3169 - acc: 0.6504 - val_loss: 1.2497 - val_acc: 0.6862\n",
            "Epoch 18/100\n",
            "1250/1250 [==============================] - 36s 29ms/step - loss: 1.3071 - acc: 0.6535 - val_loss: 1.4208 - val_acc: 0.6463\n",
            "Epoch 19/100\n",
            "1250/1250 [==============================] - 35s 28ms/step - loss: 1.2959 - acc: 0.6579 - val_loss: 1.2938 - val_acc: 0.6778\n",
            "Epoch 20/100\n",
            "1250/1250 [==============================] - 35s 28ms/step - loss: 1.2904 - acc: 0.6567 - val_loss: 1.3352 - val_acc: 0.6680\n",
            "Epoch 21/100\n",
            "1250/1250 [==============================] - 35s 28ms/step - loss: 1.2920 - acc: 0.6578 - val_loss: 1.3266 - val_acc: 0.6598\n",
            "Epoch 22/100\n",
            "1250/1250 [==============================] - 35s 28ms/step - loss: 1.2762 - acc: 0.6641 - val_loss: 1.4548 - val_acc: 0.6411\n",
            "Epoch 23/100\n",
            "1250/1250 [==============================] - 35s 28ms/step - loss: 1.2756 - acc: 0.6635 - val_loss: 1.4981 - val_acc: 0.6039\n",
            "Epoch 24/100\n",
            "1250/1250 [==============================] - 35s 28ms/step - loss: 1.2701 - acc: 0.6649 - val_loss: 1.3623 - val_acc: 0.6661\n",
            "Epoch 25/100\n",
            "1250/1250 [==============================] - 36s 29ms/step - loss: 1.2591 - acc: 0.6673 - val_loss: 1.1561 - val_acc: 0.7000\n",
            "Epoch 26/100\n",
            "1250/1250 [==============================] - 35s 28ms/step - loss: 1.2614 - acc: 0.6671 - val_loss: 1.2636 - val_acc: 0.6919\n",
            "Epoch 27/100\n",
            "1250/1250 [==============================] - 36s 29ms/step - loss: 1.2603 - acc: 0.6665 - val_loss: 1.1611 - val_acc: 0.7126\n",
            "Epoch 28/100\n",
            "1250/1250 [==============================] - 35s 28ms/step - loss: 1.2528 - acc: 0.6700 - val_loss: 1.8078 - val_acc: 0.5591\n",
            "Epoch 29/100\n",
            "1250/1250 [==============================] - 35s 28ms/step - loss: 1.2488 - acc: 0.6696 - val_loss: 1.3675 - val_acc: 0.6723\n",
            "Epoch 30/100\n",
            "1250/1250 [==============================] - 35s 28ms/step - loss: 1.2466 - acc: 0.6710 - val_loss: 1.3251 - val_acc: 0.6576\n",
            "Epoch 31/100\n",
            "1250/1250 [==============================] - 35s 28ms/step - loss: 1.2350 - acc: 0.6735 - val_loss: 1.3314 - val_acc: 0.6588\n",
            "Epoch 32/100\n",
            "1250/1250 [==============================] - 35s 28ms/step - loss: 1.2379 - acc: 0.6734 - val_loss: 1.1744 - val_acc: 0.7005\n",
            "Epoch 33/100\n",
            "1250/1250 [==============================] - 36s 28ms/step - loss: 1.2385 - acc: 0.6756 - val_loss: 1.3086 - val_acc: 0.6599\n",
            "Epoch 34/100\n",
            "1250/1250 [==============================] - 35s 28ms/step - loss: 1.2344 - acc: 0.6748 - val_loss: 1.4367 - val_acc: 0.6506\n",
            "Epoch 35/100\n",
            "1250/1250 [==============================] - 35s 28ms/step - loss: 1.2314 - acc: 0.6754 - val_loss: 1.3022 - val_acc: 0.6648\n",
            "Epoch 36/100\n",
            "1250/1250 [==============================] - 35s 28ms/step - loss: 1.2251 - acc: 0.6789 - val_loss: 1.1381 - val_acc: 0.7081\n",
            "Epoch 37/100\n",
            "1250/1250 [==============================] - 35s 28ms/step - loss: 1.2273 - acc: 0.6746 - val_loss: 1.2238 - val_acc: 0.6904\n",
            "Epoch 38/100\n",
            "1250/1250 [==============================] - 35s 28ms/step - loss: 1.2166 - acc: 0.6786 - val_loss: 1.2828 - val_acc: 0.6655\n",
            "Epoch 39/100\n",
            "1250/1250 [==============================] - 35s 28ms/step - loss: 1.2187 - acc: 0.6781 - val_loss: 1.3196 - val_acc: 0.6499\n",
            "Epoch 40/100\n",
            "1250/1250 [==============================] - 34s 28ms/step - loss: 1.2101 - acc: 0.6811 - val_loss: 1.0628 - val_acc: 0.7303\n",
            "Epoch 41/100\n",
            "1250/1250 [==============================] - 35s 28ms/step - loss: 1.2156 - acc: 0.6825 - val_loss: 1.2423 - val_acc: 0.6751\n",
            "Epoch 42/100\n",
            "1250/1250 [==============================] - 35s 28ms/step - loss: 1.1981 - acc: 0.6850 - val_loss: 1.0854 - val_acc: 0.7316\n",
            "Epoch 43/100\n",
            "1250/1250 [==============================] - 34s 27ms/step - loss: 1.2092 - acc: 0.6841 - val_loss: 1.1794 - val_acc: 0.7099\n",
            "Epoch 44/100\n",
            "1250/1250 [==============================] - 34s 27ms/step - loss: 1.2114 - acc: 0.6813 - val_loss: 1.0679 - val_acc: 0.7372\n",
            "Epoch 45/100\n",
            "1250/1250 [==============================] - 35s 28ms/step - loss: 1.2040 - acc: 0.6813 - val_loss: 1.1548 - val_acc: 0.7133\n",
            "Epoch 46/100\n",
            "1250/1250 [==============================] - 36s 29ms/step - loss: 1.2050 - acc: 0.6811 - val_loss: 1.1516 - val_acc: 0.7039\n",
            "Epoch 47/100\n",
            "1250/1250 [==============================] - 35s 28ms/step - loss: 1.1968 - acc: 0.6857 - val_loss: 1.0779 - val_acc: 0.7324\n",
            "Epoch 48/100\n",
            "1250/1250 [==============================] - 36s 29ms/step - loss: 1.2034 - acc: 0.6841 - val_loss: 1.0686 - val_acc: 0.7311\n",
            "Epoch 49/100\n",
            "1250/1250 [==============================] - 36s 29ms/step - loss: 1.2016 - acc: 0.6855 - val_loss: 1.4939 - val_acc: 0.6130\n",
            "Epoch 50/100\n",
            "1250/1250 [==============================] - 36s 28ms/step - loss: 1.1940 - acc: 0.6852 - val_loss: 0.9823 - val_acc: 0.7618\n",
            "Epoch 51/100\n",
            "1250/1250 [==============================] - 35s 28ms/step - loss: 1.1957 - acc: 0.6848 - val_loss: 1.4100 - val_acc: 0.6580\n",
            "Epoch 52/100\n",
            "1250/1250 [==============================] - 35s 28ms/step - loss: 1.1935 - acc: 0.6863 - val_loss: 1.2050 - val_acc: 0.7083\n",
            "Epoch 53/100\n",
            "1250/1250 [==============================] - 36s 29ms/step - loss: 1.1848 - acc: 0.6913 - val_loss: 1.1024 - val_acc: 0.7250\n",
            "Epoch 54/100\n",
            "1250/1250 [==============================] - 36s 28ms/step - loss: 1.1880 - acc: 0.6887 - val_loss: 1.0834 - val_acc: 0.7308\n",
            "Epoch 55/100\n",
            "1250/1250 [==============================] - 36s 29ms/step - loss: 1.1923 - acc: 0.6852 - val_loss: 1.7170 - val_acc: 0.6115\n",
            "Epoch 56/100\n",
            "1250/1250 [==============================] - 35s 28ms/step - loss: 1.1856 - acc: 0.6888 - val_loss: 1.0842 - val_acc: 0.7255\n",
            "Epoch 57/100\n",
            "1250/1250 [==============================] - 36s 29ms/step - loss: 1.1794 - acc: 0.6925 - val_loss: 1.1873 - val_acc: 0.7061\n",
            "Epoch 58/100\n",
            "1250/1250 [==============================] - 36s 28ms/step - loss: 1.1772 - acc: 0.6904 - val_loss: 1.1563 - val_acc: 0.7082\n",
            "Epoch 59/100\n",
            "1250/1250 [==============================] - 35s 28ms/step - loss: 1.1834 - acc: 0.6889 - val_loss: 1.1166 - val_acc: 0.7162\n",
            "Epoch 60/100\n",
            "1250/1250 [==============================] - 35s 28ms/step - loss: 1.1855 - acc: 0.6870 - val_loss: 1.3393 - val_acc: 0.6654\n",
            "Epoch 61/100\n",
            "1250/1250 [==============================] - 36s 28ms/step - loss: 1.1794 - acc: 0.6895 - val_loss: 1.1240 - val_acc: 0.7218\n",
            "Epoch 62/100\n",
            "1250/1250 [==============================] - 35s 28ms/step - loss: 1.1805 - acc: 0.6893 - val_loss: 1.0902 - val_acc: 0.7191\n",
            "Epoch 63/100\n",
            "1250/1250 [==============================] - 36s 28ms/step - loss: 1.1733 - acc: 0.6920 - val_loss: 1.6130 - val_acc: 0.5976\n",
            "Epoch 64/100\n",
            "1250/1250 [==============================] - 36s 29ms/step - loss: 1.1716 - acc: 0.6905 - val_loss: 1.0238 - val_acc: 0.7495\n",
            "Epoch 65/100\n",
            "1250/1250 [==============================] - 36s 29ms/step - loss: 1.1745 - acc: 0.6911 - val_loss: 1.0398 - val_acc: 0.7415\n",
            "Epoch 66/100\n",
            "1250/1250 [==============================] - 35s 28ms/step - loss: 1.1791 - acc: 0.6912 - val_loss: 0.9850 - val_acc: 0.7600\n",
            "Epoch 67/100\n",
            "1250/1250 [==============================] - 35s 28ms/step - loss: 1.1733 - acc: 0.6903 - val_loss: 1.1964 - val_acc: 0.7092\n",
            "Epoch 68/100\n",
            "1250/1250 [==============================] - 35s 28ms/step - loss: 1.1752 - acc: 0.6895 - val_loss: 1.3404 - val_acc: 0.6767\n",
            "Epoch 69/100\n",
            "1250/1250 [==============================] - 35s 28ms/step - loss: 1.1645 - acc: 0.6929 - val_loss: 1.2145 - val_acc: 0.6921\n",
            "Epoch 70/100\n",
            "1250/1250 [==============================] - 35s 28ms/step - loss: 1.1692 - acc: 0.6925 - val_loss: 1.0857 - val_acc: 0.7224\n",
            "Epoch 71/100\n",
            "1250/1250 [==============================] - 35s 28ms/step - loss: 1.1631 - acc: 0.6949 - val_loss: 1.3370 - val_acc: 0.6631\n",
            "Epoch 72/100\n",
            "1250/1250 [==============================] - 35s 28ms/step - loss: 1.1644 - acc: 0.6926 - val_loss: 1.1147 - val_acc: 0.7187\n",
            "Epoch 73/100\n",
            "1250/1250 [==============================] - 35s 28ms/step - loss: 1.1622 - acc: 0.6950 - val_loss: 1.2980 - val_acc: 0.6814\n",
            "Epoch 74/100\n",
            "1250/1250 [==============================] - 35s 28ms/step - loss: 1.1541 - acc: 0.6991 - val_loss: 1.1982 - val_acc: 0.7039\n",
            "Epoch 75/100\n",
            "1250/1250 [==============================] - 35s 28ms/step - loss: 1.1636 - acc: 0.6945 - val_loss: 1.2815 - val_acc: 0.6734\n",
            "Epoch 76/100\n",
            "1250/1250 [==============================] - 35s 28ms/step - loss: 1.1644 - acc: 0.6933 - val_loss: 1.2782 - val_acc: 0.6844\n",
            "Epoch 77/100\n",
            "1250/1250 [==============================] - 36s 28ms/step - loss: 1.1599 - acc: 0.6934 - val_loss: 1.4506 - val_acc: 0.6365\n",
            "Epoch 78/100\n",
            "1250/1250 [==============================] - 36s 28ms/step - loss: 1.1609 - acc: 0.6950 - val_loss: 1.1444 - val_acc: 0.7194\n",
            "Epoch 79/100\n",
            "1250/1250 [==============================] - 36s 28ms/step - loss: 1.1478 - acc: 0.6974 - val_loss: 1.0005 - val_acc: 0.7584\n",
            "Epoch 80/100\n",
            "1250/1250 [==============================] - 35s 28ms/step - loss: 1.1568 - acc: 0.6960 - val_loss: 0.9865 - val_acc: 0.7582\n",
            "Epoch 81/100\n",
            "1250/1250 [==============================] - 36s 29ms/step - loss: 1.1583 - acc: 0.6947 - val_loss: 1.2810 - val_acc: 0.6778\n",
            "Epoch 82/100\n",
            "1250/1250 [==============================] - 35s 28ms/step - loss: 1.1588 - acc: 0.6926 - val_loss: 1.2539 - val_acc: 0.6777\n",
            "Epoch 83/100\n",
            "1250/1250 [==============================] - 35s 28ms/step - loss: 1.1576 - acc: 0.6941 - val_loss: 1.0566 - val_acc: 0.7364\n",
            "Epoch 84/100\n",
            "1250/1250 [==============================] - 35s 28ms/step - loss: 1.1569 - acc: 0.6980 - val_loss: 1.1649 - val_acc: 0.7008\n",
            "Epoch 85/100\n",
            "1250/1250 [==============================] - 35s 28ms/step - loss: 1.1570 - acc: 0.6976 - val_loss: 1.2414 - val_acc: 0.6874\n",
            "Epoch 86/100\n",
            "1250/1250 [==============================] - 36s 28ms/step - loss: 1.1551 - acc: 0.6958 - val_loss: 1.1907 - val_acc: 0.6879\n",
            "Epoch 87/100\n",
            "1250/1250 [==============================] - 35s 28ms/step - loss: 1.1545 - acc: 0.6964 - val_loss: 1.0571 - val_acc: 0.7427\n",
            "Epoch 88/100\n",
            "1250/1250 [==============================] - 35s 28ms/step - loss: 1.1516 - acc: 0.6968 - val_loss: 1.0605 - val_acc: 0.7296\n",
            "Epoch 89/100\n",
            "1250/1250 [==============================] - 36s 29ms/step - loss: 1.1506 - acc: 0.6986 - val_loss: 1.2399 - val_acc: 0.6908\n",
            "Epoch 90/100\n",
            "1250/1250 [==============================] - 35s 28ms/step - loss: 1.1488 - acc: 0.6960 - val_loss: 1.1329 - val_acc: 0.7258\n",
            "Epoch 91/100\n",
            "1250/1250 [==============================] - 35s 28ms/step - loss: 1.1455 - acc: 0.6991 - val_loss: 1.0677 - val_acc: 0.7290\n",
            "Epoch 92/100\n",
            "1250/1250 [==============================] - 35s 28ms/step - loss: 1.1458 - acc: 0.6979 - val_loss: 1.1355 - val_acc: 0.7163\n",
            "Epoch 93/100\n",
            "1250/1250 [==============================] - 35s 28ms/step - loss: 1.1459 - acc: 0.6993 - val_loss: 1.2581 - val_acc: 0.6947\n",
            "Epoch 94/100\n",
            "1250/1250 [==============================] - 35s 28ms/step - loss: 1.1544 - acc: 0.6956 - val_loss: 1.7572 - val_acc: 0.5511\n",
            "Epoch 95/100\n",
            "1250/1250 [==============================] - 35s 28ms/step - loss: 1.1520 - acc: 0.6927 - val_loss: 1.0631 - val_acc: 0.7398\n",
            "Epoch 96/100\n",
            "1250/1250 [==============================] - 34s 28ms/step - loss: 1.1561 - acc: 0.6951 - val_loss: 1.5841 - val_acc: 0.6190\n",
            "Epoch 97/100\n",
            "1250/1250 [==============================] - 35s 28ms/step - loss: 1.1440 - acc: 0.6994 - val_loss: 1.2857 - val_acc: 0.6693\n",
            "Epoch 98/100\n",
            "1250/1250 [==============================] - 35s 28ms/step - loss: 1.1435 - acc: 0.6969 - val_loss: 1.1337 - val_acc: 0.7088\n",
            "Epoch 99/100\n",
            "1250/1250 [==============================] - 34s 27ms/step - loss: 1.1393 - acc: 0.6983 - val_loss: 1.0095 - val_acc: 0.7545\n",
            "Epoch 100/100\n",
            "1250/1250 [==============================] - 35s 28ms/step - loss: 1.1351 - acc: 0.7020 - val_loss: 1.4167 - val_acc: 0.6592\n"
          ],
          "name": "stdout"
        }
      ]
    },
    {
      "metadata": {
        "id": "ELk1rvFQQxuX",
        "colab_type": "text"
      },
      "cell_type": "markdown",
      "source": [
        "**Plotting the model**"
      ]
    },
    {
      "metadata": {
        "id": "aOZo7EtE5MtI",
        "colab_type": "code",
        "outputId": "41dd09a2-3601-42ff-c901-1e26235b0686",
        "colab": {
          "base_uri": "https://localhost:8080/",
          "height": 707
        }
      },
      "cell_type": "code",
      "source": [
        "\n",
        "import matplotlib.pyplot as plt\n",
        "\n",
        "acc = history.history['acc']\n",
        "val_acc = history.history['val_acc']\n",
        "loss = history.history['loss']\n",
        "val_loss = history.history['val_loss']\n",
        "\n",
        "epochs = range(1, len(acc) + 1)\n",
        "\n",
        "\n",
        "plt.plot(epochs, acc, 'bo', \n",
        "         label='training acc')\n",
        "plt.plot(epochs, val_acc, 'r', label='validation acc')\n",
        "plt.title('training and validation accuracy')\n",
        "plt.legend()\n",
        "\n",
        "plt.figure()\n",
        "\n",
        "plt.plot(epochs, loss, 'bo', label='training loss')\n",
        "plt.plot(epochs, val_loss, 'r', label='validation loss')\n",
        "plt.title('training and validation loss')\n",
        "\n",
        "plt.legend()\n",
        "\n",
        "plt.show()"
      ],
      "execution_count": 14,
      "outputs": [
        {
          "output_type": "display_data",
          "data": {
            "image/png": "[encoded data removed]",
            "text/plain": [
              "<Figure size 576x396 with 1 Axes>"
            ]
          },
          "metadata": {
            "tags": []
          }
        },
        {
          "output_type": "display_data",
          "data": {
            "image/png": "[encoded data removed]",
            "text/plain": [
              "<Figure size 576x396 with 1 Axes>"
            ]
          },
          "metadata": {
            "tags": []
          }
        }
      ]
    },
    {
      "metadata": {
        "id": "77RCTywFQ1NK",
        "colab_type": "text"
      },
      "cell_type": "markdown",
      "source": [
        "**Evaluate the model with validation set**"
      ]
    },
    {
      "metadata": {
        "id": "6_GUAMgkQ3Vv",
        "colab_type": "code",
        "outputId": "aa8f35e9-2380-481b-c19a-ff659bc3de76",
        "colab": {
          "base_uri": "https://localhost:8080/",
          "height": 51
        }
      },
      "cell_type": "code",
      "source": [
        "\n",
        "score = model.evaluate(val_images, val_labels, verbose=0)\n",
        "print('Validation loss:', score[0])\n",
        "print('Validation accuracy:', score[1]*100,\"%\")"
      ],
      "execution_count": 0,
      "outputs": [
        {
          "output_type": "stream",
          "text": [
            "Validation loss: 1.4651514724731445\n",
            "Validation accuracy: 62.71 %\n"
          ],
          "name": "stdout"
        }
      ]
    },
    {
      "metadata": {
        "id": "kPLryLxgShjM",
        "colab_type": "code",
        "colab": {}
      },
      "cell_type": "code",
      "source": [
        ""
      ],
      "execution_count": 0,
      "outputs": []
    }
  ]
}