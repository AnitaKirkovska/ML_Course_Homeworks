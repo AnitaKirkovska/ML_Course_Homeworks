{
  "nbformat": 4,
  "nbformat_minor": 0,
  "metadata": {
    "colab": {
      "name": "CIFAR10_Architecture_v2_All.ipynb",
      "version": "0.3.2",
      "provenance": [],
      "include_colab_link": true
    },
    "kernelspec": {
      "name": "python3",
      "display_name": "Python 3"
    },
    "accelerator": "GPU"
  },
  "cells": [
    {
      "cell_type": "markdown",
      "metadata": {
        "id": "view-in-github",
        "colab_type": "text"
      },
      "source": [
        "<a href=\"https://colab.research.google.com/github/AnitaKirkovska/Machine_Learning_Class/blob/master/HW2/My_Solutions/CIFAR10_Architecture_v2_All.ipynb\" target=\"_parent\"><img src=\"https://colab.research.google.com/assets/colab-badge.svg\" alt=\"Open In Colab\"/></a>"
      ]
    },
    {
      "metadata": {
        "id": "T_XgBXo_2qCH",
        "colab_type": "text"
      },
      "cell_type": "markdown",
      "source": [
        "# **Simple hold-out validation - Using [Second CNN](https://github.com/AnitaKirkovska/Machine_Learning_Class/blob/master/HW2/My_Solutions/CIFAR10_Architecture_v2_WithoutNormalizations.ipynb) **\n",
        "\n",
        "Using the v2 model with two Dropouts, Data Aug, L2 and Batch Normalization for 50 epochs.\n",
        "\n",
        "\n",
        "```\n",
        "No overfitting but Training set is approaching 1 slowly, and validation fluctuates a lot. Maybe we need more epochs or change of learning rate.\n",
        "\n",
        "Accuracy without Dropout = 71.54%\n",
        "Accuracy with Dropout = 75.55%\n",
        "Accuracy with 2 Dropouts = 75.79%\n",
        "Accuracy with Data Aug = 78.84 %\n",
        "Accuracy with L2 and Batch Normalization = 66.94 %\n",
        "Accuracy with all(50 epochs) = 62.71%\n",
        "```\n",
        "\n"
      ]
    },
    {
      "metadata": {
        "id": "GCowLyKs3AFy",
        "colab_type": "text"
      },
      "cell_type": "markdown",
      "source": [
        "**Loading the CIFAR10 set**"
      ]
    },
    {
      "metadata": {
        "id": "wq2g1ynu2jE5",
        "colab_type": "code",
        "outputId": "8240c11b-30e4-42b8-cc59-286beea62dea",
        "colab": {
          "base_uri": "https://localhost:8080/",
          "height": 34
        }
      },
      "cell_type": "code",
      "source": [
        "from keras.datasets import cifar10\n",
        "\n",
        "(train_images, train_labels), (test_images, test_labels) = cifar10.load_data()"
      ],
      "execution_count": 1,
      "outputs": [
        {
          "output_type": "stream",
          "text": [
            "Using TensorFlow backend.\n"
          ],
          "name": "stderr"
        }
      ]
    },
    {
      "metadata": {
        "id": "CPd86r-04VKl",
        "colab_type": "text"
      },
      "cell_type": "markdown",
      "source": [
        "**Preparing data**\n",
        "\n",
        "Training/Validation 80%/20%\n"
      ]
    },
    {
      "metadata": {
        "id": "bt8j5iKg3Bcu",
        "colab_type": "code",
        "outputId": "22af621c-341f-462b-816d-5b0dc6cb6e8f",
        "colab": {
          "base_uri": "https://localhost:8080/",
          "height": 51
        }
      },
      "cell_type": "code",
      "source": [
        "import sklearn.model_selection as skl \n",
        "\n",
        "train_images, val_images, train_labels, val_labels = skl.train_test_split(train_images, train_labels, test_size=0.20)\n",
        "\n",
        "print(\"train images\",train_images.shape)\n",
        "print(\"val images\",val_images.shape)"
      ],
      "execution_count": 2,
      "outputs": [
        {
          "output_type": "stream",
          "text": [
            "train images (40000, 32, 32, 3)\n",
            "val images (10000, 32, 32, 3)\n"
          ],
          "name": "stdout"
        }
      ]
    },
    {
      "metadata": {
        "id": "Q5XefuIQ4ZG2",
        "colab_type": "text"
      },
      "cell_type": "markdown",
      "source": [
        "**Preprocess the data**"
      ]
    },
    {
      "metadata": {
        "id": "K_TuMrsP4XaX",
        "colab_type": "code",
        "colab": {}
      },
      "cell_type": "code",
      "source": [
        "from keras.utils import to_categorical\n",
        "\n",
        "train_images = train_images.astype('float32')/255\n",
        "val_images = val_images.astype('float32')/255\n",
        "\n",
        "train_labels = to_categorical(train_labels)\n",
        "val_labels = to_categorical(val_labels)"
      ],
      "execution_count": 0,
      "outputs": []
    },
    {
      "metadata": {
        "id": "I8MjUwYQ4dWs",
        "colab_type": "text"
      },
      "cell_type": "markdown",
      "source": [
        "**The Architecture**"
      ]
    },
    {
      "metadata": {
        "id": "eisuLLzE4ayi",
        "colab_type": "code",
        "outputId": "f5448218-47c0-415e-ecae-3c3834fcf0ed",
        "colab": {
          "base_uri": "https://localhost:8080/",
          "height": 700
        }
      },
      "cell_type": "code",
      "source": [
        "from keras import models\n",
        "from keras import layers\n",
        "from keras import regularizers\n",
        "from keras.layers import BatchNormalization\n",
        "\n",
        "model = models.Sequential()\n",
        "\n",
        "model.add(layers.Conv2D(64, (3,3), activation='relu', kernel_regularizer=regularizers.l2(0.01), input_shape=(32,32,3)))\n",
        "model.add(layers.BatchNormalization())\n",
        "model.add(layers.MaxPooling2D(2,2))\n",
        "\n",
        "model.add(layers.Conv2D(128, (3,3), activation='relu',kernel_regularizer=regularizers.l2(0.01)))\n",
        "model.add(layers.BatchNormalization())\n",
        "model.add(layers.MaxPooling2D(2,2))\n",
        "\n",
        "model.add(layers.Conv2D(256, (3,3), activation='relu',kernel_regularizer=regularizers.l2(0.01)))\n",
        "model.add(layers.BatchNormalization())\n",
        "model.add(layers.MaxPooling2D(2,2))\n",
        "\n",
        "model.add(layers.Dropout(0.25))\n",
        "\n",
        "model.add(layers.Flatten())\n",
        "\n",
        "model.add(layers.Dropout(0.5))\n",
        "\n",
        "model.add(layers.Dense(10, activation='softmax'))\n",
        "\n",
        "model.summary()"
      ],
      "execution_count": 4,
      "outputs": [
        {
          "output_type": "stream",
          "text": [
            "WARNING:tensorflow:From /usr/local/lib/python3.6/dist-packages/tensorflow/python/framework/op_def_library.py:263: colocate_with (from tensorflow.python.framework.ops) is deprecated and will be removed in a future version.\n",
            "Instructions for updating:\n",
            "Colocations handled automatically by placer.\n",
            "WARNING:tensorflow:From /usr/local/lib/python3.6/dist-packages/keras/backend/tensorflow_backend.py:3445: calling dropout (from tensorflow.python.ops.nn_ops) with keep_prob is deprecated and will be removed in a future version.\n",
            "Instructions for updating:\n",
            "Please use `rate` instead of `keep_prob`. Rate should be set to `rate = 1 - keep_prob`.\n",
            "_________________________________________________________________\n",
            "Layer (type)                 Output Shape              Param #   \n",
            "=================================================================\n",
            "conv2d_1 (Conv2D)            (None, 30, 30, 64)        1792      \n",
            "_________________________________________________________________\n",
            "batch_normalization_1 (Batch (None, 30, 30, 64)        256       \n",
            "_________________________________________________________________\n",
            "max_pooling2d_1 (MaxPooling2 (None, 15, 15, 64)        0         \n",
            "_________________________________________________________________\n",
            "conv2d_2 (Conv2D)            (None, 13, 13, 128)       73856     \n",
            "_________________________________________________________________\n",
            "batch_normalization_2 (Batch (None, 13, 13, 128)       512       \n",
            "_________________________________________________________________\n",
            "max_pooling2d_2 (MaxPooling2 (None, 6, 6, 128)         0         \n",
            "_________________________________________________________________\n",
            "conv2d_3 (Conv2D)            (None, 4, 4, 256)         295168    \n",
            "_________________________________________________________________\n",
            "batch_normalization_3 (Batch (None, 4, 4, 256)         1024      \n",
            "_________________________________________________________________\n",
            "max_pooling2d_3 (MaxPooling2 (None, 2, 2, 256)         0         \n",
            "_________________________________________________________________\n",
            "dropout_1 (Dropout)          (None, 2, 2, 256)         0         \n",
            "_________________________________________________________________\n",
            "flatten_1 (Flatten)          (None, 1024)              0         \n",
            "_________________________________________________________________\n",
            "dropout_2 (Dropout)          (None, 1024)              0         \n",
            "_________________________________________________________________\n",
            "dense_1 (Dense)              (None, 10)                10250     \n",
            "=================================================================\n",
            "Total params: 382,858\n",
            "Trainable params: 381,962\n",
            "Non-trainable params: 896\n",
            "_________________________________________________________________\n"
          ],
          "name": "stdout"
        }
      ]
    },
    {
      "metadata": {
        "id": "_XvOURb7CBH_",
        "colab_type": "text"
      },
      "cell_type": "markdown",
      "source": [
        "**Data Augmentation**"
      ]
    },
    {
      "metadata": {
        "id": "OfBNq6ykCFX6",
        "colab_type": "code",
        "colab": {}
      },
      "cell_type": "code",
      "source": [
        "from keras.preprocessing.image import ImageDataGenerator\n",
        "\n",
        "datagen = ImageDataGenerator(\n",
        "    rotation_range=3,\n",
        "    width_shift_range=0.2,\n",
        "    height_shift_range=0.2,\n",
        "    horizontal_flip=True,\n",
        "    fill_mode='nearest')\n",
        "\n",
        "datagen.fit(train_images)"
      ],
      "execution_count": 0,
      "outputs": []
    },
    {
      "metadata": {
        "id": "KRuBUB5K5G4q",
        "colab_type": "text"
      },
      "cell_type": "markdown",
      "source": [
        "**Compiling the model**"
      ]
    },
    {
      "metadata": {
        "id": "qKFIWiqv4vv2",
        "colab_type": "code",
        "colab": {}
      },
      "cell_type": "code",
      "source": [
        "import keras\n",
        "opt = keras.optimizers.rmsprop(lr=0.0005, decay=1e-6)\n",
        "\n",
        "model.compile(\n",
        "    loss='categorical_crossentropy',\n",
        "    optimizer=opt,\n",
        "    metrics=['accuracy'])"
      ],
      "execution_count": 0,
      "outputs": []
    },
    {
      "metadata": {
        "id": "30Pq2VmD5KBB",
        "colab_type": "text"
      },
      "cell_type": "markdown",
      "source": [
        "**Training the model**"
      ]
    },
    {
      "metadata": {
        "id": "fiU5-1x25IZ5",
        "colab_type": "code",
        "outputId": "44f1324c-d367-42db-f28b-c9554e91dc9b",
        "colab": {
          "base_uri": "https://localhost:8080/",
          "height": 1788
        }
      },
      "cell_type": "code",
      "source": [
        "history = model.fit_generator(datagen.flow(train_images, \n",
        "                                           train_labels, \n",
        "                                           batch_size=32),\n",
        "                                           epochs=50,\n",
        "                                           steps_per_epoch=1250,\n",
        "                                           validation_data=(val_images, val_labels),\n",
        "                                           validation_steps=312)"
      ],
      "execution_count": 7,
      "outputs": [
        {
          "output_type": "stream",
          "text": [
            "WARNING:tensorflow:From /usr/local/lib/python3.6/dist-packages/tensorflow/python/ops/math_ops.py:3066: to_int32 (from tensorflow.python.ops.math_ops) is deprecated and will be removed in a future version.\n",
            "Instructions for updating:\n",
            "Use tf.cast instead.\n",
            "Epoch 1/50\n",
            "1250/1250 [==============================] - 38s 30ms/step - loss: 3.7742 - acc: 0.3175 - val_loss: 2.2877 - val_acc: 0.4530\n",
            "Epoch 2/50\n",
            "1250/1250 [==============================] - 36s 29ms/step - loss: 2.1314 - acc: 0.4354 - val_loss: 2.0575 - val_acc: 0.4528\n",
            "Epoch 3/50\n",
            "1250/1250 [==============================] - 36s 29ms/step - loss: 1.8307 - acc: 0.4906 - val_loss: 2.4358 - val_acc: 0.3694\n",
            "Epoch 4/50\n",
            "1250/1250 [==============================] - 35s 28ms/step - loss: 1.7277 - acc: 0.5150 - val_loss: 1.7799 - val_acc: 0.5264\n",
            "Epoch 5/50\n",
            "1250/1250 [==============================] - 35s 28ms/step - loss: 1.6569 - acc: 0.5383 - val_loss: 1.9952 - val_acc: 0.5335\n",
            "Epoch 6/50\n",
            "1250/1250 [==============================] - 36s 29ms/step - loss: 1.6276 - acc: 0.5461 - val_loss: 1.8539 - val_acc: 0.5374\n",
            "Epoch 7/50\n",
            "1250/1250 [==============================] - 36s 29ms/step - loss: 1.5914 - acc: 0.5575 - val_loss: 2.4857 - val_acc: 0.4707\n",
            "Epoch 8/50\n",
            "1250/1250 [==============================] - 35s 28ms/step - loss: 1.5506 - acc: 0.5698 - val_loss: 1.7835 - val_acc: 0.5152\n",
            "Epoch 9/50\n",
            "1250/1250 [==============================] - 35s 28ms/step - loss: 1.5382 - acc: 0.5762 - val_loss: 1.4013 - val_acc: 0.6310\n",
            "Epoch 10/50\n",
            "1250/1250 [==============================] - 36s 29ms/step - loss: 1.5148 - acc: 0.5821 - val_loss: 1.7650 - val_acc: 0.5407\n",
            "Epoch 11/50\n",
            "1250/1250 [==============================] - 36s 29ms/step - loss: 1.4918 - acc: 0.5856 - val_loss: 1.6304 - val_acc: 0.5801\n",
            "Epoch 12/50\n",
            "1250/1250 [==============================] - 35s 28ms/step - loss: 1.4719 - acc: 0.5942 - val_loss: 1.4599 - val_acc: 0.5969\n",
            "Epoch 13/50\n",
            "1250/1250 [==============================] - 35s 28ms/step - loss: 1.4613 - acc: 0.5984 - val_loss: 1.5568 - val_acc: 0.5938\n",
            "Epoch 14/50\n",
            "1250/1250 [==============================] - 36s 29ms/step - loss: 1.4497 - acc: 0.6027 - val_loss: 1.7823 - val_acc: 0.5194\n",
            "Epoch 15/50\n",
            "1250/1250 [==============================] - 35s 28ms/step - loss: 1.4492 - acc: 0.6021 - val_loss: 1.4238 - val_acc: 0.6287\n",
            "Epoch 16/50\n",
            "1250/1250 [==============================] - 35s 28ms/step - loss: 1.4433 - acc: 0.6040 - val_loss: 2.0001 - val_acc: 0.5036\n",
            "Epoch 17/50\n",
            "1250/1250 [==============================] - 35s 28ms/step - loss: 1.4365 - acc: 0.6075 - val_loss: 1.6798 - val_acc: 0.5729\n",
            "Epoch 18/50\n",
            "1250/1250 [==============================] - 36s 29ms/step - loss: 1.4272 - acc: 0.6088 - val_loss: 1.7066 - val_acc: 0.5402\n",
            "Epoch 19/50\n",
            "1250/1250 [==============================] - 36s 28ms/step - loss: 1.4186 - acc: 0.6120 - val_loss: 1.4466 - val_acc: 0.6231\n",
            "Epoch 20/50\n",
            "1250/1250 [==============================] - 35s 28ms/step - loss: 1.4124 - acc: 0.6131 - val_loss: 1.5489 - val_acc: 0.5756\n",
            "Epoch 21/50\n",
            "1250/1250 [==============================] - 38s 31ms/step - loss: 1.4058 - acc: 0.6144 - val_loss: 1.3047 - val_acc: 0.6604\n",
            "Epoch 22/50\n",
            "1250/1250 [==============================] - 37s 29ms/step - loss: 1.4041 - acc: 0.6131 - val_loss: 1.2515 - val_acc: 0.6757\n",
            "Epoch 23/50\n",
            "1250/1250 [==============================] - 36s 29ms/step - loss: 1.4077 - acc: 0.6142 - val_loss: 1.3216 - val_acc: 0.6576\n",
            "Epoch 24/50\n",
            "1250/1250 [==============================] - 36s 29ms/step - loss: 1.3968 - acc: 0.6168 - val_loss: 1.3180 - val_acc: 0.6499\n",
            "Epoch 25/50\n",
            "1250/1250 [==============================] - 36s 28ms/step - loss: 1.3930 - acc: 0.6144 - val_loss: 1.3721 - val_acc: 0.6478\n",
            "Epoch 26/50\n",
            "1250/1250 [==============================] - 35s 28ms/step - loss: 1.3763 - acc: 0.6229 - val_loss: 1.5057 - val_acc: 0.6082\n",
            "Epoch 27/50\n",
            "1250/1250 [==============================] - 36s 29ms/step - loss: 1.3855 - acc: 0.6212 - val_loss: 1.4031 - val_acc: 0.6245\n",
            "Epoch 28/50\n",
            "1250/1250 [==============================] - 36s 29ms/step - loss: 1.3786 - acc: 0.6208 - val_loss: 1.2583 - val_acc: 0.6755\n",
            "Epoch 29/50\n",
            "1250/1250 [==============================] - 36s 28ms/step - loss: 1.3776 - acc: 0.6196 - val_loss: 1.3196 - val_acc: 0.6632\n",
            "Epoch 30/50\n",
            "1250/1250 [==============================] - 35s 28ms/step - loss: 1.3798 - acc: 0.6223 - val_loss: 1.3751 - val_acc: 0.6325\n",
            "Epoch 31/50\n",
            "1250/1250 [==============================] - 36s 29ms/step - loss: 1.3672 - acc: 0.6232 - val_loss: 1.2438 - val_acc: 0.6748\n",
            "Epoch 32/50\n",
            "1250/1250 [==============================] - 36s 29ms/step - loss: 1.3696 - acc: 0.6241 - val_loss: 1.5476 - val_acc: 0.5794\n",
            "Epoch 33/50\n",
            "1250/1250 [==============================] - 35s 28ms/step - loss: 1.3630 - acc: 0.6272 - val_loss: 1.2230 - val_acc: 0.6726\n",
            "Epoch 34/50\n",
            "1250/1250 [==============================] - 35s 28ms/step - loss: 1.3658 - acc: 0.6258 - val_loss: 1.5010 - val_acc: 0.5960\n",
            "Epoch 35/50\n",
            "1250/1250 [==============================] - 36s 29ms/step - loss: 1.3570 - acc: 0.6248 - val_loss: 1.4325 - val_acc: 0.6251\n",
            "Epoch 36/50\n",
            "1250/1250 [==============================] - 36s 29ms/step - loss: 1.3530 - acc: 0.6304 - val_loss: 1.2939 - val_acc: 0.6494\n",
            "Epoch 37/50\n",
            "1250/1250 [==============================] - 36s 29ms/step - loss: 1.3627 - acc: 0.6246 - val_loss: 1.6131 - val_acc: 0.5645\n",
            "Epoch 38/50\n",
            "1250/1250 [==============================] - 36s 28ms/step - loss: 1.3546 - acc: 0.6265 - val_loss: 1.2192 - val_acc: 0.6740\n",
            "Epoch 39/50\n",
            "1250/1250 [==============================] - 36s 29ms/step - loss: 1.3598 - acc: 0.6257 - val_loss: 1.5047 - val_acc: 0.6039\n",
            "Epoch 40/50\n",
            "1250/1250 [==============================] - 36s 29ms/step - loss: 1.3454 - acc: 0.6318 - val_loss: 1.4046 - val_acc: 0.6237\n",
            "Epoch 41/50\n",
            "1250/1250 [==============================] - 39s 31ms/step - loss: 1.3450 - acc: 0.6301 - val_loss: 1.7393 - val_acc: 0.5456\n",
            "Epoch 42/50\n",
            "1250/1250 [==============================] - 36s 29ms/step - loss: 1.3534 - acc: 0.6272 - val_loss: 1.2901 - val_acc: 0.6522\n",
            "Epoch 43/50\n",
            "1250/1250 [==============================] - 35s 28ms/step - loss: 1.3463 - acc: 0.6298 - val_loss: 1.5079 - val_acc: 0.5889\n",
            "Epoch 44/50\n",
            "1250/1250 [==============================] - 35s 28ms/step - loss: 1.3447 - acc: 0.6293 - val_loss: 1.3845 - val_acc: 0.6338\n",
            "Epoch 45/50\n",
            "1250/1250 [==============================] - 35s 28ms/step - loss: 1.3393 - acc: 0.6332 - val_loss: 1.3195 - val_acc: 0.6495\n",
            "Epoch 46/50\n",
            "1250/1250 [==============================] - 35s 28ms/step - loss: 1.3409 - acc: 0.6313 - val_loss: 1.7017 - val_acc: 0.5574\n",
            "Epoch 47/50\n",
            "1250/1250 [==============================] - 35s 28ms/step - loss: 1.3458 - acc: 0.6298 - val_loss: 1.4427 - val_acc: 0.6271\n",
            "Epoch 48/50\n",
            "1250/1250 [==============================] - 36s 29ms/step - loss: 1.3381 - acc: 0.6343 - val_loss: 1.2720 - val_acc: 0.6795\n",
            "Epoch 49/50\n",
            "1250/1250 [==============================] - 36s 29ms/step - loss: 1.3366 - acc: 0.6351 - val_loss: 1.5510 - val_acc: 0.5797\n",
            "Epoch 50/50\n",
            "1250/1250 [==============================] - 36s 28ms/step - loss: 1.3312 - acc: 0.6383 - val_loss: 1.4652 - val_acc: 0.6271\n"
          ],
          "name": "stdout"
        }
      ]
    },
    {
      "metadata": {
        "id": "ELk1rvFQQxuX",
        "colab_type": "text"
      },
      "cell_type": "markdown",
      "source": [
        "**Plotting the model**"
      ]
    },
    {
      "metadata": {
        "id": "aOZo7EtE5MtI",
        "colab_type": "code",
        "outputId": "23f89e45-b3ca-4761-9d8e-595cf5a2bc88",
        "colab": {
          "base_uri": "https://localhost:8080/",
          "height": 707
        }
      },
      "cell_type": "code",
      "source": [
        "\n",
        "import matplotlib.pyplot as plt\n",
        "\n",
        "acc = history.history['acc']\n",
        "val_acc = history.history['val_acc']\n",
        "loss = history.history['loss']\n",
        "val_loss = history.history['val_loss']\n",
        "\n",
        "epochs = range(1, len(acc) + 1)\n",
        "\n",
        "\n",
        "plt.plot(epochs, acc, 'bo', \n",
        "         label='training acc')\n",
        "plt.plot(epochs, val_acc, 'r', label='validation acc')\n",
        "plt.title('training and validation accuracy')\n",
        "plt.legend()\n",
        "\n",
        "plt.figure()\n",
        "\n",
        "plt.plot(epochs, loss, 'bo', label='training loss')\n",
        "plt.plot(epochs, val_loss, 'r', label='validation loss')\n",
        "plt.title('training and validation loss')\n",
        "\n",
        "plt.legend()\n",
        "\n",
        "plt.show()"
      ],
      "execution_count": 8,
      "outputs": [
        {
          "output_type": "display_data",
          "data": {
            "image/png": "[encoded data removed]",
            "text/plain": [
              "<Figure size 576x396 with 1 Axes>"
            ]
          },
          "metadata": {
            "tags": []
          }
        },
        {
          "output_type": "display_data",
          "data": {
            "image/png": "[encoded data removed]",
            "text/plain": [
              "<Figure size 576x396 with 1 Axes>"
            ]
          },
          "metadata": {
            "tags": []
          }
        }
      ]
    },
    {
      "metadata": {
        "id": "77RCTywFQ1NK",
        "colab_type": "text"
      },
      "cell_type": "markdown",
      "source": [
        "**Evaluate the model with validation set**"
      ]
    },
    {
      "metadata": {
        "id": "6_GUAMgkQ3Vv",
        "colab_type": "code",
        "outputId": "aa8f35e9-2380-481b-c19a-ff659bc3de76",
        "colab": {
          "base_uri": "https://localhost:8080/",
          "height": 51
        }
      },
      "cell_type": "code",
      "source": [
        "\n",
        "score = model.evaluate(val_images, val_labels, verbose=0)\n",
        "print('Validation loss:', score[0])\n",
        "print('Validation accuracy:', score[1]*100,\"%\")"
      ],
      "execution_count": 9,
      "outputs": [
        {
          "output_type": "stream",
          "text": [
            "Validation loss: 1.4651514724731445\n",
            "Validation accuracy: 62.71 %\n"
          ],
          "name": "stdout"
        }
      ]
    },
    {
      "metadata": {
        "id": "kPLryLxgShjM",
        "colab_type": "code",
        "colab": {}
      },
      "cell_type": "code",
      "source": [
        ""
      ],
      "execution_count": 0,
      "outputs": []
    }
  ]
}