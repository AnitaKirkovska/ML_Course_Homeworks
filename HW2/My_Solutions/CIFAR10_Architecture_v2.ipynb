{
  "nbformat": 4,
  "nbformat_minor": 0,
  "metadata": {
    "colab": {
      "name": "CIFAR10_Architecture_v2.ipynb",
      "version": "0.3.2",
      "provenance": [],
      "include_colab_link": true
    },
    "kernelspec": {
      "name": "python3",
      "display_name": "Python 3"
    }
  },
  "cells": [
    {
      "cell_type": "markdown",
      "metadata": {
        "id": "view-in-github",
        "colab_type": "text"
      },
      "source": [
        "<a href=\"https://colab.research.google.com/github/AnitaKirkovska/Machine_Learning_Class/blob/master/HW2/My_Solutions/CIFAR10_Architecture_v2.ipynb\" target=\"_parent\"><img src=\"https://colab.research.google.com/assets/colab-badge.svg\" alt=\"Open In Colab\"/></a>"
      ]
    },
    {
      "metadata": {
        "id": "T_XgBXo_2qCH",
        "colab_type": "text"
      },
      "cell_type": "markdown",
      "source": [
        "**Second CNN with Dropout**\n",
        "\n",
        "\n",
        "\n",
        "1.   Conv2D + Relu + Conv2D + Relu + Maxpool\n",
        "2.   Conv2D + Relu + Conv2D + Relu + Maxpool\n",
        "3.   Dense\n",
        "4.   Dropout(0.5)\n",
        "\n"
      ]
    },
    {
      "metadata": {
        "id": "GCowLyKs3AFy",
        "colab_type": "text"
      },
      "cell_type": "markdown",
      "source": [
        "**Loading the CIFAR10 set**"
      ]
    },
    {
      "metadata": {
        "id": "wq2g1ynu2jE5",
        "colab_type": "code",
        "colab": {}
      },
      "cell_type": "code",
      "source": [
        "from keras.datasets import cifar10\n",
        "\n",
        "(train_images, train_labels), (test_images, test_labels) = cifar10.load_data()"
      ],
      "execution_count": 0,
      "outputs": []
    },
    {
      "metadata": {
        "id": "CPd86r-04VKl",
        "colab_type": "text"
      },
      "cell_type": "markdown",
      "source": [
        "**Preparing data**\n",
        "\n",
        "Training/Validation 80%/20%\n"
      ]
    },
    {
      "metadata": {
        "id": "bt8j5iKg3Bcu",
        "colab_type": "code",
        "colab": {
          "base_uri": "https://localhost:8080/",
          "height": 51
        },
        "outputId": "d182f78b-eac8-4e7d-87f0-b2cb833cf891"
      },
      "cell_type": "code",
      "source": [
        "import sklearn.model_selection as skl \n",
        "\n",
        "train_images, val_images, train_labels, val_labels = skl.train_test_split(train_images, train_labels, test_size=0.20)\n",
        "\n",
        "print(\"train images\",train_images.shape)\n",
        "print(\"val images\",val_images.shape)"
      ],
      "execution_count": 8,
      "outputs": [
        {
          "output_type": "stream",
          "text": [
            "train images (40000, 32, 32, 3)\n",
            "val images (10000, 32, 32, 3)\n"
          ],
          "name": "stdout"
        }
      ]
    },
    {
      "metadata": {
        "id": "Q5XefuIQ4ZG2",
        "colab_type": "text"
      },
      "cell_type": "markdown",
      "source": [
        "**Preprocess the data**"
      ]
    },
    {
      "metadata": {
        "id": "K_TuMrsP4XaX",
        "colab_type": "code",
        "colab": {}
      },
      "cell_type": "code",
      "source": [
        "from keras.utils import to_categorical\n",
        "\n",
        "train_images = train_images.astype('float32')/255\n",
        "val_images = val_images.astype('float32')/255\n",
        "\n",
        "train_labels = to_categorical(train_labels)\n",
        "val_labels = to_categorical(val_labels)"
      ],
      "execution_count": 0,
      "outputs": []
    },
    {
      "metadata": {
        "id": "I8MjUwYQ4dWs",
        "colab_type": "text"
      },
      "cell_type": "markdown",
      "source": [
        "**The Architecture**"
      ]
    },
    {
      "metadata": {
        "id": "eisuLLzE4ayi",
        "colab_type": "code",
        "colab": {
          "base_uri": "https://localhost:8080/",
          "height": 476
        },
        "outputId": "033b8dd7-0a6a-4725-fd64-5789492d8682"
      },
      "cell_type": "code",
      "source": [
        "from keras import models\n",
        "from keras import layers\n",
        "\n",
        "model = models.Sequential()\n",
        "\n",
        "model.add(layers.Conv2D(32, (3,3), activation='relu', input_shape=(32,32,3)))\n",
        "model.add(layers.Conv2D(64, (3,3), activation='relu'))\n",
        "model.add(layers.MaxPooling2D(2,2))\n",
        "\n",
        "model.add(layers.Conv2D(128, (3,3), activation='relu'))\n",
        "model.add(layers.Conv2D(256, (3,3), activation='relu'))\n",
        "model.add(layers.MaxPooling2D(2,2))\n",
        "\n",
        "model.add(layers.Flatten())\n",
        "\n",
        "model.add(layers.Dropout(0.5))\n",
        "\n",
        "model.add(layers.Dense(512, activation='relu'))\n",
        "model.add(layers.Dense(10, activation='softmax'))\n",
        "\n",
        "model.summary()"
      ],
      "execution_count": 10,
      "outputs": [
        {
          "output_type": "stream",
          "text": [
            "_________________________________________________________________\n",
            "Layer (type)                 Output Shape              Param #   \n",
            "=================================================================\n",
            "conv2d_5 (Conv2D)            (None, 30, 30, 32)        896       \n",
            "_________________________________________________________________\n",
            "conv2d_6 (Conv2D)            (None, 28, 28, 64)        18496     \n",
            "_________________________________________________________________\n",
            "max_pooling2d_3 (MaxPooling2 (None, 14, 14, 64)        0         \n",
            "_________________________________________________________________\n",
            "conv2d_7 (Conv2D)            (None, 12, 12, 128)       73856     \n",
            "_________________________________________________________________\n",
            "conv2d_8 (Conv2D)            (None, 10, 10, 256)       295168    \n",
            "_________________________________________________________________\n",
            "max_pooling2d_4 (MaxPooling2 (None, 5, 5, 256)         0         \n",
            "_________________________________________________________________\n",
            "flatten_2 (Flatten)          (None, 6400)              0         \n",
            "_________________________________________________________________\n",
            "dropout_2 (Dropout)          (None, 6400)              0         \n",
            "_________________________________________________________________\n",
            "dense_3 (Dense)              (None, 512)               3277312   \n",
            "_________________________________________________________________\n",
            "dense_4 (Dense)              (None, 10)                5130      \n",
            "=================================================================\n",
            "Total params: 3,670,858\n",
            "Trainable params: 3,670,858\n",
            "Non-trainable params: 0\n",
            "_________________________________________________________________\n"
          ],
          "name": "stdout"
        }
      ]
    },
    {
      "metadata": {
        "id": "KRuBUB5K5G4q",
        "colab_type": "text"
      },
      "cell_type": "markdown",
      "source": [
        "**Compiling the model**"
      ]
    },
    {
      "metadata": {
        "id": "qKFIWiqv4vv2",
        "colab_type": "code",
        "colab": {}
      },
      "cell_type": "code",
      "source": [
        "model.compile(\n",
        "    loss='categorical_crossentropy',\n",
        "    optimizer='rmsprop',\n",
        "    metrics=['accuracy'])"
      ],
      "execution_count": 0,
      "outputs": []
    },
    {
      "metadata": {
        "id": "30Pq2VmD5KBB",
        "colab_type": "text"
      },
      "cell_type": "markdown",
      "source": [
        "**Training the model**"
      ]
    },
    {
      "metadata": {
        "id": "fiU5-1x25IZ5",
        "colab_type": "code",
        "colab": {
          "base_uri": "https://localhost:8080/",
          "height": 374
        },
        "outputId": "d38b3af2-e95e-4dcd-da88-dac2faee7cc5"
      },
      "cell_type": "code",
      "source": [
        "history = model.fit(train_images,\n",
        "          train_labels,\n",
        "          batch_size=128,\n",
        "          epochs = 10,\n",
        "          validation_data=(val_images, val_labels))"
      ],
      "execution_count": 12,
      "outputs": [
        {
          "output_type": "stream",
          "text": [
            "Train on 40000 samples, validate on 10000 samples\n",
            "Epoch 1/10\n",
            "40000/40000 [==============================] - 386s 10ms/step - loss: 1.8669 - acc: 0.3436 - val_loss: 1.4428 - val_acc: 0.4936\n",
            "Epoch 2/10\n",
            "40000/40000 [==============================] - 382s 10ms/step - loss: 1.3373 - acc: 0.5257 - val_loss: 1.2475 - val_acc: 0.5442\n",
            "Epoch 3/10\n",
            "40000/40000 [==============================] - 381s 10ms/step - loss: 1.1124 - acc: 0.6144 - val_loss: 1.0315 - val_acc: 0.6438\n",
            "Epoch 4/10\n",
            "40000/40000 [==============================] - 385s 10ms/step - loss: 0.9560 - acc: 0.6738 - val_loss: 0.8642 - val_acc: 0.6999\n",
            "Epoch 5/10\n",
            "40000/40000 [==============================] - 400s 10ms/step - loss: 0.8312 - acc: 0.7124 - val_loss: 0.9641 - val_acc: 0.6729\n",
            "Epoch 6/10\n",
            "40000/40000 [==============================] - 409s 10ms/step - loss: 0.7416 - acc: 0.7450 - val_loss: 0.9140 - val_acc: 0.7050\n",
            "Epoch 7/10\n",
            "40000/40000 [==============================] - 415s 10ms/step - loss: 0.6710 - acc: 0.7688 - val_loss: 0.7634 - val_acc: 0.7406\n",
            "Epoch 8/10\n",
            "40000/40000 [==============================] - 395s 10ms/step - loss: 0.6152 - acc: 0.7917 - val_loss: 0.7834 - val_acc: 0.7390\n",
            "Epoch 9/10\n",
            "40000/40000 [==============================] - 405s 10ms/step - loss: 0.5727 - acc: 0.8031 - val_loss: 0.8162 - val_acc: 0.7295\n",
            "Epoch 10/10\n",
            "40000/40000 [==============================] - 398s 10ms/step - loss: 0.5350 - acc: 0.8192 - val_loss: 0.7970 - val_acc: 0.7359\n"
          ],
          "name": "stdout"
        }
      ]
    },
    {
      "metadata": {
        "id": "ELk1rvFQQxuX",
        "colab_type": "text"
      },
      "cell_type": "markdown",
      "source": [
        "**Plotting the model**"
      ]
    },
    {
      "metadata": {
        "id": "aOZo7EtE5MtI",
        "colab_type": "code",
        "colab": {
          "base_uri": "https://localhost:8080/",
          "height": 707
        },
        "outputId": "9f58fcd0-95be-4de1-c414-4a369aa5ab5e"
      },
      "cell_type": "code",
      "source": [
        "\n",
        "import matplotlib.pyplot as plt\n",
        "\n",
        "acc = history.history['acc']\n",
        "val_acc = history.history['val_acc']\n",
        "loss = history.history['loss']\n",
        "val_loss = history.history['val_loss']\n",
        "\n",
        "epochs = range(1, len(acc) + 1)\n",
        "\n",
        "\n",
        "plt.plot(epochs, acc, 'bo', \n",
        "         label='training acc')\n",
        "plt.plot(epochs, val_acc, 'r', label='validation acc')\n",
        "plt.title('training and validation accuracy')\n",
        "plt.legend()\n",
        "\n",
        "plt.figure()\n",
        "\n",
        "plt.plot(epochs, loss, 'bo', label='training loss')\n",
        "plt.plot(epochs, val_loss, 'r', label='validation loss')\n",
        "plt.title('training and validation loss')\n",
        "\n",
        "plt.legend()\n",
        "\n",
        "plt.show()"
      ],
      "execution_count": 14,
      "outputs": [
        {
          "output_type": "display_data",
          "data": {
            "image/png": "[encoded data removed]",
            "text/plain": [
              "<Figure size 576x396 with 1 Axes>"
            ]
          },
          "metadata": {
            "tags": []
          }
        },
        {
          "output_type": "display_data",
          "data": {
            "image/png": "[encoded data removed]",
            "text/plain": [
              "<Figure size 576x396 with 1 Axes>"
            ]
          },
          "metadata": {
            "tags": []
          }
        }
      ]
    },
    {
      "metadata": {
        "id": "77RCTywFQ1NK",
        "colab_type": "text"
      },
      "cell_type": "markdown",
      "source": [
        "**Evaluate the model with validation set**"
      ]
    },
    {
      "metadata": {
        "id": "6_GUAMgkQ3Vv",
        "colab_type": "code",
        "colab": {
          "base_uri": "https://localhost:8080/",
          "height": 51
        },
        "outputId": "95197711-0ae1-4c26-b0fa-a87ecf524f52"
      },
      "cell_type": "code",
      "source": [
        "\n",
        "score = model.evaluate(val_images, val_labels, verbose=0)\n",
        "print('Validation loss:', score[0])\n",
        "print('Validation accuracy:', score[1]*100,\"%\")"
      ],
      "execution_count": 15,
      "outputs": [
        {
          "output_type": "stream",
          "text": [
            "Validation loss: 0.7969928366661072\n",
            "Validation accuracy: 73.59 %\n"
          ],
          "name": "stdout"
        }
      ]
    },
    {
      "metadata": {
        "id": "kPLryLxgShjM",
        "colab_type": "code",
        "colab": {}
      },
      "cell_type": "code",
      "source": [
        ""
      ],
      "execution_count": 0,
      "outputs": []
    }
  ]
}