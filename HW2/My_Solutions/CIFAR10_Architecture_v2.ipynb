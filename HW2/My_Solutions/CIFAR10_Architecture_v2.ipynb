{
  "nbformat": 4,
  "nbformat_minor": 0,
  "metadata": {
    "colab": {
      "name": "CIFAR10_Architecture_v2.ipynb",
      "version": "0.3.2",
      "provenance": [],
      "include_colab_link": true
    },
    "kernelspec": {
      "name": "python3",
      "display_name": "Python 3"
    },
    "accelerator": "GPU"
  },
  "cells": [
    {
      "cell_type": "markdown",
      "metadata": {
        "id": "view-in-github",
        "colab_type": "text"
      },
      "source": [
        "<a href=\"https://colab.research.google.com/github/AnitaKirkovska/Machine_Learning_Class/blob/master/HW2/My_Solutions/CIFAR10_Architecture_v2.ipynb\" target=\"_parent\"><img src=\"https://colab.research.google.com/assets/colab-badge.svg\" alt=\"Open In Colab\"/></a>"
      ]
    },
    {
      "metadata": {
        "id": "nMpXk5rvqFkN",
        "colab_type": "text"
      },
      "cell_type": "markdown",
      "source": [
        "# **Simple hold-out validation - Second CNN model **\n",
        "\n",
        "Finding the best model without Data Aug, Drop out, Normalizaiton techniques.\n",
        "\n",
        "\n",
        "\n",
        "**There is evident case of overfitting, but accuracy is higher than previous version.**\n",
        "\n",
        "[Previous model](https://github.com/AnitaKirkovska/Machine_Learning_Class/blob/master/HW2/My_Solutions/CIFAR10_Architecture_v1.ipynb)  ```validation accuracy: 63.65%```\n",
        "\n",
        "```This model validation accuracy: 71.54%```\n",
        "\n",
        "\n"
      ]
    },
    {
      "metadata": {
        "id": "s_AhUNzKlvfc",
        "colab_type": "text"
      },
      "cell_type": "markdown",
      "source": [
        "**Loading the CIFAR10 set**"
      ]
    },
    {
      "metadata": {
        "id": "gC6RaFtWlnJ0",
        "colab_type": "code",
        "colab": {
          "base_uri": "https://localhost:8080/",
          "height": 34
        },
        "outputId": "9d460990-adcd-49cd-f7f2-b3c5cbc02d91"
      },
      "cell_type": "code",
      "source": [
        "from keras.datasets import cifar10\n",
        "\n",
        "(train_images, train_labels), (test_images, test_labels) = cifar10.load_data()"
      ],
      "execution_count": 2,
      "outputs": [
        {
          "output_type": "stream",
          "text": [
            "Using TensorFlow backend.\n"
          ],
          "name": "stderr"
        }
      ]
    },
    {
      "metadata": {
        "id": "xzMADY1AsS5D",
        "colab_type": "text"
      },
      "cell_type": "markdown",
      "source": [
        "**Preparing data**\n",
        "\n",
        "Training/Validation 80%/20%\n"
      ]
    },
    {
      "metadata": {
        "id": "dLZZ4weelz6D",
        "colab_type": "code",
        "outputId": "6371d814-e17e-4e34-851f-9dee5e6350dd",
        "colab": {
          "base_uri": "https://localhost:8080/",
          "height": 51
        }
      },
      "cell_type": "code",
      "source": [
        "import sklearn.model_selection as skl \n",
        "\n",
        "train_images, val_images, train_labels, val_labels = skl.train_test_split(train_images, train_labels, test_size=0.20)\n",
        "\n",
        "print(\"train images\",train_images.shape)\n",
        "print(\"val images\",val_images.shape)"
      ],
      "execution_count": 3,
      "outputs": [
        {
          "output_type": "stream",
          "text": [
            "train images (40000, 32, 32, 3)\n",
            "val images (10000, 32, 32, 3)\n"
          ],
          "name": "stdout"
        }
      ]
    },
    {
      "metadata": {
        "id": "DcFxp8Evvl1J",
        "colab_type": "text"
      },
      "cell_type": "markdown",
      "source": [
        "**Preprocess the data**"
      ]
    },
    {
      "metadata": {
        "id": "IH8XuNgxuDgG",
        "colab_type": "code",
        "colab": {}
      },
      "cell_type": "code",
      "source": [
        "from keras.utils import to_categorical\n",
        "\n",
        "train_images = train_images.astype('float32')/255\n",
        "val_images = val_images.astype('float32')/255\n",
        "\n",
        "train_labels = to_categorical(train_labels)\n",
        "val_labels = to_categorical(val_labels)"
      ],
      "execution_count": 0,
      "outputs": []
    },
    {
      "metadata": {
        "id": "q0MRhybNwL4M",
        "colab_type": "text"
      },
      "cell_type": "markdown",
      "source": [
        "**The Architecture**"
      ]
    },
    {
      "metadata": {
        "id": "RB_-pHxswHY_",
        "colab_type": "code",
        "outputId": "a0f2650c-b44a-4998-ad65-a0b222cc2dd2",
        "colab": {
          "base_uri": "https://localhost:8080/",
          "height": 479
        }
      },
      "cell_type": "code",
      "source": [
        "from keras import models\n",
        "from keras import layers\n",
        "\n",
        "model = models.Sequential()\n",
        "\n",
        "model.add(layers.Conv2D(64, (3,3), activation='relu', input_shape=(32,32,3)))\n",
        "model.add(layers.MaxPooling2D(2,2))\n",
        "\n",
        "model.add(layers.Conv2D(128, (3,3), activation='relu'))\n",
        "model.add(layers.MaxPooling2D(2,2))\n",
        "\n",
        "model.add(layers.Conv2D(256, (3,3), activation='relu'))\n",
        "model.add(layers.MaxPooling2D(2,2))\n",
        "\n",
        "model.add(layers.Flatten())\n",
        "\n",
        "model.add(layers.Dense(10, activation='softmax'))\n",
        "\n",
        "model.summary()"
      ],
      "execution_count": 5,
      "outputs": [
        {
          "output_type": "stream",
          "text": [
            "WARNING:tensorflow:From /usr/local/lib/python3.6/dist-packages/tensorflow/python/framework/op_def_library.py:263: colocate_with (from tensorflow.python.framework.ops) is deprecated and will be removed in a future version.\n",
            "Instructions for updating:\n",
            "Colocations handled automatically by placer.\n",
            "_________________________________________________________________\n",
            "Layer (type)                 Output Shape              Param #   \n",
            "=================================================================\n",
            "conv2d_1 (Conv2D)            (None, 30, 30, 64)        1792      \n",
            "_________________________________________________________________\n",
            "max_pooling2d_1 (MaxPooling2 (None, 15, 15, 64)        0         \n",
            "_________________________________________________________________\n",
            "conv2d_2 (Conv2D)            (None, 13, 13, 128)       73856     \n",
            "_________________________________________________________________\n",
            "max_pooling2d_2 (MaxPooling2 (None, 6, 6, 128)         0         \n",
            "_________________________________________________________________\n",
            "conv2d_3 (Conv2D)            (None, 4, 4, 256)         295168    \n",
            "_________________________________________________________________\n",
            "max_pooling2d_3 (MaxPooling2 (None, 2, 2, 256)         0         \n",
            "_________________________________________________________________\n",
            "flatten_1 (Flatten)          (None, 1024)              0         \n",
            "_________________________________________________________________\n",
            "dense_1 (Dense)              (None, 10)                10250     \n",
            "=================================================================\n",
            "Total params: 381,066\n",
            "Trainable params: 381,066\n",
            "Non-trainable params: 0\n",
            "_________________________________________________________________\n"
          ],
          "name": "stdout"
        }
      ]
    },
    {
      "metadata": {
        "id": "I09lNpRC0T6N",
        "colab_type": "text"
      },
      "cell_type": "markdown",
      "source": [
        "**Compiling the model**"
      ]
    },
    {
      "metadata": {
        "id": "FAlS6jHsz9wD",
        "colab_type": "code",
        "colab": {}
      },
      "cell_type": "code",
      "source": [
        "import keras\n",
        "opt = keras.optimizers.rmsprop(lr=0.0005, decay=1e-6)\n",
        "\n",
        "model.compile(\n",
        "    loss='categorical_crossentropy',\n",
        "    optimizer=opt,\n",
        "    metrics=['accuracy'])"
      ],
      "execution_count": 0,
      "outputs": []
    },
    {
      "metadata": {
        "id": "vPHqytLh0i1O",
        "colab_type": "text"
      },
      "cell_type": "markdown",
      "source": [
        "**Training the network**"
      ]
    },
    {
      "metadata": {
        "id": "EnJgV0Qs0iRD",
        "colab_type": "code",
        "outputId": "47c09120-54b9-4b85-d796-5bee4ac1d705",
        "colab": {
          "base_uri": "https://localhost:8080/",
          "height": 1805
        }
      },
      "cell_type": "code",
      "source": [
        "history = model.fit(train_images,\n",
        "          train_labels,\n",
        "          batch_size=128,\n",
        "          epochs = 50,\n",
        "          validation_data=(val_images, val_labels))"
      ],
      "execution_count": 7,
      "outputs": [
        {
          "output_type": "stream",
          "text": [
            "WARNING:tensorflow:From /usr/local/lib/python3.6/dist-packages/tensorflow/python/ops/math_ops.py:3066: to_int32 (from tensorflow.python.ops.math_ops) is deprecated and will be removed in a future version.\n",
            "Instructions for updating:\n",
            "Use tf.cast instead.\n",
            "Train on 40000 samples, validate on 10000 samples\n",
            "Epoch 1/50\n",
            "40000/40000 [==============================] - 9s 221us/step - loss: 1.7959 - acc: 0.3514 - val_loss: 1.5431 - val_acc: 0.4514\n",
            "Epoch 2/50\n",
            "40000/40000 [==============================] - 7s 176us/step - loss: 1.4758 - acc: 0.4739 - val_loss: 1.3417 - val_acc: 0.5188\n",
            "Epoch 3/50\n",
            "40000/40000 [==============================] - 7s 175us/step - loss: 1.3148 - acc: 0.5363 - val_loss: 1.2316 - val_acc: 0.5700\n",
            "Epoch 4/50\n",
            "40000/40000 [==============================] - 7s 176us/step - loss: 1.2021 - acc: 0.5809 - val_loss: 1.2027 - val_acc: 0.5622\n",
            "Epoch 5/50\n",
            "40000/40000 [==============================] - 7s 175us/step - loss: 1.1085 - acc: 0.6152 - val_loss: 1.0781 - val_acc: 0.6177\n",
            "Epoch 6/50\n",
            "40000/40000 [==============================] - 7s 175us/step - loss: 1.0309 - acc: 0.6452 - val_loss: 1.0674 - val_acc: 0.6282\n",
            "Epoch 7/50\n",
            "40000/40000 [==============================] - 7s 176us/step - loss: 0.9590 - acc: 0.6681 - val_loss: 1.0489 - val_acc: 0.6367\n",
            "Epoch 8/50\n",
            "40000/40000 [==============================] - 7s 175us/step - loss: 0.9041 - acc: 0.6900 - val_loss: 0.9625 - val_acc: 0.6751\n",
            "Epoch 9/50\n",
            "40000/40000 [==============================] - 7s 174us/step - loss: 0.8468 - acc: 0.7110 - val_loss: 0.9217 - val_acc: 0.6827\n",
            "Epoch 10/50\n",
            "40000/40000 [==============================] - 7s 175us/step - loss: 0.7961 - acc: 0.7270 - val_loss: 0.9456 - val_acc: 0.6830\n",
            "Epoch 11/50\n",
            "40000/40000 [==============================] - 7s 175us/step - loss: 0.7472 - acc: 0.7471 - val_loss: 0.9539 - val_acc: 0.6750\n",
            "Epoch 12/50\n",
            "40000/40000 [==============================] - 7s 175us/step - loss: 0.6978 - acc: 0.7616 - val_loss: 0.9992 - val_acc: 0.6614\n",
            "Epoch 13/50\n",
            "40000/40000 [==============================] - 7s 175us/step - loss: 0.6541 - acc: 0.7777 - val_loss: 0.9157 - val_acc: 0.6868\n",
            "Epoch 14/50\n",
            "40000/40000 [==============================] - 7s 175us/step - loss: 0.6118 - acc: 0.7917 - val_loss: 0.8822 - val_acc: 0.7011\n",
            "Epoch 15/50\n",
            "40000/40000 [==============================] - 7s 175us/step - loss: 0.5709 - acc: 0.8074 - val_loss: 0.8615 - val_acc: 0.7160\n",
            "Epoch 16/50\n",
            "40000/40000 [==============================] - 7s 175us/step - loss: 0.5294 - acc: 0.8218 - val_loss: 0.8609 - val_acc: 0.7147\n",
            "Epoch 17/50\n",
            "40000/40000 [==============================] - 7s 175us/step - loss: 0.4873 - acc: 0.8360 - val_loss: 0.8826 - val_acc: 0.7138\n",
            "Epoch 18/50\n",
            "40000/40000 [==============================] - 7s 175us/step - loss: 0.4526 - acc: 0.8473 - val_loss: 0.9400 - val_acc: 0.7025\n",
            "Epoch 19/50\n",
            "40000/40000 [==============================] - 7s 175us/step - loss: 0.4131 - acc: 0.8623 - val_loss: 0.8631 - val_acc: 0.7243\n",
            "Epoch 20/50\n",
            "40000/40000 [==============================] - 7s 175us/step - loss: 0.3783 - acc: 0.8727 - val_loss: 0.9535 - val_acc: 0.7134\n",
            "Epoch 21/50\n",
            "40000/40000 [==============================] - 7s 174us/step - loss: 0.3401 - acc: 0.8874 - val_loss: 0.8919 - val_acc: 0.7218\n",
            "Epoch 22/50\n",
            "40000/40000 [==============================] - 7s 175us/step - loss: 0.3095 - acc: 0.8979 - val_loss: 0.9763 - val_acc: 0.7163\n",
            "Epoch 23/50\n",
            "40000/40000 [==============================] - 7s 175us/step - loss: 0.2769 - acc: 0.9103 - val_loss: 1.0693 - val_acc: 0.6943\n",
            "Epoch 24/50\n",
            "40000/40000 [==============================] - 7s 176us/step - loss: 0.2462 - acc: 0.9210 - val_loss: 1.0707 - val_acc: 0.6978\n",
            "Epoch 25/50\n",
            "40000/40000 [==============================] - 7s 175us/step - loss: 0.2221 - acc: 0.9284 - val_loss: 1.1031 - val_acc: 0.7048\n",
            "Epoch 26/50\n",
            "40000/40000 [==============================] - 7s 175us/step - loss: 0.1924 - acc: 0.9396 - val_loss: 1.1120 - val_acc: 0.7108\n",
            "Epoch 27/50\n",
            "40000/40000 [==============================] - 7s 175us/step - loss: 0.1714 - acc: 0.9459 - val_loss: 1.2221 - val_acc: 0.7034\n",
            "Epoch 28/50\n",
            "40000/40000 [==============================] - 7s 175us/step - loss: 0.1493 - acc: 0.9546 - val_loss: 1.2060 - val_acc: 0.7089\n",
            "Epoch 29/50\n",
            "40000/40000 [==============================] - 7s 175us/step - loss: 0.1297 - acc: 0.9618 - val_loss: 1.2082 - val_acc: 0.7187\n",
            "Epoch 30/50\n",
            "40000/40000 [==============================] - 7s 174us/step - loss: 0.1143 - acc: 0.9652 - val_loss: 1.3200 - val_acc: 0.7040\n",
            "Epoch 31/50\n",
            "40000/40000 [==============================] - 7s 175us/step - loss: 0.0993 - acc: 0.9714 - val_loss: 1.5867 - val_acc: 0.6753\n",
            "Epoch 32/50\n",
            "40000/40000 [==============================] - 7s 175us/step - loss: 0.0889 - acc: 0.9739 - val_loss: 1.3493 - val_acc: 0.7118\n",
            "Epoch 33/50\n",
            "40000/40000 [==============================] - 7s 176us/step - loss: 0.0768 - acc: 0.9786 - val_loss: 1.3402 - val_acc: 0.7181\n",
            "Epoch 34/50\n",
            "40000/40000 [==============================] - 7s 175us/step - loss: 0.0667 - acc: 0.9811 - val_loss: 1.4181 - val_acc: 0.7221\n",
            "Epoch 35/50\n",
            "40000/40000 [==============================] - 7s 175us/step - loss: 0.0594 - acc: 0.9834 - val_loss: 1.4678 - val_acc: 0.7224\n",
            "Epoch 36/50\n",
            "40000/40000 [==============================] - 7s 174us/step - loss: 0.0516 - acc: 0.9852 - val_loss: 1.5652 - val_acc: 0.7083\n",
            "Epoch 37/50\n",
            "40000/40000 [==============================] - 7s 174us/step - loss: 0.0505 - acc: 0.9863 - val_loss: 1.5150 - val_acc: 0.7197\n",
            "Epoch 38/50\n",
            "40000/40000 [==============================] - 7s 174us/step - loss: 0.0458 - acc: 0.9874 - val_loss: 1.5389 - val_acc: 0.7187\n",
            "Epoch 39/50\n",
            "40000/40000 [==============================] - 7s 175us/step - loss: 0.0404 - acc: 0.9887 - val_loss: 1.6301 - val_acc: 0.7184\n",
            "Epoch 40/50\n",
            "40000/40000 [==============================] - 7s 174us/step - loss: 0.0381 - acc: 0.9893 - val_loss: 1.5977 - val_acc: 0.7306\n",
            "Epoch 41/50\n",
            "40000/40000 [==============================] - 7s 175us/step - loss: 0.0349 - acc: 0.9908 - val_loss: 1.7109 - val_acc: 0.7176\n",
            "Epoch 42/50\n",
            "40000/40000 [==============================] - 7s 174us/step - loss: 0.0328 - acc: 0.9912 - val_loss: 1.6869 - val_acc: 0.7194\n",
            "Epoch 43/50\n",
            "40000/40000 [==============================] - 7s 175us/step - loss: 0.0300 - acc: 0.9920 - val_loss: 1.7376 - val_acc: 0.7200\n",
            "Epoch 44/50\n",
            "40000/40000 [==============================] - 7s 175us/step - loss: 0.0338 - acc: 0.9904 - val_loss: 1.7726 - val_acc: 0.7145\n",
            "Epoch 45/50\n",
            "40000/40000 [==============================] - 7s 175us/step - loss: 0.0256 - acc: 0.9929 - val_loss: 2.0854 - val_acc: 0.6861\n",
            "Epoch 46/50\n",
            "40000/40000 [==============================] - 7s 175us/step - loss: 0.0275 - acc: 0.9925 - val_loss: 1.7743 - val_acc: 0.7239\n",
            "Epoch 47/50\n",
            "40000/40000 [==============================] - 7s 175us/step - loss: 0.0264 - acc: 0.9931 - val_loss: 1.8485 - val_acc: 0.7169\n",
            "Epoch 48/50\n",
            "40000/40000 [==============================] - 7s 175us/step - loss: 0.0230 - acc: 0.9937 - val_loss: 1.9176 - val_acc: 0.7093\n",
            "Epoch 49/50\n",
            "40000/40000 [==============================] - 7s 175us/step - loss: 0.0227 - acc: 0.9933 - val_loss: 1.9562 - val_acc: 0.7131\n",
            "Epoch 50/50\n",
            "40000/40000 [==============================] - 7s 175us/step - loss: 0.0223 - acc: 0.9934 - val_loss: 1.9626 - val_acc: 0.7154\n"
          ],
          "name": "stdout"
        }
      ]
    },
    {
      "metadata": {
        "id": "Qj_0Cx1R99HS",
        "colab_type": "text"
      },
      "cell_type": "markdown",
      "source": [
        "**Plotting the model**"
      ]
    },
    {
      "metadata": {
        "id": "mEZBx7pk1NCr",
        "colab_type": "code",
        "cellView": "code",
        "outputId": "67d6fee3-756d-425e-f603-598038488889",
        "colab": {
          "base_uri": "https://localhost:8080/",
          "height": 707
        }
      },
      "cell_type": "code",
      "source": [
        "#@title\n",
        "import matplotlib.pyplot as plt\n",
        "\n",
        "acc = history.history['acc']\n",
        "val_acc = history.history['val_acc']\n",
        "loss = history.history['loss']\n",
        "val_loss = history.history['val_loss']\n",
        "\n",
        "epochs = range(1, len(acc) + 1)\n",
        "\n",
        "\n",
        "plt.plot(epochs, acc, 'bo', \n",
        "         label='training acc')\n",
        "plt.plot(epochs, val_acc, 'r', label='validation acc')\n",
        "plt.title('training and validation accuracy')\n",
        "plt.legend()\n",
        "\n",
        "plt.figure()\n",
        "\n",
        "plt.plot(epochs, loss, 'bo', label='training loss')\n",
        "plt.plot(epochs, val_loss, 'r', label='validation loss')\n",
        "plt.title('training and validation loss')\n",
        "\n",
        "plt.legend()\n",
        "\n",
        "plt.show()"
      ],
      "execution_count": 8,
      "outputs": [
        {
          "output_type": "display_data",
          "data": {
            "image/png": "[encoded data removed]",
            "text/plain": [
              "<Figure size 576x396 with 1 Axes>"
            ]
          },
          "metadata": {
            "tags": []
          }
        },
        {
          "output_type": "display_data",
          "data": {
            "image/png": "[encoded data removed]",
            "text/plain": [
              "<Figure size 576x396 with 1 Axes>"
            ]
          },
          "metadata": {
            "tags": []
          }
        }
      ]
    },
    {
      "metadata": {
        "id": "WgnhCQdm_KyJ",
        "colab_type": "text"
      },
      "cell_type": "markdown",
      "source": [
        "**Evaluate the model with validation set**\n",
        "\n"
      ]
    },
    {
      "metadata": {
        "id": "NvqLZ0RY9-66",
        "colab_type": "code",
        "cellView": "code",
        "outputId": "05661a6e-c25b-4a16-f0f7-487cecb2561e",
        "colab": {
          "base_uri": "https://localhost:8080/",
          "height": 51
        }
      },
      "cell_type": "code",
      "source": [
        "\n",
        "score = model.evaluate(val_images, val_labels, verbose=0)\n",
        "print('Validation loss:', score[0])\n",
        "print('Validation accuracy:', score[1]*100,\"%\")"
      ],
      "execution_count": 9,
      "outputs": [
        {
          "output_type": "stream",
          "text": [
            "Validation loss: 1.9626147029876708\n",
            "Validation accuracy: 71.54 %\n"
          ],
          "name": "stdout"
        }
      ]
    },
    {
      "metadata": {
        "id": "ZUk8MGhBC0HR",
        "colab_type": "code",
        "colab": {}
      },
      "cell_type": "code",
      "source": [
        ""
      ],
      "execution_count": 0,
      "outputs": []
    }
  ]
}