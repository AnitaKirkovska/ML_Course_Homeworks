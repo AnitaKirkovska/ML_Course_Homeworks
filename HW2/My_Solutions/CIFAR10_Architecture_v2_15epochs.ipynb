{
  "nbformat": 4,
  "nbformat_minor": 0,
  "metadata": {
    "colab": {
      "name": "CIFAR10_Architecture_v2-15epochs.ipynb",
      "version": "0.3.2",
      "provenance": [],
      "include_colab_link": true
    },
    "kernelspec": {
      "name": "python3",
      "display_name": "Python 3"
    },
    "accelerator": "GPU"
  },
  "cells": [
    {
      "cell_type": "markdown",
      "metadata": {
        "id": "view-in-github",
        "colab_type": "text"
      },
      "source": [
        "<a href=\"https://colab.research.google.com/github/AnitaKirkovska/Machine_Learning_Class/blob/master/HW2/My_Solutions/CIFAR10_Architecture_v2_15epochs.ipynb\" target=\"_parent\"><img src=\"https://colab.research.google.com/assets/colab-badge.svg\" alt=\"Open In Colab\"/></a>"
      ]
    },
    {
      "metadata": {
        "id": "T_XgBXo_2qCH",
        "colab_type": "text"
      },
      "cell_type": "markdown",
      "source": [
        "**Second CNN with Dropout**\n",
        "\n",
        "\n",
        "\n",
        "1.   Conv2D + Relu + Conv2D + Relu + Maxpool\n",
        "2.   Conv2D + Relu + Conv2D + Relu + Maxpool\n",
        "\n",
        "Dropout(0.25) and Dropout (0.5) after Flatten()\n"
      ]
    },
    {
      "metadata": {
        "id": "GCowLyKs3AFy",
        "colab_type": "text"
      },
      "cell_type": "markdown",
      "source": [
        "**Loading the CIFAR10 set**"
      ]
    },
    {
      "metadata": {
        "id": "wq2g1ynu2jE5",
        "colab_type": "code",
        "colab": {
          "base_uri": "https://localhost:8080/",
          "height": 34
        },
        "outputId": "aec7a5be-e69d-4412-efc1-0a8a415f35af"
      },
      "cell_type": "code",
      "source": [
        "from keras.datasets import cifar10\n",
        "\n",
        "(train_images, train_labels), (test_images, test_labels) = cifar10.load_data()"
      ],
      "execution_count": 1,
      "outputs": [
        {
          "output_type": "stream",
          "text": [
            "Using TensorFlow backend.\n"
          ],
          "name": "stderr"
        }
      ]
    },
    {
      "metadata": {
        "id": "CPd86r-04VKl",
        "colab_type": "text"
      },
      "cell_type": "markdown",
      "source": [
        "**Preparing data**\n",
        "\n",
        "Training/Validation 80%/20%\n"
      ]
    },
    {
      "metadata": {
        "id": "bt8j5iKg3Bcu",
        "colab_type": "code",
        "outputId": "694edbcb-c319-4cb8-cebe-a1198fe09bc1",
        "colab": {
          "base_uri": "https://localhost:8080/",
          "height": 51
        }
      },
      "cell_type": "code",
      "source": [
        "import sklearn.model_selection as skl \n",
        "\n",
        "train_images, val_images, train_labels, val_labels = skl.train_test_split(train_images, train_labels, test_size=0.20)\n",
        "\n",
        "print(\"train images\",train_images.shape)\n",
        "print(\"val images\",val_images.shape)"
      ],
      "execution_count": 2,
      "outputs": [
        {
          "output_type": "stream",
          "text": [
            "train images (40000, 32, 32, 3)\n",
            "val images (10000, 32, 32, 3)\n"
          ],
          "name": "stdout"
        }
      ]
    },
    {
      "metadata": {
        "id": "Q5XefuIQ4ZG2",
        "colab_type": "text"
      },
      "cell_type": "markdown",
      "source": [
        "**Preprocess the data**"
      ]
    },
    {
      "metadata": {
        "id": "K_TuMrsP4XaX",
        "colab_type": "code",
        "colab": {}
      },
      "cell_type": "code",
      "source": [
        "from keras.utils import to_categorical\n",
        "\n",
        "train_images = train_images.astype('float32')/255\n",
        "val_images = val_images.astype('float32')/255\n",
        "\n",
        "train_labels = to_categorical(train_labels)\n",
        "val_labels = to_categorical(val_labels)"
      ],
      "execution_count": 0,
      "outputs": []
    },
    {
      "metadata": {
        "id": "I8MjUwYQ4dWs",
        "colab_type": "text"
      },
      "cell_type": "markdown",
      "source": [
        "**The Architecture**"
      ]
    },
    {
      "metadata": {
        "id": "eisuLLzE4ayi",
        "colab_type": "code",
        "outputId": "36051658-10e4-491d-eb48-072b6edb81ce",
        "colab": {
          "base_uri": "https://localhost:8080/",
          "height": 510
        }
      },
      "cell_type": "code",
      "source": [
        "from keras import models\n",
        "from keras import layers\n",
        "\n",
        "model = models.Sequential()\n",
        "\n",
        "model.add(layers.Conv2D(32, (3,3), activation='relu', input_shape=(32,32,3)))\n",
        "model.add(layers.Conv2D(64, (3,3), activation='relu'))\n",
        "model.add(layers.MaxPooling2D(2,2))\n",
        "\n",
        "model.add(layers.Conv2D(128, (3,3), activation='relu'))\n",
        "model.add(layers.Conv2D(256, (3,3), activation='relu'))\n",
        "model.add(layers.MaxPooling2D(2,2))\n",
        "model.add(layers.Dropout(0.25))\n",
        "\n",
        "model.add(layers.Flatten())\n",
        "\n",
        "model.add(layers.Dropout(0.5))\n",
        "\n",
        "model.add(layers.Dense(512, activation='relu'))\n",
        "model.add(layers.Dense(10, activation='softmax'))\n",
        "\n",
        "model.summary()"
      ],
      "execution_count": 9,
      "outputs": [
        {
          "output_type": "stream",
          "text": [
            "_________________________________________________________________\n",
            "Layer (type)                 Output Shape              Param #   \n",
            "=================================================================\n",
            "conv2d_21 (Conv2D)           (None, 30, 30, 32)        896       \n",
            "_________________________________________________________________\n",
            "conv2d_22 (Conv2D)           (None, 28, 28, 64)        18496     \n",
            "_________________________________________________________________\n",
            "max_pooling2d_13 (MaxPooling (None, 14, 14, 64)        0         \n",
            "_________________________________________________________________\n",
            "conv2d_23 (Conv2D)           (None, 12, 12, 128)       73856     \n",
            "_________________________________________________________________\n",
            "conv2d_24 (Conv2D)           (None, 10, 10, 256)       295168    \n",
            "_________________________________________________________________\n",
            "max_pooling2d_14 (MaxPooling (None, 5, 5, 256)         0         \n",
            "_________________________________________________________________\n",
            "dropout_7 (Dropout)          (None, 5, 5, 256)         0         \n",
            "_________________________________________________________________\n",
            "flatten_6 (Flatten)          (None, 6400)              0         \n",
            "_________________________________________________________________\n",
            "dropout_8 (Dropout)          (None, 6400)              0         \n",
            "_________________________________________________________________\n",
            "dense_11 (Dense)             (None, 512)               3277312   \n",
            "_________________________________________________________________\n",
            "dense_12 (Dense)             (None, 10)                5130      \n",
            "=================================================================\n",
            "Total params: 3,670,858\n",
            "Trainable params: 3,670,858\n",
            "Non-trainable params: 0\n",
            "_________________________________________________________________\n"
          ],
          "name": "stdout"
        }
      ]
    },
    {
      "metadata": {
        "id": "KRuBUB5K5G4q",
        "colab_type": "text"
      },
      "cell_type": "markdown",
      "source": [
        "**Compiling the model**"
      ]
    },
    {
      "metadata": {
        "id": "qKFIWiqv4vv2",
        "colab_type": "code",
        "colab": {}
      },
      "cell_type": "code",
      "source": [
        "model.compile(\n",
        "    loss='categorical_crossentropy',\n",
        "    optimizer='rmsprop',\n",
        "    metrics=['accuracy'])"
      ],
      "execution_count": 0,
      "outputs": []
    },
    {
      "metadata": {
        "id": "30Pq2VmD5KBB",
        "colab_type": "text"
      },
      "cell_type": "markdown",
      "source": [
        "**Training the model**"
      ]
    },
    {
      "metadata": {
        "id": "fiU5-1x25IZ5",
        "colab_type": "code",
        "outputId": "9ac61cd4-6668-413a-9134-425479adb55d",
        "colab": {
          "base_uri": "https://localhost:8080/",
          "height": 615
        }
      },
      "cell_type": "code",
      "source": [
        "history = model.fit(train_images,\n",
        "          train_labels,\n",
        "          batch_size=128,\n",
        "          epochs = 15,\n",
        "          validation_data=(val_images, val_labels))"
      ],
      "execution_count": 11,
      "outputs": [
        {
          "output_type": "stream",
          "text": [
            "WARNING:tensorflow:From /usr/local/lib/python3.6/dist-packages/tensorflow/python/ops/math_ops.py:3066: to_int32 (from tensorflow.python.ops.math_ops) is deprecated and will be removed in a future version.\n",
            "Instructions for updating:\n",
            "Use tf.cast instead.\n",
            "Train on 40000 samples, validate on 10000 samples\n",
            "Epoch 1/15\n",
            "40000/40000 [==============================] - 15s 367us/step - loss: 1.8894 - acc: 0.3230 - val_loss: 1.5766 - val_acc: 0.4273\n",
            "Epoch 2/15\n",
            "40000/40000 [==============================] - 12s 311us/step - loss: 1.3282 - acc: 0.5304 - val_loss: 1.1609 - val_acc: 0.5933\n",
            "Epoch 3/15\n",
            "40000/40000 [==============================] - 12s 311us/step - loss: 1.0850 - acc: 0.6198 - val_loss: 0.9641 - val_acc: 0.6678\n",
            "Epoch 4/15\n",
            "40000/40000 [==============================] - 12s 311us/step - loss: 0.9248 - acc: 0.6778 - val_loss: 0.8951 - val_acc: 0.6981\n",
            "Epoch 5/15\n",
            "40000/40000 [==============================] - 12s 312us/step - loss: 0.8106 - acc: 0.7161 - val_loss: 0.8340 - val_acc: 0.7226\n",
            "Epoch 6/15\n",
            "40000/40000 [==============================] - 12s 311us/step - loss: 0.7250 - acc: 0.7472 - val_loss: 0.7585 - val_acc: 0.7372\n",
            "Epoch 7/15\n",
            "40000/40000 [==============================] - 12s 310us/step - loss: 0.6652 - acc: 0.7714 - val_loss: 0.7353 - val_acc: 0.7463\n",
            "Epoch 8/15\n",
            "40000/40000 [==============================] - 12s 310us/step - loss: 0.6059 - acc: 0.7919 - val_loss: 0.7321 - val_acc: 0.7502\n",
            "Epoch 9/15\n",
            "40000/40000 [==============================] - 12s 311us/step - loss: 0.5613 - acc: 0.8062 - val_loss: 0.7436 - val_acc: 0.7581\n",
            "Epoch 10/15\n",
            "40000/40000 [==============================] - 12s 311us/step - loss: 0.5183 - acc: 0.8191 - val_loss: 0.6649 - val_acc: 0.7760\n",
            "Epoch 11/15\n",
            "40000/40000 [==============================] - 12s 311us/step - loss: 0.4822 - acc: 0.8349 - val_loss: 0.6532 - val_acc: 0.7837\n",
            "Epoch 12/15\n",
            "40000/40000 [==============================] - 12s 310us/step - loss: 0.4617 - acc: 0.8428 - val_loss: 0.7102 - val_acc: 0.7670\n",
            "Epoch 13/15\n",
            "40000/40000 [==============================] - 12s 310us/step - loss: 0.4340 - acc: 0.8513 - val_loss: 0.6147 - val_acc: 0.8018\n",
            "Epoch 14/15\n",
            "40000/40000 [==============================] - 12s 312us/step - loss: 0.4114 - acc: 0.8589 - val_loss: 0.6692 - val_acc: 0.7922\n",
            "Epoch 15/15\n",
            "40000/40000 [==============================] - 12s 310us/step - loss: 0.3917 - acc: 0.8685 - val_loss: 0.6774 - val_acc: 0.7852\n"
          ],
          "name": "stdout"
        }
      ]
    },
    {
      "metadata": {
        "id": "ELk1rvFQQxuX",
        "colab_type": "text"
      },
      "cell_type": "markdown",
      "source": [
        "**Plotting the model**"
      ]
    },
    {
      "metadata": {
        "id": "aOZo7EtE5MtI",
        "colab_type": "code",
        "outputId": "120fa005-222a-44ee-ba05-a20e5aa285f5",
        "colab": {
          "base_uri": "https://localhost:8080/",
          "height": 707
        }
      },
      "cell_type": "code",
      "source": [
        "\n",
        "import matplotlib.pyplot as plt\n",
        "\n",
        "acc = history.history['acc']\n",
        "val_acc = history.history['val_acc']\n",
        "loss = history.history['loss']\n",
        "val_loss = history.history['val_loss']\n",
        "\n",
        "epochs = range(1, len(acc) + 1)\n",
        "\n",
        "\n",
        "plt.plot(epochs, acc, 'bo', \n",
        "         label='training acc')\n",
        "plt.plot(epochs, val_acc, 'r', label='validation acc')\n",
        "plt.title('training and validation accuracy')\n",
        "plt.legend()\n",
        "\n",
        "plt.figure()\n",
        "\n",
        "plt.plot(epochs, loss, 'bo', label='training loss')\n",
        "plt.plot(epochs, val_loss, 'r', label='validation loss')\n",
        "plt.title('training and validation loss')\n",
        "\n",
        "plt.legend()\n",
        "\n",
        "plt.show()"
      ],
      "execution_count": 12,
      "outputs": [
        {
          "output_type": "display_data",
          "data": {
            "image/png": "[encoded data removed]",
            "text/plain": [
              "<Figure size 576x396 with 1 Axes>"
            ]
          },
          "metadata": {
            "tags": []
          }
        },
        {
          "output_type": "display_data",
          "data": {
            "image/png": "[encoded data removed]",
            "text/plain": [
              "<Figure size 576x396 with 1 Axes>"
            ]
          },
          "metadata": {
            "tags": []
          }
        }
      ]
    },
    {
      "metadata": {
        "id": "77RCTywFQ1NK",
        "colab_type": "text"
      },
      "cell_type": "markdown",
      "source": [
        "**Evaluate the model with validation set**"
      ]
    },
    {
      "metadata": {
        "id": "6_GUAMgkQ3Vv",
        "colab_type": "code",
        "outputId": "67312553-e6a1-44b8-f74c-2d91fea65ce9",
        "colab": {
          "base_uri": "https://localhost:8080/",
          "height": 51
        }
      },
      "cell_type": "code",
      "source": [
        "\n",
        "score = model.evaluate(val_images, val_labels, verbose=0)\n",
        "print('Validation loss:', score[0])\n",
        "print('Validation accuracy:', score[1]*100,\"%\")"
      ],
      "execution_count": 13,
      "outputs": [
        {
          "output_type": "stream",
          "text": [
            "Validation loss: 0.6774207529067993\n",
            "Validation accuracy: 78.52 %\n"
          ],
          "name": "stdout"
        }
      ]
    },
    {
      "metadata": {
        "id": "kPLryLxgShjM",
        "colab_type": "code",
        "colab": {}
      },
      "cell_type": "code",
      "source": [
        ""
      ],
      "execution_count": 0,
      "outputs": []
    }
  ]
}