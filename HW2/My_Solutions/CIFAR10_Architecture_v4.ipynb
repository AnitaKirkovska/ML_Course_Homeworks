{
  "nbformat": 4,
  "nbformat_minor": 0,
  "metadata": {
    "colab": {
      "name": "CIFAR10_Architecture_v4.ipynb",
      "version": "0.3.2",
      "provenance": [],
      "include_colab_link": true
    },
    "kernelspec": {
      "name": "python3",
      "display_name": "Python 3"
    }
  },
  "cells": [
    {
      "cell_type": "markdown",
      "metadata": {
        "id": "view-in-github",
        "colab_type": "text"
      },
      "source": [
        "<a href=\"https://colab.research.google.com/github/AnitaKirkovska/Machine_Learning_Class/blob/master/HW2/My_Solutions/CIFAR10_Architecture_v4.ipynb\" target=\"_parent\"><img src=\"https://colab.research.google.com/assets/colab-badge.svg\" alt=\"Open In Colab\"/></a>"
      ]
    },
    {
      "metadata": {
        "id": "x-m2rrDa6YvD",
        "colab_type": "text"
      },
      "cell_type": "markdown",
      "source": [
        "**Third CNN with Data Augmentation and Dropout**\n",
        "\n",
        "\n",
        "\n",
        "1.   Conv2D + Relu + Maxpool\n",
        "2.   Conv2D + Relu + Maxpool\n",
        "3.   Conv2D + Relu + Maxpool\n",
        "4.    Dense \n"
      ]
    },
    {
      "metadata": {
        "id": "jWWrWkqHTZPA",
        "colab_type": "text"
      },
      "cell_type": "markdown",
      "source": [
        "**Loading the CIFAR10 data**"
      ]
    },
    {
      "metadata": {
        "id": "eT4-GSZZ6WiP",
        "colab_type": "code",
        "colab": {}
      },
      "cell_type": "code",
      "source": [
        "from keras.datasets import cifar10\n",
        "\n",
        "(train_images, train_labels), (test_images, test_labels) = cifar10.load_data()"
      ],
      "execution_count": 0,
      "outputs": []
    },
    {
      "metadata": {
        "id": "lQb_C0dMTdAN",
        "colab_type": "text"
      },
      "cell_type": "markdown",
      "source": [
        "**Preparing data**\n",
        "\n",
        "Training/Validation 80%/20%\n"
      ]
    },
    {
      "metadata": {
        "id": "_VMD1GyCTbf_",
        "colab_type": "code",
        "outputId": "9a5aaa1d-6ce2-4aba-8411-c0205d0d728b",
        "colab": {
          "base_uri": "https://localhost:8080/",
          "height": 51
        }
      },
      "cell_type": "code",
      "source": [
        "import sklearn.model_selection as skl \n",
        "\n",
        "train_images, val_images, train_labels, val_labels = skl.train_test_split(train_images, train_labels, test_size=0.20)\n",
        "\n",
        "print(\"train images\",train_images.shape)\n",
        "print(\"val images\",val_images.shape)"
      ],
      "execution_count": 5,
      "outputs": [
        {
          "output_type": "stream",
          "text": [
            "train images (40000, 32, 32, 3)\n",
            "val images (10000, 32, 32, 3)\n"
          ],
          "name": "stdout"
        }
      ]
    },
    {
      "metadata": {
        "id": "cL11MaYGcooW",
        "colab_type": "text"
      },
      "cell_type": "markdown",
      "source": [
        "**Preprocessing the data**"
      ]
    },
    {
      "metadata": {
        "id": "_euelj75cqez",
        "colab_type": "code",
        "colab": {}
      },
      "cell_type": "code",
      "source": [
        "from keras.utils import to_categorical\n",
        "\n",
        "train_images = train_images.astype('float32')/255\n",
        "val_images = val_images.astype('float32')/255\n",
        "\n",
        "train_labels = to_categorical(train_labels)\n",
        "val_labels = to_categorical(val_labels)"
      ],
      "execution_count": 0,
      "outputs": []
    },
    {
      "metadata": {
        "id": "zNfeubqMTjZx",
        "colab_type": "text"
      },
      "cell_type": "markdown",
      "source": [
        "**The Architecture**"
      ]
    },
    {
      "metadata": {
        "id": "jBAc6MGATjAS",
        "colab_type": "code",
        "outputId": "b945c1eb-56d5-449f-bc5c-cce5b08489b6",
        "colab": {
          "base_uri": "https://localhost:8080/",
          "height": 442
        }
      },
      "cell_type": "code",
      "source": [
        "from keras import models\n",
        "from keras import layers\n",
        "\n",
        "model = models.Sequential()\n",
        "\n",
        "model.add(layers.Conv2D(32, (3,3), activation='relu', input_shape=(32,32,3)))\n",
        "model.add(layers.MaxPooling2D(2,2))\n",
        "\n",
        "model.add(layers.Conv2D(64, (3,3), activation='relu'))\n",
        "model.add(layers.MaxPooling2D(2,2))\n",
        "\n",
        "model.add(layers.Conv2D(128, (3,3), activation='relu'))\n",
        "model.add(layers.MaxPooling2D(2,2))\n",
        "\n",
        "model.add(layers.Flatten())\n",
        "\n",
        "model.add(layers.Dropout(0.5))\n",
        "\n",
        "model.add(layers.Dense(10, activation='softmax'))\n",
        "\n",
        "model.summary()"
      ],
      "execution_count": 7,
      "outputs": [
        {
          "output_type": "stream",
          "text": [
            "_________________________________________________________________\n",
            "Layer (type)                 Output Shape              Param #   \n",
            "=================================================================\n",
            "conv2d_4 (Conv2D)            (None, 30, 30, 32)        896       \n",
            "_________________________________________________________________\n",
            "max_pooling2d_4 (MaxPooling2 (None, 15, 15, 32)        0         \n",
            "_________________________________________________________________\n",
            "conv2d_5 (Conv2D)            (None, 13, 13, 64)        18496     \n",
            "_________________________________________________________________\n",
            "max_pooling2d_5 (MaxPooling2 (None, 6, 6, 64)          0         \n",
            "_________________________________________________________________\n",
            "conv2d_6 (Conv2D)            (None, 4, 4, 128)         73856     \n",
            "_________________________________________________________________\n",
            "max_pooling2d_6 (MaxPooling2 (None, 2, 2, 128)         0         \n",
            "_________________________________________________________________\n",
            "flatten_2 (Flatten)          (None, 512)               0         \n",
            "_________________________________________________________________\n",
            "dropout_2 (Dropout)          (None, 512)               0         \n",
            "_________________________________________________________________\n",
            "dense_2 (Dense)              (None, 10)                5130      \n",
            "=================================================================\n",
            "Total params: 98,378\n",
            "Trainable params: 98,378\n",
            "Non-trainable params: 0\n",
            "_________________________________________________________________\n"
          ],
          "name": "stdout"
        }
      ]
    },
    {
      "metadata": {
        "id": "MrRL3l73TuJK",
        "colab_type": "text"
      },
      "cell_type": "markdown",
      "source": [
        "**Compiling the model**"
      ]
    },
    {
      "metadata": {
        "id": "rudTr-47Tgcj",
        "colab_type": "code",
        "colab": {}
      },
      "cell_type": "code",
      "source": [
        "model.compile(\n",
        "    loss='categorical_crossentropy',\n",
        "    optimizer='rmsprop',\n",
        "    metrics=['accuracy'])"
      ],
      "execution_count": 0,
      "outputs": []
    },
    {
      "metadata": {
        "id": "MUF0OWNITy_n",
        "colab_type": "text"
      },
      "cell_type": "markdown",
      "source": [
        "**Data Augmentation**"
      ]
    },
    {
      "metadata": {
        "id": "RWu_lz_vTvoR",
        "colab_type": "code",
        "colab": {}
      },
      "cell_type": "code",
      "source": [
        "from keras.preprocessing.image import ImageDataGenerator\n",
        "\n",
        "datagen = ImageDataGenerator(\n",
        "    rotation_range=15,\n",
        "    width_shift_range=0.1,\n",
        "    height_shift_range=0.1,\n",
        "    horizontal_flip=True)\n",
        "\n",
        "datagen.fit(train_images)"
      ],
      "execution_count": 0,
      "outputs": []
    },
    {
      "metadata": {
        "id": "Sfj45dZPT0ZM",
        "colab_type": "text"
      },
      "cell_type": "markdown",
      "source": [
        "**Training**"
      ]
    },
    {
      "metadata": {
        "id": "3Jt3pB5TT1f1",
        "colab_type": "code",
        "outputId": "cc94d21e-ee51-49ce-83d0-70e6148d4979",
        "colab": {
          "base_uri": "https://localhost:8080/",
          "height": 408
        }
      },
      "cell_type": "code",
      "source": [
        "history = model.fit_generator(datagen.flow(train_images, \n",
        "                                           train_labels, \n",
        "                                           batch_size=32),\n",
        "                                           epochs=10,\n",
        "                                           steps_per_epoch=len(train_images) / 32, \n",
        "                                           validation_data=(val_images, val_labels))"
      ],
      "execution_count": 10,
      "outputs": [
        {
          "output_type": "stream",
          "text": [
            "WARNING:tensorflow:From /usr/local/lib/python3.6/dist-packages/tensorflow/python/ops/math_ops.py:3066: to_int32 (from tensorflow.python.ops.math_ops) is deprecated and will be removed in a future version.\n",
            "Instructions for updating:\n",
            "Use tf.cast instead.\n",
            "Epoch 1/10\n",
            "1250/1250 [==============================] - 97s 77ms/step - loss: 1.8000 - acc: 0.3371 - val_loss: 1.4202 - val_acc: 0.4884\n",
            "Epoch 2/10\n",
            "1250/1250 [==============================] - 96s 77ms/step - loss: 1.4965 - acc: 0.4600 - val_loss: 1.3106 - val_acc: 0.5301\n",
            "Epoch 3/10\n",
            "1250/1250 [==============================] - 98s 78ms/step - loss: 1.3737 - acc: 0.5107 - val_loss: 1.1552 - val_acc: 0.5839\n",
            "Epoch 4/10\n",
            "1250/1250 [==============================] - 98s 79ms/step - loss: 1.3013 - acc: 0.5409 - val_loss: 1.1090 - val_acc: 0.6097\n",
            "Epoch 5/10\n",
            "1250/1250 [==============================] - 98s 79ms/step - loss: 1.2492 - acc: 0.5626 - val_loss: 1.0507 - val_acc: 0.6280\n",
            "Epoch 6/10\n",
            "1250/1250 [==============================] - 98s 78ms/step - loss: 1.2100 - acc: 0.5759 - val_loss: 1.1160 - val_acc: 0.6248\n",
            "Epoch 7/10\n",
            "1250/1250 [==============================] - 98s 78ms/step - loss: 1.1810 - acc: 0.5881 - val_loss: 0.9739 - val_acc: 0.6625\n",
            "Epoch 8/10\n",
            "1250/1250 [==============================] - 99s 79ms/step - loss: 1.1624 - acc: 0.5969 - val_loss: 0.9419 - val_acc: 0.6793\n",
            "Epoch 9/10\n",
            "1250/1250 [==============================] - 97s 78ms/step - loss: 1.1564 - acc: 0.6016 - val_loss: 0.9360 - val_acc: 0.6785\n",
            "Epoch 10/10\n",
            "1250/1250 [==============================] - 97s 78ms/step - loss: 1.1516 - acc: 0.6048 - val_loss: 1.0636 - val_acc: 0.6469\n"
          ],
          "name": "stdout"
        }
      ]
    },
    {
      "metadata": {
        "id": "Rd77J20BT16m",
        "colab_type": "text"
      },
      "cell_type": "markdown",
      "source": [
        "**Plotting loss and accuracy**"
      ]
    },
    {
      "metadata": {
        "id": "uzwyQ_Y6T8Um",
        "colab_type": "code",
        "outputId": "bcf68312-1206-40db-b05d-77be16e1ffe9",
        "colab": {
          "base_uri": "https://localhost:8080/",
          "height": 707
        }
      },
      "cell_type": "code",
      "source": [
        "import matplotlib.pyplot as plt\n",
        "\n",
        "acc = history.history['acc']\n",
        "val_acc = history.history['val_acc']\n",
        "\n",
        "loss = history.history['loss']\n",
        "val_loss = history.history['val_loss']\n",
        "\n",
        "epochs = range(1, len(acc) + 1)\n",
        "\n",
        "# training and validation accuracy\n",
        "\n",
        "plt.plot(epochs, acc, 'bo', label='training acc')\n",
        "plt.plot(epochs, val_acc, 'b', label='validation acc')\n",
        "plt.title('training and validation accuracy')\n",
        "plt.legend()\n",
        "\n",
        "plt.figure()\n",
        "\n",
        "# training and validation loss\n",
        "\n",
        "plt.plot(epochs, loss, 'bo', label='training loss')\n",
        "plt.plot(epochs, val_loss, 'b', label='validation loss')\n",
        "plt.title('training and validation loss')\n",
        "plt.legend()\n",
        "\n",
        "plt.show()"
      ],
      "execution_count": 11,
      "outputs": [
        {
          "output_type": "display_data",
          "data": {
            "image/png": "[encoded data removed]",
            "text/plain": [
              "<Figure size 576x396 with 1 Axes>"
            ]
          },
          "metadata": {
            "tags": []
          }
        },
        {
          "output_type": "display_data",
          "data": {
            "image/png": "[encoded data removed]",
            "text/plain": [
              "<Figure size 576x396 with 1 Axes>"
            ]
          },
          "metadata": {
            "tags": []
          }
        }
      ]
    },
    {
      "metadata": {
        "id": "JO5sVGKaUCAe",
        "colab_type": "text"
      },
      "cell_type": "markdown",
      "source": [
        "**Evaluate the model**"
      ]
    },
    {
      "metadata": {
        "id": "yV7p9I34UDfX",
        "colab_type": "code",
        "colab": {
          "base_uri": "https://localhost:8080/",
          "height": 51
        },
        "outputId": "53af47d5-5d3d-479a-cc0d-61d52749809a"
      },
      "cell_type": "code",
      "source": [
        "\n",
        "score = model.evaluate(val_images, val_labels, verbose=0)\n",
        "print('Validation loss:', score[0])\n",
        "print('Validation accuracy:', score[1]*100,\"%\")"
      ],
      "execution_count": 12,
      "outputs": [
        {
          "output_type": "stream",
          "text": [
            "Validation loss: 1.0636015709877014\n",
            "Validation accuracy: 64.69 %\n"
          ],
          "name": "stdout"
        }
      ]
    },
    {
      "metadata": {
        "id": "Hce8OFSWWitp",
        "colab_type": "code",
        "colab": {}
      },
      "cell_type": "code",
      "source": [
        ""
      ],
      "execution_count": 0,
      "outputs": []
    }
  ]
}