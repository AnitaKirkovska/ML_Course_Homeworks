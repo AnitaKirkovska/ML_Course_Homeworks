{
  "nbformat": 4,
  "nbformat_minor": 0,
  "metadata": {
    "colab": {
      "name": "Problem4.ipynb",
      "version": "0.3.2",
      "provenance": [],
      "include_colab_link": true
    },
    "kernelspec": {
      "name": "python3",
      "display_name": "Python 3"
    }
  },
  "cells": [
    {
      "cell_type": "markdown",
      "metadata": {
        "id": "view-in-github",
        "colab_type": "text"
      },
      "source": [
        "<a href=\"https://colab.research.google.com/github/AnitaKirkovska/MachineLearning_HW1/blob/master/Problem4.ipynb\" target=\"_parent\"><img src=\"https://colab.research.google.com/assets/colab-badge.svg\" alt=\"Open In Colab\"/></a>"
      ]
    },
    {
      "metadata": {
        "id": "NC79XDqb4s2c",
        "colab_type": "code",
        "colab": {}
      },
      "cell_type": "code",
      "source": [
        "import numpy as np\n",
        "import matplotlib.pyplot as plt\n",
        "%matplotlib inline\n",
        "import scipy.special\n",
        "from tqdm import tqdm_notebook as tqdm\n",
        "from keras import models,layers"
      ],
      "execution_count": 0,
      "outputs": []
    },
    {
      "metadata": {
        "id": "ztXb1byw4cJw",
        "colab_type": "text"
      },
      "cell_type": "markdown",
      "source": [
        "Loading the data"
      ]
    },
    {
      "metadata": {
        "id": "goGF6DNp4Mvd",
        "colab_type": "code",
        "outputId": "37b1decf-d3c0-4de6-fe55-f6f0f222b1ab",
        "colab": {
          "base_uri": "https://localhost:8080/",
          "height": 34
        }
      },
      "cell_type": "code",
      "source": [
        "from keras.datasets import mnist\n",
        "\n",
        "(x_train_org, y_train_org), (x_test_org, y_test_org) = mnist.load_data()"
      ],
      "execution_count": 0,
      "outputs": [
        {
          "output_type": "stream",
          "text": [
            "Using TensorFlow backend.\n"
          ],
          "name": "stderr"
        }
      ]
    },
    {
      "metadata": {
        "id": "RCFY1OAp4mfA",
        "colab_type": "text"
      },
      "cell_type": "markdown",
      "source": [
        "Preparing the data"
      ]
    },
    {
      "metadata": {
        "id": "fngRWFMQ4fAq",
        "colab_type": "code",
        "colab": {}
      },
      "cell_type": "code",
      "source": [
        "x_train = x_train_org.reshape((60000, 28 * 28))\n",
        "scaled_input_x = np.asfarray(x_train)/255.0\n",
        "\n",
        "x_test = x_test_org.reshape((10000, 28 * 28))\n",
        "scaled_test_x = np.asfarray(x_test)/255.0\n"
      ],
      "execution_count": 0,
      "outputs": []
    },
    {
      "metadata": {
        "id": "o633Feb14pM5",
        "colab_type": "code",
        "colab": {}
      },
      "cell_type": "code",
      "source": [
        "from keras.utils import to_categorical\n",
        "\n",
        "y_train_org = to_categorical(y_train_org)\n",
        "y_test_org = to_categorical(y_test_org)"
      ],
      "execution_count": 0,
      "outputs": []
    },
    {
      "metadata": {
        "id": "XMsOSA6E46hX",
        "colab_type": "text"
      },
      "cell_type": "markdown",
      "source": [
        "Network model"
      ]
    },
    {
      "metadata": {
        "id": "csmpCXVU4wvW",
        "colab_type": "code",
        "outputId": "11635939-7c4f-48a8-8452-3bbfcd11209e",
        "colab": {
          "base_uri": "https://localhost:8080/",
          "height": 496
        }
      },
      "cell_type": "code",
      "source": [
        "network = models.Sequential()\n",
        "network.add(layers.Dense(10,activation=\"softmax\", input_shape=(28*28,)))\n",
        "\n",
        "network.compile(optimizer='rmsprop',\n",
        "                loss='categorical_crossentropy',\n",
        "                metrics=['accuracy'])\n",
        "\n",
        "epochs = 10\n",
        "history = network.fit(x_train,\n",
        "                      y_train_org,\n",
        "                      epochs=epochs,\n",
        "                      batch_size=10,\n",
        "                      validation_data=(x_test,y_test_org))"
      ],
      "execution_count": 0,
      "outputs": [
        {
          "output_type": "stream",
          "text": [
            "WARNING:tensorflow:From /usr/local/lib/python3.6/dist-packages/tensorflow/python/framework/op_def_library.py:263: colocate_with (from tensorflow.python.framework.ops) is deprecated and will be removed in a future version.\n",
            "Instructions for updating:\n",
            "Colocations handled automatically by placer.\n",
            "WARNING:tensorflow:From /usr/local/lib/python3.6/dist-packages/tensorflow/python/ops/math_ops.py:3066: to_int32 (from tensorflow.python.ops.math_ops) is deprecated and will be removed in a future version.\n",
            "Instructions for updating:\n",
            "Use tf.cast instead.\n",
            "Train on 60000 samples, validate on 10000 samples\n",
            "Epoch 1/10\n",
            "60000/60000 [==============================] - 8s 130us/step - loss: 8.5063 - acc: 0.4674 - val_loss: 7.6033 - val_acc: 0.5258\n",
            "Epoch 2/10\n",
            "60000/60000 [==============================] - 7s 115us/step - loss: 7.5076 - acc: 0.5316 - val_loss: 7.4480 - val_acc: 0.5359\n",
            "Epoch 3/10\n",
            "60000/60000 [==============================] - 7s 115us/step - loss: 7.4120 - acc: 0.5380 - val_loss: 7.3676 - val_acc: 0.5410\n",
            "Epoch 4/10\n",
            "60000/60000 [==============================] - 7s 115us/step - loss: 7.3726 - acc: 0.5407 - val_loss: 7.4380 - val_acc: 0.5361\n",
            "Epoch 5/10\n",
            "60000/60000 [==============================] - 7s 117us/step - loss: 7.3279 - acc: 0.5434 - val_loss: 7.4216 - val_acc: 0.5377\n",
            "Epoch 6/10\n",
            "60000/60000 [==============================] - 7s 115us/step - loss: 7.3187 - acc: 0.5442 - val_loss: 7.4197 - val_acc: 0.5376\n",
            "Epoch 7/10\n",
            "60000/60000 [==============================] - 7s 113us/step - loss: 7.3016 - acc: 0.5453 - val_loss: 7.3549 - val_acc: 0.5421\n",
            "Epoch 8/10\n",
            "60000/60000 [==============================] - 7s 113us/step - loss: 7.2921 - acc: 0.5461 - val_loss: 7.4795 - val_acc: 0.5342\n",
            "Epoch 9/10\n",
            "60000/60000 [==============================] - 7s 112us/step - loss: 7.2937 - acc: 0.5460 - val_loss: 7.2955 - val_acc: 0.5458\n",
            "Epoch 10/10\n",
            "60000/60000 [==============================] - 7s 113us/step - loss: 7.2650 - acc: 0.5477 - val_loss: 7.3265 - val_acc: 0.5442\n"
          ],
          "name": "stdout"
        }
      ]
    },
    {
      "metadata": {
        "id": "jnBlsIFr5iLX",
        "colab_type": "code",
        "colab": {}
      },
      "cell_type": "code",
      "source": [
        ""
      ],
      "execution_count": 0,
      "outputs": []
    }
  ]
}
