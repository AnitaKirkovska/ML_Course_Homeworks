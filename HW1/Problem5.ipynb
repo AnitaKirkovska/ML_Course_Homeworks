{
  "nbformat": 4,
  "nbformat_minor": 0,
  "metadata": {
    "colab": {
      "name": "Problem5.ipynb",
      "version": "0.3.2",
      "provenance": [],
      "include_colab_link": true
    },
    "kernelspec": {
      "name": "python3",
      "display_name": "Python 3"
    }
  },
  "cells": [
    {
      "cell_type": "markdown",
      "metadata": {
        "id": "view-in-github",
        "colab_type": "text"
      },
      "source": [
        "<a href=\"https://colab.research.google.com/github/AnitaKirkovska/MachineLearning_HW1/blob/master/Problem5.ipynb\" target=\"_parent\"><img src=\"https://colab.research.google.com/assets/colab-badge.svg\" alt=\"Open In Colab\"/></a>"
      ]
    },
    {
      "metadata": {
        "id": "TDRuUdwLvM1v",
        "colab_type": "code",
        "colab": {}
      },
      "cell_type": "code",
      "source": [
        "import numpy as np\n",
        "import matplotlib\n",
        "import matplotlib.pyplot as plt\n",
        "import scipy\n",
        "import cv2\n",
        "import keras\n",
        "from keras import backend as L\n",
        "from keras.datasets import mnist\n",
        "from scipy import ndimage\n",
        "from skimage import util \n",
        "from keras.models import Sequential\n",
        "from keras.layers import Dense, Input\n",
        "from keras import layers, optimizers, Model\n",
        "from keras.utils import to_categorical\n"
      ],
      "execution_count": 0,
      "outputs": []
    },
    {
      "metadata": {
        "id": "L-5vOsLpvp7C",
        "colab_type": "code",
        "colab": {}
      },
      "cell_type": "code",
      "source": [
        "(x_train_org, y_train_org), (x_test_org, y_test_org) = mnist.load_data()\n",
        "dim = x_test_org.shape[1] * x_test_org.shape[2]"
      ],
      "execution_count": 0,
      "outputs": []
    },
    {
      "metadata": {
        "id": "8Mxwjo3owHvb",
        "colab_type": "text"
      },
      "cell_type": "markdown",
      "source": [
        "Rounding grey values to 1 and 0\n"
      ]
    },
    {
      "metadata": {
        "id": "a7YtJ_s4v07t",
        "colab_type": "code",
        "colab": {}
      },
      "cell_type": "code",
      "source": [
        "for i in range(len(x_train_org)):\n",
        "  img=x_train_org[i]\n",
        "  threshold=150\n",
        "  x_train_org[i]=cv2.threshold(img,threshold,255,cv2.THRESH_BINARY)[1]\n",
        "  \n",
        "for i in range(len(x_test_org)):\n",
        "  img=x_train_org[i]\n",
        "  threshold=150\n",
        "  x_test_org[i]=cv2.threshold(img,threshold,255,cv2.THRESH_BINARY)[1]"
      ],
      "execution_count": 0,
      "outputs": []
    },
    {
      "metadata": {
        "id": "DOevSG39xqBJ",
        "colab_type": "code",
        "outputId": "58dac152-316a-4da5-8dc0-9326d043be88",
        "colab": {
          "base_uri": "https://localhost:8080/",
          "height": 364
        }
      },
      "cell_type": "code",
      "source": [
        "visualize = 8\n",
        "index= -1\n",
        "for i in range(len(y_train_org)):\n",
        "  if y_train_org[i] == visualize:\n",
        "    index =i\n",
        "    break;\n",
        "inverted=(x_train_org[index])\n",
        "plt.grid(None)\n",
        "plt.imshow(inverted)"
      ],
      "execution_count": 0,
      "outputs": [
        {
          "output_type": "execute_result",
          "data": {
            "text/plain": [
              "<matplotlib.image.AxesImage at 0x7fb495f5b860>"
            ]
          },
          "metadata": {
            "tags": []
          },
          "execution_count": 63
        },
        {
          "output_type": "display_data",
          "data": {
            "image/png": "[encoded data removed]",
            "text/plain": [
              "<Figure size 576x396 with 1 Axes>"
            ]
          },
          "metadata": {
            "tags": []
          }
        }
      ]
    },
    {
      "metadata": {
        "id": "X1YkL2oy1uzb",
        "colab_type": "text"
      },
      "cell_type": "markdown",
      "source": [
        "Labeling components"
      ]
    },
    {
      "metadata": {
        "id": "fHBKixovyIq5",
        "colab_type": "code",
        "colab": {}
      },
      "cell_type": "code",
      "source": [
        "train_comp = np.zeros_like(y_train_org)\n",
        "test_comp = np.zeros_like(y_test_org)\n",
        "\n",
        "for i in range(len(train_comp)):\n",
        "  label,near_obj = ndimage.label(util.invert(x_train_org[i]))\n",
        "  train_comp[i] = near_obj\n",
        "\n",
        "for i in range(len(test_comp)):\n",
        "  label,near_obj = ndimage.label(util.invert(x_train_org[i]))\n",
        "  test_comp[i] = near_obj\n",
        "  \n"
      ],
      "execution_count": 0,
      "outputs": []
    },
    {
      "metadata": {
        "id": "oRssQkk02MHv",
        "colab_type": "code",
        "colab": {}
      },
      "cell_type": "code",
      "source": [
        "if L.image_data_format() == 'channels_first':\n",
        "  x_train_org = x_train_org.reshape(x_train_org.shape[0],1,x_train_org.shape[1],x_train_org.shape[2])\n",
        "  x_test_org = x_test_org.reshape(x_test_org.shape[0],1,x_test_org.shape[1],x_test_org.shape[2])\n",
        "  input = (1,x_test_org.shape[1],x_test_org.shape[2]) #shape\n",
        "  \n",
        "else:\n",
        "  x_train_org = x_train_org.reshape(x_train_org.shape[0],x_train_org.shape[1],x_train_org.shape[2],1)\n",
        "  x_test_org = x_test_org.reshape(x_test_org.shape[0],x_test_org.shape[1],x_test_org.shape[2],1)\n",
        "  input = (1,x_test_org.shape[1],x_test_org.shape[2]) #shape"
      ],
      "execution_count": 0,
      "outputs": []
    },
    {
      "metadata": {
        "id": "yAWPuZmI1BHT",
        "colab_type": "code",
        "colab": {}
      },
      "cell_type": "code",
      "source": [
        "x_train_org=np.asfarray(x_train_org)/255.0\n",
        "x_test_org=np.asfarray(x_test_org)/255.0\n",
        "\n",
        "y_train_org = to_categorical(y_train_org,10)\n",
        "y_test_org = to_categorical(y_test_org,10)\n",
        "\n",
        "train_comp = train_comp/4\n",
        "test_comp = train_comp/4"
      ],
      "execution_count": 0,
      "outputs": []
    },
    {
      "metadata": {
        "id": "7DaUz5LO1V54",
        "colab_type": "code",
        "colab": {}
      },
      "cell_type": "code",
      "source": [
        "x_train_org = x_train_org.reshape(x_train_org.shape[0],-1)\n",
        "x_test_org = x_test_org.reshape(x_test_org.shape[0],-1)\n",
        "y_train_org = y_train_org.T\n",
        "y_train_org = y_train_org.T"
      ],
      "execution_count": 0,
      "outputs": []
    },
    {
      "metadata": {
        "id": "n7hxl6lN3nFC",
        "colab_type": "text"
      },
      "cell_type": "markdown",
      "source": [
        "Input layer, added feature vector and output layer (10 layers)"
      ]
    },
    {
      "metadata": {
        "id": "1PE_PLS73fkI",
        "colab_type": "code",
        "outputId": "16bed8b4-c21b-420c-8c91-2bbe77f2ed58",
        "colab": {
          "base_uri": "https://localhost:8080/",
          "height": 309
        }
      },
      "cell_type": "code",
      "source": [
        "added_feature = 1\n",
        "input_shape = Input((dim,))\n",
        "feature_comp = Input((added_feature,))\n",
        "img_vector = Dense(64, activation=\"sigmoid\")(input_shape)\n",
        "output = layers.add([img_vector, feature_comp])\n",
        "output = Dense(10, activation=\"softmax\")(output)\n",
        "output = Model([input_shape, feature_comp], output)\n",
        "\n",
        "\n",
        "#gradient descent\n",
        "sgd = optimizers.SGD(lr=0.1)\n",
        "output.compile(optimizer = sgd,\n",
        "               loss=\"categorical_crossentropy\",\n",
        "               metrics=[\"accuracy\"])\n",
        "output.fit([x_train_org, train_comp], y_train_org, nb_epoch=5, batch_size=32)"
      ],
      "execution_count": 0,
      "outputs": [
        {
          "output_type": "stream",
          "text": [
            "WARNING:tensorflow:From /usr/local/lib/python3.6/dist-packages/tensorflow/python/ops/math_ops.py:3066: to_int32 (from tensorflow.python.ops.math_ops) is deprecated and will be removed in a future version.\n",
            "Instructions for updating:\n",
            "Use tf.cast instead.\n"
          ],
          "name": "stdout"
        },
        {
          "output_type": "stream",
          "text": [
            "/usr/local/lib/python3.6/dist-packages/ipykernel_launcher.py:15: UserWarning: The `nb_epoch` argument in `fit` has been renamed `epochs`.\n",
            "  from ipykernel import kernelapp as app\n"
          ],
          "name": "stderr"
        },
        {
          "output_type": "stream",
          "text": [
            "Epoch 1/5\n",
            "60000/60000 [==============================] - 4s 66us/step - loss: 0.5547 - acc: 0.8552\n",
            "Epoch 2/5\n",
            "60000/60000 [==============================] - 3s 54us/step - loss: 0.2854 - acc: 0.9201\n",
            "Epoch 3/5\n",
            "60000/60000 [==============================] - 3s 54us/step - loss: 0.2396 - acc: 0.9323\n",
            "Epoch 4/5\n",
            "60000/60000 [==============================] - 3s 54us/step - loss: 0.2100 - acc: 0.9407\n",
            "Epoch 5/5\n",
            "60000/60000 [==============================] - 3s 55us/step - loss: 0.1888 - acc: 0.9455\n"
          ],
          "name": "stdout"
        },
        {
          "output_type": "execute_result",
          "data": {
            "text/plain": [
              "<keras.callbacks.History at 0x7fb4955db898>"
            ]
          },
          "metadata": {
            "tags": []
          },
          "execution_count": 73
        }
      ]
    },
    {
      "metadata": {
        "id": "FC46JsTX3bUb",
        "colab_type": "code",
        "colab": {}
      },
      "cell_type": "code",
      "source": [
        ""
      ],
      "execution_count": 0,
      "outputs": []
    }
  ]
}