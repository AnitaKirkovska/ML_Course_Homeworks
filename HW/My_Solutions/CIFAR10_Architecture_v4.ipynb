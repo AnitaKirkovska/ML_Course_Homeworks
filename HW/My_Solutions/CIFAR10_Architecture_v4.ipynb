{
  "nbformat": 4,
  "nbformat_minor": 0,
  "metadata": {
    "colab": {
      "name": "CIFAR10_Architecture_v4.ipynb",
      "version": "0.3.2",
      "provenance": [],
      "collapsed_sections": [],
      "include_colab_link": true
    },
    "kernelspec": {
      "name": "python3",
      "display_name": "Python 3"
    }
  },
  "cells": [
    {
      "cell_type": "markdown",
      "metadata": {
        "id": "view-in-github",
        "colab_type": "text"
      },
      "source": [
        "<a href=\"https://colab.research.google.com/github/AnitaKirkovska/Machine_Learning_Class/blob/master/HW/My_Solutions/CIFAR10_Architecture_v4.ipynb\" target=\"_parent\"><img src=\"https://colab.research.google.com/assets/colab-badge.svg\" alt=\"Open In Colab\"/></a>"
      ]
    },
    {
      "metadata": {
        "id": "x-m2rrDa6YvD",
        "colab_type": "text"
      },
      "cell_type": "markdown",
      "source": [
        "**Third CNN with Data Augmentation and Dropout**\n",
        "\n",
        "\n",
        "\n",
        "1.   Conv2D + Relu + Conv2D + Relu + Maxpool\n",
        "2.   Conv2D + Relu + Conv2D + Relu + Maxpool\n",
        "3.   Dense\n",
        "4.   Data augmentation + Dropout\n",
        "\n"
      ]
    },
    {
      "metadata": {
        "id": "jWWrWkqHTZPA",
        "colab_type": "text"
      },
      "cell_type": "markdown",
      "source": [
        "**Loading the CIFAR10 data**"
      ]
    },
    {
      "metadata": {
        "id": "eT4-GSZZ6WiP",
        "colab_type": "code",
        "colab": {}
      },
      "cell_type": "code",
      "source": [
        "from keras.datasets import cifar10\n",
        "\n",
        "(train_images, train_labels), (test_images, test_labels) = cifar10.load_data()"
      ],
      "execution_count": 0,
      "outputs": []
    },
    {
      "metadata": {
        "id": "lQb_C0dMTdAN",
        "colab_type": "text"
      },
      "cell_type": "markdown",
      "source": [
        "**Preparing data**\n",
        "\n",
        "Training/Validation 80%/20%\n"
      ]
    },
    {
      "metadata": {
        "id": "_VMD1GyCTbf_",
        "colab_type": "code",
        "colab": {
          "base_uri": "https://localhost:8080/",
          "height": 51
        },
        "outputId": "1b090205-994a-4d67-af81-8e9b1a383049"
      },
      "cell_type": "code",
      "source": [
        "import sklearn.model_selection as skl \n",
        "\n",
        "train_images, val_images, train_labels, val_labels = skl.train_test_split(train_images, train_labels, test_size=0.20)\n",
        "\n",
        "print(\"train images\",train_images.shape)\n",
        "print(\"val images\",val_images.shape)"
      ],
      "execution_count": 79,
      "outputs": [
        {
          "output_type": "stream",
          "text": [
            "train images (40000, 32, 32, 3)\n",
            "val images (10000, 32, 32, 3)\n"
          ],
          "name": "stdout"
        }
      ]
    },
    {
      "metadata": {
        "id": "cL11MaYGcooW",
        "colab_type": "text"
      },
      "cell_type": "markdown",
      "source": [
        "**Preprocessing the data**"
      ]
    },
    {
      "metadata": {
        "id": "_euelj75cqez",
        "colab_type": "code",
        "colab": {}
      },
      "cell_type": "code",
      "source": [
        "from keras.utils import to_categorical\n",
        "\n",
        "train_images = train_images.astype('float32')/255\n",
        "val_images = val_images.astype('float32')/255\n",
        "\n",
        "train_labels = to_categorical(train_labels)\n",
        "val_labels = to_categorical(val_labels)"
      ],
      "execution_count": 0,
      "outputs": []
    },
    {
      "metadata": {
        "id": "zNfeubqMTjZx",
        "colab_type": "text"
      },
      "cell_type": "markdown",
      "source": [
        "**The Architecture**"
      ]
    },
    {
      "metadata": {
        "id": "jBAc6MGATjAS",
        "colab_type": "code",
        "colab": {
          "base_uri": "https://localhost:8080/",
          "height": 476
        },
        "outputId": "01fd8ae9-b63d-464a-c08e-db531f87b389"
      },
      "cell_type": "code",
      "source": [
        "from keras import models\n",
        "from keras import layers\n",
        "\n",
        "model = models.Sequential()\n",
        "\n",
        "model.add(layers.Conv2D(32, (3,3), activation='relu', input_shape=(32,32,3)))\n",
        "model.add(layers.Conv2D(64, (3,3), activation='relu'))\n",
        "model.add(layers.MaxPooling2D(2,2))\n",
        "\n",
        "model.add(layers.Conv2D(128, (3,3), activation='relu'))\n",
        "model.add(layers.Conv2D(256, (3,3), activation='relu'))\n",
        "model.add(layers.MaxPooling2D(2,2))\n",
        "\n",
        "model.add(layers.Flatten())\n",
        "\n",
        "model.add(layers.Dropout(0.5))\n",
        "\n",
        "model.add(layers.Dense(512, activation='relu'))\n",
        "model.add(layers.Dense(10, activation='softmax'))\n",
        "\n",
        "\n",
        "model.summary()"
      ],
      "execution_count": 81,
      "outputs": [
        {
          "output_type": "stream",
          "text": [
            "_________________________________________________________________\n",
            "Layer (type)                 Output Shape              Param #   \n",
            "=================================================================\n",
            "conv2d_70 (Conv2D)           (None, 30, 30, 32)        896       \n",
            "_________________________________________________________________\n",
            "conv2d_71 (Conv2D)           (None, 28, 28, 64)        18496     \n",
            "_________________________________________________________________\n",
            "max_pooling2d_48 (MaxPooling (None, 14, 14, 64)        0         \n",
            "_________________________________________________________________\n",
            "conv2d_72 (Conv2D)           (None, 12, 12, 128)       73856     \n",
            "_________________________________________________________________\n",
            "conv2d_73 (Conv2D)           (None, 10, 10, 256)       295168    \n",
            "_________________________________________________________________\n",
            "max_pooling2d_49 (MaxPooling (None, 5, 5, 256)         0         \n",
            "_________________________________________________________________\n",
            "flatten_16 (Flatten)         (None, 6400)              0         \n",
            "_________________________________________________________________\n",
            "dropout_17 (Dropout)         (None, 6400)              0         \n",
            "_________________________________________________________________\n",
            "dense_31 (Dense)             (None, 512)               3277312   \n",
            "_________________________________________________________________\n",
            "dense_32 (Dense)             (None, 10)                5130      \n",
            "=================================================================\n",
            "Total params: 3,670,858\n",
            "Trainable params: 3,670,858\n",
            "Non-trainable params: 0\n",
            "_________________________________________________________________\n"
          ],
          "name": "stdout"
        }
      ]
    },
    {
      "metadata": {
        "id": "MrRL3l73TuJK",
        "colab_type": "text"
      },
      "cell_type": "markdown",
      "source": [
        "**Compiling the model**"
      ]
    },
    {
      "metadata": {
        "id": "rudTr-47Tgcj",
        "colab_type": "code",
        "colab": {}
      },
      "cell_type": "code",
      "source": [
        "model.compile(\n",
        "    loss='categorical_crossentropy',\n",
        "    optimizer='rmsprop',\n",
        "    metrics=['accuracy'])"
      ],
      "execution_count": 0,
      "outputs": []
    },
    {
      "metadata": {
        "id": "MUF0OWNITy_n",
        "colab_type": "text"
      },
      "cell_type": "markdown",
      "source": [
        "**Data Augmentation**"
      ]
    },
    {
      "metadata": {
        "id": "RWu_lz_vTvoR",
        "colab_type": "code",
        "colab": {}
      },
      "cell_type": "code",
      "source": [
        "from keras.preprocessing.image import ImageDataGenerator\n",
        "\n",
        "datagen = ImageDataGenerator(\n",
        "    rotation_range=15,\n",
        "    width_shift_range=0.1,\n",
        "    height_shift_range=0.1,\n",
        "    horizontal_flip=True)\n",
        "\n",
        "datagen.fit(train_images)"
      ],
      "execution_count": 0,
      "outputs": []
    },
    {
      "metadata": {
        "id": "Sfj45dZPT0ZM",
        "colab_type": "text"
      },
      "cell_type": "markdown",
      "source": [
        "**Training**"
      ]
    },
    {
      "metadata": {
        "id": "3Jt3pB5TT1f1",
        "colab_type": "code",
        "colab": {
          "base_uri": "https://localhost:8080/",
          "height": 357
        },
        "outputId": "af08ff1e-c598-4071-cf26-c7fe373b595b"
      },
      "cell_type": "code",
      "source": [
        "history = model.fit_generator(datagen.flow(train_images, \n",
        "                                           train_labels, \n",
        "                                           batch_size=40),\n",
        "                                           epochs=10,\n",
        "                                           steps_per_epoch=1000,\n",
        "                                           validation_data=(val_images, val_labels),\n",
        "                                           validation_steps=250)"
      ],
      "execution_count": 84,
      "outputs": [
        {
          "output_type": "stream",
          "text": [
            "Epoch 1/10\n",
            "1000/1000 [==============================] - 453s 453ms/step - loss: 1.7489 - acc: 0.3680 - val_loss: 1.4295 - val_acc: 0.4839\n",
            "Epoch 2/10\n",
            "1000/1000 [==============================] - 453s 453ms/step - loss: 1.4344 - acc: 0.4977 - val_loss: 1.3010 - val_acc: 0.5758\n",
            "Epoch 3/10\n",
            "1000/1000 [==============================] - 451s 451ms/step - loss: 1.3347 - acc: 0.5382 - val_loss: 1.1873 - val_acc: 0.5953\n",
            "Epoch 4/10\n",
            "1000/1000 [==============================] - 451s 451ms/step - loss: 1.2991 - acc: 0.5572 - val_loss: 1.0461 - val_acc: 0.6389\n",
            "Epoch 5/10\n",
            "1000/1000 [==============================] - 457s 457ms/step - loss: 1.2761 - acc: 0.5680 - val_loss: 1.1863 - val_acc: 0.5806\n",
            "Epoch 6/10\n",
            "1000/1000 [==============================] - 453s 453ms/step - loss: 1.2742 - acc: 0.5707 - val_loss: 1.3735 - val_acc: 0.5112\n",
            "Epoch 7/10\n",
            "1000/1000 [==============================] - 452s 452ms/step - loss: 1.2617 - acc: 0.5769 - val_loss: 1.0414 - val_acc: 0.6364\n",
            "Epoch 8/10\n",
            "1000/1000 [==============================] - 452s 452ms/step - loss: 1.2479 - acc: 0.5838 - val_loss: 0.9269 - val_acc: 0.6774\n",
            "Epoch 9/10\n",
            "1000/1000 [==============================] - 452s 452ms/step - loss: 1.2505 - acc: 0.5820 - val_loss: 1.0578 - val_acc: 0.6583\n",
            "Epoch 10/10\n",
            "1000/1000 [==============================] - 451s 451ms/step - loss: 1.2754 - acc: 0.5757 - val_loss: 1.0907 - val_acc: 0.6396\n"
          ],
          "name": "stdout"
        }
      ]
    },
    {
      "metadata": {
        "id": "Rd77J20BT16m",
        "colab_type": "text"
      },
      "cell_type": "markdown",
      "source": [
        "**Plotting loss and accuracy**"
      ]
    },
    {
      "metadata": {
        "id": "uzwyQ_Y6T8Um",
        "colab_type": "code",
        "colab": {
          "base_uri": "https://localhost:8080/",
          "height": 707
        },
        "outputId": "99ed0cbd-10a9-4267-ac60-9479cc825431"
      },
      "cell_type": "code",
      "source": [
        "import matplotlib.pyplot as plt\n",
        "\n",
        "acc = history.history['acc']\n",
        "val_acc = history.history['val_acc']\n",
        "\n",
        "loss = history.history['loss']\n",
        "val_loss = history.history['val_loss']\n",
        "\n",
        "epochs = range(1, len(acc) + 1)\n",
        "\n",
        "# training and validation accuracy\n",
        "\n",
        "plt.plot(epochs, acc, 'bo', label='training acc')\n",
        "plt.plot(epochs, val_acc, 'r', label='validation acc')\n",
        "plt.title('training and validation accuracy')\n",
        "plt.legend()\n",
        "\n",
        "plt.figure()\n",
        "\n",
        "# training and validation loss\n",
        "\n",
        "plt.plot(epochs, loss, 'bo', label='training loss')\n",
        "plt.plot(epochs, val_loss, 'r', label='validation loss')\n",
        "plt.title('training and validation loss')\n",
        "plt.legend()\n",
        "\n",
        "plt.show()"
      ],
      "execution_count": 87,
      "outputs": [
        {
          "output_type": "display_data",
          "data": {
            "image/png": "[encoded data removed]",
            "text/plain": [
              "<Figure size 576x396 with 1 Axes>"
            ]
          },
          "metadata": {
            "tags": []
          }
        },
        {
          "output_type": "display_data",
          "data": {
            "image/png": "[encoded data removed]",
            "text/plain": [
              "<Figure size 576x396 with 1 Axes>"
            ]
          },
          "metadata": {
            "tags": []
          }
        }
      ]
    },
    {
      "metadata": {
        "id": "JO5sVGKaUCAe",
        "colab_type": "text"
      },
      "cell_type": "markdown",
      "source": [
        "**Evaluate the model**"
      ]
    },
    {
      "metadata": {
        "id": "yV7p9I34UDfX",
        "colab_type": "code",
        "colab": {
          "base_uri": "https://localhost:8080/",
          "height": 51
        },
        "outputId": "a9946d43-62ea-4498-9de7-17a824ae1471"
      },
      "cell_type": "code",
      "source": [
        "\n",
        "score = model.evaluate(val_images, val_labels, verbose=0)\n",
        "print('Validation loss:', score[0])\n",
        "print('Validation accuracy:', score[1]*100,\"%\")"
      ],
      "execution_count": 88,
      "outputs": [
        {
          "output_type": "stream",
          "text": [
            "Validation loss: 1.090704738330841\n",
            "Validation accuracy: 63.959999999999994 %\n"
          ],
          "name": "stdout"
        }
      ]
    },
    {
      "metadata": {
        "id": "qD9DdSscfLGq",
        "colab_type": "code",
        "colab": {}
      },
      "cell_type": "code",
      "source": [
        ""
      ],
      "execution_count": 0,
      "outputs": []
    }
  ]
}