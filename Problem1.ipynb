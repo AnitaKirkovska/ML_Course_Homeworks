{
  "nbformat": 4,
  "nbformat_minor": 0,
  "metadata": {
    "colab": {
      "name": "Problem1.ipynb",
      "version": "0.3.2",
      "provenance": [],
      "include_colab_link": true
    },
    "kernelspec": {
      "name": "python3",
      "display_name": "Python 3"
    }
  },
  "cells": [
    {
      "cell_type": "markdown",
      "metadata": {
        "id": "view-in-github",
        "colab_type": "text"
      },
      "source": [
        "<a href=\"https://colab.research.google.com/github/AnitaKirkovska/MachineLearning_HW1/blob/master/Problem1.ipynb\" target=\"_parent\"><img src=\"https://colab.research.google.com/assets/colab-badge.svg\" alt=\"Open In Colab\"/></a>"
      ]
    },
    {
      "metadata": {
        "id": "r7-639Fyv0VC",
        "colab_type": "code",
        "colab": {}
      },
      "cell_type": "code",
      "source": [
        "import numpy\n",
        "import matplotlib.pyplot as plt\n",
        "%matplotlib inline\n",
        "import scipy.special"
      ],
      "execution_count": 0,
      "outputs": []
    },
    {
      "metadata": {
        "id": "r992J43o7OGF",
        "colab_type": "text"
      },
      "cell_type": "markdown",
      "source": [
        "The Network architecture"
      ]
    },
    {
      "metadata": {
        "id": "UYC7iN-z7PlI",
        "colab_type": "code",
        "colab": {}
      },
      "cell_type": "code",
      "source": [
        "class neuralArch:\n",
        "  \n",
        "  def __init__ (self, inputnodes, hiddennodes, outputnodes, learningrate):\n",
        "    self.inodes = inputnodes\n",
        "    self.hnodes = hiddennodes\n",
        "    self.onodes = outputnodes\n",
        "    \n",
        "    #link weight natrices. wih -> input and hidden, who -> hidden and output\n",
        "    self.wih = (numpy.random.rand(self.hnodes, self.inodes) - 0.5)\n",
        "    self.who = (numpy.random.rand(self.onodes, self.hnodes) - 0.5)\n",
        "    \n",
        "    #learning rate\n",
        "    self.lr = learningrate\n",
        "    \n",
        "    #activation function -> sigmoid\n",
        "    self.activation_function = lambda x: scipy.special.expit(x)\n",
        "    \n",
        "    pass\n",
        "  \n",
        "  def train(self, inputs_list, targets_list):\n",
        "    \n",
        "    #convert to 2d array\n",
        "    inputs = numpy.array(inputs_list, ndmin=2).T\n",
        "    targets = numpy.array(targets_list, ndmin=2).T\n",
        "    \n",
        "    #calculating signals into and from hidden layer \n",
        "    hidden_inputs = numpy.dot(self.wih,inputs)\n",
        "    hidden_outputs = self.activation_function(hidden_inputs)\n",
        "    \n",
        "    #calculating signals into and from last layer\n",
        "    last_inputs = numpy.dot(self.who, hidden_outputs)\n",
        "    last_outputs = self.activation_function(last_inputs)\n",
        "    \n",
        "    #output layer error (target - last_outputs)\n",
        "    last_errors = targets - last_outputs\n",
        "    \n",
        "    #hidden layer error\n",
        "    hidden_errors = numpy.dot(self.who.T, last_errors)\n",
        "    \n",
        "    #update the weight links between hidden and last layer\n",
        "    self.who += self.lr * numpy.dot((last_errors * last_outputs * (1.0 - last_outputs)), numpy.transpose(hidden_outputs))\n",
        "    \n",
        "    #update the weight links between input and hidden layers\n",
        "    self.wih += self.lr * numpy.dot((hidden_errors * hidden_outputs * (1.0 - hidden_outputs)), numpy.transpose(inputs))\n",
        "    \n",
        "    pass\n",
        "  \n",
        "  def query(self,inputs_list):\n",
        "    \n",
        "    #convert to 2d array\n",
        "    inputs = numpy.array(inputs_list, ndmin=2).T\n",
        "    \n",
        "    #calculating signals into and from hidden layer \n",
        "    hidden_inputs = numpy.dot(self.wih,inputs)\n",
        "    hidden_outputs = self.activation_function(hidden_inputs)\n",
        "    \n",
        "    #calculating signals into and from last layer\n",
        "    last_inputs = numpy.dot(self.who, hidden_outputs)\n",
        "    last_outputs = self.activation_function(last_inputs)\n",
        "    \n",
        "    return last_outputs"
      ],
      "execution_count": 0,
      "outputs": []
    },
    {
      "metadata": {
        "id": "3YaQmSPz7M67",
        "colab_type": "text"
      },
      "cell_type": "markdown",
      "source": [
        "Loading the data"
      ]
    },
    {
      "metadata": {
        "id": "pjYU5_9e7Jdt",
        "colab_type": "code",
        "colab": {}
      },
      "cell_type": "code",
      "source": [
        "from keras.datasets import mnist\n",
        "\n",
        "(x_train_org, y_train_org), (x_test_org, y_test_org) = mnist.load_data()"
      ],
      "execution_count": 0,
      "outputs": []
    },
    {
      "metadata": {
        "id": "rrZpE-Rs0bvl",
        "colab_type": "code",
        "colab": {
          "base_uri": "https://localhost:8080/",
          "height": 34
        },
        "outputId": "39f5f50e-650f-4d2c-d285-27f836f89d86"
      },
      "cell_type": "code",
      "source": [
        "x_train_org.shape"
      ],
      "execution_count": 73,
      "outputs": [
        {
          "output_type": "execute_result",
          "data": {
            "text/plain": [
              "(60000, 28, 28)"
            ]
          },
          "metadata": {
            "tags": []
          },
          "execution_count": 73
        }
      ]
    },
    {
      "metadata": {
        "id": "2R3GHpqE5gNe",
        "colab_type": "code",
        "colab": {
          "base_uri": "https://localhost:8080/",
          "height": 34
        },
        "outputId": "ae47d007-6a4f-497f-ca0b-3dca1beccb87"
      },
      "cell_type": "code",
      "source": [
        "y_train_org"
      ],
      "execution_count": 74,
      "outputs": [
        {
          "output_type": "execute_result",
          "data": {
            "text/plain": [
              "array([5, 0, 4, ..., 5, 6, 8], dtype=uint8)"
            ]
          },
          "metadata": {
            "tags": []
          },
          "execution_count": 74
        }
      ]
    },
    {
      "metadata": {
        "id": "NYSxCMjE2CdL",
        "colab_type": "text"
      },
      "cell_type": "markdown",
      "source": [
        "Preparing the data (Range 1-0)"
      ]
    },
    {
      "metadata": {
        "id": "pFtGUkVF2NPa",
        "colab_type": "code",
        "colab": {
          "base_uri": "https://localhost:8080/",
          "height": 136
        },
        "outputId": "27511718-8fd9-466a-a27c-d3d4853f3949"
      },
      "cell_type": "code",
      "source": [
        "x_train = x_train_org.reshape((60000, 28 * 28))\n",
        "scaled_input_x = numpy.asfarray(x_train)/255.0\n",
        "scaled_input_x\n"
      ],
      "execution_count": 89,
      "outputs": [
        {
          "output_type": "execute_result",
          "data": {
            "text/plain": [
              "array([[0., 0., 0., ..., 0., 0., 0.],\n",
              "       [0., 0., 0., ..., 0., 0., 0.],\n",
              "       [0., 0., 0., ..., 0., 0., 0.],\n",
              "       ...,\n",
              "       [0., 0., 0., ..., 0., 0., 0.],\n",
              "       [0., 0., 0., ..., 0., 0., 0.],\n",
              "       [0., 0., 0., ..., 0., 0., 0.]])"
            ]
          },
          "metadata": {
            "tags": []
          },
          "execution_count": 89
        }
      ]
    },
    {
      "metadata": {
        "id": "Nnx7adTN5PWZ",
        "colab_type": "text"
      },
      "cell_type": "markdown",
      "source": [
        "Target matrix - the labels y"
      ]
    },
    {
      "metadata": {
        "id": "Wn6P1KHXySET",
        "colab_type": "code",
        "colab": {}
      },
      "cell_type": "code",
      "source": [
        "from keras.utils import to_categorical\n",
        "\n",
        "y_train_org = to_categorical(y_train_org)\n",
        "y_test_org = to_categorical(y_test_org)"
      ],
      "execution_count": 0,
      "outputs": []
    },
    {
      "metadata": {
        "id": "HBq3ZBHeyi9E",
        "colab_type": "code",
        "colab": {
          "base_uri": "https://localhost:8080/",
          "height": 34
        },
        "outputId": "df5f533d-e85f-41b7-fcb5-fba98bdf9a7d"
      },
      "cell_type": "code",
      "source": [
        "len(y_train_org[0])"
      ],
      "execution_count": 82,
      "outputs": [
        {
          "output_type": "execute_result",
          "data": {
            "text/plain": [
              "10"
            ]
          },
          "metadata": {
            "tags": []
          },
          "execution_count": 82
        }
      ]
    },
    {
      "metadata": {
        "id": "2_BGvMQq_acS",
        "colab_type": "text"
      },
      "cell_type": "markdown",
      "source": [
        "Nodes, learning rate and instance of the network architecture"
      ]
    },
    {
      "metadata": {
        "id": "K1AuK9QO5xmO",
        "colab_type": "code",
        "colab": {}
      },
      "cell_type": "code",
      "source": [
        "#output nodes are 10, the # of classifiers we have\n",
        "input_nodes = len(scaled_input_x[0])\n",
        "hidden_nodes = 100\n",
        "output_nodes = len(y_train_org[0])\n",
        "\n",
        "learning_rate = 0.3\n",
        "\n",
        "#instance of the Network\n",
        "n = neuralArch(input_nodes, hidden_nodes, output_nodes, learning_rate)"
      ],
      "execution_count": 0,
      "outputs": []
    },
    {
      "metadata": {
        "id": "rcTy2CiF_1Ok",
        "colab_type": "text"
      },
      "cell_type": "markdown",
      "source": [
        "Training the network"
      ]
    },
    {
      "metadata": {
        "id": "6Y-8Bx8g65jt",
        "colab_type": "code",
        "colab": {
          "base_uri": "https://localhost:8080/",
          "height": 232
        },
        "outputId": "a9b781e2-0e40-4848-d796-063c47253068"
      },
      "cell_type": "code",
      "source": [
        "epochs = 6\n",
        "x_number_inputs = len(scaled_input_x)\n",
        "y_number_labels = len(y_test_org)\n",
        "\n",
        "total_lenght = x_number_inputs * y_number_labels\n",
        "\n",
        "for e in range(epochs):\n",
        "  #go through all records in the training set\n",
        "  for r in len( * y_test_org):\n",
        "    n.train(scaled_input_x, y_test_org)\n",
        "    pass\n",
        "  pass\n",
        "\n",
        "  "
      ],
      "execution_count": 91,
      "outputs": [
        {
          "output_type": "error",
          "ename": "ValueError",
          "evalue": "ignored",
          "traceback": [
            "\u001b[0;31m---------------------------------------------------------------------------\u001b[0m",
            "\u001b[0;31mValueError\u001b[0m                                Traceback (most recent call last)",
            "\u001b[0;32m<ipython-input-91-cff307b76c21>\u001b[0m in \u001b[0;36m<module>\u001b[0;34m()\u001b[0m\n\u001b[1;32m      4\u001b[0m \u001b[0;32mfor\u001b[0m \u001b[0me\u001b[0m \u001b[0;32min\u001b[0m \u001b[0mrange\u001b[0m\u001b[0;34m(\u001b[0m\u001b[0mepochs\u001b[0m\u001b[0;34m)\u001b[0m\u001b[0;34m:\u001b[0m\u001b[0;34m\u001b[0m\u001b[0;34m\u001b[0m\u001b[0m\n\u001b[1;32m      5\u001b[0m   \u001b[0;31m#go through all records in the training set\u001b[0m\u001b[0;34m\u001b[0m\u001b[0;34m\u001b[0m\u001b[0;34m\u001b[0m\u001b[0m\n\u001b[0;32m----> 6\u001b[0;31m   \u001b[0;32mfor\u001b[0m \u001b[0mr\u001b[0m \u001b[0;32min\u001b[0m \u001b[0mlen\u001b[0m\u001b[0;34m(\u001b[0m\u001b[0mscaled_input_x\u001b[0m \u001b[0;34m*\u001b[0m \u001b[0my_test_org\u001b[0m\u001b[0;34m)\u001b[0m\u001b[0;34m:\u001b[0m\u001b[0;34m\u001b[0m\u001b[0;34m\u001b[0m\u001b[0m\n\u001b[0m\u001b[1;32m      7\u001b[0m     \u001b[0mn\u001b[0m\u001b[0;34m.\u001b[0m\u001b[0mtrain\u001b[0m\u001b[0;34m(\u001b[0m\u001b[0mscaled_input_x\u001b[0m\u001b[0;34m,\u001b[0m \u001b[0my_test_org\u001b[0m\u001b[0;34m)\u001b[0m\u001b[0;34m\u001b[0m\u001b[0;34m\u001b[0m\u001b[0m\n\u001b[1;32m      8\u001b[0m     \u001b[0;32mpass\u001b[0m\u001b[0;34m\u001b[0m\u001b[0;34m\u001b[0m\u001b[0m\n",
            "\u001b[0;31mValueError\u001b[0m: operands could not be broadcast together with shapes (60000,784) (10000,10) "
          ]
        }
      ]
    },
    {
      "metadata": {
        "id": "2bn9XwEdDf9g",
        "colab_type": "code",
        "colab": {}
      },
      "cell_type": "code",
      "source": [
        ""
      ],
      "execution_count": 0,
      "outputs": []
    }
  ]
}